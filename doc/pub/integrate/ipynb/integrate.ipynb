{
 "cells": [
  {
   "cell_type": "markdown",
   "metadata": {},
   "source": [
    "<!-- dom:TITLE: Computational Physics Lectures: Numerical integration, from Newton-Cotes quadrature to Gaussian quadrature -->\n",
    "# Computational Physics Lectures: Numerical integration, from Newton-Cotes quadrature to Gaussian quadrature\n",
    "<!-- dom:AUTHOR: Morten Hjorth-Jensen at Department of Physics, University of Oslo & Department of Physics and Astronomy and National Superconducting Cyclotron Laboratory, Michigan State University -->\n",
    "<!-- Author: --> **Morten Hjorth-Jensen**, Department of Physics, University of Oslo and Department of Physics and Astronomy and National Superconducting Cyclotron Laboratory, Michigan State University\n",
    "\n",
    "Date: **2016**\n",
    "\n",
    "## Numerical Integration\n",
    "Here we will  discuss some of the classical methods for integrating a function. The methods we discuss are  \n",
    "1. Equal step methods like the trapezoidal, rectangular and Simpson's rule, parts of what are called Newton-Cotes quadrature methods.\n",
    "\n",
    "2. Integration approaches   based on Gaussian quadrature. \n",
    "\n",
    "The latter are more suitable\n",
    "for the case where the abscissas are not equally spaced. \n",
    "We emphasize methods for evaluating few-dimensional (typically up to four dimensions) integrals. Multi-dimensional integrals will be discussed in connection with Monte Carlo methods.\n",
    "\n",
    "\n",
    "\n",
    "## Newton-Cotes Quadrature or equal-step methods\n",
    "The integral"
   ]
  },
  {
   "cell_type": "markdown",
   "metadata": {},
   "source": [
    "<!-- Equation labels as ordinary links -->\n",
    "<div id=\"eq:integraldef\"></div>\n",
    "\n",
    "$$\n",
    "\\begin{equation}\n",
    "   I=\\int_a^bf(x) dx\n",
    "\\label{eq:integraldef} \\tag{1}\n",
    "\\end{equation}\n",
    "$$"
   ]
  },
  {
   "cell_type": "markdown",
   "metadata": {},
   "source": [
    "has a very simple meaning. The integral is the\n",
    "area enscribed by the function $f(x)$ starting from $x=a$ to  $x=b$. It is subdivided in several smaller areas whose evaluation is to  be approximated by different techniques. The areas under the curve can for example  be approximated by rectangular boxes or trapezoids.\n",
    "\n",
    "\n",
    "\n",
    "<!-- !split  -->\n",
    "## Basic philosophy of equal-step methods\n",
    "In considering equal step  methods, our basic approach is that of approximating\n",
    "a function $f(x)$ with a polynomial of at most \n",
    "degree $N-1$, given $N$ integration points. If our polynomial is of degree $1$,\n",
    "the function will be approximated with $f(x)\\approx a_0+a_1x$.\n",
    "\n",
    "\n",
    "\n",
    "<!-- !split  -->\n",
    "## Simple algorithm for equal step methods\n",
    "The algorithm for these integration methods  is rather simple, and the number of approximations perhaps  unlimited!\n",
    "\n",
    "* Choose a step size $h=(b-a)/N$  where $N$ is the number of steps and $a$ and $b$ the lower and upper limits of integration.\n",
    "\n",
    "* With a given step length we rewrite the integral as"
   ]
  },
  {
   "cell_type": "markdown",
   "metadata": {},
   "source": [
    "$$\n",
    "\\int_a^bf(x) dx= \\int_a^{a+h}f(x)dx + \\int_{a+h}^{a+2h}f(x)dx+\\dots \\int_{b-h}^{b}f(x)dx.\n",
    "$$"
   ]
  },
  {
   "cell_type": "markdown",
   "metadata": {},
   "source": [
    "* The strategy then is to find a reliable polynomial approximation   for $f(x)$ in the various intervals.  Choosing a given approximation for  $f(x)$, we obtain a specific approximation to the  integral.\n",
    "\n",
    "* With this approximation to $f(x)$ we perform the integration by computing the integrals over all subintervals.\n",
    "\n",
    "\n",
    "\n",
    "<!-- !split  -->\n",
    "## Simple algorithm for equal step methods\n",
    "One possible strategy then is to find a reliable polynomial expansion for $f(x)$ in the smaller\n",
    "subintervals. Consider for example evaluating"
   ]
  },
  {
   "cell_type": "markdown",
   "metadata": {},
   "source": [
    "$$\n",
    "\\int_a^{a+2h}f(x)dx,\n",
    "$$"
   ]
  },
  {
   "cell_type": "markdown",
   "metadata": {},
   "source": [
    "which we rewrite as"
   ]
  },
  {
   "cell_type": "markdown",
   "metadata": {},
   "source": [
    "<!-- Equation labels as ordinary links -->\n",
    "<div id=\"eq:hhint\"></div>\n",
    "\n",
    "$$\n",
    "\\begin{equation}\n",
    "   \\int_a^{a+2h}f(x)dx=\n",
    " \\int_{x_0-h}^{x_0+h}f(x)dx.\n",
    "\\label{eq:hhint} \\tag{2}\n",
    "\\end{equation}\n",
    "$$"
   ]
  },
  {
   "cell_type": "markdown",
   "metadata": {},
   "source": [
    "We have chosen a midpoint $x_0$ and have defined $x_0=a+h$.\n",
    "\n",
    "\n",
    "\n",
    "<!-- !split  -->\n",
    "## Lagrange's interpolation formula\n",
    "Using Lagrange's interpolation formula"
   ]
  },
  {
   "cell_type": "markdown",
   "metadata": {},
   "source": [
    "$$\n",
    "P_N(x)=\\sum_{i=0}^{N}\\prod_{k\\ne i} \\frac{x-x_k}{x_i-x_k}y_i,\n",
    "$$"
   ]
  },
  {
   "cell_type": "markdown",
   "metadata": {},
   "source": [
    "we could attempt to approximate the function $f(x)$ with a first-order polynomial in $x$ in the two\n",
    "sub-intervals $x\\in[x_0-h,x_0]$ and $x\\in[x_0,x_0+h]$. A first order polynomial means simply that \n",
    "we have for say the interval  $x\\in[x_0,x_0+h]$"
   ]
  },
  {
   "cell_type": "markdown",
   "metadata": {},
   "source": [
    "$$\n",
    "f(x)\\approx P_1(x)=\\frac{x-x_0}{(x_0+h)-x_0}f(x_0+h)+\\frac{x-(x_0+h)}{x_0-(x_0+h)}f(x_0),\n",
    "$$"
   ]
  },
  {
   "cell_type": "markdown",
   "metadata": {},
   "source": [
    "and for the interval  $x\\in[x_0-h,x_0]$"
   ]
  },
  {
   "cell_type": "markdown",
   "metadata": {},
   "source": [
    "$$\n",
    "f(x)\\approx P_1(x)=\\frac{x-(x_0-h)}{x_0-(x_0-h)}f(x_0)+\\frac{x-x_0}{(x_0-h)-x_0}f(x_0-h).\n",
    "$$"
   ]
  },
  {
   "cell_type": "markdown",
   "metadata": {},
   "source": [
    "<!-- !split  -->\n",
    "## Polynomial approximation\n",
    "Having performed this subdivision and polynomial approximation,\n",
    "one from $x_0-h$ to $x_0$ and the other from $x_0$ to $x_0+h$,"
   ]
  },
  {
   "cell_type": "markdown",
   "metadata": {},
   "source": [
    "$$\n",
    "\\int_a^{a+2h}f(x)dx=\\int_{x_0-h}^{x_0}f(x)dx+\\int_{x_0}^{x_0+h}f(x)dx,\n",
    "$$"
   ]
  },
  {
   "cell_type": "markdown",
   "metadata": {},
   "source": [
    "we can easily calculate for example the second integral as"
   ]
  },
  {
   "cell_type": "markdown",
   "metadata": {},
   "source": [
    "$$\n",
    "\\int_{x_0}^{x_0+h}f(x)dx\\approx \\int_{x_0}^{x_0+h}\\left(\\frac{x-x_0}{(x_0+h)-x_0}f(x_0+h)+\\frac{x-(x_0+h)}{x_0-(x_0+h)}f(x_0)\\right)dx.\n",
    "$$"
   ]
  },
  {
   "cell_type": "markdown",
   "metadata": {},
   "source": [
    "<!-- !split  -->\n",
    "## Simplifying the integral\n",
    "This integral can be simplified to"
   ]
  },
  {
   "cell_type": "markdown",
   "metadata": {},
   "source": [
    "$$\n",
    "\\int_{x_0}^{x_0+h}f(x)dx\\approx \\int_{x_0}^{x_0+h}\\left(\\frac{x-x_0}{h}f(x_0+h)-\\frac{x-(x_0+h)}{h}f(x_0)\\right)dx,\n",
    "$$"
   ]
  },
  {
   "cell_type": "markdown",
   "metadata": {},
   "source": [
    "resulting in"
   ]
  },
  {
   "cell_type": "markdown",
   "metadata": {},
   "source": [
    "$$\n",
    "\\int_{x_0}^{x_0+h}f(x)dx=\\frac{h}{2}\\left(f(x_0+h) + f(x_0)\\right)+O(h^3).\n",
    "$$"
   ]
  },
  {
   "cell_type": "markdown",
   "metadata": {},
   "source": [
    "Here we added the error made in approximating our integral \n",
    "with a polynomial of degree $1$.\n",
    "\n",
    "\n",
    "\n",
    "\n",
    "<!-- !split  -->\n",
    "## The trapezoidal rule\n",
    "The other integral gives"
   ]
  },
  {
   "cell_type": "markdown",
   "metadata": {},
   "source": [
    "$$\n",
    "\\int_{x_0-h}^{x_0}f(x)dx=\\frac{h}{2}\\left(f(x_0) + f(x_0-h)\\right)+O(h^3),\n",
    "$$"
   ]
  },
  {
   "cell_type": "markdown",
   "metadata": {},
   "source": [
    "and adding up we obtain"
   ]
  },
  {
   "cell_type": "markdown",
   "metadata": {},
   "source": [
    "<!-- Equation labels as ordinary links -->\n",
    "<div id=\"eq:trapez\"></div>\n",
    "\n",
    "$$\n",
    "\\begin{equation}\n",
    "   \\int_{x_0-h}^{x_0+h}f(x)dx=\\frac{h}{2}\\left(f(x_0+h) + 2f(x_0) + f(x_0-h)\\right)+O(h^3),\n",
    "\\label{eq:trapez} \\tag{3}\n",
    "\\end{equation}\n",
    "$$"
   ]
  },
  {
   "cell_type": "markdown",
   "metadata": {},
   "source": [
    "which is the well-known trapezoidal rule.  Concerning the error in the approximation made,\n",
    "$O(h^3)=O((b-a)^3/N^3)$, you should  note \n",
    "that this is the local error.  Since we are splitting the integral from\n",
    "$a$ to $b$ in $N$ pieces, we will have to perform approximately $N$ \n",
    "such operations.\n",
    "\n",
    "\n",
    "\n",
    "\n",
    "<!-- !split  -->\n",
    "## Global error\n",
    "This means that the *global error* goes like $\\approx O(h^2)$. \n",
    "The trapezoidal reads then"
   ]
  },
  {
   "cell_type": "markdown",
   "metadata": {},
   "source": [
    "<!-- Equation labels as ordinary links -->\n",
    "<div id=\"eq:trapez1\"></div>\n",
    "\n",
    "$$\n",
    "\\begin{equation}\n",
    "   I=\\int_a^bf(x) dx=h\\left(f(a)/2 + f(a+h) +f(a+2h)+\n",
    "                          \\dots +f(b-h)+ f_{b}/2\\right),\n",
    "\\label{eq:trapez1} \\tag{4}\n",
    "\\end{equation}\n",
    "$$"
   ]
  },
  {
   "cell_type": "markdown",
   "metadata": {},
   "source": [
    "with a global error which goes like $O(h^2)$. \n",
    "\n",
    "Hereafter we use the shorthand notations $f_{-h}=f(x_0-h)$, $f_{0}=f(x_0)$\n",
    "and $f_{h}=f(x_0+h)$.\n",
    "\n",
    "\n",
    "\n",
    "\n",
    "\n",
    "<!-- !split  -->\n",
    "## Error in the trapezoidal rule\n",
    "The correct mathematical expression for the local error for the trapezoidal rule is"
   ]
  },
  {
   "cell_type": "markdown",
   "metadata": {},
   "source": [
    "$$\n",
    "\\int_a^bf(x)dx -\\frac{b-a}{2}\\left[f(a)+f(b)\\right]=-\\frac{h^3}{12}f^{(2)}(\\xi),\n",
    "$$"
   ]
  },
  {
   "cell_type": "markdown",
   "metadata": {},
   "source": [
    "and the global error reads"
   ]
  },
  {
   "cell_type": "markdown",
   "metadata": {},
   "source": [
    "$$\n",
    "\\int_a^bf(x)dx -T_h(f)=-\\frac{b-a}{12}h^2f^{(2)}(\\xi),\n",
    "$$"
   ]
  },
  {
   "cell_type": "markdown",
   "metadata": {},
   "source": [
    "where $T_h$ is the trapezoidal result and $\\xi \\in [a,b]$.\n",
    "\n",
    "\n",
    "\n",
    "<!-- !split  -->\n",
    "## Algorithm for the trapezoidal rule\n",
    "The trapezoidal rule is easy to  implement numerically \n",
    "through the following simple algorithm\n",
    "\n",
    "  * Choose the number of mesh points and fix the step length.\n",
    "\n",
    "  * calculate $f(a)$ and $f(b)$ and multiply with $h/2$.\n",
    "\n",
    "  * Perform a loop over $n=1$ to $n-1$ ($f(a)$ and $f(b)$ are known) and sum up  the terms $f(a+h) +f(a+2h)+f(a+3h)+\\dots +f(b-h)$. Each step in the loop  corresponds to a given value $a+nh$.\n",
    "\n",
    "  * Multiply the final result by $h$ and add $hf(a)/2$ and $hf(b)/2$.\n",
    "\n",
    "\n",
    "\n",
    "\n",
    "<!-- !split  -->\n",
    "## Code example\n",
    "A simple function which implements this algorithm is as follows"
   ]
  },
  {
   "cell_type": "markdown",
   "metadata": {},
   "source": [
    "        double TrapezoidalRule(double a, double b, int n, double (*func)(double))\n",
    "        {\n",
    "              double TrapezSum;\n",
    "              double fa, fb, x, step;\n",
    "              int    j;\n",
    "              step=(b-a)/((double) n);\n",
    "              fa=(*func)(a)/2. ;\n",
    "              fb=(*func)(b)/2. ;\n",
    "              TrapezSum=0.;\n",
    "              for (j=1; j <= n-1; j++){\n",
    "                 x=j*step+a;\n",
    "                 TrapezSum+=(*func)(x);\n",
    "              }\n",
    "              TrapezSum=(TrapezSum+fb+fa)*step;\n",
    "              return TrapezSum;\n",
    "        }  // end TrapezoidalRule \n"
   ]
  },
  {
   "cell_type": "markdown",
   "metadata": {},
   "source": [
    "The function returns a new value for the specific integral through the variable **TrapezSum**.\n",
    "\n",
    "\n",
    "\n",
    "\n",
    "<!-- !split  -->\n",
    "## Transfer of  function names\n",
    "There is one new feature to note here, namely\n",
    "the transfer of a user defined function called **func** in the \n",
    "definition"
   ]
  },
  {
   "cell_type": "markdown",
   "metadata": {},
   "source": [
    "          void TrapezoidalRule(double a, double b, int n, double *TrapezSum, double (*func)(double) )  \n"
   ]
  },
  {
   "cell_type": "markdown",
   "metadata": {},
   "source": [
    "What happens here is that we are transferring a pointer to the name \n",
    "of a user defined function, which has as input a double precision variable and returns\n",
    "a double precision number. The function  **TrapezoidalRule** is called as"
   ]
  },
  {
   "cell_type": "markdown",
   "metadata": {},
   "source": [
    "          TrapezoidalRule(a, b, n, &MyFunction )       \n"
   ]
  },
  {
   "cell_type": "markdown",
   "metadata": {},
   "source": [
    "in the calling function. We note that **a**, **b** and **n** are called by value,\n",
    "while **TrapezSum** and the user defined function **MyFunction**\n",
    "are called by reference.\n",
    "\n",
    "\n",
    "\n",
    "\n",
    "## Going back to Python, why?\n",
    "**Symbolic calculations and numerical calculations in one code!**\n",
    "\n",
    "Python offers an  extremely versatile programming  environment, allowing for \n",
    "the inclusion of analytical studies in a numerical program. Here we show an\n",
    "example code with the **trapezoidal rule** using **SymPy** to evaluate an integral and compute the absolute error\n",
    "with respect to the numerically evaluated one of the integral\n",
    "$4\\int_0^1 dx/(1+x^2) = \\pi$:"
   ]
  },
  {
   "cell_type": "code",
   "execution_count": 1,
   "metadata": {
    "collapsed": false
   },
   "outputs": [],
   "source": [
    "from math import *\n",
    "from sympy import *\n",
    "def Trapez(a,b,f,n):\n",
    "   h = (b-a)/float(n)\n",
    "   s = 0\n",
    "   x = a\n",
    "   for i in range(1,n,1):\n",
    "       x = x+h\n",
    "       s = s+ f(x)\n",
    "   s = 0.5*(f(a)+f(b)) +s\n",
    "   return h*s\n",
    "\n",
    "#  function to compute pi\n",
    "def function(x):\n",
    "    return 4.0/(1+x*x)\n",
    "\n",
    "a = 0.0;  b = 1.0; n = 100\n",
    "result = Trapez(a,b,function,n)\n",
    "print \"Trapezoidal rule=\", result\n",
    "# define x as a symbol to be used by sympy\n",
    "x = Symbol('x')\n",
    "exact = integrate(function(x), (x, 0.0, 1.0))\n",
    "print \"Sympy integration=\", exact\n",
    "# Find relative error\n",
    "print \"Relative error\", abs((exact-result)/exact)"
   ]
  },
  {
   "cell_type": "markdown",
   "metadata": {},
   "source": [
    "## Error analysis\n",
    "The following extended version of the trapezoidal rule allows you  to plot the relative error by comparing with the exact result. By increasing to $10^8$ points one arrives at a region where numerical errors start to accumulate."
   ]
  },
  {
   "cell_type": "code",
   "execution_count": 2,
   "metadata": {
    "collapsed": false
   },
   "outputs": [],
   "source": [
    "%matplotlib inline\n",
    "\n",
    "from math import log10\n",
    "import numpy as np\n",
    "from sympy import Symbol, integrate\n",
    "import matplotlib.pyplot as plt\n",
    "# function for the trapezoidal rule\n",
    "def Trapez(a,b,f,n):\n",
    "   h = (b-a)/float(n)\n",
    "   s = 0\n",
    "   x = a\n",
    "   for i in range(1,n,1):\n",
    "       x = x+h\n",
    "       s = s+ f(x)\n",
    "   s = 0.5*(f(a)+f(b)) +s\n",
    "   return h*s\n",
    "#  function to compute pi\n",
    "def function(x):\n",
    "    return 4.0/(1+x*x)\n",
    "# define integration limits\n",
    "a = 0.0;  b = 1.0;\n",
    "# find result from sympy\n",
    "# define x as a symbol to be used by sympy\n",
    "x = Symbol('x')\n",
    "exact = integrate(function(x), (x, a, b))\n",
    "# set up the arrays for plotting the relative error\n",
    "n = np.zeros(9); y = np.zeros(9);\n",
    "# find the relative error as function of integration points\n",
    "for i in range(1, 8, 1):\n",
    "    npts = 10**i\n",
    "    result = Trapez(a,b,function,npts)\n",
    "    RelativeError = abs((exact-result)/exact)\n",
    "    n[i] = log10(npts); y[i] = log10(RelativeError);\n",
    "plt.plot(n,y, 'ro')\n",
    "plt.xlabel('n')\n",
    "plt.ylabel('Relative error')\n",
    "plt.show()"
   ]
  },
  {
   "cell_type": "markdown",
   "metadata": {},
   "source": [
    "## Integrating numerical mathematics with calculus\n",
    "The last example shows the potential of combining numerical algorithms with \n",
    "symbolic calculations, allowing us thereby to\n",
    "\n",
    "* Validate and verify  our  algorithms.\n",
    "\n",
    "* Including concepts like unit testing, one has the possibility to test and  validate several or all parts of the code.\n",
    "\n",
    "* Validation and verification are then included *naturally*.\n",
    "\n",
    "* The above example allows you to test the mathematical error of the algorithm for the trapezoidal rule by changing the number of integration points. You get trained from day one to think error analysis.\n",
    "\n",
    "\n",
    "\n",
    "\n",
    "\n",
    "<!-- !split  -->\n",
    "## The rectangle method\n",
    "Another very simple approach is the so-called midpoint or rectangle method.\n",
    "In this case the integration area is split in a given number of rectangles with length $h$ and height given by the mid-point value of the function.  This gives the following simple rule for approximating an integral"
   ]
  },
  {
   "cell_type": "markdown",
   "metadata": {},
   "source": [
    "<!-- Equation labels as ordinary links -->\n",
    "<div id=\"eq:rectangle\"></div>\n",
    "\n",
    "$$\n",
    "\\begin{equation}\n",
    "   I=\\int_a^bf(x) dx \\approx  h\\sum_{i=1}^N f(x_{i-1/2}), \n",
    "\\label{eq:rectangle} \\tag{5}\n",
    "\\end{equation}\n",
    "$$"
   ]
  },
  {
   "cell_type": "markdown",
   "metadata": {},
   "source": [
    "where $f(x_{i-1/2})$ is the midpoint value of $f$ for a given rectangle. We will discuss its truncation \n",
    "error below.  It is easy to implement this algorithm,  as shown here"
   ]
  },
  {
   "cell_type": "markdown",
   "metadata": {},
   "source": [
    "        double RectangleRule(double a, double b, int n, double (*func)(double))\n",
    "        {\n",
    "              double RectangleSum;\n",
    "              double fa, fb, x, step;\n",
    "              int    j;\n",
    "              step=(b-a)/((double) n);\n",
    "              RectangleSum=0.;\n",
    "              for (j = 0; j <= n; j++){\n",
    "                 x = (j+0.5)*step+;   // midpoint of a given rectangle\n",
    "                 RectangleSum+=(*func)(x);   //  add value of function.\n",
    "              }\n",
    "              RectangleSum *= step;  //  multiply with step length.\n",
    "              return RectangleSum;\n",
    "        }  // end RectangleRule \n"
   ]
  },
  {
   "cell_type": "markdown",
   "metadata": {},
   "source": [
    "<!-- !split  -->\n",
    "## Truncation error for the rectangular rule\n",
    "The correct mathematical expression for the local error for the rectangular rule $R_i(h)$ for element $i$ is"
   ]
  },
  {
   "cell_type": "markdown",
   "metadata": {},
   "source": [
    "$$\n",
    "\\int_{-h}^hf(x)dx - R_i(h)=-\\frac{h^3}{24}f^{(2)}(\\xi),\n",
    "$$"
   ]
  },
  {
   "cell_type": "markdown",
   "metadata": {},
   "source": [
    "and the global error reads"
   ]
  },
  {
   "cell_type": "markdown",
   "metadata": {},
   "source": [
    "$$\n",
    "\\int_a^bf(x)dx -R_h(f)=-\\frac{b-a}{24}h^2f^{(2)}(\\xi),\n",
    "$$"
   ]
  },
  {
   "cell_type": "markdown",
   "metadata": {},
   "source": [
    "where $R_h$ is the result obtained with rectangular rule and $\\xi \\in [a,b]$.\n",
    "\n",
    "\n",
    "\n",
    "<!-- !split  -->\n",
    "## Second-order polynomial\n",
    "Instead of using the above first-order polynomials \n",
    "approximations for $f$, we attempt at using a second-order polynomials.\n",
    "In this case we need three points in order to define a second-order \n",
    "polynomial approximation"
   ]
  },
  {
   "cell_type": "markdown",
   "metadata": {},
   "source": [
    "$$\n",
    "f(x) \\approx P_2(x)=a_0+a_1x+a_2x^2.\n",
    "$$"
   ]
  },
  {
   "cell_type": "markdown",
   "metadata": {},
   "source": [
    "Using again Lagrange's interpolation formula we have"
   ]
  },
  {
   "cell_type": "markdown",
   "metadata": {},
   "source": [
    "$$\n",
    "P_2(x)=\\frac{(x-x_0)(x-x_1)}{(x_2-x_0)(x_2-x_1)}y_2+\n",
    "            \\frac{(x-x_0)(x-x_2)}{(x_1-x_0)(x_1-x_2)}y_1+\n",
    "            \\frac{(x-x_1)(x-x_2)}{(x_0-x_1)(x_0-x_2)}y_0.\n",
    "$$"
   ]
  },
  {
   "cell_type": "markdown",
   "metadata": {},
   "source": [
    "Inserting this formula in the integral of Eq.  ([eq:hhint](#eq:hhint)) we obtain"
   ]
  },
  {
   "cell_type": "markdown",
   "metadata": {},
   "source": [
    "$$\n",
    "\\int_{-h}^{+h}f(x)dx=\\frac{h}{3}\\left(f_h + 4f_0 + f_{-h}\\right)+O(h^5),\n",
    "$$"
   ]
  },
  {
   "cell_type": "markdown",
   "metadata": {},
   "source": [
    "which is Simpson's rule.\n",
    "\n",
    "\n",
    "\n",
    "<!-- !split  -->\n",
    "## Simpson's rule\n",
    "Note that the improved accuracy in the evaluation of\n",
    "the derivatives gives a better error approximation, $O(h^5)$ vs.\\ $O(h^3)$ .\n",
    "But this is again the *local error approximation*. \n",
    "Using Simpson's rule we can easily compute\n",
    "the integral     of Eq.  ([eq:integraldef](#eq:integraldef)) to be"
   ]
  },
  {
   "cell_type": "markdown",
   "metadata": {},
   "source": [
    "<!-- Equation labels as ordinary links -->\n",
    "<div id=\"eq:simpson\"></div>\n",
    "\n",
    "$$\n",
    "\\begin{equation}\n",
    "   I=\\int_a^bf(x) dx=\\frac{h}{3}\\left(f(a) + 4f(a+h) +2f(a+2h)+\n",
    "                          \\dots +4f(b-h)+ f_{b}\\right),\n",
    "\\label{eq:simpson} \\tag{6}\n",
    "\\end{equation}\n",
    "$$"
   ]
  },
  {
   "cell_type": "markdown",
   "metadata": {},
   "source": [
    "with a global error which goes like $O(h^4)$.\n",
    "\n",
    "\n",
    "\n",
    "\n",
    "<!-- !split  -->\n",
    "## Mathematical expressions for the truncation error\n",
    "More formal expressions for the local and global errors are for the local error"
   ]
  },
  {
   "cell_type": "markdown",
   "metadata": {},
   "source": [
    "$$\n",
    "\\int_a^bf(x)dx -\\frac{b-a}{6}\\left[f(a)+4f((a+b)/2)+f(b)\\right]=-\\frac{h^5}{90}f^{(4)}(\\xi),\n",
    "$$"
   ]
  },
  {
   "cell_type": "markdown",
   "metadata": {},
   "source": [
    "and for the global error"
   ]
  },
  {
   "cell_type": "markdown",
   "metadata": {},
   "source": [
    "$$\n",
    "\\int_a^bf(x)dx -S_h(f)=-\\frac{b-a}{180}h^4f^{(4)}(\\xi).\n",
    "$$"
   ]
  },
  {
   "cell_type": "markdown",
   "metadata": {},
   "source": [
    "with $\\xi\\in[a,b]$ and $S_h$ the results obtained with Simpson's method.\n",
    "\n",
    "\n",
    "\n",
    "<!-- !split  -->\n",
    "## Algorithm for Simpson's rule\n",
    "The method \n",
    "can easily be implemented numerically through the following simple algorithm\n",
    "\n",
    "  * Choose the number of mesh points and fix the step.\n",
    "\n",
    "  * calculate $f(a)$ and $f(b)$\n",
    "\n",
    "  * Perform a loop over $n=1$ to $n-1$ ($f(a)$ and $f(b)$ are known) and sum up   the terms $4f(a+h) +2f(a+2h)+4f(a+3h)+\\dots +4f(b-h)$. Each step in the loop  corresponds to a given value $a+nh$. Odd values of $n$ give $4$ as factor  while even values yield $2$ as factor.\n",
    "\n",
    "  * Multiply the final result by $\\frac{h}{3}$.\n",
    "\n",
    "\n",
    "\n",
    "\n",
    "<!-- !split  -->\n",
    "## Summary for equal-step methods\n",
    "In more general terms, what we have done here is to approximate a given function $f(x)$ with a polynomial\n",
    "of a certain degree. One can show that \n",
    "given $n+1$ distinct points $x_0,\\dots, x_n\\in[a,b]$ and $n+1$ values $y_0,\\dots,y_n$ there exists a \n",
    "unique polynomial $P_n(x)$ with the property"
   ]
  },
  {
   "cell_type": "markdown",
   "metadata": {},
   "source": [
    "$$\n",
    "P_n(x_j) = y_j\\hspace{0.5cm} j=0,\\dots,n\n",
    "$$"
   ]
  },
  {
   "cell_type": "markdown",
   "metadata": {},
   "source": [
    "<!-- !split  -->\n",
    "## Lagrange's polynomial\n",
    "In the Lagrange representation the interpolating polynomial is given by"
   ]
  },
  {
   "cell_type": "markdown",
   "metadata": {},
   "source": [
    "$$\n",
    "P_n = \\sum_{k=0}^nl_ky_k,\n",
    "$$"
   ]
  },
  {
   "cell_type": "markdown",
   "metadata": {},
   "source": [
    "with the Lagrange factors"
   ]
  },
  {
   "cell_type": "markdown",
   "metadata": {},
   "source": [
    "$$\n",
    "l_k(x) = \\prod_{\\begin{array}{c}i=0 \\\\ i\\ne k\\end{array}}^n\\frac{x-x_i}{x_k-x_i}\\hspace{0.2cm} k=0,\\dots,n.\n",
    "$$"
   ]
  },
  {
   "cell_type": "markdown",
   "metadata": {},
   "source": [
    "<!-- !split  -->\n",
    "## Polynomial approximation\n",
    "If we for example set $n=1$, we obtain"
   ]
  },
  {
   "cell_type": "markdown",
   "metadata": {},
   "source": [
    "$$\n",
    "P_1(x) = y_0\\frac{x-x_1}{x_0-x_1}+y_1\\frac{x-x_0}{x_1-x_0}=\\frac{y_1-y_0}{x_1-x_0}x-\\frac{y_1x_0+y_0x_1}{x_1-x_0},\n",
    "$$"
   ]
  },
  {
   "cell_type": "markdown",
   "metadata": {},
   "source": [
    "which we recognize as the equation for a straight line.\n",
    "\n",
    "The polynomial interpolatory quadrature of order $n$ with equidistant quadrature points $x_k=a+kh$\n",
    "and step $h=(b-a)/n$ is called the Newton-Cotes quadrature formula of order $n$.\n",
    "\n",
    "\n",
    "\n",
    "\n",
    "## Gaussian Quadrature\n",
    "The methods we have presented hitherto are tailored to problems where the \n",
    "mesh points $x_i$ are equidistantly spaced, $x_i$ differing from $x_{i+1}$ by the step $h$.\n",
    "\n",
    "The basic idea behind all integration methods is to approximate the integral"
   ]
  },
  {
   "cell_type": "markdown",
   "metadata": {},
   "source": [
    "$$\n",
    "I=\\int_a^bf(x)dx \\approx \\sum_{i=1}^N\\omega_if(x_i),\n",
    "$$"
   ]
  },
  {
   "cell_type": "markdown",
   "metadata": {},
   "source": [
    "where $\\omega$ and $x$ are the weights and the chosen mesh points, respectively.\n",
    "In our previous discussion, these mesh points were fixed at the beginning, by choosing\n",
    "a given number of points $N$. The weigths $\\omega$ resulted then from the integration\n",
    "method we applied. Simpson's rule, see Eq.  ([eq:simpson](#eq:simpson)) would give"
   ]
  },
  {
   "cell_type": "markdown",
   "metadata": {},
   "source": [
    "$$\n",
    "\\omega : \\left\\{h/3,4h/3,2h/3,4h/3,\\dots,4h/3,h/3\\right\\},\n",
    "$$"
   ]
  },
  {
   "cell_type": "markdown",
   "metadata": {},
   "source": [
    "for the weights, while the trapezoidal rule resulted in"
   ]
  },
  {
   "cell_type": "markdown",
   "metadata": {},
   "source": [
    "$$\n",
    "\\omega : \\left\\{h/2,h,h,\\dots,h,h/2\\right\\}.\n",
    "$$"
   ]
  },
  {
   "cell_type": "markdown",
   "metadata": {},
   "source": [
    "## Gaussian Quadrature, main idea\n",
    "In general, an integration formula which is based on a Taylor series using $N$ points,\n",
    "will integrate exactly a polynomial $P$ of degree $N-1$. That is, the $N$ weights\n",
    "$\\omega_n$ can be chosen to satisfy $N$ linear equations, see chapter 3 of Ref.\\ [3]. \n",
    "A greater precision for a given amount of numerical work can  be achieved\n",
    "if we are willing to give up the requirement of equally spaced integration points.  \n",
    "In Gaussian quadrature (hereafter GQ), both the mesh points and the weights are to\n",
    "be determined. The points will not be equally spaced.\n",
    "\n",
    "The theory behind GQ is to obtain an arbitrary weight $\\omega$ through the use of\n",
    "so-called orthogonal polynomials. These polynomials are orthogonal in some\n",
    "interval say e.g., [-1,1]. Our points $x_i$ are chosen in some optimal sense subject\n",
    "only to the constraint that they should lie in this interval. Together with the weights\n",
    "we have then $2N$ ($N$ the number of points) parameters at our disposal.\n",
    "\n",
    "\n",
    "\n",
    "\n",
    "## Gaussian Quadrature\n",
    "Even though the integrand is not smooth, we could render it smooth by extracting\n",
    "from it the weight function of an orthogonal polynomial, i.e.,\n",
    "we are rewriting"
   ]
  },
  {
   "cell_type": "markdown",
   "metadata": {},
   "source": [
    "<!-- Equation labels as ordinary links -->\n",
    "<div id=\"eq:generalint\"></div>\n",
    "\n",
    "$$\n",
    "\\begin{equation}\n",
    "   I= \\int_a^b f(x)dx =\\int_a^b W(x)g(x)dx \\approx \\sum_{i=1}^N\\omega_ig(x_i),  \n",
    "\\label{eq:generalint} \\tag{7}\n",
    "\\end{equation}\n",
    "$$"
   ]
  },
  {
   "cell_type": "markdown",
   "metadata": {},
   "source": [
    "where $g$ is smooth and $W$ is the weight function, which is to  be associated with a given \n",
    "orthogonal polynomial. Note that with a given weight function we end up evaluating the integrand\n",
    "for the function $g(x_i)$.\n",
    "\n",
    "\n",
    "\n",
    "## Gaussian Quadrature, weight function\n",
    "The weight function $W$ is non-negative in the integration interval \n",
    "$x\\in [a,b]$ such that\n",
    "for any $n \\ge 0$, the integral $\\int_a^b |x|^n W(x) dx$ is integrable. The naming\n",
    "weight function arises from the fact that it may be used to give more emphasis\n",
    "to one part of the interval than another. \n",
    "A quadrature formula"
   ]
  },
  {
   "cell_type": "markdown",
   "metadata": {},
   "source": [
    "<!-- Equation labels as ordinary links -->\n",
    "<div id=\"_auto1\"></div>\n",
    "\n",
    "$$\n",
    "\\begin{equation} \n",
    "   \\int_a^b W(x)f(x)dx \\approx \\sum_{i=1}^N\\omega_if(x_i), \n",
    "\\label{_auto1} \\tag{8}\n",
    "\\end{equation}\n",
    "$$"
   ]
  },
  {
   "cell_type": "markdown",
   "metadata": {},
   "source": [
    "with $N$ distinct quadrature points (mesh points) is a called a Gaussian quadrature \n",
    "formula if it integrates all polynomials $p\\in P_{2N-1}$ exactly, that is"
   ]
  },
  {
   "cell_type": "markdown",
   "metadata": {},
   "source": [
    "<!-- Equation labels as ordinary links -->\n",
    "<div id=\"_auto2\"></div>\n",
    "\n",
    "$$\n",
    "\\begin{equation} \n",
    "\\int_a^bW(x)p(x)dx =\\sum_{i=1}^N\\omega_ip(x_i), \n",
    "\\label{_auto2} \\tag{9}\n",
    "\\end{equation}\n",
    "$$"
   ]
  },
  {
   "cell_type": "markdown",
   "metadata": {},
   "source": [
    "It is assumed that $W(x)$ is continuous and positive and that the integral"
   ]
  },
  {
   "cell_type": "markdown",
   "metadata": {},
   "source": [
    "$$\n",
    "\\int_a^bW(x)dx\n",
    "$$"
   ]
  },
  {
   "cell_type": "markdown",
   "metadata": {},
   "source": [
    "exists. Note that the replacement of $f\\rightarrow Wg$ is normally a better approximation\n",
    "due to the fact that we may isolate possible singularities of $W$ and its \n",
    "derivatives at the endpoints of the interval.\n",
    "\n",
    "\n",
    "\n",
    "\n",
    "## Gaussian Quadrature weights and integration points\n",
    "The quadrature weights or just weights (not to be confused with the weight function) \n",
    "are positive and the sequence of Gaussian quadrature formulae is convergent \n",
    "if the sequence $Q_N$ of quadrature formulae"
   ]
  },
  {
   "cell_type": "markdown",
   "metadata": {},
   "source": [
    "$$\n",
    "Q_N(f)\\rightarrow Q(f)=\\int_a^bf(x)dx,\n",
    "$$"
   ]
  },
  {
   "cell_type": "markdown",
   "metadata": {},
   "source": [
    "in the limit $N\\rightarrow \\infty$.\n",
    "\n",
    "\n",
    "\n",
    "## Gaussian Quadrature\n",
    "Then  we say that the sequence"
   ]
  },
  {
   "cell_type": "markdown",
   "metadata": {},
   "source": [
    "$$\n",
    "Q_N(f) = \\sum_{i=1}^N\\omega_i^{(N)}f(x_i^{(N)}),\n",
    "$$"
   ]
  },
  {
   "cell_type": "markdown",
   "metadata": {},
   "source": [
    "is convergent for all polynomials $p$, that is"
   ]
  },
  {
   "cell_type": "markdown",
   "metadata": {},
   "source": [
    "$$\n",
    "Q_N(p) = Q(p)\n",
    "$$"
   ]
  },
  {
   "cell_type": "markdown",
   "metadata": {},
   "source": [
    "if there exits a constant $C$ such that"
   ]
  },
  {
   "cell_type": "markdown",
   "metadata": {},
   "source": [
    "$$\n",
    "\\sum_{i=1}^N|\\omega_i^{(N)}| \\le C,\n",
    "$$"
   ]
  },
  {
   "cell_type": "markdown",
   "metadata": {},
   "source": [
    "for all $N$ which are natural numbers.\n",
    "\n",
    "\n",
    "\n",
    "## Error in Gaussian Quadrature\n",
    "The error for the Gaussian quadrature formulae of order $N$ is given\n",
    "by"
   ]
  },
  {
   "cell_type": "markdown",
   "metadata": {},
   "source": [
    "$$\n",
    "\\int_a^bW(x)f(x)dx-\\sum_{k=1}^Nw_kf(x_k)=\\frac{f^{2N}(\\xi)}{(2N)!}\\int_a^bW(x)[q_{N}(x)]^2dx\n",
    "$$"
   ]
  },
  {
   "cell_type": "markdown",
   "metadata": {},
   "source": [
    "where $q_{N}$ is the chosen orthogonal polynomial and $\\xi$ is a number in the interval $[a,b]$.\n",
    "We have assumed that $f\\in C^{2N}[a,b]$, viz. the space of all real or complex  $2N$ times continuously\n",
    "differentiable functions.\n",
    "\n",
    "\n",
    "\n",
    "## Important polynomials in Gaussian Quadrature\n",
    "In science there are several important orthogonal polynomials which arise\n",
    "from the solution of differential equations. Well-known examples are the  \n",
    "Legendre, Hermite, Laguerre and Chebyshev polynomials. They have the following weight functions\n",
    "\n",
    "<table border=\"1\">\n",
    "<thead>\n",
    "<tr><th align=\"center\">    Weight function    </th> <th align=\"center\">         Interval         </th> <th align=\"center\">Polynomial</th> </tr>\n",
    "</thead>\n",
    "<tbody>\n",
    "<tr><td align=\"right\">   $W(x)=1$                   </td> <td align=\"right\">   $x\\in [-1,1]$                 </td> <td align=\"right\">   Legendre      </td> </tr>\n",
    "<tr><td align=\"right\">   $W(x)=e^{-x^2}$            </td> <td align=\"right\">   $-\\infty \\le x \\le \\infty$    </td> <td align=\"right\">   Hermite       </td> </tr>\n",
    "<tr><td align=\"right\">   $W(x)=x^{\\alpha}e^{-x}$    </td> <td align=\"right\">   $0 \\le x \\le \\infty$          </td> <td align=\"right\">   Laguerre      </td> </tr>\n",
    "<tr><td align=\"right\">   $W(x)=1/(\\sqrt{1-x^2})$    </td> <td align=\"right\">   $-1 \\le x \\le 1$              </td> <td align=\"right\">   Chebyshev     </td> </tr>\n",
    "</tbody>\n",
    "</table>\n",
    "\n",
    "The importance of the use of orthogonal polynomials in the evaluation\n",
    "of integrals can be summarized as follows.\n",
    "\n",
    "\n",
    "\n",
    "## Gaussian Quadrature, win-win situation\n",
    "\n",
    "Methods based on Taylor series using $N$ points will  integrate exactly a polynomial $P$ of degree $N-1$. If a function $f(x)$ can be approximated with a polynomial of degree $N-1$"
   ]
  },
  {
   "cell_type": "markdown",
   "metadata": {},
   "source": [
    "$$\n",
    "f(x)\\approx P_{N-1}(x),\n",
    "$$"
   ]
  },
  {
   "cell_type": "markdown",
   "metadata": {},
   "source": [
    "with $N$ mesh points we should be able to integrate exactly the polynomial $P_{N-1}$. \n",
    "\n",
    "Gaussian quadrature methods promise more than this. We can get a better          polynomial approximation with order greater than $N$  to $f(x)$ and still          get away with only $N$ mesh points. More precisely, we approximate"
   ]
  },
  {
   "cell_type": "markdown",
   "metadata": {},
   "source": [
    "$$\n",
    "f(x) \\approx P_{2N-1}(x),\n",
    "$$"
   ]
  },
  {
   "cell_type": "markdown",
   "metadata": {},
   "source": [
    "and with only $N$ mesh points these methods promise that"
   ]
  },
  {
   "cell_type": "markdown",
   "metadata": {},
   "source": [
    "$$\n",
    "\\int f(x)dx \\approx \\int P_{2N-1}(x)dx=\\sum_{i=0}^{N-1} P_{2N-1}(x_i)\\omega_i,\n",
    "$$"
   ]
  },
  {
   "cell_type": "markdown",
   "metadata": {},
   "source": [
    "## Gaussian Quadrature, determining mesh points and weights\n",
    "\n",
    "The reason why we can represent a function $f(x)$ with a polynomial of degree\n",
    "$2N-1$ is due to the fact that we have $2N$ equations, $N$ for the mesh points and $N$\n",
    "for the weights. \n",
    "\n",
    "*The mesh points are the zeros  of the chosen  orthogonal polynomial* of\n",
    "order $N$, and the weights are determined from the inverse of a matrix.\n",
    "An orthogonal polynomials of degree $N$ defined in an interval $[a,b]$\n",
    "has precisely $N$ distinct zeros on the open interval $(a,b)$. \n",
    "\n",
    "Before we detail how to obtain mesh points and weights with orthogonal \n",
    "polynomials, let us revisit some features of orthogonal polynomials\n",
    "by specializing to Legendre polynomials. In the text below, we reserve \n",
    "hereafter the labelling\n",
    "$L_N$ for a Legendre polynomial of order $N$, while $P_N$ is an arbitrary polynomial\n",
    "of order $N$. \n",
    "These polynomials form then the basis for the Gauss-Legendre method.\n",
    "\n",
    "\n",
    "\n",
    "## Orthogonal polynomials, Legendre\n",
    "\n",
    "\n",
    "The Legendre polynomials are the solutions of an important\n",
    "differential equation in Science, namely"
   ]
  },
  {
   "cell_type": "markdown",
   "metadata": {},
   "source": [
    "$$\n",
    "C(1-x^2)P-m_l^2P+(1-x^2)\\frac{d}{dx}\\left((1-x^2)\\frac{dP}{dx}\\right)=0.\n",
    "$$"
   ]
  },
  {
   "cell_type": "markdown",
   "metadata": {},
   "source": [
    "Here $C$ is a constant. For $m_l=0$ we obtain the Legendre polynomials\n",
    "as solutions, whereas $m_l \\ne 0$ yields the so-called associated Legendre\n",
    "polynomials. This differential equation arises in for example the solution\n",
    "of the angular dependence of Schroedinger's \n",
    "equation with spherically symmetric potentials such as\n",
    "the Coulomb potential. \n",
    "\n",
    "\n",
    "## Orthogonal polynomials, Legendre\n",
    "The corresponding polynomials $P$ are"
   ]
  },
  {
   "cell_type": "markdown",
   "metadata": {},
   "source": [
    "$$\n",
    "L_k(x)=\\frac{1}{2^kk!}\\frac{d^k}{dx^k}(x^2-1)^k \\hspace{1cm} k=0,1,2,\\dots,\n",
    "$$"
   ]
  },
  {
   "cell_type": "markdown",
   "metadata": {},
   "source": [
    "which, up to a factor, are the Legendre polynomials $L_k$. \n",
    "The latter fulfil the orthogonality relation"
   ]
  },
  {
   "cell_type": "markdown",
   "metadata": {},
   "source": [
    "<!-- Equation labels as ordinary links -->\n",
    "<div id=\"eq:ortholeg\"></div>\n",
    "\n",
    "$$\n",
    "\\begin{equation} \n",
    "  \\int_{-1}^1L_i(x)L_j(x)dx=\\frac{2}{2i+1}\\delta_{ij},\n",
    "\\label{eq:ortholeg} \\tag{10}\n",
    "\\end{equation}\n",
    "$$"
   ]
  },
  {
   "cell_type": "markdown",
   "metadata": {},
   "source": [
    "and the recursion relation"
   ]
  },
  {
   "cell_type": "markdown",
   "metadata": {},
   "source": [
    "<!-- Equation labels as ordinary links -->\n",
    "<div id=\"eq:legrecur\"></div>\n",
    "\n",
    "$$\n",
    "\\begin{equation} \n",
    "  (j+1)L_{j+1}(x)+jL_{j-1}(x)-(2j+1)xL_j(x)=0.\n",
    "\\label{eq:legrecur} \\tag{11}\n",
    "\\end{equation}\n",
    "$$"
   ]
  },
  {
   "cell_type": "markdown",
   "metadata": {},
   "source": [
    "## Orthogonal polynomials, Legendre\n",
    "It is common to choose the normalization condition"
   ]
  },
  {
   "cell_type": "markdown",
   "metadata": {},
   "source": [
    "$$\n",
    "L_N(1)=1.\n",
    "$$"
   ]
  },
  {
   "cell_type": "markdown",
   "metadata": {},
   "source": [
    "With these equations we can determine a Legendre polynomial of arbitrary order\n",
    "with input polynomials of order $N-1$ and $N-2$. \n",
    "\n",
    "As an example, consider the determination of $L_0$, $L_1$ and $L_2$. \n",
    "We have that"
   ]
  },
  {
   "cell_type": "markdown",
   "metadata": {},
   "source": [
    "$$\n",
    "L_0(x) = c,\n",
    "$$"
   ]
  },
  {
   "cell_type": "markdown",
   "metadata": {},
   "source": [
    "with $c$ a constant. Using the normalization equation $L_0(1)=1$\n",
    "we get that"
   ]
  },
  {
   "cell_type": "markdown",
   "metadata": {},
   "source": [
    "$$\n",
    "L_0(x) = 1.\n",
    "$$"
   ]
  },
  {
   "cell_type": "markdown",
   "metadata": {},
   "source": [
    "## Orthogonal polynomials, Legendre\n",
    "For $L_1(x)$ we have the general expression"
   ]
  },
  {
   "cell_type": "markdown",
   "metadata": {},
   "source": [
    "$$\n",
    "L_1(x) = a+bx,\n",
    "$$"
   ]
  },
  {
   "cell_type": "markdown",
   "metadata": {},
   "source": [
    "and using the orthogonality relation"
   ]
  },
  {
   "cell_type": "markdown",
   "metadata": {},
   "source": [
    "$$\n",
    "\\int_{-1}^1L_0(x)L_1(x)dx=0,\n",
    "$$"
   ]
  },
  {
   "cell_type": "markdown",
   "metadata": {},
   "source": [
    "we obtain $a=0$ and with the condition $L_1(1)=1$, we obtain $b=1$, yielding"
   ]
  },
  {
   "cell_type": "markdown",
   "metadata": {},
   "source": [
    "$$\n",
    "L_1(x) = x.\n",
    "$$"
   ]
  },
  {
   "cell_type": "markdown",
   "metadata": {},
   "source": [
    "## Orthogonal polynomials, Legendre\n",
    "We can proceed in a similar fashion in order to determine\n",
    "the coefficients of $L_2$"
   ]
  },
  {
   "cell_type": "markdown",
   "metadata": {},
   "source": [
    "$$\n",
    "L_2(x) = a+bx+cx^2,\n",
    "$$"
   ]
  },
  {
   "cell_type": "markdown",
   "metadata": {},
   "source": [
    "using the orthogonality relations"
   ]
  },
  {
   "cell_type": "markdown",
   "metadata": {},
   "source": [
    "$$\n",
    "\\int_{-1}^1L_0(x)L_2(x)dx=0,\n",
    "$$"
   ]
  },
  {
   "cell_type": "markdown",
   "metadata": {},
   "source": [
    "and"
   ]
  },
  {
   "cell_type": "markdown",
   "metadata": {},
   "source": [
    "$$\n",
    "\\int_{-1}^1L_1(x)L_2(x)dx=0,\n",
    "$$"
   ]
  },
  {
   "cell_type": "markdown",
   "metadata": {},
   "source": [
    "and the condition\n",
    "$L_2(1)=1$ we would get"
   ]
  },
  {
   "cell_type": "markdown",
   "metadata": {},
   "source": [
    "<!-- Equation labels as ordinary links -->\n",
    "<div id=\"eq:l2\"></div>\n",
    "\n",
    "$$\n",
    "\\begin{equation}\n",
    "   L_2(x) = \\frac{1}{2}\\left(3x^2-1\\right).\n",
    "\\label{eq:l2} \\tag{12}\n",
    "\\end{equation}\n",
    "$$"
   ]
  },
  {
   "cell_type": "markdown",
   "metadata": {},
   "source": [
    "## Orthogonal polynomials, Legendre\n",
    "We note that we have three equations to determine the three coefficients\n",
    "$a$, $b$ and $c$.\n",
    "\n",
    "Alternatively, we could have \n",
    "employed the recursion relation of Eq. ([eq:legrecur](#eq:legrecur)), resulting in"
   ]
  },
  {
   "cell_type": "markdown",
   "metadata": {},
   "source": [
    "$$\n",
    "2L_2(x)=3xL_1(x)-L_0,\n",
    "$$"
   ]
  },
  {
   "cell_type": "markdown",
   "metadata": {},
   "source": [
    "which leads to Eq. ([eq:l2](#eq:l2)).\n",
    "\n",
    "\n",
    "## Orthogonal polynomials, Legendre\n",
    "The orthogonality relation above is important in our discussion\n",
    "on how to obtain the weights and mesh points. Suppose we have an arbitrary\n",
    "polynomial $Q_{N-1}$ of order $N-1$ and a Legendre polynomial $L_N(x)$ of\n",
    "order $N$. We could represent $Q_{N-1}$ \n",
    "by the Legendre polynomials through"
   ]
  },
  {
   "cell_type": "markdown",
   "metadata": {},
   "source": [
    "<!-- Equation labels as ordinary links -->\n",
    "<div id=\"eq:legexpansion\"></div>\n",
    "\n",
    "$$\n",
    "\\begin{equation}\n",
    "   Q_{N-1}(x)=\\sum_{k=0}^{N-1}\\alpha_kL_{k}(x),\n",
    "\\label{eq:legexpansion} \\tag{13}\n",
    "\\end{equation}\n",
    "$$"
   ]
  },
  {
   "cell_type": "markdown",
   "metadata": {},
   "source": [
    "where $\\alpha_k$'s are constants.  \n",
    "\n",
    "Using the orthogonality relation of Eq. ([eq:ortholeg](#eq:ortholeg)) we see that"
   ]
  },
  {
   "cell_type": "markdown",
   "metadata": {},
   "source": [
    "<!-- Equation labels as ordinary links -->\n",
    "<div id=\"eq:ortholeg2\"></div>\n",
    "\n",
    "$$\n",
    "\\begin{equation}\n",
    "  \\int_{-1}^1L_N(x)Q_{N-1}(x)dx=\\sum_{k=0}^{N-1} \\int_{-1}^1L_N(x) \\alpha_kL_{k}(x)dx=0.\n",
    "\\label{eq:ortholeg2} \\tag{14}\n",
    "\\end{equation}\n",
    "$$"
   ]
  },
  {
   "cell_type": "markdown",
   "metadata": {},
   "source": [
    "We will use this result in our construction of mesh points and weights \n",
    "in the next subsection.\n",
    "\n",
    "## Orthogonal polynomials, Legendre\n",
    "In summary, the first few Legendre polynomials are"
   ]
  },
  {
   "cell_type": "markdown",
   "metadata": {},
   "source": [
    "6\n",
    "1\n",
    " \n",
    "<\n",
    "<\n",
    "<\n",
    "!\n",
    "!\n",
    "M\n",
    "A\n",
    "T\n",
    "H\n",
    "_\n",
    "B\n",
    "L\n",
    "O\n",
    "C\n",
    "K"
   ]
  },
  {
   "cell_type": "markdown",
   "metadata": {},
   "source": [
    "6\n",
    "2\n",
    " \n",
    "<\n",
    "<\n",
    "<\n",
    "!\n",
    "!\n",
    "M\n",
    "A\n",
    "T\n",
    "H\n",
    "_\n",
    "B\n",
    "L\n",
    "O\n",
    "C\n",
    "K"
   ]
  },
  {
   "cell_type": "markdown",
   "metadata": {},
   "source": [
    "6\n",
    "3\n",
    " \n",
    "<\n",
    "<\n",
    "<\n",
    "!\n",
    "!\n",
    "M\n",
    "A\n",
    "T\n",
    "H\n",
    "_\n",
    "B\n",
    "L\n",
    "O\n",
    "C\n",
    "K"
   ]
  },
  {
   "cell_type": "markdown",
   "metadata": {},
   "source": [
    "$$\n",
    "L_3(x) = (5x^3-3x)/2,\n",
    "$$"
   ]
  },
  {
   "cell_type": "markdown",
   "metadata": {},
   "source": [
    "and"
   ]
  },
  {
   "cell_type": "markdown",
   "metadata": {},
   "source": [
    "$$\n",
    "L_4(x) = (35x^4-30x^2+3)/8.\n",
    "$$"
   ]
  },
  {
   "cell_type": "markdown",
   "metadata": {},
   "source": [
    "## Orthogonal polynomials, simple code for Legendre polynomials\n",
    "The following simple function implements the above recursion relation\n",
    "of Eq. ([eq:legrecur](#eq:legrecur)).\n",
    "for computing Legendre polynomials of order $N$."
   ]
  },
  {
   "cell_type": "markdown",
   "metadata": {},
   "source": [
    "        //  This function computes the Legendre polynomial of degree N\n",
    "        \n",
    "        double Legendre( int n, double x) \n",
    "        {\n",
    "               double r, s, t;\n",
    "               int m;\n",
    "               r = 0; s = 1.;\n",
    "               //  Use recursion relation to generate p1 and p2\n",
    "               for (m=0; m < n; m++ )  \n",
    "               {\n",
    "                  t = r; r = s; \n",
    "                  s = (2*m+1)*x*r - m*t;\n",
    "                  s /= (m+1);\n",
    "        \t} // end of do loop \n",
    "                return s;\n",
    "        }   // end of function Legendre\n"
   ]
  },
  {
   "cell_type": "markdown",
   "metadata": {},
   "source": [
    "The variable $s$ represents $L_{j+1}(x)$, while $r$ holds\n",
    "$L_j(x)$ and $t$ the value $L_{j-1}(x)$.\n",
    "\n",
    "## Integration points and weights with orthogonal polynomials\n",
    "\n",
    "To understand how the weights and the mesh points are generated, we define first\n",
    "a polynomial of degree $2N-1$ (since we have $2N$ variables at hand, the mesh points\n",
    "and weights for $N$ points). This polynomial can be represented through polynomial\n",
    "division by"
   ]
  },
  {
   "cell_type": "markdown",
   "metadata": {},
   "source": [
    "$$\n",
    "P_{2N-1}(x)=L_N(x)P_{N-1}(x)+Q_{N-1}(x),\n",
    "$$"
   ]
  },
  {
   "cell_type": "markdown",
   "metadata": {},
   "source": [
    "where $P_{N-1}(x)$ and $Q_{N-1}(x)$ are some polynomials of degree $N-1$ or less.\n",
    "The function $L_N(x)$ is a Legendre polynomial of order $N$. \n",
    "\n",
    "Recall that we wanted to approximate  an arbitrary function $f(x)$ with a\n",
    "polynomial $P_{2N-1}$ in order to evaluate"
   ]
  },
  {
   "cell_type": "markdown",
   "metadata": {},
   "source": [
    "$$\n",
    "\\int_{-1}^1f(x)dx\\approx \\int_{-1}^1P_{2N-1}(x)dx.\n",
    "$$"
   ]
  },
  {
   "cell_type": "markdown",
   "metadata": {},
   "source": [
    "## Integration points and weights with orthogonal polynomials\n",
    "We can use Eq. ([eq:ortholeg2](#eq:ortholeg2))\n",
    "to rewrite the above integral as"
   ]
  },
  {
   "cell_type": "markdown",
   "metadata": {},
   "source": [
    "$$\n",
    "\\int_{-1}^1P_{2N-1}(x)dx=\\int_{-1}^1(L_N(x)P_{N-1}(x)+Q_{N-1}(x))dx=\\int_{-1}^1Q_{N-1}(x)dx,\n",
    "$$"
   ]
  },
  {
   "cell_type": "markdown",
   "metadata": {},
   "source": [
    "due to the orthogonality properties of the Legendre polynomials. We see that it suffices\n",
    "to evaluate the integral over $\\int_{-1}^1Q_{N-1}(x)dx$ in order to evaluate \n",
    "$\\int_{-1}^1P_{2N-1}(x)dx$. In addition, at the points $x_k$ where $L_N$ is zero, we have"
   ]
  },
  {
   "cell_type": "markdown",
   "metadata": {},
   "source": [
    "$$\n",
    "P_{2N-1}(x_k)=Q_{N-1}(x_k)\\hspace{1cm} k=0,1,\\dots, N-1,\n",
    "$$"
   ]
  },
  {
   "cell_type": "markdown",
   "metadata": {},
   "source": [
    "and we see that through these $N$ points we can fully define $Q_{N-1}(x)$  and thereby the \n",
    "integral. Note that we have chosen to let the numbering of the points run from $0$ to $N-1$.\n",
    "The reason for this choice is that we wish to have the same numbering as the order of a \n",
    "polynomial of degree $N-1$.  This numbering will be useful below when  we introduce the matrix\n",
    "elements  which define the integration weights $w_i$.\n",
    "\n",
    "\n",
    "\n",
    "## Integration points and weights with orthogonal polynomials\n",
    "We develope then $Q_{N-1}(x)$ in terms of Legendre polynomials,\n",
    "as done in Eq. ([eq:legexpansion](#eq:legexpansion)),"
   ]
  },
  {
   "cell_type": "markdown",
   "metadata": {},
   "source": [
    "<!-- Equation labels as ordinary links -->\n",
    "<div id=\"eq:lsum1\"></div>\n",
    "\n",
    "$$\n",
    "\\begin{equation} \n",
    "  Q_{N-1}(x)=\\sum_{i=0}^{N-1}\\alpha_iL_i(x).\n",
    "\\label{eq:lsum1} \\tag{15}\n",
    "\\end{equation}\n",
    "$$"
   ]
  },
  {
   "cell_type": "markdown",
   "metadata": {},
   "source": [
    "Using the orthogonality property of the Legendre polynomials we have"
   ]
  },
  {
   "cell_type": "markdown",
   "metadata": {},
   "source": [
    "$$\n",
    "\\int_{-1}^1Q_{N-1}(x)dx=\\sum_{i=0}^{N-1}\\alpha_i\\int_{-1}^1L_0(x)L_i(x)dx=2\\alpha_0,\n",
    "$$"
   ]
  },
  {
   "cell_type": "markdown",
   "metadata": {},
   "source": [
    "where we have just inserted $L_0(x)=1$!\n",
    "\n",
    "## Integration points and weights with orthogonal polynomials\n",
    "Instead of an integration problem we need now to define the coefficient $\\alpha_0$.\n",
    "Since we know the values of $Q_{N-1}$ at the zeros of $L_N$, we may rewrite  \n",
    "Eq.  ([eq:lsum1](#eq:lsum1)) as"
   ]
  },
  {
   "cell_type": "markdown",
   "metadata": {},
   "source": [
    "<!-- Equation labels as ordinary links -->\n",
    "<div id=\"eq:lsum2\"></div>\n",
    "\n",
    "$$\n",
    "\\begin{equation} \n",
    "  Q_{N-1}(x_k)=\\sum_{i=0}^{N-1}\\alpha_iL_i(x_k)=\\sum_{i=0}^{N-1}\\alpha_iL_{ik} \\hspace{1cm} k=0,1,\\dots, N-1.\n",
    "\\label{eq:lsum2} \\tag{16}\n",
    "\\end{equation}\n",
    "$$"
   ]
  },
  {
   "cell_type": "markdown",
   "metadata": {},
   "source": [
    "Since the Legendre polynomials are linearly independent of each other, none \n",
    "of the columns in the matrix $L_{ik}$ are linear combinations of the others. \n",
    "\n",
    "\n",
    "## Integration points and weights with orthogonal polynomials\n",
    "This means that the matrix $L_{ik}$ has an inverse with the properties"
   ]
  },
  {
   "cell_type": "markdown",
   "metadata": {},
   "source": [
    "$$\n",
    "\\hat{L}^{-1}\\hat{L} = \\hat{I}.\n",
    "$$"
   ]
  },
  {
   "cell_type": "markdown",
   "metadata": {},
   "source": [
    "Multiplying both sides of Eq. ([eq:lsum2](#eq:lsum2)) with $\\sum_{j=0}^{N-1}L_{ji}^{-1}$ results in"
   ]
  },
  {
   "cell_type": "markdown",
   "metadata": {},
   "source": [
    "<!-- Equation labels as ordinary links -->\n",
    "<div id=\"eq:lsum3\"></div>\n",
    "\n",
    "$$\n",
    "\\begin{equation}\n",
    "  \\sum_{i=0}^{N-1}(L^{-1})_{ki}Q_{N-1}(x_i)=\\alpha_k.\n",
    "\\label{eq:lsum3} \\tag{17}\n",
    "\\end{equation}\n",
    "$$"
   ]
  },
  {
   "cell_type": "markdown",
   "metadata": {},
   "source": [
    "## Integration points and weights with orthogonal polynomials\n",
    "We can derive this result in an alternative way by defining the vectors"
   ]
  },
  {
   "cell_type": "markdown",
   "metadata": {},
   "source": [
    "$$\n",
    "\\hat{x}_k=\\left(\\begin{array} {c} x_0\\\\\n",
    "                                x_1\\\\\n",
    "                                .\\\\\n",
    "                                .\\\\\n",
    "                                x_{N-1}\\end{array}\\right) \\hspace{0.5cm}\n",
    "\\hat{\\alpha}=\\left(\\begin{array} {c} \\alpha_0\\\\\n",
    "                                \\alpha_1\\\\\n",
    "                                .\\\\\n",
    "                                .\\\\\n",
    "                                \\alpha_{N-1}\\end{array}\\right),\n",
    "$$"
   ]
  },
  {
   "cell_type": "markdown",
   "metadata": {},
   "source": [
    "and the matrix"
   ]
  },
  {
   "cell_type": "markdown",
   "metadata": {},
   "source": [
    "$$\n",
    "\\hat{L}=\\left(\\begin{array} {cccc} L_0(x_0)  & L_1(x_0) &\\dots &L_{N-1}(x_0)\\\\\n",
    "                                   L_0(x_1)  & L_1(x_1) &\\dots &L_{N-1}(x_1)\\\\\n",
    "                                   \\dots  & \\dots &\\dots &\\dots\\\\\n",
    "L_0(x_{N-1})  & L_1(x_{N-1}) &\\dots &L_{N-1}(x_{N-1})\n",
    "\\end{array}\\right).\n",
    "$$"
   ]
  },
  {
   "cell_type": "markdown",
   "metadata": {},
   "source": [
    "## Integration points and weights with orthogonal polynomials\n",
    "We have then"
   ]
  },
  {
   "cell_type": "markdown",
   "metadata": {},
   "source": [
    "$$\n",
    "Q_{N-1}(\\hat{x}_k) = \\hat{L}\\hat{\\alpha},\n",
    "$$"
   ]
  },
  {
   "cell_type": "markdown",
   "metadata": {},
   "source": [
    "yielding (if $\\hat{L}$ has an inverse)"
   ]
  },
  {
   "cell_type": "markdown",
   "metadata": {},
   "source": [
    "$$\n",
    "\\hat{L}^{-1}Q_{N-1}(\\hat{x}_k) = \\hat{\\alpha},\n",
    "$$"
   ]
  },
  {
   "cell_type": "markdown",
   "metadata": {},
   "source": [
    "which is Eq. ([eq:lsum3](#eq:lsum3)).\n",
    "\n",
    "## Integration points and weights with orthogonal polynomials\n",
    "Using the above results and the fact that"
   ]
  },
  {
   "cell_type": "markdown",
   "metadata": {},
   "source": [
    "$$\n",
    "\\int_{-1}^1P_{2N-1}(x)dx=\\int_{-1}^1Q_{N-1}(x)dx,\n",
    "$$"
   ]
  },
  {
   "cell_type": "markdown",
   "metadata": {},
   "source": [
    "we get"
   ]
  },
  {
   "cell_type": "markdown",
   "metadata": {},
   "source": [
    "$$\n",
    "\\int_{-1}^1P_{2N-1}(x)dx=\\int_{-1}^1Q_{N-1}(x)dx=2\\alpha_0=\n",
    "   2\\sum_{i=0}^{N-1}(L^{-1})_{0i}P_{2N-1}(x_i).\n",
    "$$"
   ]
  },
  {
   "cell_type": "markdown",
   "metadata": {},
   "source": [
    "## Integration points and weights with orthogonal polynomials\n",
    "If we identify the weights with $2(L^{-1})_{0i}$, where the points $x_i$ are\n",
    "the zeros of $L_N$, we have an integration formula of the type"
   ]
  },
  {
   "cell_type": "markdown",
   "metadata": {},
   "source": [
    "$$\n",
    "\\int_{-1}^1P_{2N-1}(x)dx=\\sum_{i=0}^{N-1}\\omega_iP_{2N-1}(x_i)\n",
    "$$"
   ]
  },
  {
   "cell_type": "markdown",
   "metadata": {},
   "source": [
    "and if our function $f(x)$  can be approximated by a polynomial $P$ of degree\n",
    "$2N-1$, we have finally that"
   ]
  },
  {
   "cell_type": "markdown",
   "metadata": {},
   "source": [
    "$$\n",
    "\\int_{-1}^1f(x)dx\\approx \\int_{-1}^1P_{2N-1}(x)dx=\\sum_{i=0}^{N-1}\\omega_iP_{2N-1}(x_i)  .\n",
    "$$"
   ]
  },
  {
   "cell_type": "markdown",
   "metadata": {},
   "source": [
    "In summary, the mesh points $x_i$ are defined by the zeros of an orthogonal polynomial of degree $N$, that is \n",
    "$L_N$, while the weights are\n",
    "given by $2(L^{-1})_{0i}$. \n",
    "\n",
    "\n",
    "## Application to the case $N=2$\n",
    "\n",
    "Let us apply the above formal results to the case $N=2$. \n",
    "This means that we can approximate a function $f(x)$ with a\n",
    "polynomial $P_3(x)$ of order $2N-1=3$. \n",
    "\n",
    "The mesh points are the zeros of $L_2(x)=1/2(3x^2-1)$. \n",
    "These points are $x_0=-1/\\sqrt{3}$ and $x_1=1/\\sqrt{3}$.\n",
    "\n",
    "Specializing Eq. ([eq:lsum2](#eq:lsum2))"
   ]
  },
  {
   "cell_type": "markdown",
   "metadata": {},
   "source": [
    "$$\n",
    "Q_{N-1}(x_k)=\\sum_{i=0}^{N-1}\\alpha_iL_i(x_k) \\hspace{1cm} k=0,1,\\dots, N-1.\n",
    "$$"
   ]
  },
  {
   "cell_type": "markdown",
   "metadata": {},
   "source": [
    "to $N=2$ yields"
   ]
  },
  {
   "cell_type": "markdown",
   "metadata": {},
   "source": [
    "$$\n",
    "Q_1(x_0)=\\alpha_0-\\alpha_1\\frac{1}{\\sqrt{3}},\n",
    "$$"
   ]
  },
  {
   "cell_type": "markdown",
   "metadata": {},
   "source": [
    "and"
   ]
  },
  {
   "cell_type": "markdown",
   "metadata": {},
   "source": [
    "$$\n",
    "Q_1(x_1)=\\alpha_0+\\alpha_1\\frac{1}{\\sqrt{3}},\n",
    "$$"
   ]
  },
  {
   "cell_type": "markdown",
   "metadata": {},
   "source": [
    "since $L_0(x=\\pm 1/\\sqrt{3})=1$ and $L_1(x=\\pm 1/\\sqrt{3})=\\pm 1/\\sqrt{3}$. \n",
    "\n",
    "\n",
    "## Application to the case $N=2$\n",
    "The matrix $L_{ik}$ defined in Eq. ([eq:lsum2](#eq:lsum2)) is then"
   ]
  },
  {
   "cell_type": "markdown",
   "metadata": {},
   "source": [
    "$$\n",
    "\\hat{L}=\\left(\\begin{array} {cc} 1  & -\\frac{1}{\\sqrt{3}}\\\\\n",
    "                                   1  & \\frac{1}{\\sqrt{3}}\\end{array}\\right),\n",
    "$$"
   ]
  },
  {
   "cell_type": "markdown",
   "metadata": {},
   "source": [
    "with an inverse given by"
   ]
  },
  {
   "cell_type": "markdown",
   "metadata": {},
   "source": [
    "$$\n",
    "\\hat{L}^{-1}=\\frac{\\sqrt{3}}{2}\\left(\\begin{array} {cc} \\frac{1}{\\sqrt{3}}  & \\frac{1}{\\sqrt{3}}\\\\\n",
    "                                   -1  & 1\\end{array}\\right).\n",
    "$$"
   ]
  },
  {
   "cell_type": "markdown",
   "metadata": {},
   "source": [
    "The weights are given by the matrix elements $2(L_{0k})^{-1}$. We have thence\n",
    "$\\omega_0=1$ and $\\omega_1=1$. \n",
    "\n",
    "## Application to the case $N=2$\n",
    "Obviously, there is no problem in changing the numbering of the matrix elements $i,k=0,1,2,\\dots,N-1$ to\n",
    "$i,k=1,2,\\dots,N$.  We have chosen to start from zero, since we deal with polynomials of degree $N-1$.\n",
    "\n",
    "Summarizing, for Legendre polynomials with $N=2$ we have\n",
    "weights"
   ]
  },
  {
   "cell_type": "markdown",
   "metadata": {},
   "source": [
    "$$\n",
    "\\omega : \\left\\{1,1\\right\\},\n",
    "$$"
   ]
  },
  {
   "cell_type": "markdown",
   "metadata": {},
   "source": [
    "and mesh points"
   ]
  },
  {
   "cell_type": "markdown",
   "metadata": {},
   "source": [
    "$$\n",
    "x : \\left\\{-\\frac{1}{\\sqrt{3}},\\frac{1}{\\sqrt{3}}\\right\\}.\n",
    "$$"
   ]
  },
  {
   "cell_type": "markdown",
   "metadata": {},
   "source": [
    "## Application to the case $N=2$\n",
    "If we wish to integrate"
   ]
  },
  {
   "cell_type": "markdown",
   "metadata": {},
   "source": [
    "$$\n",
    "\\int_{-1}^1f(x)dx,\n",
    "$$"
   ]
  },
  {
   "cell_type": "markdown",
   "metadata": {},
   "source": [
    "with $f(x)=x^2$, we approximate"
   ]
  },
  {
   "cell_type": "markdown",
   "metadata": {},
   "source": [
    "$$\n",
    "I=\\int_{-1}^1x^2dx \\approx \\sum_{i=0}^{N-1}\\omega_ix_i^2.\n",
    "$$"
   ]
  },
  {
   "cell_type": "markdown",
   "metadata": {},
   "source": [
    "## Application to the case $N=2$\n",
    "The exact answer is $2/3$. Using $N=2$ with the above two weights \n",
    "and mesh points we get"
   ]
  },
  {
   "cell_type": "markdown",
   "metadata": {},
   "source": [
    "$$\n",
    "I=\\int_{-1}^1x^2dx =\\sum_{i=0}^{1}\\omega_ix_i^2=\\frac{1}{3}+\\frac{1}{3}=\\frac{2}{3},\n",
    "$$"
   ]
  },
  {
   "cell_type": "markdown",
   "metadata": {},
   "source": [
    "the exact answer!\n",
    "\n",
    "If we were to emply the trapezoidal rule we would get"
   ]
  },
  {
   "cell_type": "markdown",
   "metadata": {},
   "source": [
    "$$\n",
    "I=\\int_{-1}^1x^2dx =\\frac{b-a}{2}\\left((a)^2+(b)^2\\right)/2=\n",
    "                       \\frac{1-(-1)}{2}\\left((-1)^2+(1)^2\\right)/2=1!\n",
    "$$"
   ]
  },
  {
   "cell_type": "markdown",
   "metadata": {},
   "source": [
    "With just two points we can calculate exactly the integral for a second-order\n",
    "polynomial since our methods approximates the exact function with higher\n",
    "order polynomial. \n",
    "How many points do you need with the trapezoidal rule in order to achieve a\n",
    "similar accuracy?\n",
    "\n",
    "## General integration intervals for Gauss-Legendre\n",
    "\n",
    "Note that the Gauss-Legendre method is not limited\n",
    "to an interval [-1,1], since we can always through a change of variable"
   ]
  },
  {
   "cell_type": "markdown",
   "metadata": {},
   "source": [
    "$$\n",
    "t=\\frac{b-a}{2}x+\\frac{b+a}{2},\n",
    "$$"
   ]
  },
  {
   "cell_type": "markdown",
   "metadata": {},
   "source": [
    "rewrite  the integral for an interval  [a,b]"
   ]
  },
  {
   "cell_type": "markdown",
   "metadata": {},
   "source": [
    "$$\n",
    "\\int_a^bf(t)dt=\\frac{b-a}{2}\\int_{-1}^1f\\left(\\frac{(b-a)x}{2}+\\frac{b+a}{2}\\right)dx.\n",
    "$$"
   ]
  },
  {
   "cell_type": "markdown",
   "metadata": {},
   "source": [
    "## Mapping integration points and weights\n",
    "If we have an integral on the form"
   ]
  },
  {
   "cell_type": "markdown",
   "metadata": {},
   "source": [
    "$$\n",
    "\\int_0^{\\infty}f(t)dt,\n",
    "$$"
   ]
  },
  {
   "cell_type": "markdown",
   "metadata": {},
   "source": [
    "we can choose new mesh points and weights by using the mapping"
   ]
  },
  {
   "cell_type": "markdown",
   "metadata": {},
   "source": [
    "$$\n",
    "\\tilde{x}_i=tan\\left\\{\\frac{\\pi}{4}(1+x_i)\\right\\},\n",
    "$$"
   ]
  },
  {
   "cell_type": "markdown",
   "metadata": {},
   "source": [
    "and"
   ]
  },
  {
   "cell_type": "markdown",
   "metadata": {},
   "source": [
    "$$\n",
    "\\tilde{\\omega}_i= \\frac{\\pi}{4}\\frac{\\omega_i}{cos^2\\left(\\frac{\\pi}{4}(1+x_i)\\right)},\n",
    "$$"
   ]
  },
  {
   "cell_type": "markdown",
   "metadata": {},
   "source": [
    "where $x_i$ and $\\omega_i$ are the original mesh points and weights in the \n",
    "interval $[-1,1]$, while $\\tilde{x}_i$ and $\\tilde{\\omega}_i$ are the new\n",
    "mesh points and weights for the interval $[0,\\infty)$. \n",
    "\n",
    "## Mapping integration points and weights\n",
    "To see  that this is correct by inserting the \n",
    "the value of $x_i=-1$ (the lower end of the interval $[-1,1]$)\n",
    "into the expression for $\\tilde{x}_i$. That gives $\\tilde{x}_i=0$,\n",
    "the lower end of the interval $[0,\\infty)$. For\n",
    "$x_i=1$, we obtain $\\tilde{x}_i=\\infty$. To check that the new\n",
    "weights are correct, recall that the weights should correspond to the \n",
    "derivative of the mesh points. Try to convince yourself that the\n",
    "above expression fulfills this condition.\n",
    "\n",
    "\n",
    "## Other orthogonal polynomials, Laguerre polynomials\n",
    "\n",
    "If we are able to rewrite our integral of Eq.  ([eq:generalint](#eq:generalint)) with a\n",
    "weight function $W(x)=x^{\\alpha}e^{-x}$ with integration limits \n",
    "$[0,\\infty)$, we could then use the Laguerre polynomials.\n",
    "The polynomials form then the basis for the Gauss-Laguerre method which can be applied\n",
    "to integrals of the form"
   ]
  },
  {
   "cell_type": "markdown",
   "metadata": {},
   "source": [
    "$$\n",
    "I=\\int_0^{\\infty}f(x)dx =\\int_0^{\\infty}x^{\\alpha}e^{-x}g(x)dx.\n",
    "$$"
   ]
  },
  {
   "cell_type": "markdown",
   "metadata": {},
   "source": [
    "## Other orthogonal polynomials, Laguerre polynomials\n",
    "These polynomials arise from the solution of the differential\n",
    "equation"
   ]
  },
  {
   "cell_type": "markdown",
   "metadata": {},
   "source": [
    "$$\n",
    "\\left(\\frac{d^2 }{dx^2}-\\frac{d }{dx}+\\frac{\\lambda}{x}-\\frac{l(l+1)}{x^2}\\right){\\cal L}(x)=0,\n",
    "$$"
   ]
  },
  {
   "cell_type": "markdown",
   "metadata": {},
   "source": [
    "where $l$ is an integer $l\\ge 0$ and $\\lambda$ a constant. This equation\n",
    "arises for example from the solution of the radial Schr\\\"odinger equation with \n",
    "a centrally symmetric potential such as the Coulomb potential.\n",
    "\n",
    "\n",
    "## Other orthogonal polynomials, Laguerre polynomials\n",
    "The first few polynomials are"
   ]
  },
  {
   "cell_type": "markdown",
   "metadata": {},
   "source": [
    "1\n",
    "0\n",
    "1\n",
    " \n",
    "<\n",
    "<\n",
    "<\n",
    "!\n",
    "!\n",
    "M\n",
    "A\n",
    "T\n",
    "H\n",
    "_\n",
    "B\n",
    "L\n",
    "O\n",
    "C\n",
    "K"
   ]
  },
  {
   "cell_type": "markdown",
   "metadata": {},
   "source": [
    "1\n",
    "0\n",
    "2\n",
    " \n",
    "<\n",
    "<\n",
    "<\n",
    "!\n",
    "!\n",
    "M\n",
    "A\n",
    "T\n",
    "H\n",
    "_\n",
    "B\n",
    "L\n",
    "O\n",
    "C\n",
    "K"
   ]
  },
  {
   "cell_type": "markdown",
   "metadata": {},
   "source": [
    "1\n",
    "0\n",
    "3\n",
    " \n",
    "<\n",
    "<\n",
    "<\n",
    "!\n",
    "!\n",
    "M\n",
    "A\n",
    "T\n",
    "H\n",
    "_\n",
    "B\n",
    "L\n",
    "O\n",
    "C\n",
    "K"
   ]
  },
  {
   "cell_type": "markdown",
   "metadata": {},
   "source": [
    "$$\n",
    "{\\cal L}_3(x)=6-18x+9x^2-x^3,\n",
    "$$"
   ]
  },
  {
   "cell_type": "markdown",
   "metadata": {},
   "source": [
    "and"
   ]
  },
  {
   "cell_type": "markdown",
   "metadata": {},
   "source": [
    "$$\n",
    "{\\cal L}_4(x)=x^4-16x^3+72x^2-96x+24.\n",
    "$$"
   ]
  },
  {
   "cell_type": "markdown",
   "metadata": {},
   "source": [
    "## Other orthogonal polynomials, Laguerre polynomials\n",
    "They fulfil the orthogonality relation"
   ]
  },
  {
   "cell_type": "markdown",
   "metadata": {},
   "source": [
    "$$\n",
    "\\int_{0}^{\\infty}e^{-x}{\\cal L}_n(x)^2dx=1,\n",
    "$$"
   ]
  },
  {
   "cell_type": "markdown",
   "metadata": {},
   "source": [
    "and the recursion relation"
   ]
  },
  {
   "cell_type": "markdown",
   "metadata": {},
   "source": [
    "$$\n",
    "(n+1){\\cal L}_{n+1}(x)=(2n+1-x){\\cal L}_{n}(x)-n{\\cal L}_{n-1}(x).\n",
    "$$"
   ]
  },
  {
   "cell_type": "markdown",
   "metadata": {},
   "source": [
    "## Other orthogonal polynomials, Hermite polynomials\n",
    "\n",
    "In a similar way, for an integral which goes like"
   ]
  },
  {
   "cell_type": "markdown",
   "metadata": {},
   "source": [
    "$$\n",
    "I=\\int_{-\\infty}^{\\infty}f(x)dx =\\int_{-\\infty}^{\\infty}e^{-x^2}g(x)dx.\n",
    "$$"
   ]
  },
  {
   "cell_type": "markdown",
   "metadata": {},
   "source": [
    "we could use the Hermite polynomials in order to extract weights and mesh points.\n",
    "The Hermite polynomials are the solutions of the following differential\n",
    "equation"
   ]
  },
  {
   "cell_type": "markdown",
   "metadata": {},
   "source": [
    "<!-- Equation labels as ordinary links -->\n",
    "<div id=\"eq:hermite\"></div>\n",
    "\n",
    "$$\n",
    "\\begin{equation}\n",
    "   \\frac{d^2H(x)}{dx^2}-2x\\frac{dH(x)}{dx}+\n",
    "       (\\lambda-1)H(x)=0.\n",
    "\\label{eq:hermite} \\tag{18}\n",
    "\\end{equation}\n",
    "$$"
   ]
  },
  {
   "cell_type": "markdown",
   "metadata": {},
   "source": [
    "## Other orthogonal polynomials, Hermite polynomials\n",
    "A typical example is again the solution of Schrodinger's\n",
    "equation, but this time with a harmonic oscillator potential.\n",
    "The first few polynomials are"
   ]
  },
  {
   "cell_type": "markdown",
   "metadata": {},
   "source": [
    "1\n",
    "1\n",
    "0\n",
    " \n",
    "<\n",
    "<\n",
    "<\n",
    "!\n",
    "!\n",
    "M\n",
    "A\n",
    "T\n",
    "H\n",
    "_\n",
    "B\n",
    "L\n",
    "O\n",
    "C\n",
    "K"
   ]
  },
  {
   "cell_type": "markdown",
   "metadata": {},
   "source": [
    "1\n",
    "1\n",
    "1\n",
    " \n",
    "<\n",
    "<\n",
    "<\n",
    "!\n",
    "!\n",
    "M\n",
    "A\n",
    "T\n",
    "H\n",
    "_\n",
    "B\n",
    "L\n",
    "O\n",
    "C\n",
    "K"
   ]
  },
  {
   "cell_type": "markdown",
   "metadata": {},
   "source": [
    "1\n",
    "1\n",
    "2\n",
    " \n",
    "<\n",
    "<\n",
    "<\n",
    "!\n",
    "!\n",
    "M\n",
    "A\n",
    "T\n",
    "H\n",
    "_\n",
    "B\n",
    "L\n",
    "O\n",
    "C\n",
    "K"
   ]
  },
  {
   "cell_type": "markdown",
   "metadata": {},
   "source": [
    "$$\n",
    "H_3(x)=8x^3-12,\n",
    "$$"
   ]
  },
  {
   "cell_type": "markdown",
   "metadata": {},
   "source": [
    "and"
   ]
  },
  {
   "cell_type": "markdown",
   "metadata": {},
   "source": [
    "$$\n",
    "H_4(x)=16x^4-48x^2+12.\n",
    "$$"
   ]
  },
  {
   "cell_type": "markdown",
   "metadata": {},
   "source": [
    "They fulfil the orthogonality relation"
   ]
  },
  {
   "cell_type": "markdown",
   "metadata": {},
   "source": [
    "$$\n",
    "\\int_{-\\infty}^{\\infty}e^{-x^2}H_n(x)^2dx=2^nn!\\sqrt{\\pi},\n",
    "$$"
   ]
  },
  {
   "cell_type": "markdown",
   "metadata": {},
   "source": [
    "and the recursion relation"
   ]
  },
  {
   "cell_type": "markdown",
   "metadata": {},
   "source": [
    "$$\n",
    "H_{n+1}(x)=2xH_{n}(x)-2nH_{n-1}(x).\n",
    "$$"
   ]
  },
  {
   "cell_type": "markdown",
   "metadata": {},
   "source": [
    "<!-- !split  -->\n",
    "## Demonstration of Gaussian Quadrature\n",
    "Let us here compare three methods for integrating, namely the trapezoidal rule,\n",
    "Simpson's method and the Gauss-Legendre approach. \n",
    "We choose two functions to integrate:"
   ]
  },
  {
   "cell_type": "markdown",
   "metadata": {},
   "source": [
    "$$\n",
    "\\int_1^{100}\\frac{\\exp{(-x)}}{x}dx,\n",
    "$$"
   ]
  },
  {
   "cell_type": "markdown",
   "metadata": {},
   "source": [
    "and"
   ]
  },
  {
   "cell_type": "markdown",
   "metadata": {},
   "source": [
    "$$\n",
    "\\int_{0}^{3}\\frac{1}{2+x^2}dx.\n",
    "$$"
   ]
  },
  {
   "cell_type": "markdown",
   "metadata": {},
   "source": [
    "<!-- !split  -->\n",
    "## Demonstration of Gaussian Quadrature, simple program\n",
    "A program example which uses the trapezoidal rule, Simpson's rule\n",
    "and the Gauss-Legendre method is included here."
   ]
  },
  {
   "cell_type": "markdown",
   "metadata": {},
   "source": [
    "        #include <iostream>\n",
    "        #include \"lib.h\"\n",
    "        using namespace std;\n",
    "        //     Here we define various functions called by the main program\n",
    "        //     this function defines the function to integrate\n",
    "        double int_function(double x);\n",
    "        //   Main function begins here\n",
    "        int main()\n",
    "        {\n",
    "             int n;\n",
    "             double a, b;\n",
    "             cout << \"Read in the number of integration points\" << endl;\n",
    "             cin >> n;\n",
    "             cout << \"Read in integration limits\" << endl;\n",
    "             cin >> a >> b;\n",
    "        //   reserve space in memory for vectors containing the mesh points\n",
    "        //   weights and function values for the use of the gauss-legendre\n",
    "        //   method\n",
    "             double *x = new double [n];\n",
    "             double *w = new double [n];\n",
    "        //   set up the mesh points and weights\n",
    "             gauss_legendre(a, b,x,w, n);\n",
    "        //   evaluate the integral with the Gauss-Legendre method\n",
    "        //   Note that we initialize the sum\n",
    "             double int_gauss = 0.;\n",
    "             for ( int i = 0;  i < n; i++){\n",
    "                int_gauss+=w[i]*int_function(x[i]);\n",
    "             }\n",
    "        //    final output\n",
    "              cout << \"Trapez-rule = \" << trapezoidal_rule(a, b,n, int_function)\n",
    "                   << endl;\n",
    "              cout << \"Simpson's rule = \" << simpson(a, b,n, int_function) \n",
    "                   << endl;\n",
    "              cout << \"Gaussian quad = \" << int_gauss << endl;\n",
    "              delete [] x;\n",
    "              delete [] w;\n",
    "              return 0;\n",
    "        }  // end of main program\n",
    "        //  this function defines the function to integrate\n",
    "        double int_function(double x)\n",
    "        {\n",
    "          double value = 4./(1.+x*x);\n",
    "          return value;\n",
    "        } // end of function to evaluate\n"
   ]
  },
  {
   "cell_type": "markdown",
   "metadata": {},
   "source": [
    "<!-- !split  -->\n",
    "## Demonstration of Gaussian Quadrature\n",
    "To be noted in this program is that we can transfer the name of a given function to integrate.\n",
    "In the table here we show the results for the first integral using various \n",
    "mesh points,.\n",
    "\n",
    "<table border=\"1\">\n",
    "<thead>\n",
    "<tr><th align=\"center\">$N$ </th> <th align=\"center\"> Trapez </th> <th align=\"center\">Simpson </th> <th align=\"center\">Gauss-Legendre</th> </tr>\n",
    "</thead>\n",
    "<tbody>\n",
    "<tr><td align=\"right\">   10      </td> <td align=\"left\">   1.821020    </td> <td align=\"left\">   1.214025    </td> <td align=\"left\">   0.1460448         </td> </tr>\n",
    "<tr><td align=\"right\">   20      </td> <td align=\"left\">   0.912678    </td> <td align=\"left\">   0.609897    </td> <td align=\"left\">   0.2178091         </td> </tr>\n",
    "<tr><td align=\"right\">   40      </td> <td align=\"left\">   0.478456    </td> <td align=\"left\">   0.333714    </td> <td align=\"left\">   0.2193834         </td> </tr>\n",
    "<tr><td align=\"right\">   100     </td> <td align=\"left\">   0.273724    </td> <td align=\"left\">   0.231290    </td> <td align=\"left\">   0.2193839         </td> </tr>\n",
    "<tr><td align=\"right\">   1000    </td> <td align=\"left\">   0.219984    </td> <td align=\"left\">   0.219387    </td> <td align=\"left\">   0.2193839         </td> </tr>\n",
    "</tbody>\n",
    "</table>\n",
    "We note here that, since the area over where we integrate is rather large and the integrand \n",
    "goes slowly to zero for large values of $x$, both the trapezoidal rule and Simpson's method\n",
    "need quite many points in order to approach the Gauss-Legendre method. \n",
    "This integrand demonstrates clearly the strength of the Gauss-Legendre method\n",
    "(and other GQ methods as well), viz., few points\n",
    "are needed in order to achieve a very high precision.  \n",
    "\n",
    "<!-- !split  -->\n",
    "## Demonstration of Gaussian Quadrature\n",
    "The second table however shows that for smaller integration intervals, both the trapezoidal rule\n",
    "and Simpson's method compare well with the results obtained with the Gauss-Legendre\n",
    "approach. \n",
    "\n",
    "<table border=\"1\">\n",
    "<thead>\n",
    "<tr><th align=\"center\">$N$ </th> <th align=\"center\"> Trapez </th> <th align=\"center\">Simpson </th> <th align=\"center\">Gauss-Legendre</th> </tr>\n",
    "</thead>\n",
    "<tbody>\n",
    "<tr><td align=\"right\">   10      </td> <td align=\"left\">   0.798861    </td> <td align=\"left\">   0.799231    </td> <td align=\"left\">   0.799233          </td> </tr>\n",
    "<tr><td align=\"right\">   20      </td> <td align=\"left\">   0.799140    </td> <td align=\"left\">   0.799233    </td> <td align=\"left\">   0.799233          </td> </tr>\n",
    "<tr><td align=\"right\">   40      </td> <td align=\"left\">   0.799209    </td> <td align=\"left\">   0.799233    </td> <td align=\"left\">   0.799233          </td> </tr>\n",
    "<tr><td align=\"right\">   100     </td> <td align=\"left\">   0.799229    </td> <td align=\"left\">   0.799233    </td> <td align=\"left\">   0.799233          </td> </tr>\n",
    "<tr><td align=\"right\">   1000    </td> <td align=\"left\">   0.799233    </td> <td align=\"left\">   0.799233    </td> <td align=\"left\">   0.799233          </td> </tr>\n",
    "</tbody>\n",
    "</table>\n",
    "\n",
    "\n",
    "## Comparing methods and using symbolic Python\n",
    "The following python code allows you to run interactively either in a browser or using ipython notebook. It compares the trapezoidal rule and Gaussian quadrature with the exact result from symbolic python **SYMPY** up to 1000 integration points for the integral"
   ]
  },
  {
   "cell_type": "markdown",
   "metadata": {},
   "source": [
    "$$\n",
    "I = 2 = \\int_0^{\\infty} x^2 \\exp{-x} dx.\n",
    "$$"
   ]
  },
  {
   "cell_type": "markdown",
   "metadata": {},
   "source": [
    "For the trapezoidal rule the results will vary strongly depending on how the infinity limit is approximated. Try to run the code below for different finite approximations to $\\infty$."
   ]
  },
  {
   "cell_type": "code",
   "execution_count": 3,
   "metadata": {
    "collapsed": false
   },
   "outputs": [],
   "source": [
    "from math import exp\n",
    "import numpy as np\n",
    "from sympy import Symbol, integrate, exp, oo\n",
    "\n",
    "# function for the trapezoidal rule\n",
    "def TrapezoidalRule(a,b,f,n):\n",
    "   h = (b-a)/float(n)\n",
    "   s = 0\n",
    "   x = a\n",
    "   for i in range(1,n,1):\n",
    "       x = x+h\n",
    "       s = s+ f(x)\n",
    "   s = 0.5*(f(a)+f(b)) +s\n",
    "   return h*s\n",
    "\n",
    "# function for the Gaussian quadrature with Laguerre polynomials\n",
    "def GaussLaguerreRule(n):\n",
    "   s = 0\n",
    "   xgauleg, wgauleg = np.polynomial.laguerre.laggauss(n)\n",
    "   for i in range(1,n,1):\n",
    "       s = s+ xgauleg[i]*xgauleg[i]*wgauleg[i]\n",
    "   return s\n",
    "\n",
    "#  function to compute\n",
    "def function(x):\n",
    "    return x*x*exp(-x)\n",
    "\n",
    "\n",
    "# Integration limits for the Trapezoidal rule\n",
    "a = 0.0; b = 10000.0\n",
    "# define x as a symbol to be used by sympy\n",
    "x = Symbol('x')\n",
    "# find result from sympy\n",
    "exact = integrate(function(x), (x, a, oo))\n",
    "# set up the arrays for plotting the relative error\n",
    "n = np.zeros(40); Trapez = np.zeros(4); LagGauss = np.zeros(4);\n",
    "# find the relative error as function of integration points\n",
    "for i in range(1, 3, 1):\n",
    "    npts = 10**i\n",
    "    n[i] = npts\n",
    "    Trapez[i] = abs((TrapezoidalRule(a,b,function,npts)-exact)/exact)\n",
    "    LagGauss[i] = abs((GaussLaguerreRule(npts)-exact)/exact)\n",
    "print \"Integration points=\", n[1], n[2]\n",
    "print \"Trapezoidal relative error=\", Trapez[1], Trapez[2]\n",
    "print \"LagGuass relative error=\", LagGauss[1], LagGauss[2]"
   ]
  },
  {
   "cell_type": "markdown",
   "metadata": {},
   "source": [
    "## Treatment of Singular Integrals\n",
    "So-called principal value (PV) integrals are often employed in physics,\n",
    "from Green's functions for scattering to dispersion relations.\n",
    "Dispersion relations are often related to measurable quantities\n",
    "and provide important consistency checks in atomic, nuclear and\n",
    "particle physics. \n",
    "A PV integral is defined as"
   ]
  },
  {
   "cell_type": "markdown",
   "metadata": {},
   "source": [
    "$$\n",
    "I(x)={\\cal P}\\int_a^bdt\\frac{f(t)}{t-x}=\\lim_{\\epsilon\\rightarrow 0^+}\n",
    "\\left[\\int_a^{x-\\epsilon}dt\\frac{f(t)}{t-x}+\\int_{x+\\epsilon}^bdt\\frac{f(t)}{t-x}\\right],\n",
    "$$"
   ]
  },
  {
   "cell_type": "markdown",
   "metadata": {},
   "source": [
    "and \n",
    "arises in applications\n",
    "of Cauchy's residue theorem when the pole $x$  lies \n",
    "on the real axis within the interval of integration $[a,b]$. Here ${\\cal P}$ stands for the principal value. *An important assumption is that the function $f(t)$ is continuous \n",
    "on the interval of integration*.\n",
    "\n",
    "\n",
    "\n",
    "## Treatment of Singular Integrals\n",
    "In case $f(t)$ is a closed form expression or it has an analytic continuation\n",
    "in the complex plane, it may be  possible to obtain an expression on closed\n",
    "form for the above integral. \n",
    "\n",
    "However, the situation which we are often confronted with is that\n",
    "$f(t)$ is only known at some points $t_i$ with corresponding\n",
    "values $f(t_i)$. In order to obtain $I(x)$ we need to resort to a\n",
    "numerical evaluation.\n",
    "\n",
    "To evaluate such an integral, let us first rewrite it as"
   ]
  },
  {
   "cell_type": "markdown",
   "metadata": {},
   "source": [
    "$$\n",
    "{\\cal P}\\int_a^bdt\\frac{f(t)}{t-x}=\n",
    "\\int_a^{x-\\Delta}dt\\frac{f(t)}{t-x}+\\int_{x+\\Delta}^bdt\\frac{f(t)}{t-x}+\n",
    "{\\cal P}\\int_{x-\\Delta}^{x+\\Delta}dt\\frac{f(t)}{t-x},\n",
    "$$"
   ]
  },
  {
   "cell_type": "markdown",
   "metadata": {},
   "source": [
    "where we have isolated the principal value part in the last integral.\n",
    "\n",
    "\n",
    "\n",
    "## Treatment of Singular Integrals, change of variables\n",
    "Defining a new variable $u=t-x$, we can rewrite the principal value\n",
    "integral as"
   ]
  },
  {
   "cell_type": "markdown",
   "metadata": {},
   "source": [
    "<!-- Equation labels as ordinary links -->\n",
    "<div id=\"eq:deltaint\"></div>\n",
    "\n",
    "$$\n",
    "\\begin{equation} \n",
    "I_{\\Delta}(x)={\\cal P}\\int_{-\\Delta}^{+\\Delta}du\\frac{f(u+x)}{u}.\n",
    "\\label{eq:deltaint} \\tag{19}\n",
    "\\end{equation}\n",
    "$$"
   ]
  },
  {
   "cell_type": "markdown",
   "metadata": {},
   "source": [
    "One possibility is to Taylor expand $f(u+x)$ around $u=0$, and compute\n",
    "derivatives to a certain order as we did for the Trapezoidal rule or\n",
    "Simpson's rule. \n",
    "Since all terms with even powers of $u$ in the Taylor expansion dissapear,\n",
    "we have that"
   ]
  },
  {
   "cell_type": "markdown",
   "metadata": {},
   "source": [
    "$$\n",
    "I_{\\Delta}(x)\\approx \\sum_{n=0}^{N_{max}}f^{(2n+1)}(x)\n",
    "                     \\frac{\\Delta^{2n+1}}{(2n+1)(2n+1)!}.\n",
    "$$"
   ]
  },
  {
   "cell_type": "markdown",
   "metadata": {},
   "source": [
    "## Treatment of Singular Integrals, higher-order derivatives\n",
    "To evaluate higher-order derivatives may be both time \n",
    "consuming and delicate from a numerical point of view, since \n",
    "there is always the risk of loosing precision when calculating\n",
    "derivatives numerically. Unless we have an analytic expression\n",
    "for $f(u+x)$ and can evaluate the derivatives in a closed form,\n",
    "the above approach is not the preferred one. \n",
    "\n",
    "Rather, we show here how to use the Gauss-Legendre method\n",
    "to compute Eq. ([eq:deltaint](#eq:deltaint)). \n",
    "Let us first introduce a new variable $s=u/\\Delta$ and rewrite\n",
    "Eq. ([eq:deltaint](#eq:deltaint)) as"
   ]
  },
  {
   "cell_type": "markdown",
   "metadata": {},
   "source": [
    "<!-- Equation labels as ordinary links -->\n",
    "<div id=\"eq:deltaint2\"></div>\n",
    "\n",
    "$$\n",
    "\\begin{equation}\n",
    "I_{\\Delta}(x)={\\cal P}\\int_{-1}^{+1}ds\\frac{f(\\Delta s+x)}{s}.\n",
    "\\label{eq:deltaint2} \\tag{20}\n",
    "\\end{equation}\n",
    "$$"
   ]
  },
  {
   "cell_type": "markdown",
   "metadata": {},
   "source": [
    "## Treatment of Singular Integrals\n",
    "The integration limits are now from $-1$ to $1$, as for the Legendre\n",
    "polynomials.\n",
    "The principal value in Eq. ([eq:deltaint2](#eq:deltaint2)) is however rather tricky\n",
    "to evaluate numerically, mainly since computers have limited\n",
    "precision. We will here use a subtraction trick often used\n",
    "when dealing with singular integrals in numerical calculations.\n",
    "We introduce first the calculus relation"
   ]
  },
  {
   "cell_type": "markdown",
   "metadata": {},
   "source": [
    "$$\n",
    "\\int_{-1}^{+1} \\frac{ds}{s} =0.\n",
    "$$"
   ]
  },
  {
   "cell_type": "markdown",
   "metadata": {},
   "source": [
    "It means that the curve $1/(s)$ has equal and opposite\n",
    "areas on both sides of the singular point $s=0$.\n",
    "\n",
    "\n",
    "\n",
    "## Treatment of Singular Integrals\n",
    "If we then note that $f(x)$ is just a constant, we have also"
   ]
  },
  {
   "cell_type": "markdown",
   "metadata": {},
   "source": [
    "$$\n",
    "f(x)\\int_{-1}^{+1} \\frac{ds}{s}=\\int_{-1}^{+1}f(x) \\frac{ds}{s} =0.\n",
    "$$"
   ]
  },
  {
   "cell_type": "markdown",
   "metadata": {},
   "source": [
    "Subtracting this equation from \n",
    "Eq. ([eq:deltaint2](#eq:deltaint2)) yields"
   ]
  },
  {
   "cell_type": "markdown",
   "metadata": {},
   "source": [
    "<!-- Equation labels as ordinary links -->\n",
    "<div id=\"eq:deltaint3\"></div>\n",
    "\n",
    "$$\n",
    "\\begin{equation}\n",
    "I_{\\Delta}(x)={\\cal P}\\int_{-1}^{+1}ds\\frac{f(\\Delta s+x)}{s}=\\int_{-1}^{+1}ds\\frac{f(\\Delta s+x)-f(x)}{s},\n",
    "\\label{eq:deltaint3} \\tag{21}\n",
    "\\end{equation}\n",
    "$$"
   ]
  },
  {
   "cell_type": "markdown",
   "metadata": {},
   "source": [
    "and the integrand is no longer singular since we have that \n",
    "$\\lim_{s \\rightarrow 0} (f(s+x) -f(x))=0$ and for the particular case\n",
    "$s=0$ the integrand \n",
    "is now finite.\n",
    "\n",
    "\n",
    "\n",
    "## Treatment of Singular Integrals\n",
    "Eq. ([eq:deltaint3](#eq:deltaint3)) is now rewritten using the Gauss-Legendre\n",
    "method resulting in"
   ]
  },
  {
   "cell_type": "markdown",
   "metadata": {},
   "source": [
    "<!-- Equation labels as ordinary links -->\n",
    "<div id=\"eq:deltaint4\"></div>\n",
    "\n",
    "$$\n",
    "\\begin{equation}\n",
    "\\int_{-1}^{+1}ds\\frac{f(\\Delta s+x)-f(x)}{s}=\\sum_{i=1}^{N}\\omega_i\\frac{f(\\Delta s_i+x)-f(x)}{s_i},\n",
    "\\label{eq:deltaint4} \\tag{22}\n",
    "\\end{equation}\n",
    "$$"
   ]
  },
  {
   "cell_type": "markdown",
   "metadata": {},
   "source": [
    "where $s_i$ are the mesh points ($N$ in total) and $\\omega_i$ are the weights.\n",
    "\n",
    "In the selection of mesh points for  a PV integral, it is important\n",
    "to use an even number of points, since an odd number of mesh\n",
    "points always picks $s_i=0$ as one of the mesh points. The sum in\n",
    "Eq. ([eq:deltaint4](#eq:deltaint4)) will then diverge.\n",
    "\n",
    "\n",
    "\n",
    "## Treatment of Singular Integrals\n",
    "Let us apply this method to the integral"
   ]
  },
  {
   "cell_type": "markdown",
   "metadata": {},
   "source": [
    "<!-- Equation labels as ordinary links -->\n",
    "<div id=\"eq:deltaint5\"></div>\n",
    "\n",
    "$$\n",
    "\\begin{equation}\n",
    "I(x)={\\cal P}\\int_{-1}^{+1}dt\\frac{e^t}{t}.\n",
    "\\label{eq:deltaint5} \\tag{23}\n",
    "\\end{equation}\n",
    "$$"
   ]
  },
  {
   "cell_type": "markdown",
   "metadata": {},
   "source": [
    "The integrand diverges at $x=t=0$. We\n",
    "rewrite it using Eq. ([eq:deltaint3](#eq:deltaint3)) as"
   ]
  },
  {
   "cell_type": "markdown",
   "metadata": {},
   "source": [
    "<!-- Equation labels as ordinary links -->\n",
    "<div id=\"eq:deltaint6\"></div>\n",
    "\n",
    "$$\n",
    "\\begin{equation}\n",
    "{\\cal P}\\int_{-1}^{+1}dt\\frac{e^t}{t}=\\int_{-1}^{+1}\\frac{e^t-1}{t},\n",
    "\\label{eq:deltaint6} \\tag{24}\n",
    "\\end{equation}\n",
    "$$"
   ]
  },
  {
   "cell_type": "markdown",
   "metadata": {},
   "source": [
    "since $e^x=e^0=1$. With Eq. ([eq:deltaint4](#eq:deltaint4)) we have then"
   ]
  },
  {
   "cell_type": "markdown",
   "metadata": {},
   "source": [
    "<!-- Equation labels as ordinary links -->\n",
    "<div id=\"eq:deltaint7\"></div>\n",
    "\n",
    "$$\n",
    "\\begin{equation}\n",
    "\\int_{-1}^{+1}\\frac{e^t-1}{t}\\approx \\sum_{i=1}^{N}\\omega_i\\frac{e^{t_i}-1}{t_i}.\n",
    "\\label{eq:deltaint7} \\tag{25}\n",
    "\\end{equation}\n",
    "$$"
   ]
  },
  {
   "cell_type": "markdown",
   "metadata": {},
   "source": [
    "## Treatment of Singular Integrals\n",
    "The exact results is $2.11450175075....$. With just two mesh points we recall\n",
    "from the previous subsection that $\\omega_1=\\omega_2=1$ and that the mesh points are the zeros of $L_2(x)$, namely $x_1=-1/\\sqrt{3}$ and \n",
    "$x_2=1/\\sqrt{3}$. Setting $N=2$ and inserting these values in the last\n",
    "equation gives"
   ]
  },
  {
   "cell_type": "markdown",
   "metadata": {},
   "source": [
    "$$\n",
    "I_2(x=0)=\\sqrt{3}\\left(e^{1/\\sqrt{3}}-e^{-1/\\sqrt{3}}\\right)=2.1129772845.\n",
    "$$"
   ]
  },
  {
   "cell_type": "markdown",
   "metadata": {},
   "source": [
    "With six mesh points we get even the exact result to the tenth digit"
   ]
  },
  {
   "cell_type": "markdown",
   "metadata": {},
   "source": [
    "$$\n",
    "I_6(x=0)=2.11450175075!\n",
    "$$"
   ]
  },
  {
   "cell_type": "markdown",
   "metadata": {},
   "source": [
    "## Treatment of Singular Integrals\n",
    "We can repeat the above subtraction trick  for more complicated\n",
    "integrands.\n",
    "First we modify the integration limits to $\\pm \\infty$ and use the fact\n",
    "that"
   ]
  },
  {
   "cell_type": "markdown",
   "metadata": {},
   "source": [
    "$$\n",
    "\\int_{-\\infty}^{\\infty} \\frac{dk}{k-k_0}=\n",
    "  \\int_{-\\infty}^{0} \\frac{dk}{k-k_0}+\n",
    "  \\int_{0}^{\\infty} \\frac{dk}{k-k_0} =0.\n",
    "$$"
   ]
  },
  {
   "cell_type": "markdown",
   "metadata": {},
   "source": [
    "A change of variable $u=-k$ in the integral with limits from $-\\infty$ to $0$ gives"
   ]
  },
  {
   "cell_type": "markdown",
   "metadata": {},
   "source": [
    "$$\n",
    "\\int_{-\\infty}^{\\infty} \\frac{dk}{k-k_0}=\n",
    "  \\int_{\\infty}^{0} \\frac{-du}{-u-k_0}+\n",
    "  \\int_{0}^{\\infty} \\frac{dk}{k-k_0}=  \\int_{0}^{\\infty} \\frac{dk}{-k-k_0}+\n",
    "  \\int_{0}^{\\infty} \\frac{dk}{k-k_0}=0.\n",
    "$$"
   ]
  },
  {
   "cell_type": "markdown",
   "metadata": {},
   "source": [
    "## Treatment of Singular Integrals\n",
    "It means that the curve $1/(k-k_0)$ has equal and opposite\n",
    "areas on both sides of the singular point $k_0$. If we break\n",
    "the integral into one over positive $k$ and one over \n",
    "negative $k$, a change of variable $k\\rightarrow -k$ \n",
    "allows us to rewrite the last equation as"
   ]
  },
  {
   "cell_type": "markdown",
   "metadata": {},
   "source": [
    "$$\n",
    "\\int_{0}^{\\infty} \\frac{dk}{k^2-k_0^2} =0.\n",
    "$$"
   ]
  },
  {
   "cell_type": "markdown",
   "metadata": {},
   "source": [
    "## Treatment of Singular Integrals\n",
    "We can use this to express a principal values integral\n",
    "as"
   ]
  },
  {
   "cell_type": "markdown",
   "metadata": {},
   "source": [
    "<!-- Equation labels as ordinary links -->\n",
    "<div id=\"eq:trick_pintegral\"></div>\n",
    "\n",
    "$$\n",
    "\\begin{equation}\n",
    "  {\\cal P}\\int_{0}^{\\infty} \\frac{f(k)dk}{k^2-k_0^2} =\n",
    "  \\int_{0}^{\\infty} \\frac{(f(k)-f(k_0))dk}{k^2-k_0^2},\n",
    "\\label{eq:trick_pintegral} \\tag{26}\n",
    "\\end{equation}\n",
    "$$"
   ]
  },
  {
   "cell_type": "markdown",
   "metadata": {},
   "source": [
    "where the right-hand side is no longer singular at \n",
    "$k=k_0$, it is proportional to the derivative $df/dk$,\n",
    "and can be evaluated numerically as any other integral.\n",
    "\n",
    "Such a trick is often used when evaluating integral  equations.\n",
    "\n",
    "\n",
    "\n",
    "\n",
    "## Example of a multidimensional integral\n",
    "Here we show an example of a multidimensional integral which appears in quantum mechanical calculations.\n",
    "\n",
    "The ansatz for the wave function for two electrons is given by the product of two\n",
    "$1s$ wave functions as"
   ]
  },
  {
   "cell_type": "markdown",
   "metadata": {},
   "source": [
    "$$\n",
    "\\Psi({\\bf r}_1,{\\bf r}_2)  =   \\exp{-(\\alpha (r_1+r_2))}.\n",
    "$$"
   ]
  },
  {
   "cell_type": "markdown",
   "metadata": {},
   "source": [
    "The integral we need to solve is the quantum mechanical expectation value of the correlation\n",
    "energy between two electrons, namely"
   ]
  },
  {
   "cell_type": "markdown",
   "metadata": {},
   "source": [
    "$$\n",
    "I = \\int_{-\\infty}^{\\infty} d{\\bf r}_1d{\\bf r}_2  \\exp{-2(\\alpha (r_1+r_2))}\\frac{1}{|{\\bf r}_1-{\\bf r}_2|}.\n",
    "$$"
   ]
  },
  {
   "cell_type": "markdown",
   "metadata": {},
   "source": [
    "The integral has an exact solution $5\\pi^2/16 = 0.19277$.\n",
    "\n",
    "\n",
    "\n",
    "## Parts of code and brute force Gauss-Legendre quadrature\n",
    "If we use Gaussian quadrature with Legendre polynomials (without rewriting the integral), we have"
   ]
  },
  {
   "cell_type": "markdown",
   "metadata": {},
   "source": [
    "             double *x = new double [N];\n",
    "             double *w = new double [N];\n",
    "        //   set up the mesh points and weights\n",
    "             GaussLegendrePoints(a,b,x,w, N);\n",
    "        \n",
    "        //   evaluate the integral with the Gauss-Legendre method\n",
    "        //   Note that we initialize the sum\n",
    "             double int_gauss = 0.;\n",
    "        //   six-double loops\n",
    "             for (int i=0;i<N;i++){\n",
    "        \t     for (int j = 0;j<N;j++){\n",
    "        \t     for (int k = 0;k<N;k++){\n",
    "        \t     for (int l = 0;l<N;l++){\n",
    "        \t     for (int m = 0;m<N;m++){\n",
    "        \t     for (int n = 0;n<N;n++){\n",
    "                int_gauss+=w[i]*w[j]*w[k]*w[l]*w[m]*w[n]\n",
    "               *int_function(x[i],x[j],x[k],x[l],x[m],x[n]);\n",
    "             \t\t}}}}}\n",
    "        \t}\n"
   ]
  },
  {
   "cell_type": "markdown",
   "metadata": {},
   "source": [
    "## The function to integrate, code example"
   ]
  },
  {
   "cell_type": "markdown",
   "metadata": {},
   "source": [
    "        //  this function defines the function to integrate\n",
    "        double int_function(double x1, double y1, double z1, double x2, double y2, double z2)\n",
    "        {\n",
    "           double alpha = 2.;\n",
    "        // evaluate the different terms of the exponential\n",
    "           double exp1=-2*alpha*sqrt(x1*x1+y1*y1+z1*z1);\n",
    "           double exp2=-2*alpha*sqrt(x2*x2+y2*y2+z2*z2);\n",
    "           double deno=sqrt(pow((x1-x2),2)+pow((y1-y2),2)+pow((z1-z2),2));\n",
    "           return exp(exp1+exp2)/deno;\n",
    "        } // end of function to evaluate\n"
   ]
  },
  {
   "cell_type": "markdown",
   "metadata": {},
   "source": [
    "## Laguerre polynomials\n",
    "Using Legendre polynomials for the Gaussian quadrature is not very efficient. There are several reasons for this:\n",
    "* You can easily end up in situations where the integrand diverges\n",
    "\n",
    "* The limits $\\pm \\infty$ have to be approximated with a finite number\n",
    "\n",
    "It is very useful here to change to spherical coordinates"
   ]
  },
  {
   "cell_type": "markdown",
   "metadata": {},
   "source": [
    "$$\n",
    "d{\\bf r}_1d{\\bf r}_2  = r_1^2dr_1 r_2^2dr_2 dcos(\\theta_1)dcos(\\theta_2)d\\phi_1d\\phi_2,\n",
    "$$"
   ]
  },
  {
   "cell_type": "markdown",
   "metadata": {},
   "source": [
    "and"
   ]
  },
  {
   "cell_type": "markdown",
   "metadata": {},
   "source": [
    "$$\n",
    "\\frac{1}{r_{12}}= \\frac{1}{\\sqrt{r_1^2+r_2^2-2r_1r_2cos(\\beta)}}\n",
    "$$"
   ]
  },
  {
   "cell_type": "markdown",
   "metadata": {},
   "source": [
    "with"
   ]
  },
  {
   "cell_type": "markdown",
   "metadata": {},
   "source": [
    "$$\n",
    "\\cos(\\beta) = \\cos(\\theta_1)\\cos(\\theta_2)+\\sin(\\theta_1)\\sin(\\theta_2)\\cos(\\phi_1-\\phi_2))\n",
    "$$"
   ]
  },
  {
   "cell_type": "markdown",
   "metadata": {},
   "source": [
    "## Laguerre polynomials, the new integrand\n",
    "This means that our integral becomes"
   ]
  },
  {
   "cell_type": "markdown",
   "metadata": {},
   "source": [
    "$$\n",
    "I=\\int_0^{\\infty} r_1^2dr_1 \\int_0^{\\infty}r_2^2dr_2 \\int_0^{\\pi}dcos(\\theta_1)\\int_0^{\\pi}dcos(\\theta_2)\\int_0^{2\\pi}d\\phi_1\\int_0^{2\\pi}d\\phi_2  \\frac{\\exp{-2\\alpha (r_1+r_2)}}{r_{12}}\n",
    "$$"
   ]
  },
  {
   "cell_type": "markdown",
   "metadata": {},
   "source": [
    "where we have defined"
   ]
  },
  {
   "cell_type": "markdown",
   "metadata": {},
   "source": [
    "$$\n",
    "\\frac{1}{r_{12}}= \\frac{1}{\\sqrt{r_1^2+r_2^2-2r_1r_2cos(\\beta)}}\n",
    "$$"
   ]
  },
  {
   "cell_type": "markdown",
   "metadata": {},
   "source": [
    "with"
   ]
  },
  {
   "cell_type": "markdown",
   "metadata": {},
   "source": [
    "$$\n",
    "\\cos(\\beta) = \\cos(\\theta_1)\\cos(\\theta_2)+\\sin(\\theta_1)\\sin(\\theta_2)\\cos(\\phi_1-\\phi_2))\n",
    "$$"
   ]
  },
  {
   "cell_type": "markdown",
   "metadata": {},
   "source": [
    "## Laguerre polynomials, new integration rule: Gauss-Laguerre\n",
    "Our integral is now given by"
   ]
  },
  {
   "cell_type": "markdown",
   "metadata": {},
   "source": [
    "$$\n",
    "I=\\int_0^{\\infty} r_1^2dr_1 \\int_0^{\\infty}r_2^2dr_2 \\int_0^{\\pi}dcos(\\theta_1)\\int_0^{\\pi}dcos(\\theta_2)\\int_0^{2\\pi}d\\phi_1\\int_0^{2\\pi}d\\phi_2  \\frac{\\exp{-2\\alpha (r_1+r_2)}}{r_{12}}\n",
    "$$"
   ]
  },
  {
   "cell_type": "markdown",
   "metadata": {},
   "source": [
    "For the angles we need to perform the integrations over $\\theta_i\\in [0,\\pi]$ and $\\phi_i \\in [0,2\\pi]$. However, for the radial part we can now either use\n",
    "* Gauss-Legendre wth an appropriate mapping or\n",
    "\n",
    "* Gauss-Laguerre taking properly care of the integrands involving the $r_i^2 \\exp{-(2\\alpha r_i)}$ terms.\n",
    "\n",
    "\n",
    "\n",
    "\n",
    "\n",
    "## Results with  $N=20$ with Gauss-Legendre\n",
    "\n",
    "<table border=\"1\">\n",
    "<thead>\n",
    "<tr><th align=\"center\">$r_{\\mathrm{max}}$</th> <th align=\"center\">  Integral </th> <th align=\"center\">   Error    </th> </tr>\n",
    "</thead>\n",
    "<tbody>\n",
    "<tr><td align=\"center\">   1.00                  </td> <td align=\"center\">   0.161419805    </td> <td align=\"center\">   0.0313459063    </td> </tr>\n",
    "<tr><td align=\"center\">   1.50                  </td> <td align=\"center\">   0.180468967    </td> <td align=\"center\">   0.012296744     </td> </tr>\n",
    "<tr><td align=\"center\">   2.00                  </td> <td align=\"center\">   0.177065182    </td> <td align=\"center\">   0.0157005292    </td> </tr>\n",
    "<tr><td align=\"center\">   2.50                  </td> <td align=\"center\">   0.167970694    </td> <td align=\"center\">   0.0247950165    </td> </tr>\n",
    "<tr><td align=\"center\">   3.00                  </td> <td align=\"center\">   0.156139391    </td> <td align=\"center\">   0.0366263199    </td> </tr>\n",
    "</tbody>\n",
    "</table>\n",
    "\n",
    "\n",
    "## Results for  $r_{\\mathrm{max}}=2$ with Gauss-Legendre\n",
    "\n",
    "<table border=\"1\">\n",
    "<thead>\n",
    "<tr><th align=\"center\">$N$</th> <th align=\"center\">  Integral </th> <th align=\"center\">    Error    </th> </tr>\n",
    "</thead>\n",
    "<tbody>\n",
    "<tr><td align=\"center\">   10     </td> <td align=\"center\">   0.129834248    </td> <td align=\"center\">   0.0629314631     </td> </tr>\n",
    "<tr><td align=\"center\">   16     </td> <td align=\"center\">   0.167860437    </td> <td align=\"center\">   0.0249052742     </td> </tr>\n",
    "<tr><td align=\"center\">   20     </td> <td align=\"center\">   0.177065182    </td> <td align=\"center\">   0.0157005292     </td> </tr>\n",
    "<tr><td align=\"center\">   26     </td> <td align=\"center\">   0.183543237    </td> <td align=\"center\">   0.00922247353    </td> </tr>\n",
    "<tr><td align=\"center\">   30     </td> <td align=\"center\">   0.185795624    </td> <td align=\"center\">   0.00697008738    </td> </tr>\n",
    "</tbody>\n",
    "</table>\n",
    "## Results  with Gauss-Laguerre\n",
    "\n",
    "<table border=\"1\">\n",
    "<thead>\n",
    "<tr><th align=\"center\">$N$</th> <th align=\"center\">  Integral </th> <th align=\"center\">    Error     </th> </tr>\n",
    "</thead>\n",
    "<tbody>\n",
    "<tr><td align=\"center\">   10     </td> <td align=\"center\">   0.186457345    </td> <td align=\"center\">   0.00630836601     </td> </tr>\n",
    "<tr><td align=\"center\">   16     </td> <td align=\"center\">   0.190113364    </td> <td align=\"center\">   0.00265234708     </td> </tr>\n",
    "<tr><td align=\"center\">   20     </td> <td align=\"center\">   0.19108178     </td> <td align=\"center\">   0.00168393093     </td> </tr>\n",
    "<tr><td align=\"center\">   26     </td> <td align=\"center\">   0.191831828    </td> <td align=\"center\">   0.000933882594    </td> </tr>\n",
    "<tr><td align=\"center\">   30     </td> <td align=\"center\">   0.192113712    </td> <td align=\"center\">   0.000651999339    </td> </tr>\n",
    "</tbody>\n",
    "</table>\n",
    "The code that was used to generate these results can be found under the [program link](https://github.com/CompPhysics/ComputationalPhysics/blob/master/doc/Programs/LecturePrograms/programs/NumericalIntegration/cpp/program2.cpp)."
   ]
  }
 ],
 "metadata": {},
 "nbformat": 4,
 "nbformat_minor": 1
}
