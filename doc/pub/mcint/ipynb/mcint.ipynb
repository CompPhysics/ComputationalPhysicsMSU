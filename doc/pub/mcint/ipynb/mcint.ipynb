{
 "cells": [
  {
   "cell_type": "markdown",
   "metadata": {},
   "source": [
    "<!-- dom:TITLE: Computational Physics Lectures: Introduction to Monte Carlo methods -->\n",
    "# Computational Physics Lectures: Introduction to Monte Carlo methods\n",
    "<!-- dom:AUTHOR: Morten Hjorth-Jensen at Department of Physics, University of Oslo & Department of Physics and Astronomy and National Superconducting Cyclotron Laboratory, Michigan State University -->\n",
    "<!-- Author: -->  \n",
    "**Morten Hjorth-Jensen**, Department of Physics, University of Oslo and Department of Physics and Astronomy and National Superconducting Cyclotron Laboratory, Michigan State University\n",
    "\n",
    "Date: **Jan 8, 2018**\n",
    "\n",
    "Copyright 1999-2018, Morten Hjorth-Jensen. Released under CC Attribution-NonCommercial 4.0 license\n",
    "\n",
    "\n",
    "\n",
    "## Monte Carlo methods, plan for the lectures\n",
    "1. Intro, MC integration and probability distribution functions (PDFs)\n",
    "\n",
    "2. More on integration, PDFs, MC integration and random walks.\n",
    "\n",
    "3. Random walks and statistical physics.\n",
    "\n",
    "4. Statistical physics and the Ising and Potts models\n",
    "\n",
    "5. Quantum Monte Carlo\n",
    "\n",
    "\n",
    "\n",
    "\n",
    "## Monte Carlo: Enhances algorithmic thinking!\n",
    "* Be able to generate random variables following a given probability distribution function PDF\n",
    "\n",
    "* Find a probability distribution function (PDF)\n",
    "\n",
    "* Sampling rule for accepting a move\n",
    "\n",
    "* Compute standard deviation and other expectation values\n",
    "\n",
    "* Techniques for improving errors\n",
    "\n",
    "\n",
    "\n",
    "## Domains and probabilities\n",
    "Consider the following simple example, namely the tossing of a dice, resulting in  the following possible values"
   ]
  },
  {
   "cell_type": "markdown",
   "metadata": {},
   "source": [
    "$$\n",
    "\\{2,3,4,5,6,7,8,9,10,11,12\\}.\n",
    "$$"
   ]
  },
  {
   "cell_type": "markdown",
   "metadata": {},
   "source": [
    "These values are called the *domain*. \n",
    "To this domain we have the corresponding *probabilities*"
   ]
  },
  {
   "cell_type": "markdown",
   "metadata": {},
   "source": [
    "$$\n",
    "\\{1/36,2/36/3/36,4/36,5/36,6/36,5/36,4/36,3/36,2/36,1/36\\}.\n",
    "$$"
   ]
  },
  {
   "cell_type": "markdown",
   "metadata": {},
   "source": [
    "## Monte Carlo methods, tossing a dice\n",
    "The numbers in the domain are the outcomes of the physical process tossing the dice.\n",
    "We cannot tell beforehand whether the outcome is 3 or 5 or any other number in this domain.\n",
    "This defines the randomness of the outcome, or unexpectedness or any other synonimous word which\n",
    "encompasses the uncertitude of the final outcome. \n",
    "\n",
    "The only thing we can tell beforehand\n",
    "is that say the outcome 2 has a certain probability.  \n",
    "If our favorite hobby is to  spend an hour every evening throwing dice and \n",
    "registering the sequence of outcomes, we will note that the numbers in the above domain"
   ]
  },
  {
   "cell_type": "markdown",
   "metadata": {},
   "source": [
    "$$\n",
    "\\{2,3,4,5,6,7,8,9,10,11,12\\},\n",
    "$$"
   ]
  },
  {
   "cell_type": "markdown",
   "metadata": {},
   "source": [
    "appear in a random order. After 11 throws the results may look like"
   ]
  },
  {
   "cell_type": "markdown",
   "metadata": {},
   "source": [
    "$$\n",
    "\\{10,8,6,3,6,9,11,8,12,4,5\\}.\n",
    "$$"
   ]
  },
  {
   "cell_type": "markdown",
   "metadata": {},
   "source": [
    "## Stochastic variables\n",
    "\n",
    "**Random variables are characterized by a domain which contains all possible values that the random value may take. This domain has a corresponding PDF**.\n",
    "\n",
    "\n",
    "\n",
    "## Stochastic variables and the main concepts, the discrete case\n",
    "There are two main concepts associated with a stochastic variable. The\n",
    "*domain* is the set $\\mathbb D = \\{x\\}$ of all accessible values\n",
    "the variable can assume, so that $X \\in \\mathbb D$. An example of a\n",
    "discrete domain is the set of six different numbers that we may get by\n",
    "throwing of a dice, $x\\in\\{1,\\,2,\\,3,\\,4,\\,5,\\,6\\}$.\n",
    "\n",
    "The *probability distribution function (PDF)* is a function\n",
    "$p(x)$ on the domain which, in the discrete case, gives us the\n",
    "probability or relative frequency with which these values of $X$\n",
    "occur"
   ]
  },
  {
   "cell_type": "markdown",
   "metadata": {},
   "source": [
    "$$\n",
    "p(x) = \\mathrm{Prob}(X=x).\n",
    "$$"
   ]
  },
  {
   "cell_type": "markdown",
   "metadata": {},
   "source": [
    "## Stochastic variables and the main concepts, the continuous case\n",
    "In the continuous case, the PDF does not directly depict the\n",
    "actual probability. Instead we define the probability for the\n",
    "stochastic variable to assume any value on an infinitesimal interval\n",
    "around $x$ to be $p(x)dx$. The continuous function $p(x)$ then gives us\n",
    "the *density* of the probability rather than the probability\n",
    "itself. The probability for a stochastic variable to assume any value\n",
    "on a non-infinitesimal interval $[a,\\,b]$ is then just the integral"
   ]
  },
  {
   "cell_type": "markdown",
   "metadata": {},
   "source": [
    "$$\n",
    "\\mathrm{Prob}(a\\leq X\\leq b) = \\int_a^b p(x)dx.\n",
    "$$"
   ]
  },
  {
   "cell_type": "markdown",
   "metadata": {},
   "source": [
    "Qualitatively speaking, a stochastic variable represents the values of\n",
    "numbers chosen as if by chance from some specified PDF so that the\n",
    "selection of a large set of these numbers reproduces this PDF.\n",
    "\n",
    "\n",
    "\n",
    "## The cumulative probability\n",
    "Of interest to us is the *cumulative probability\n",
    "distribution function* (**CDF**), $P(x)$, which is just the probability\n",
    "for a stochastic variable $X$ to assume any value less than $x$"
   ]
  },
  {
   "cell_type": "markdown",
   "metadata": {},
   "source": [
    "$$\n",
    "P(x)=\\mathrm{Prob(}X\\leq x\\mathrm{)} =\n",
    "\\int_{-\\infty}^x p(x^{\\prime})dx^{\\prime}.\n",
    "$$"
   ]
  },
  {
   "cell_type": "markdown",
   "metadata": {},
   "source": [
    "The relation between a CDF and its corresponding PDF is then"
   ]
  },
  {
   "cell_type": "markdown",
   "metadata": {},
   "source": [
    "$$\n",
    "p(x) = \\frac{d}{dx}P(x).\n",
    "$$"
   ]
  },
  {
   "cell_type": "markdown",
   "metadata": {},
   "source": [
    "## Properties of PDFs\n",
    "\n",
    "There are two properties that all PDFs must satisfy. The first one is\n",
    "positivity (assuming that the PDF is normalized)"
   ]
  },
  {
   "cell_type": "markdown",
   "metadata": {},
   "source": [
    "$$\n",
    "0 \\leq p(x) \\leq 1.\n",
    "$$"
   ]
  },
  {
   "cell_type": "markdown",
   "metadata": {},
   "source": [
    "Naturally, it would be nonsensical for any of the values of the domain\n",
    "to occur with a probability greater than $1$ or less than $0$. Also,\n",
    "the PDF must be normalized. That is, all the probabilities must add up\n",
    "to unity.  The probability of \"anything\" to happen is always unity. For\n",
    "both discrete and continuous PDFs, this condition is"
   ]
  },
  {
   "cell_type": "markdown",
   "metadata": {},
   "source": [
    "$$\n",
    "\\begin{align*}\n",
    "\\sum_{x_i\\in\\mathbb D} p(x_i) & =  1,\\\\\n",
    "\\int_{x\\in\\mathbb D} p(x)\\,dx & =  1.\n",
    "\\end{align*}\n",
    "$$"
   ]
  },
  {
   "cell_type": "markdown",
   "metadata": {},
   "source": [
    "## Important distributions, the uniform distribution\n",
    "The first one\n",
    "is the most basic PDF; namely the uniform distribution"
   ]
  },
  {
   "cell_type": "markdown",
   "metadata": {},
   "source": [
    "<!-- Equation labels as ordinary links -->\n",
    "<div id=\"eq:unifromPDF\"></div>\n",
    "\n",
    "$$\n",
    "\\begin{equation}\n",
    "p(x) = \\frac{1}{b-a}\\theta(x-a)\\theta(b-x),\n",
    "\\label{eq:unifromPDF} \\tag{1}\n",
    "\\end{equation}\n",
    "$$"
   ]
  },
  {
   "cell_type": "markdown",
   "metadata": {},
   "source": [
    "with"
   ]
  },
  {
   "cell_type": "markdown",
   "metadata": {},
   "source": [
    "$$\n",
    "\\begin{array}{ll}\n",
    "\\theta(x)=0 & x<0 \\\\\n",
    "\\theta(x)=\\frac{1}{b-a} & \\in [a,b].\n",
    "\\end{array}\n",
    "$$"
   ]
  },
  {
   "cell_type": "markdown",
   "metadata": {},
   "source": [
    "The normal distribution with $b=1$ and $a=0$ is used to generate random numbers.\n",
    "\n",
    "\n",
    "\n",
    "## Gaussian distribution\n",
    "The second one is the Gaussian Distribution"
   ]
  },
  {
   "cell_type": "markdown",
   "metadata": {},
   "source": [
    "$$\n",
    "p(x) = \\frac{1}{\\sigma\\sqrt{2\\pi}} \\exp{(-\\frac{(x-\\mu)^2}{2\\sigma^2})},\n",
    "$$"
   ]
  },
  {
   "cell_type": "markdown",
   "metadata": {},
   "source": [
    "with mean value $\\mu$ and standard deviation $\\sigma$. If $\\mu=0$ and $\\sigma=1$, it is normally called the **standard normal distribution**"
   ]
  },
  {
   "cell_type": "markdown",
   "metadata": {},
   "source": [
    "$$\n",
    "p(x) = \\frac{1}{\\sqrt{2\\pi}} \\exp{(-\\frac{x^2}{2})},\n",
    "$$"
   ]
  },
  {
   "cell_type": "markdown",
   "metadata": {},
   "source": [
    "The following simple Python code plots the above distribution for different values of $\\mu$ and $\\sigma$."
   ]
  },
  {
   "cell_type": "code",
   "execution_count": 1,
   "metadata": {
    "collapsed": false
   },
   "outputs": [],
   "source": [
    "%matplotlib inline\n",
    "\n",
    "import numpy as np\n",
    "from math import acos, exp, sqrt\n",
    "from  matplotlib import pyplot as plt\n",
    "from matplotlib import rc, rcParams\n",
    "import matplotlib.units as units\n",
    "import matplotlib.ticker as ticker\n",
    "rc('text',usetex=True)\n",
    "rc('font',**{'family':'serif','serif':['Gaussian distribution']})\n",
    "font = {'family' : 'serif',\n",
    "        'color'  : 'darkred',\n",
    "        'weight' : 'normal',\n",
    "        'size'   : 16,\n",
    "        }\n",
    "pi = acos(-1.0)\n",
    "mu0 = 0.0\n",
    "sigma0 = 1.0\n",
    "mu1= 1.0\n",
    "sigma1 = 2.0\n",
    "mu2 = 2.0\n",
    "sigma2 = 4.0\n",
    "\n",
    "x = np.linspace(-20.0, 20.0)\n",
    "v0 = np.exp(-(x*x-2*x*mu0+mu0*mu0)/(2*sigma0*sigma0))/sqrt(2*pi*sigma0*sigma0)\n",
    "v1 = np.exp(-(x*x-2*x*mu1+mu1*mu1)/(2*sigma1*sigma1))/sqrt(2*pi*sigma1*sigma1)\n",
    "v2 = np.exp(-(x*x-2*x*mu2+mu2*mu2)/(2*sigma2*sigma2))/sqrt(2*pi*sigma2*sigma2)\n",
    "plt.plot(x, v0, 'b-', x, v1, 'r-', x, v2, 'g-')\n",
    "plt.title(r'{\\bf Gaussian distributions}', fontsize=20)\n",
    "plt.text(-19, 0.3, r'Parameters: $\\mu = 0$, $\\sigma = 1$', fontdict=font)\n",
    "plt.text(-19, 0.18, r'Parameters: $\\mu = 1$, $\\sigma = 2$', fontdict=font)\n",
    "plt.text(-19, 0.08, r'Parameters: $\\mu = 2$, $\\sigma = 4$', fontdict=font)\n",
    "plt.xlabel(r'$x$',fontsize=20)\n",
    "plt.ylabel(r'$p(x)$ [MeV]',fontsize=20)\n",
    "\n",
    "# Tweak spacing to prevent clipping of ylabel                                                                       \n",
    "plt.subplots_adjust(left=0.15)\n",
    "plt.savefig('gaussian.pdf', format='pdf')\n",
    "plt.show()"
   ]
  },
  {
   "cell_type": "markdown",
   "metadata": {},
   "source": [
    "## Exponential distribution\n",
    "Another important distribution in science is the exponential distribution"
   ]
  },
  {
   "cell_type": "markdown",
   "metadata": {},
   "source": [
    "$$\n",
    "p(x) = \\alpha\\exp{-(\\alpha x)}.\n",
    "$$"
   ]
  },
  {
   "cell_type": "markdown",
   "metadata": {},
   "source": [
    "## Expectation values\n",
    "Let $h(x)$ be an arbitrary continuous function on the domain of the stochastic\n",
    "variable $X$ whose PDF is $p(x)$. We define the *expectation value*\n",
    "of $h$ with respect to $p$ as follows"
   ]
  },
  {
   "cell_type": "markdown",
   "metadata": {},
   "source": [
    "<!-- Equation labels as ordinary links -->\n",
    "<div id=\"eq:expectation_value_of_h_wrt_p\"></div>\n",
    "\n",
    "$$\n",
    "\\begin{equation}\n",
    "\\langle h \\rangle_X \\equiv \\int\\! h(x)p(x)\\,dx\n",
    "\\label{eq:expectation_value_of_h_wrt_p} \\tag{2}\n",
    "\\end{equation}\n",
    "$$"
   ]
  },
  {
   "cell_type": "markdown",
   "metadata": {},
   "source": [
    "Whenever the PDF is known implicitly, like in this case, we will drop\n",
    "the index $X$ for clarity.  \n",
    "A particularly useful class of special expectation values are the\n",
    "*moments*. The $n$-th moment of the PDF $p$ is defined as\n",
    "follows"
   ]
  },
  {
   "cell_type": "markdown",
   "metadata": {},
   "source": [
    "$$\n",
    "\\langle x^n \\rangle \\equiv \\int\\! x^n p(x)\\,dx\n",
    "$$"
   ]
  },
  {
   "cell_type": "markdown",
   "metadata": {},
   "source": [
    "## Stochastic variables and the main concepts, mean values\n",
    "The zero-th moment $\\langle 1\\rangle$ is just the normalization condition of\n",
    "$p$. The first moment, $\\langle x\\rangle$, is called the *mean* of $p$\n",
    "and often denoted by the letter $\\mu$"
   ]
  },
  {
   "cell_type": "markdown",
   "metadata": {},
   "source": [
    "$$\n",
    "\\langle x\\rangle  = \\mu \\equiv \\int x p(x)dx,\n",
    "$$"
   ]
  },
  {
   "cell_type": "markdown",
   "metadata": {},
   "source": [
    "for a continuous distribution and"
   ]
  },
  {
   "cell_type": "markdown",
   "metadata": {},
   "source": [
    "$$\n",
    "\\langle x\\rangle  = \\mu \\equiv \\frac{1}{N}\\sum_{i=1}^N x_i p(x_i),\n",
    "$$"
   ]
  },
  {
   "cell_type": "markdown",
   "metadata": {},
   "source": [
    "for a discrete distribution. \n",
    "Qualitatively it represents the centroid or the average value of the\n",
    "PDF and is therefore simply called the expectation value of $p(x)$.\n",
    "\n",
    "\n",
    "\n",
    "## Stochastic variables and the main concepts, central moments, the variance\n",
    "\n",
    "A special version of the moments is the set of *central moments*, the n-th central moment defined as"
   ]
  },
  {
   "cell_type": "markdown",
   "metadata": {},
   "source": [
    "$$\n",
    "\\langle (x-\\langle x\\rangle )^n\\rangle  \\equiv \\int\\! (x-\\langle x\\rangle)^n p(x)\\,dx\n",
    "$$"
   ]
  },
  {
   "cell_type": "markdown",
   "metadata": {},
   "source": [
    "The zero-th and first central moments are both trivial, equal $1$ and\n",
    "$0$, respectively. But the second central moment, known as the\n",
    "*variance* of $p$, is of particular interest. For the stochastic\n",
    "variable $X$, the variance is denoted as $\\sigma^2_X$ or $\\mathrm{Var}(X)$"
   ]
  },
  {
   "cell_type": "markdown",
   "metadata": {},
   "source": [
    "$$\n",
    "\\begin{align*}\n",
    "\\sigma^2_X &=\\mathrm{Var}(X) =  \\langle (x-\\langle x\\rangle)^2\\rangle  =\n",
    "\\int (x-\\langle x\\rangle)^2 p(x)dx\\\\\n",
    "& =  \\int\\left(x^2 - 2 x \\langle x\\rangle^{2} +\\langle x\\rangle^2\\right)p(x)dx\\\\\n",
    "& =  \\langle x^2\\rangle\\rangle - 2 \\langle x\\rangle\\langle x\\rangle + \\langle x\\rangle^2\\\\\n",
    "& =  \\langle x^2 \\rangle - \\langle x\\rangle^2\n",
    "\\end{align*}\n",
    "$$"
   ]
  },
  {
   "cell_type": "markdown",
   "metadata": {},
   "source": [
    "The square root of the variance, $\\sigma =\\sqrt{\\langle (x-\\langle x\\rangle)^2\\rangle}$ is called the \n",
    "**standard deviation** of $p$. It is the RMS (root-mean-square)\n",
    "value of the deviation of the PDF from its mean value, interpreted\n",
    "qualitatively as the \"spread\" of $p$ around its mean.\n",
    "\n",
    "\n",
    "\n",
    "\n",
    "\n",
    "## First Illustration of the Use of Monte-Carlo Methods, integration\n",
    "With this definition of a random variable and its associated PDF, \n",
    "we attempt now a clarification of the Monte-Carlo strategy by using the \n",
    "evaluation of an integral\n",
    "as our example. \n",
    "\n",
    "In discussion on numerical integration  we went through standard methods for evaluating an integral like"
   ]
  },
  {
   "cell_type": "markdown",
   "metadata": {},
   "source": [
    "$$\n",
    "I=\\int_0^1 f(x)dx\\approx \\sum_{i=1}^N\\omega_if(x_i),\n",
    "$$"
   ]
  },
  {
   "cell_type": "markdown",
   "metadata": {},
   "source": [
    "where $\\omega_i$ are the weights determined by the specific integration method  \n",
    "(like Simpson's method) with $x_i$ the given mesh points. \n",
    "To give you a feeling of how we are to evaluate the above integral using Monte-Carlo,\n",
    "we employ here the crudest possible approach. Later on we will present\n",
    "slightly more refined approaches.\n",
    "This crude approach consists in setting all weights equal 1, $\\omega_i=1$.  That corresponds to the \n",
    "rectangle method"
   ]
  },
  {
   "cell_type": "markdown",
   "metadata": {},
   "source": [
    "$$\n",
    "I=\\int_a^bf(x) dx \\approx  h\\sum_{i=1}^N f(x_{i-1/2}),\n",
    "$$"
   ]
  },
  {
   "cell_type": "markdown",
   "metadata": {},
   "source": [
    "where $f(x_{i-1/2})$ is the midpoint value of $f$ for a  given value $x_{i-1/2}$.\n",
    "\n",
    "\n",
    "\n",
    "## First Illustration of the Use of Monte-Carlo Methods, integration\n",
    "Setting $h=(b-a)/N$ where $b=1$, $a=0$, we can then rewrite the above integral as"
   ]
  },
  {
   "cell_type": "markdown",
   "metadata": {},
   "source": [
    "$$\n",
    "I=\\int_0^1 f(x)dx\\approx \\frac{1}{N}\\sum_{i=1}^Nf(x_{i-1/2}),\n",
    "$$"
   ]
  },
  {
   "cell_type": "markdown",
   "metadata": {},
   "source": [
    "where $x_{i-1/2}$ are the midpoint values of $x$.\n",
    "Introducing the concept of the average of the function $f$ for a given PDF $p(x)$ as"
   ]
  },
  {
   "cell_type": "markdown",
   "metadata": {},
   "source": [
    "$$\n",
    "\\langle f \\rangle = \\frac{1}{N}\\sum_{i=1}^Nf(x_i)p(x_i),\n",
    "$$"
   ]
  },
  {
   "cell_type": "markdown",
   "metadata": {},
   "source": [
    "and identify $p(x)$ with the uniform distribution, viz\n",
    "$ p(x)=1$ when $x\\in [0,1]$ and zero for all other values of $x$.\n",
    "The integral is \n",
    "is then  the average of $f$ over the interval $x \\in [0,1]$"
   ]
  },
  {
   "cell_type": "markdown",
   "metadata": {},
   "source": [
    "$$\n",
    "I=\\int_0^1 f(x)dx\\approx \\langle f \\rangle.\n",
    "$$"
   ]
  },
  {
   "cell_type": "markdown",
   "metadata": {},
   "source": [
    "## First Illustration of the Use of Monte-Carlo Methods, variance in integration\n",
    "In addition to the average value $\\langle f \\rangle$ the other \n",
    "important quantity in a  \n",
    "Monte-Carlo calculation is the variance $\\sigma^2$ and \n",
    "the standard deviation $\\sigma$. We define first the variance\n",
    "of the integral with $f$ for a uniform distribution in the interval \n",
    "$x \\in [0,1]$ to be"
   ]
  },
  {
   "cell_type": "markdown",
   "metadata": {},
   "source": [
    "$$\n",
    "\\sigma^2_f=\\frac{1}{N}\\sum_{i=1}^N(f(x_i)-\\langle f\\rangle)^2p(x_i),\n",
    "$$"
   ]
  },
  {
   "cell_type": "markdown",
   "metadata": {},
   "source": [
    "and inserting the uniform distribution this yields"
   ]
  },
  {
   "cell_type": "markdown",
   "metadata": {},
   "source": [
    "$$\n",
    "\\sigma^2_f=\\frac{1}{N}\\sum_{i=1}^Nf(x_i)^2- \n",
    "  \\left(\\frac{1}{N}\\sum_{i=1}^Nf(x_i)\\right)^2,\n",
    "$$"
   ]
  },
  {
   "cell_type": "markdown",
   "metadata": {},
   "source": [
    "or"
   ]
  },
  {
   "cell_type": "markdown",
   "metadata": {},
   "source": [
    "$$\n",
    "\\sigma^2_f=\\left(\\langle f^2\\rangle - \n",
    "                                 \\langle f \\rangle^2\\right).\n",
    "$$"
   ]
  },
  {
   "cell_type": "markdown",
   "metadata": {},
   "source": [
    "## Monte-Carlo integration, meaning of variance\n",
    "The variance  is nothing but a measure of the extent to\n",
    "which $f$ deviates from its average over the region of integration. \n",
    "The standard deviation is defined as the square root of the variance.\n",
    "If we consider the above results for \n",
    "a fixed value of $N$ as a measurement, \n",
    "we could recalculate the \n",
    "above average and variance for a series of different measurements.\n",
    "If each such measumerent produces a set of averages for the \n",
    "integral $I$ denoted $\\langle f\\rangle_l$, we have for $M$ measurements\n",
    "that the integral is given by"
   ]
  },
  {
   "cell_type": "markdown",
   "metadata": {},
   "source": [
    "$$\n",
    "\\langle I \\rangle_M=\\frac{1}{M}\\sum_{l=1}^{M}\\langle f\\rangle_l.\n",
    "$$"
   ]
  },
  {
   "cell_type": "markdown",
   "metadata": {},
   "source": [
    "## First Illustration of the Use of Monte-Carlo Methods, integration\n",
    "If we can consider the probability of \n",
    "correlated events to be zero, we can rewrite\n",
    "the variance of these series of measurements as (equating $M=N$)"
   ]
  },
  {
   "cell_type": "markdown",
   "metadata": {},
   "source": [
    "<!-- Equation labels as ordinary links -->\n",
    "<div id=\"eq:sigmaN\"></div>\n",
    "\n",
    "$$\n",
    "\\begin{equation}\n",
    "  \\sigma^2_N\\approx \\frac{1}{N}\\left(\\langle f^2\\rangle - \n",
    "                                 \\langle f \\rangle^2\\right)=\\frac{\\sigma^2_f}{N}.\n",
    "\\label{eq:sigmaN} \\tag{3}\n",
    "\\end{equation}\n",
    "$$"
   ]
  },
  {
   "cell_type": "markdown",
   "metadata": {},
   "source": [
    "We note that the standard deviation is proportional to the inverse square root of \n",
    "the number of measurements"
   ]
  },
  {
   "cell_type": "markdown",
   "metadata": {},
   "source": [
    "$$\n",
    "\\sigma_N \\sim \\frac{1}{\\sqrt{N}}.\n",
    "$$"
   ]
  },
  {
   "cell_type": "markdown",
   "metadata": {},
   "source": [
    "## Important aspects of Monte-Carlo Methods\n",
    "*The aim of Monte Carlo calculations is to have $\\sigma_N$ as small as possible after $N$ samples. *\n",
    "The results from one  sample represents, \n",
    "since we are using concepts from statistics,\n",
    "a 'measurement'.\n",
    "\n",
    "\n",
    "\n",
    "## Why Monte Carlo integration?\n",
    "The scaling in the previous equation \n",
    "is clearly unfavorable compared even with the \n",
    "trapezoidal rule. We saw that the trapezoidal\n",
    "rule carries a truncation error"
   ]
  },
  {
   "cell_type": "markdown",
   "metadata": {},
   "source": [
    "$$\n",
    "\\mathrm{error}\\sim O(h^2),\n",
    "$$"
   ]
  },
  {
   "cell_type": "markdown",
   "metadata": {},
   "source": [
    "with $h$ the step length.\n",
    "In general, methods based on a Taylor expansion such as the trapezoidal\n",
    "rule or Simpson's rule have a truncation\n",
    "error which goes like $\\sim O(h^k)$, with $k \\ge 1$. \n",
    "Recalling that the step size is defined as $h=(b-a)/N$, we have an\n",
    "error which goes like"
   ]
  },
  {
   "cell_type": "markdown",
   "metadata": {},
   "source": [
    "$$\n",
    "\\mathrm{error}\\sim N^{-k}.\n",
    "$$"
   ]
  },
  {
   "cell_type": "markdown",
   "metadata": {},
   "source": [
    "## Why Monte Carlo integration?\n",
    "Monte Carlo integration is more efficient in higher dimensions.\n",
    "To see this, let us assume that our integration volume is a hypercube \n",
    "with side $L$ and dimension $d$. This cube contains hence \n",
    "$N=(L/h)^d$ points and therefore the error in the result scales as\n",
    "$N^{-k/d}$ for the traditional methods. \n",
    "\n",
    "The error in the Monte carlo integration is \n",
    "however independent of $d$ and scales as"
   ]
  },
  {
   "cell_type": "markdown",
   "metadata": {},
   "source": [
    "$$\n",
    "\\mathrm{error}\\sim 1/\\sqrt{N}.\n",
    "$$"
   ]
  },
  {
   "cell_type": "markdown",
   "metadata": {},
   "source": [
    "**Always**! \n",
    "\n",
    "Comparing this error with that of the traditional methods, shows that\n",
    "Monte Carlo integration is more efficient than an  algorithm with error in powers of $k$\n",
    "when"
   ]
  },
  {
   "cell_type": "markdown",
   "metadata": {},
   "source": [
    "$$\n",
    "d>2k.\n",
    "$$"
   ]
  },
  {
   "cell_type": "markdown",
   "metadata": {},
   "source": [
    "## Why Monte Carlo integration? Example\n",
    "In order to expose this, consider the definition of the quantum mechanical energy\n",
    "of a system consisting of 10 particles in three dimensions. The energy is the expectation value \n",
    "of the Hamiltonian $H$ and reads"
   ]
  },
  {
   "cell_type": "markdown",
   "metadata": {},
   "source": [
    "$$\n",
    "E=\\frac{\\int d\\mathbf{R}_1d\\mathbf{R}_2\\dots d\\mathbf{R}_N\n",
    "          \\Psi^{\\ast}(\\mathbf{R_1},\\mathbf{R}_2,\\dots,\\mathbf{R}_N)\n",
    "           H(\\mathbf{R_1},\\mathbf{R}_2,\\dots,\\mathbf{R}_N)\n",
    "           \\Psi(\\mathbf{R_1},\\mathbf{R}_2,\\dots,\\mathbf{R}_N)}\n",
    "         {\\int d\\mathbf{R}_1d\\mathbf{R}_2\\dots d\\mathbf{R}_N\n",
    "         \\Psi^{\\ast}(\\mathbf{R_1},\\mathbf{R}_2,\\dots,\\mathbf{R}_N)\n",
    "         \\Psi(\\mathbf{R_1},\\mathbf{R}_2,\\dots,\\mathbf{R}_N)},\n",
    "$$"
   ]
  },
  {
   "cell_type": "markdown",
   "metadata": {},
   "source": [
    "where $\\Psi$ is the wave function of the system and $\\mathbf{R}_i$ are the coordinates\n",
    "of each particle. If we want to compute the above integral \n",
    "using for example Gaussian quadrature and use for example ten mesh\n",
    "points for the ten particles, we need to compute a ten-dimensional integral with a total of $10^{30}$ mesh points.\n",
    "As an amusing exercise, assume that you have access to today's fastest computer with a theoretical peak \n",
    "capacity of more than one Petaflops, that is $10^{15}$ floating point operations per second. Assume also that every mesh point\n",
    "corresponds to one floating operation per second. Estimate then the time needed to compute this integral with\n",
    "a traditional method like Gaussian quadrature and compare this number with the estimated lifetime of the\n",
    "universe, $T\\approx 4.7 \\times 10^{17}$s. Do you have the patience to wait?\n",
    "\n",
    "\n",
    "\n",
    "\n",
    "## Monte Carlo integration, simple  example\n",
    "We end this first part with a discussion of \n",
    "a brute force Monte Carlo program which integrates"
   ]
  },
  {
   "cell_type": "markdown",
   "metadata": {},
   "source": [
    "$$\n",
    "\\int_0^1dx\\frac{4}{1+x^2} = \\pi,\n",
    "$$"
   ]
  },
  {
   "cell_type": "markdown",
   "metadata": {},
   "source": [
    "where the input is the desired number of Monte Carlo samples.\n",
    "\n",
    "\n",
    "\n",
    "## Monte Carlo integration, simple  example\n",
    "What we are doing is to employ a random number generator to obtain numbers\n",
    "$x_i$ in the interval $[0,1]$ through a call to one of the \n",
    "library functions\n",
    "$ran0$, $ran1$, $ran2$ or $ran3$ which generate random numbers in the \n",
    "interval $x\\in [0,1]$. \n",
    "These functions will be discussed in the next section. \n",
    "Here we simply employ these functions in order\n",
    "to generate a random variable.\n",
    "All random number generators produce pseudo-random  \n",
    "numbers in the interval $[0,1]$ using the so-called uniform\n",
    "probability distribution  \n",
    "$p(x)$ defined as"
   ]
  },
  {
   "cell_type": "markdown",
   "metadata": {},
   "source": [
    "$$\n",
    "p(x)=\\frac{1}{b-a}\\Theta(x-a)\\Theta(b-x),\n",
    "$$"
   ]
  },
  {
   "cell_type": "markdown",
   "metadata": {},
   "source": [
    "with  $a=0$ og $b=1$ and where $\\Theta$ is the standard Heaviside \n",
    "function or simply the step function.\n",
    "\n",
    "\n",
    "\n",
    "\n",
    "## Monte Carlo integration, simple  example\n",
    "If we have a general  interval  $[a,b]$, we can still\n",
    "use these random number generators through a change of variables"
   ]
  },
  {
   "cell_type": "markdown",
   "metadata": {},
   "source": [
    "$$\n",
    "z=a+(b-a)x,\n",
    "$$"
   ]
  },
  {
   "cell_type": "markdown",
   "metadata": {},
   "source": [
    "with $x$ in the interval  $x\\in [0,1]$.\n",
    "\n",
    "\n",
    "## Monte Carlo integration, simple  example\n",
    "The present  approach to the above integral is often called 'crude' or \n",
    "'Brute-Force' Monte-Carlo. \n",
    "Later on in this chapter we will study refinements to this\n",
    "simple approach. The reason is that a random generator \n",
    "produces \n",
    "points that are distributed\n",
    "in a homogenous way in the interval $[0,1]$.  \n",
    "If our function is peaked around certain values of $x$,  \n",
    "we may end \n",
    "up sampling function values where \n",
    "$f(x)$ is small or near zero. Better schemes which reflect the \n",
    "properties of the function to be integrated are thence needed.\n",
    "\n",
    "\n",
    "\n",
    "## Monte Carlo integration, algorithm\n",
    "The algorithm is as follows\n",
    "\n",
    "  * Choose the number of Monte Carlo samples $N$.\n",
    "\n",
    "  * Perform a loop over $N$ and for each step generate a random number $x_i$ in the interval $[0,1]$ through a call  to a random number generator.\n",
    "\n",
    "  * Use this number to evaluate $f(x_i)$.\n",
    "\n",
    "  * Evaluate the contributions to the mean value and the standard  deviation for each loop.\n",
    "\n",
    "  * After $N$ samples calculate the final mean value and the standard deviation.\n",
    "\n",
    "\n",
    "\n",
    "## Monte Carlo integration, simple  example, the program"
   ]
  },
  {
   "cell_type": "markdown",
   "metadata": {},
   "source": [
    "        #include <iostream>\n",
    "        #include <cmath>\n",
    "        using namespace std;\n",
    "        \n",
    "        //     Here we define various functions called by the main program  \n",
    "        //     this function defines the function to integrate  \n",
    "        \n",
    "        double func(double x);\n",
    "        \n",
    "        //     Main function begins here     \n",
    "        int main()\n",
    "        {\n",
    "             int n;\n",
    "             double MCint, MCintsqr2, fx, Variance; \n",
    "             cout << \"Read in the number of Monte-Carlo samples\" << endl;\n",
    "             cin >> n;\n",
    "             MCint = MCintsqr2=0.;\n",
    "             double invers_period = 1./RAND_MAX; // initialise the random number generator\n",
    "             srand(time(NULL));  // This produces the so-called seed in MC jargon\n",
    "        //   evaluate the integral with the a crude Monte-Carlo method    \n",
    "             for ( int i = 1;  i <= n; i++){\n",
    "          // obtain a floating number x in [0,1]\n",
    "                   double x = double(rand())*invers_period; \n",
    "                   fx = func(x);\n",
    "                   MCint += fx;\n",
    "                   MCintsqr2 += fx*fx;\n",
    "             }\n",
    "             MCint = MCint/((double) n );\n",
    "             MCintsqr2 = MCintsqr2/((double) n );\n",
    "             double variance=MCintsqr2-MCint*MCint;\n",
    "        //   final output \n",
    "             cout << \" variance= \" << variance << \" Integral = \" << MCint << \" Exact= \" << M_PI << endl;\n",
    "        }  // end of main program \n",
    "        // this function defines the function to integrate \n",
    "        double func(double x)\n",
    "        {\n",
    "          double value;\n",
    "          value = 4/(1.+x*x);\n",
    "          return value;\n",
    "        } // end of function to evaluate \n"
   ]
  },
  {
   "cell_type": "markdown",
   "metadata": {},
   "source": [
    "## Monte Carlo integration, simple  example and the results\n",
    "\n",
    "<table border=\"1\">\n",
    "<thead>\n",
    "<tr><th align=\"center\">  $N$   </th> <th align=\"center\">    $I$    </th> <th align=\"center\"> $\\sigma_N$</th> </tr>\n",
    "</thead>\n",
    "<tbody>\n",
    "<tr><td align=\"right\">   10          </td> <td align=\"left\">   3.10263E+00    </td> <td align=\"left\">   3.98802E-01    </td> </tr>\n",
    "<tr><td align=\"right\">   100         </td> <td align=\"left\">   3.02933E+00    </td> <td align=\"left\">   4.04822E-01    </td> </tr>\n",
    "<tr><td align=\"right\">   1000        </td> <td align=\"left\">   3.13395E+00    </td> <td align=\"left\">   4.22881E-01    </td> </tr>\n",
    "<tr><td align=\"right\">   10000       </td> <td align=\"left\">   3.14195E+00    </td> <td align=\"left\">   4.11195E-01    </td> </tr>\n",
    "<tr><td align=\"right\">   100000      </td> <td align=\"left\">   3.14003E+00    </td> <td align=\"left\">   4.14114E-01    </td> </tr>\n",
    "<tr><td align=\"right\">   1000000     </td> <td align=\"left\">   3.14213E+00    </td> <td align=\"left\">   4.13838E-01    </td> </tr>\n",
    "<tr><td align=\"right\">   10000000    </td> <td align=\"left\">   3.14177E+00    </td> <td align=\"left\">   4.13523E-01    </td> </tr>\n",
    "<tr><td align=\"right\">   $10^{9}$    </td> <td align=\"left\">   3.14162E+00    </td> <td align=\"left\">   4.13581E-01    </td> </tr>\n",
    "</tbody>\n",
    "</table>\n",
    "We note that as $N$ increases, the integral itself never reaches more than an agreement \n",
    "to the fourth or fifth digit. The variance also oscillates around its exact value\n",
    "$4.13581E-01$.\n",
    "\n",
    "\n",
    "\n",
    "\n",
    "## Testing against the trapezoidal rule for a one-dimensional integral\n",
    "The following simple Python code, with pertaining plot shows the relative error for the above integral using a brute force Monte Carlo approach and the trapezoidal rule. Running the python code shows that the trapezoidal rule is clearly superior in this case. With importance sampling and multi-dimensional integrals, the Monte Carl method takes over again."
   ]
  },
  {
   "cell_type": "code",
   "execution_count": 2,
   "metadata": {
    "collapsed": false
   },
   "outputs": [],
   "source": [
    "from  matplotlib import pyplot as plt\n",
    "from math import exp, acos, log10\n",
    "import numpy as np\n",
    "import random\n",
    "\n",
    "# function for the trapezoidal rule\n",
    "def TrapezoidalRule(a,b,f,n):\n",
    "   h = (b-a)/float(n)\n",
    "   s = 0\n",
    "   x = a\n",
    "   for i in range(1,n,1):\n",
    "       x = x+h\n",
    "       s = s+ f(x)\n",
    "   s = 0.5*(f(a)+f(b))+s\n",
    "   return h*s\n",
    "# function to perform the Monte Carlo calculations\n",
    "def MonteCarloIntegration(f,n):\n",
    "    sum = 0\n",
    "# Define the seed for the rng\n",
    "    random.seed()    \n",
    "    for i in range (1, n, 1):\n",
    "        x = random.random()\n",
    "        sum = sum +f(x)\n",
    "    return sum/n\n",
    "\n",
    "#  function to compute\n",
    "def function(x):\n",
    "    return 4/(1+x*x)\n",
    "\n",
    "# Integration limits for the Trapezoidal rule\n",
    "a = 0.0; b = 1.0\n",
    "exact = acos(-1.0)\n",
    "# set up the arrays for plotting the relative error\n",
    "log10n = np.zeros(6); Trapez = np.zeros(6); MCint = np.zeros(6);\n",
    "# find the relative error as function of integration points\n",
    "for i in range(1, 6):\n",
    "    npts = 10**(i+1)\n",
    "    log10n[i] = log10(npts)\n",
    "    Trapez[i] = log10(abs((TrapezoidalRule(a,b,function,npts)-exact)/exact))\n",
    "    MCint[i] = log10(abs((MonteCarloIntegration(function,npts)-exact)/exact))\n",
    "plt.plot(log10n, Trapez ,'b-',log10n, MCint,'g-')\n",
    "plt.axis([1,6,-14.0, 0.0])\n",
    "plt.xlabel('$\\log_{10}(n)$')\n",
    "plt.ylabel('Relative error')\n",
    "plt.title('Relative errors for Monte Carlo integration and Trapezoidal rule')\n",
    "plt.legend(['Trapezoidal rule', 'Brute force Monte Carlo integration'], loc='best') \n",
    "plt.savefig('mcintegration.pdf')\n",
    "plt.show()"
   ]
  },
  {
   "cell_type": "markdown",
   "metadata": {},
   "source": [
    "## Second example, particles in a box\n",
    "\n",
    "We give here an example of how a system evolves towards \n",
    "a well defined equilibrium state.\n",
    "\n",
    "Consider a box divided into two equal halves separated by a wall.\n",
    "At the beginning, time $t=0$, there are $N$ particles on the left\n",
    "side. A small hole in the wall is then opened and one particle\n",
    "can pass through the hole per unit time. \n",
    "\n",
    "After some time the system reaches its equilibrium state with\n",
    "equally many particles in both halves, $N/2$. \n",
    "Instead of determining complicated initial conditions for a system \n",
    "of $N$ particles, we model the system by a simple statistical model. \n",
    "In order to simulate this system, which may consist of $N \\gg 1$ particles,\n",
    "we assume that all particles in the left half have equal probabilities\n",
    "of going to the right half. \n",
    "We introduce the label $n_l$ to denote the \n",
    " number of particles at every time on the left side, and $n_r=N-n_l$ for those\n",
    "on the right side.\n",
    "\n",
    "\n",
    "\n",
    "\n",
    "## Second example, particles in a box\n",
    "The probability for a move to the right during a time step  $\\Delta t$\n",
    "is $n_l/N$. The algorithm for simulating this problem may then look\n",
    "like this\n",
    "\n",
    "  * Choose the number of particles $N$.\n",
    "\n",
    "  b* Make a loop over time, where the maximum time (or maximum number of steps) should be larger than the number of particles $N$.\n",
    "\n",
    "  * For every time step $\\Delta t$ there is a probability $n_l/N$  for a move to the right. Compare this probability with a random number $x$.\n",
    "\n",
    "  * If $ x \\le n_l/N$, decrease the number of particles in the left half by one, i.e., $n_l=n_l-1$. Else, move a particle from the  right half to the left, i.e., $n_l=n_l+1$.\n",
    "\n",
    "  * Increase the time by one unit (the external loop).\n",
    "\n",
    "\n",
    "\n",
    "## Second example, particles in a box\n",
    "In this case, a Monte Carlo sample corresponds to one time unit\n",
    "$\\Delta t$. \n",
    "\n",
    "The following simple C/C++-program illustrates this model."
   ]
  },
  {
   "cell_type": "markdown",
   "metadata": {},
   "source": [
    "        // Particles in a box\n",
    "        #include <iostream>\n",
    "        #include <fstream>\n",
    "        #include <iomanip>\n",
    "        #include \"lib.h\"\n",
    "        using namespace  std;\n",
    "        \n",
    "        ofstream ofile;\n",
    "        int main(int argc, char* argv[])\n",
    "        {\n",
    "          char *outfilename;\n",
    "          int initial_n_particles, max_time, time, random_n, nleft; \n",
    "          long idum;\n",
    "          // Read in output file, abort if there are too few command-line arguments\n",
    "          if( argc <= 1 ){\n",
    "            cout << \"Bad Usage: \" << argv[0] <<\n",
    "              \" read also output file on same line\" << endl;\n",
    "            exit(1);\n",
    "          }\n",
    "          else{\n",
    "            outfilename=argv[1];\n",
    "          }\n",
    "          ofile.open(outfilename);\n",
    "          // Read in data \n",
    "          cout << \"Initial number of particles = \" << endl ;\n",
    "          cin >> initial_n_particles;\n",
    "          // setup of initial conditions\n",
    "          nleft = initial_n_particles;\n",
    "          max_time = 10*initial_n_particles;\n",
    "          idum = -1;\n",
    "          // sampling over number of particles\n",
    "          for( time=0; time <= max_time; time++){\n",
    "            random_n = ((int) initial_n_particles*ran0(&idum));\n",
    "            if ( random_n <= nleft){\n",
    "              nleft -= 1;\n",
    "            }\n",
    "            else{\n",
    "              nleft += 1;\n",
    "            }\n",
    "            ofile << setiosflags(ios::showpoint | ios::uppercase);\n",
    "            ofile << setw(15) << time;\n",
    "            ofile << setw(15) << nleft << endl;\n",
    "          }\n",
    "          return 0; \n",
    "        } // end main function\n"
   ]
  },
  {
   "cell_type": "markdown",
   "metadata": {},
   "source": [
    "## Second example, particles in a box, discussion\n",
    "If we denote $\\langle n_l \\rangle $ as the number of particles in the left \n",
    "half as a time average after *equilibrium is reached*, \n",
    "we can define the standard \n",
    "deviation as"
   ]
  },
  {
   "cell_type": "markdown",
   "metadata": {},
   "source": [
    "<!-- Equation labels as ordinary links -->\n",
    "<div id=\"_auto1\"></div>\n",
    "\n",
    "$$\n",
    "\\begin{equation}\n",
    "   \\sigma =\\sqrt{\\langle n_l^2 \\rangle-\\langle n_l \\rangle^2}.\n",
    "\\label{_auto1} \\tag{4}\n",
    "\\end{equation}\n",
    "$$"
   ]
  },
  {
   "cell_type": "markdown",
   "metadata": {},
   "source": [
    "This problem has also an analytic solution to which we can compare\n",
    "our numerical simulation.\n",
    "\n",
    "\n",
    "\n",
    "## Second example, particles in a box, discussion\n",
    "If $n_l(t)$ is the number of particles in the left half after \n",
    "$t$ moves, the change in $n_l(t)$ in the time interval $\\Delta t$\n",
    "is"
   ]
  },
  {
   "cell_type": "markdown",
   "metadata": {},
   "source": [
    "$$\n",
    "\\Delta n=\\left(\\frac{N-n_l(t)}{N}-\\frac{n_l(t)}{N}\\right)\\Delta t,\n",
    "$$"
   ]
  },
  {
   "cell_type": "markdown",
   "metadata": {},
   "source": [
    "and assuming that $n_l$ and $t$ are continuous variables we arrive at"
   ]
  },
  {
   "cell_type": "markdown",
   "metadata": {},
   "source": [
    "$$\n",
    "\\frac{dn_l(t)}{dt}=1-\\frac{2n_l(t)}{N},\n",
    "$$"
   ]
  },
  {
   "cell_type": "markdown",
   "metadata": {},
   "source": [
    "whose solution is"
   ]
  },
  {
   "cell_type": "markdown",
   "metadata": {},
   "source": [
    "$$\n",
    "n_l(t)=\\frac{N}{2}\\left(1+e^{-2t/N}\\right),\n",
    "$$"
   ]
  },
  {
   "cell_type": "markdown",
   "metadata": {},
   "source": [
    "with the initial condition $n_l(t=0)=N$. Note that we have assumed $n$ to be a continuous variable. Obviously, particles are discrete objects.\n",
    "\n",
    "\n",
    "\n",
    "## Simple demonstration using python\n",
    "The following simple Python code implements the above algorithm for particles in a box and plots the final number of particles in each part of the box."
   ]
  },
  {
   "cell_type": "code",
   "execution_count": 3,
   "metadata": {
    "collapsed": false
   },
   "outputs": [],
   "source": [
    "#!/usr/bin/env python\n",
    "from  matplotlib import pyplot as plt\n",
    "from math import exp\n",
    "import numpy as np\n",
    "import random\n",
    "\n",
    "# initial number of particles\n",
    "N0 = 1000\n",
    "MaxTime = 10*N0\n",
    "values = np.zeros(MaxTime)   \n",
    "time = np.zeros(MaxTime)   \n",
    "random.seed() \n",
    "# initial number of particles in left half\n",
    "nleft = N0\n",
    "for t in range (0, MaxTime, 1):\n",
    "    if N0*random.random() <= nleft: \n",
    "       nleft -= 1\n",
    "    else: \n",
    "       nleft += 1\n",
    "    time[t] = t\n",
    "    values[t] = nleft\n",
    "\n",
    "# Finally we plot the results\n",
    "plt.plot(time, values,'b-')\n",
    "plt.axis([0,MaxTime, N0/4, N0])\n",
    "plt.xlabel('$t$')\n",
    "plt.ylabel('$N$')\n",
    "plt.title('Number of particles in left half')\n",
    "plt.savefig('box.pdf')\n",
    "plt.show()"
   ]
  },
  {
   "cell_type": "markdown",
   "metadata": {},
   "source": [
    "The produced figure  shows the development of this system as \n",
    "function of time steps. We note that for $N=1000$ \n",
    "after roughly $2000$ time steps,\n",
    "the system has reached the equilibrium state. There are however noteworthy\n",
    "fluctuations around equilibrium.\n",
    "\n",
    "\n",
    "\n",
    "## Brief Summary\n",
    "\n",
    "In essence the Monte Carlo method  contains the following ingredients\n",
    "\n",
    "  * A PDF which characterizes the system\n",
    "\n",
    "  * Random numbers which are generated so as to cover in an as uniform as  possible way on the unity interval [0,1].\n",
    "\n",
    "  * A sampling rule\n",
    "\n",
    "  * An error estimation\n",
    "\n",
    "  * Techniques for improving the errors\n",
    "\n",
    "## Probability Distribution Functions\n",
    "\n",
    "The following table collects properties of probability distribution functions.\n",
    "In our notation we reserve the label $p(x)$ for the probability of a certain event,\n",
    "while $P(x)$ is the cumulative probability. \n",
    "\n",
    "\n",
    "<table border=\"1\">\n",
    "<thead>\n",
    "<tr><th align=\"center\">             </th> <th align=\"center\">               Discrete PDF               </th> <th align=\"center\">          Continuous PDF          </th> </tr>\n",
    "</thead>\n",
    "<tbody>\n",
    "<tr><td align=\"left\">   Domain           </td> <td align=\"center\">   $\\left\\{x_1, x_2, x_3, \\dots, x_N\\right\\}$    </td> <td align=\"center\">   $[a,b]$                               </td> </tr>\n",
    "<tr><td align=\"left\">   Probability      </td> <td align=\"center\">   $p(x_i)$                                      </td> <td align=\"center\">   $p(x)dx$                              </td> </tr>\n",
    "<tr><td align=\"left\">   Cumulative       </td> <td align=\"center\">   $P_i=\\sum_{l=1}^ip(x_l)$                      </td> <td align=\"center\">   $P(x)=\\int_a^xp(t)dt$                 </td> </tr>\n",
    "<tr><td align=\"left\">   Positivity       </td> <td align=\"center\">   $ 0\\le p(x_i)\\le 1$                           </td> <td align=\"center\">   $ p(x) \\ge 0$                         </td> </tr>\n",
    "<tr><td align=\"left\">   Positivity       </td> <td align=\"center\">   $ 0\\le P_i\\le 1$                              </td> <td align=\"center\">   $ 0\\le P(x)\\le 1$                     </td> </tr>\n",
    "<tr><td align=\"left\">   Monotonic        </td> <td align=\"center\">   $P_i\\ge P_j$ if $x_i\\ge x_j$                  </td> <td align=\"center\">   $P(x_i)\\ge P(x_j)$ if $x_i\\ge x_j$    </td> </tr>\n",
    "<tr><td align=\"left\">   Normalization    </td> <td align=\"center\">   $P_N=1$                                       </td> <td align=\"center\">   $P(b)=1$                              </td> </tr>\n",
    "</tbody>\n",
    "</table>\n",
    "\n",
    "\n",
    "\n",
    "\n",
    "## Probability Distribution Functions\n",
    "With a PDF we can compute expectation values of selected quantities such as"
   ]
  },
  {
   "cell_type": "markdown",
   "metadata": {},
   "source": [
    "$$\n",
    "\\langle x^k\\rangle=\\frac{1}{N}\\sum_{i=1}^{N}x_i^kp(x_i),\n",
    "$$"
   ]
  },
  {
   "cell_type": "markdown",
   "metadata": {},
   "source": [
    "if we have a discrete PDF or"
   ]
  },
  {
   "cell_type": "markdown",
   "metadata": {},
   "source": [
    "$$\n",
    "\\langle x^k\\rangle=\\int_a^b x^kp(x)dx,\n",
    "$$"
   ]
  },
  {
   "cell_type": "markdown",
   "metadata": {},
   "source": [
    "in the case of a continuous PDF. We have already defined the mean value $\\mu$\n",
    "and the variance $\\sigma^2$.\n",
    "\n",
    "\n",
    "\n",
    "## The three famous Probability Distribution Functions\n",
    "\n",
    "There are at least three PDFs which one may encounter. These are the\n",
    "\n",
    "**Uniform distribution**"
   ]
  },
  {
   "cell_type": "markdown",
   "metadata": {},
   "source": [
    "$$\n",
    "p(x)=\\frac{1}{b-a}\\Theta(x-a)\\Theta(b-x),\n",
    "$$"
   ]
  },
  {
   "cell_type": "markdown",
   "metadata": {},
   "source": [
    "yielding probabilities different from zero in the interval $[a,b]$.\n",
    "\n",
    "**The exponential distribution**"
   ]
  },
  {
   "cell_type": "markdown",
   "metadata": {},
   "source": [
    "$$\n",
    "p(x)=\\alpha \\exp{(-\\alpha x)},\n",
    "$$"
   ]
  },
  {
   "cell_type": "markdown",
   "metadata": {},
   "source": [
    "yielding probabilities different from zero in the interval $[0,\\infty)$ and with mean value"
   ]
  },
  {
   "cell_type": "markdown",
   "metadata": {},
   "source": [
    "$$\n",
    "\\mu = \\int_0^{\\infty}xp(x)dx=\\int_0^{\\infty}x\\alpha \\exp{(-\\alpha x)}dx=\\frac{1}{\\alpha},\n",
    "$$"
   ]
  },
  {
   "cell_type": "markdown",
   "metadata": {},
   "source": [
    "with variance"
   ]
  },
  {
   "cell_type": "markdown",
   "metadata": {},
   "source": [
    "$$\n",
    "\\sigma^2=\\int_0^{\\infty}x^2p(x)dx-\\mu^2 = \\frac{1}{\\alpha^2}.\n",
    "$$"
   ]
  },
  {
   "cell_type": "markdown",
   "metadata": {},
   "source": [
    "## Probability Distribution Functions, the normal distribution\n",
    "Finally, we have the so-called univariate normal  distribution, or just the **normal distribution**"
   ]
  },
  {
   "cell_type": "markdown",
   "metadata": {},
   "source": [
    "$$\n",
    "p(x)=\\frac{1}{b\\sqrt{2\\pi}}\\exp{\\left(-\\frac{(x-a)^2}{2b^2}\\right)}\n",
    "$$"
   ]
  },
  {
   "cell_type": "markdown",
   "metadata": {},
   "source": [
    "with probabilities different from zero in the interval $(-\\infty,\\infty)$.\n",
    "The integral $\\int_{-\\infty}^{\\infty}\\exp{\\left(-(x^2\\right)}dx$ appears in many calculations, its value\n",
    "is $\\sqrt{\\pi}$,  a result we will need when we compute the mean value and the variance.\n",
    "The mean value is"
   ]
  },
  {
   "cell_type": "markdown",
   "metadata": {},
   "source": [
    "$$\n",
    "\\mu = \\int_0^{\\infty}xp(x)dx=\\frac{1}{b\\sqrt{2\\pi}}\\int_{-\\infty}^{\\infty}x \\exp{\\left(-\\frac{(x-a)^2}{2b^2}\\right)}dx,\n",
    "$$"
   ]
  },
  {
   "cell_type": "markdown",
   "metadata": {},
   "source": [
    "which becomes with a suitable change of variables"
   ]
  },
  {
   "cell_type": "markdown",
   "metadata": {},
   "source": [
    "$$\n",
    "\\mu =\\frac{1}{b\\sqrt{2\\pi}}\\int_{-\\infty}^{\\infty}b\\sqrt{2}(a+b\\sqrt{2}y)\\exp{-y^2}dy=a.\n",
    "$$"
   ]
  },
  {
   "cell_type": "markdown",
   "metadata": {},
   "source": [
    "## Probability Distribution Functions, the normal distribution\n",
    "Similarly, the variance becomes"
   ]
  },
  {
   "cell_type": "markdown",
   "metadata": {},
   "source": [
    "$$\n",
    "\\sigma^2 = \\frac{1}{b\\sqrt{2\\pi}}\\int_{-\\infty}^{\\infty}(x-\\mu)^2 \\exp{\\left(-\\frac{(x-a)^2}{2b^2}\\right)}dx,\n",
    "$$"
   ]
  },
  {
   "cell_type": "markdown",
   "metadata": {},
   "source": [
    "and inserting the mean value and performing a variable change we obtain"
   ]
  },
  {
   "cell_type": "markdown",
   "metadata": {},
   "source": [
    "$$\n",
    "\\sigma^2 = \\frac{1}{b\\sqrt{2\\pi}}\\int_{-\\infty}^{\\infty}b\\sqrt{2}(b\\sqrt{2}y)^2\\exp{\\left(-y^2\\right)}dy=\n",
    "\\frac{2b^2}{\\sqrt{\\pi}}\\int_{-\\infty}^{\\infty}y^2\\exp{\\left(-y^2\\right)}dy,\n",
    "$$"
   ]
  },
  {
   "cell_type": "markdown",
   "metadata": {},
   "source": [
    "and performing a final integration by parts we obtain the well-known result $\\sigma^2=b^2$.\n",
    "It is useful to introduce the standard normal distribution as well, defined by $\\mu=a=0$, viz. a distribution\n",
    "centered around zero and with a variance $\\sigma^2=1$, leading to"
   ]
  },
  {
   "cell_type": "markdown",
   "metadata": {},
   "source": [
    "<!-- Equation labels as ordinary links -->\n",
    "<div id=\"_auto2\"></div>\n",
    "\n",
    "$$\n",
    "\\begin{equation}\n",
    "   p(x)=\\frac{1}{\\sqrt{2\\pi}}\\exp{\\left(-\\frac{x^2}{2}\\right)}.\n",
    "\\label{_auto2} \\tag{5}\n",
    "\\end{equation}\n",
    "$$"
   ]
  },
  {
   "cell_type": "markdown",
   "metadata": {},
   "source": [
    "## Probability Distribution Functions, the cumulative distribution\n",
    "\n",
    "The exponential and uniform distributions have simple cumulative functions,\n",
    "whereas the normal distribution does not, being proportional to the so-called\n",
    "error function $erf(x)$, given by"
   ]
  },
  {
   "cell_type": "markdown",
   "metadata": {},
   "source": [
    "$$\n",
    "P(x) = \\frac{1}{\\sqrt{2\\pi}}\\int_{-\\infty}^x\\exp{\\left(-\\frac{t^2}{2}\\right)}dt,\n",
    "$$"
   ]
  },
  {
   "cell_type": "markdown",
   "metadata": {},
   "source": [
    "which is difficult to evaluate in a quick way.\n",
    "\n",
    "\n",
    "\n",
    "\n",
    "## Probability Distribution Functions, other important distribution\n",
    "\n",
    "Some other PDFs which one encounters often in the natural sciences are the binomial distribution"
   ]
  },
  {
   "cell_type": "markdown",
   "metadata": {},
   "source": [
    "$$\n",
    "p(x) = \\left(\\begin{array}{c} n \\\\ x\\end{array}\\right)y^x(1-y)^{n-x} \\hspace{0.5cm}x=0,1,\\dots,n,\n",
    "$$"
   ]
  },
  {
   "cell_type": "markdown",
   "metadata": {},
   "source": [
    "where $y$ is the probability for a specific event, such as the tossing of a coin or moving left or right\n",
    "in case of a random walker. Note that $x$ is a discrete stochastic variable. \n",
    "\n",
    "The sequence of binomial trials is characterized by the following definitions\n",
    "\n",
    "  * Every experiment is thought to consist of $N$ independent trials.\n",
    "\n",
    "  * In every independent trial one registers if a specific situation happens or not, such as the  jump to the left or right of a random walker.\n",
    "\n",
    "  * The probability for every outcome in a single trial has the same value, for example the outcome of tossing (either heads or tails) a coin is always $1/2$.\n",
    "\n",
    "\n",
    "\n",
    "## Probability Distribution Functions, the binomial distribution\n",
    "\n",
    "In order to compute the mean and variance we need to recall Newton's binomial\n",
    "formula"
   ]
  },
  {
   "cell_type": "markdown",
   "metadata": {},
   "source": [
    "$$\n",
    "(a+b)^m=\\sum_{n=0}^m \\left(\\begin{array}{c} m \\\\ n\\end{array}\\right)a^nb^{m-n},\n",
    "$$"
   ]
  },
  {
   "cell_type": "markdown",
   "metadata": {},
   "source": [
    "which can be used to show that"
   ]
  },
  {
   "cell_type": "markdown",
   "metadata": {},
   "source": [
    "$$\n",
    "\\sum_{x=0}^n\\left(\\begin{array}{c} n \\\\ x\\end{array}\\right)y^x(1-y)^{n-x} = (y+1-y)^n = 1,\n",
    "$$"
   ]
  },
  {
   "cell_type": "markdown",
   "metadata": {},
   "source": [
    "the PDF is normalized to one. \n",
    "The mean value is"
   ]
  },
  {
   "cell_type": "markdown",
   "metadata": {},
   "source": [
    "$$\n",
    "\\mu = \\sum_{x=0}^n x\\left(\\begin{array}{c} n \\\\ x\\end{array}\\right)y^x(1-y)^{n-x} =\n",
    "\\sum_{x=0}^n x\\frac{n!}{x!(n-x)!}y^x(1-y)^{n-x},\n",
    "$$"
   ]
  },
  {
   "cell_type": "markdown",
   "metadata": {},
   "source": [
    "resulting in"
   ]
  },
  {
   "cell_type": "markdown",
   "metadata": {},
   "source": [
    "$$\n",
    "\\mu = \n",
    "\\sum_{x=0}^n x\\frac{(n-1)!}{(x-1)!(n-1-(x-1))!}y^{x-1}(1-y)^{n-1-(x-1)},\n",
    "$$"
   ]
  },
  {
   "cell_type": "markdown",
   "metadata": {},
   "source": [
    "which we rewrite as"
   ]
  },
  {
   "cell_type": "markdown",
   "metadata": {},
   "source": [
    "$$\n",
    "\\mu=ny\\sum_{\\nu=0}^n\\left(\\begin{array}{c} n-1 \\\\ \\nu\\end{array}\\right)y^{\\nu}(1-y)^{n-1-\\nu} =ny(y+1-y)^{n-1}=ny.\n",
    "$$"
   ]
  },
  {
   "cell_type": "markdown",
   "metadata": {},
   "source": [
    "The variance is slightly trickier to get. It reads $\\sigma^2=ny(1-y)$. \n",
    "\n",
    "## Probability Distribution Functions, Poisson's  distribution\n",
    "\n",
    "Another important distribution with discrete stochastic variables $x$ is  \n",
    "the Poisson model, which resembles the exponential distribution and reads"
   ]
  },
  {
   "cell_type": "markdown",
   "metadata": {},
   "source": [
    "$$\n",
    "p(x) = \\frac{\\lambda^x}{x!} e^{-\\lambda} \\hspace{0.5cm}x=0,1,\\dots,;\\lambda > 0.\n",
    "$$"
   ]
  },
  {
   "cell_type": "markdown",
   "metadata": {},
   "source": [
    "In this case both the mean value and the variance are easier to calculate,"
   ]
  },
  {
   "cell_type": "markdown",
   "metadata": {},
   "source": [
    "$$\n",
    "\\mu = \\sum_{x=0}^{\\infty} x \\frac{\\lambda^x}{x!} e^{-\\lambda} = \\lambda e^{-\\lambda}\\sum_{x=1}^{\\infty}\n",
    "\\frac{\\lambda^{x-1}}{(x-1)!}=\\lambda,\n",
    "$$"
   ]
  },
  {
   "cell_type": "markdown",
   "metadata": {},
   "source": [
    "and the variance is $\\sigma^2=\\lambda$.\n",
    "\n",
    "\n",
    "\n",
    "\n",
    "\n",
    "## Probability Distribution Functions, Poisson's  distribution\n",
    "An example of applications of the Poisson distribution could be the counting\n",
    "of the number of $\\alpha$-particles emitted from a radioactive source in a given time interval.\n",
    "In the limit of $n\\rightarrow \\infty$ and for small probabilities $y$, the binomial distribution\n",
    "approaches the Poisson distribution. Setting $\\lambda = ny$, with $y$ the probability for an event in\n",
    "the binomial distribution we can show that"
   ]
  },
  {
   "cell_type": "markdown",
   "metadata": {},
   "source": [
    "$$\n",
    "\\lim_{n\\rightarrow \\infty}\\left(\\begin{array}{c} n \\\\ x\\end{array}\\right)y^x(1-y)^{n-x} e^{-\\lambda}=\\sum_{x=1}^{\\infty}\\frac{\\lambda^x}{x!} e^{-\\lambda}.\n",
    "$$"
   ]
  },
  {
   "cell_type": "markdown",
   "metadata": {},
   "source": [
    "## Meet the  covariance!\n",
    "An important quantity in a statistical analysis is the so-called covariance. \n",
    "\n",
    "Consider the set $\\{X_i\\}$ of $n$\n",
    "stochastic variables (not necessarily uncorrelated) with the\n",
    "multivariate PDF $P(x_1,\\dots,x_n)$. The *covariance* of two\n",
    "of the stochastic variables, $X_i$ and $X_j$, is defined as follows"
   ]
  },
  {
   "cell_type": "markdown",
   "metadata": {},
   "source": [
    "<!-- Equation labels as ordinary links -->\n",
    "<div id=\"_auto3\"></div>\n",
    "\n",
    "$$\n",
    "\\begin{equation}\n",
    "\\mathrm{Cov}(X_i,\\,X_j)  = \\langle (x_i-\\langle x_i\\rangle)(x_j-\\langle x_j\\rangle)\\rangle \n",
    "\\label{_auto3} \\tag{6}\n",
    "\\end{equation}\n",
    "$$"
   ]
  },
  {
   "cell_type": "markdown",
   "metadata": {},
   "source": [
    "<!-- Equation labels as ordinary links -->\n",
    "<div id=\"eq:def_covariance\"></div>\n",
    "\n",
    "$$\n",
    "\\begin{equation} \n",
    "=\\int\\cdots\\int (x_i-\\langle x_i\\rangle)(x_j-\\langle x_j\\rangle)P(x_1,\\dots,x_n)\\,dx_1\\dots dx_n,\n",
    "\\label{eq:def_covariance} \\tag{7}\n",
    "\\end{equation}\n",
    "$$"
   ]
  },
  {
   "cell_type": "markdown",
   "metadata": {},
   "source": [
    "with"
   ]
  },
  {
   "cell_type": "markdown",
   "metadata": {},
   "source": [
    "$$\n",
    "\\langle x_i\\rangle =\n",
    "\\int\\cdots\\int x_i P(x_1,\\dots,x_n)\\,dx_1\\dots dx_n.\n",
    "$$"
   ]
  },
  {
   "cell_type": "markdown",
   "metadata": {},
   "source": [
    "## Meet the  covariance in matrix disguise\n",
    "If we consider the above covariance as a matrix"
   ]
  },
  {
   "cell_type": "markdown",
   "metadata": {},
   "source": [
    "$$\n",
    "C_{ij} =\\mathrm{Cov}(X_i,\\,X_j),\n",
    "$$"
   ]
  },
  {
   "cell_type": "markdown",
   "metadata": {},
   "source": [
    "then the diagonal elements are just the familiar\n",
    "variances, $C_{ii} = \\mathrm{Cov}(X_i,\\,X_i) = \\mathrm{Var}(X_i)$. It turns out that\n",
    "all the off-diagonal elements are zero if the stochastic variables are\n",
    "uncorrelated.\n",
    "\n",
    "\n",
    "\n",
    "## Meet the  covariance, uncorrelated events\n",
    "\n",
    "This is easy to show, keeping in mind the linearity of\n",
    "the expectation value. Consider the stochastic variables $X_i$ and\n",
    "$X_j$, ($i\\neq j$)"
   ]
  },
  {
   "cell_type": "markdown",
   "metadata": {},
   "source": [
    "$$\n",
    "\\begin{align*}\n",
    "\\mathrm{Cov}(X_i,\\,X_j) &= \\langle (x_i-\\langle x_i\\rangle)(x_j-\\langle x_j\\rangle)\\rangle\\\\\n",
    "&=\\langle x_i x_j - x_i\\langle x_j\\rangle - \\langle x_i\\rangle x_j + \\langle x_i\\rangle\\langle x_j\\rangle\\rangle\\\\\n",
    "&=\\langle x_i x_j\\rangle - \\langle x_i\\langle x_j\\rangle\\rangle - \\langle \\langle x_i\\rangle x_j \\rangle +\n",
    "\\langle \\langle x_i\\rangle\\langle x_j\\rangle\\rangle\\\\\n",
    "&=\\langle x_i x_j\\rangle - \\langle x_i\\rangle\\langle x_j\\rangle - \\langle x_i\\rangle\\langle x_j\\rangle +\n",
    "\\langle x_i\\rangle\\langle x_j\\rangle\\\\\n",
    "&=\\langle x_i x_j\\rangle - \\langle x_i\\rangle\\langle x_j\\rangle\n",
    "\\end{align*}\n",
    "$$"
   ]
  },
  {
   "cell_type": "markdown",
   "metadata": {},
   "source": [
    "If $X_i$ and $X_j$ are independent, we get"
   ]
  },
  {
   "cell_type": "markdown",
   "metadata": {},
   "source": [
    "$$\n",
    "\\langle x_i x_j\\rangle =\n",
    "\\langle x_i\\rangle\\langle x_j\\rangle=\\mathrm{Cov}(X_i, X_j) = 0\\ \\ (i\\neq j).\n",
    "$$"
   ]
  },
  {
   "cell_type": "markdown",
   "metadata": {},
   "source": [
    "## Numerical experiments and the covariance\n",
    "\n",
    "Now that we have constructed an idealized mathematical framework, let\n",
    "us try to apply it to empirical observations. Examples of relevant\n",
    "physical phenomena may be spontaneous decays of nuclei, or a purely\n",
    "mathematical set of numbers produced by some deterministic\n",
    "mechanism. It is the latter we will deal with, using so-called pseudo-random\n",
    "number generators.  In general our observations will contain only a limited set of\n",
    "observables. We remind the reader that\n",
    "a *stochastic process* is a process that produces sequentially a\n",
    "chain of values"
   ]
  },
  {
   "cell_type": "markdown",
   "metadata": {},
   "source": [
    "$$\n",
    "\\{x_1, x_2,\\dots\\,x_k,\\dots\\}.\n",
    "$$"
   ]
  },
  {
   "cell_type": "markdown",
   "metadata": {},
   "source": [
    "## Numerical experiments and the covariance\n",
    "We will call these\n",
    "values our *measurements* and the entire set as our measured\n",
    "*sample*.  The action of measuring all the elements of a sample\n",
    "we will call a stochastic *experiment* (since, operationally,\n",
    "they are often associated with results of empirical observation of\n",
    "some physical or mathematical phenomena; precisely an experiment). We\n",
    "assume that these values are distributed according to some \n",
    "PDF $p_X^{\\phantom X}(x)$, where $X$ is just the formal symbol for the\n",
    "stochastic variable whose PDF is $p_X^{\\phantom X}(x)$. Instead of\n",
    "trying to determine the full distribution $p$ we are often only\n",
    "interested in finding the few lowest moments, like the mean\n",
    "$\\mu_X^{\\phantom X}$ and the variance $\\sigma_X^{\\phantom X}$.\n",
    "\n",
    "\n",
    "\n",
    "\n",
    "## Numerical experiments and the covariance, actual situations\n",
    "In practical situations however, a sample is always of finite size. Let that\n",
    "size be $n$. The expectation value of a sample $\\alpha$, the **sample mean**, is then defined as follows"
   ]
  },
  {
   "cell_type": "markdown",
   "metadata": {},
   "source": [
    "$$\n",
    "\\langle x_{\\alpha} \\rangle \\equiv \\frac{1}{n}\\sum_{k=1}^n x_{\\alpha,k}.\n",
    "$$"
   ]
  },
  {
   "cell_type": "markdown",
   "metadata": {},
   "source": [
    "The *sample variance* is:"
   ]
  },
  {
   "cell_type": "markdown",
   "metadata": {},
   "source": [
    "$$\n",
    "\\mathrm{Var}(x) \\equiv \\frac{1}{n}\\sum_{k=1}^n (x_{\\alpha,k} - \\langle x_{\\alpha} \\rangle)^2,\n",
    "$$"
   ]
  },
  {
   "cell_type": "markdown",
   "metadata": {},
   "source": [
    "with its square root being the *standard deviation of the sample*.\n",
    "\n",
    "\n",
    "\n",
    "\n",
    "## Numerical experiments and the covariance, our observables\n",
    "You can think of the above observables as a set of quantities which define\n",
    "a given experiment. This experiment is then repeated several times, say $m$ times.\n",
    "The total average is then"
   ]
  },
  {
   "cell_type": "markdown",
   "metadata": {},
   "source": [
    "<!-- Equation labels as ordinary links -->\n",
    "<div id=\"eq:exptmean\"></div>\n",
    "\n",
    "$$\n",
    "\\begin{equation}\n",
    "\\langle X_m \\rangle= \\frac{1}{m}\\sum_{\\alpha=1}^mx_{\\alpha}=\\frac{1}{mn}\\sum_{\\alpha, k} x_{\\alpha,k},\n",
    "\\label{eq:exptmean} \\tag{8}\n",
    "\\end{equation}\n",
    "$$"
   ]
  },
  {
   "cell_type": "markdown",
   "metadata": {},
   "source": [
    "where the last sums end at $m$ and $n$.\n",
    "The total variance is"
   ]
  },
  {
   "cell_type": "markdown",
   "metadata": {},
   "source": [
    "$$\n",
    "\\sigma^2_m= \\frac{1}{mn^2}\\sum_{\\alpha=1}^m(\\langle x_{\\alpha} \\rangle-\\langle X_m \\rangle)^2,\n",
    "$$"
   ]
  },
  {
   "cell_type": "markdown",
   "metadata": {},
   "source": [
    "which we rewrite as"
   ]
  },
  {
   "cell_type": "markdown",
   "metadata": {},
   "source": [
    "<!-- Equation labels as ordinary links -->\n",
    "<div id=\"eq:exptvariance\"></div>\n",
    "\n",
    "$$\n",
    "\\begin{equation}\n",
    "\\sigma^2_m=\\frac{1}{m}\\sum_{\\alpha=1}^m\\sum_{kl=1}^n (x_{\\alpha,k}-\\langle X_m \\rangle)(x_{\\alpha,l}-\\langle X_m \\rangle).\n",
    "\\label{eq:exptvariance} \\tag{9}\n",
    "\\end{equation}\n",
    "$$"
   ]
  },
  {
   "cell_type": "markdown",
   "metadata": {},
   "source": [
    "## Numerical experiments and the covariance, the sample variance\n",
    "\n",
    "We define also the sample variance $\\sigma^2$ of all $mn$ individual experiments as"
   ]
  },
  {
   "cell_type": "markdown",
   "metadata": {},
   "source": [
    "<!-- Equation labels as ordinary links -->\n",
    "<div id=\"eq:sampleexptvariance\"></div>\n",
    "\n",
    "$$\n",
    "\\begin{equation}\n",
    "\\sigma^2=\\frac{1}{mn}\\sum_{\\alpha=1}^m\\sum_{k=1}^n (x_{\\alpha,k}-\\langle X_m \\rangle)^2.\n",
    "\\label{eq:sampleexptvariance} \\tag{10}\n",
    "\\end{equation}\n",
    "$$"
   ]
  },
  {
   "cell_type": "markdown",
   "metadata": {},
   "source": [
    "These quantities, being known experimental values or the results from our calculations, \n",
    "may differ, in some cases\n",
    "significantly,  from the similarly named\n",
    "exact values for the mean value $\\mu_X$, the variance $\\mathrm{Var}(X)$\n",
    "and the covariance $\\mathrm{Cov}(X,Y)$.\n",
    "\n",
    "\n",
    "\n",
    "## Numerical experiments and the covariance, central limit theorem\n",
    "\n",
    "The central limit theorem states that the PDF $\\tilde{p}(z)$ of\n",
    "the average of $m$ random values corresponding to a PDF $p(x)$ \n",
    "is a normal distribution whose mean is the \n",
    "mean value of the PDF $p(x)$ and whose variance is the variance\n",
    "of the PDF $p(x)$ divided by $m$, the number of values used to compute $z$.\n",
    "\n",
    "The central limit theorem leads then to the well-known expression for the\n",
    "standard deviation, given by"
   ]
  },
  {
   "cell_type": "markdown",
   "metadata": {},
   "source": [
    "$$\n",
    "\\sigma_m=\n",
    "\\frac{\\sigma}{\\sqrt{m}}.\n",
    "$$"
   ]
  },
  {
   "cell_type": "markdown",
   "metadata": {},
   "source": [
    "In many cases the above estimate for the standard deviation, in particular if correlations are strong, may be too simplistic.  We need therefore a more precise defintion of the error and the variance in our results.\n",
    "\n",
    "\n",
    "\n",
    "## Definition of Correlation Functions and Standard Deviation\n",
    "Our estimate of the true average $\\mu_{X}$ is the sample mean $\\langle X_m \\rangle$"
   ]
  },
  {
   "cell_type": "markdown",
   "metadata": {},
   "source": [
    "$$\n",
    "\\mu_{X}^{\\phantom X} \\approx X_m=\\frac{1}{mn}\\sum_{\\alpha=1}^m\\sum_{k=1}^n x_{\\alpha,k}.\n",
    "$$"
   ]
  },
  {
   "cell_type": "markdown",
   "metadata": {},
   "source": [
    "We can then use Eq. ([eq:exptvariance](#eq:exptvariance))"
   ]
  },
  {
   "cell_type": "markdown",
   "metadata": {},
   "source": [
    "$$\n",
    "\\sigma^2_m=\\frac{1}{mn^2}\\sum_{\\alpha=1}^m\\sum_{kl=1}^n (x_{\\alpha,k}-\\langle X_m \\rangle)(x_{\\alpha,l}-\\langle X_m \\rangle),\n",
    "$$"
   ]
  },
  {
   "cell_type": "markdown",
   "metadata": {},
   "source": [
    "and rewrite it as"
   ]
  },
  {
   "cell_type": "markdown",
   "metadata": {},
   "source": [
    "$$\n",
    "\\sigma^2_m=\\frac{\\sigma^2}{n}+\\frac{2}{mn^2}\\sum_{\\alpha=1}^m\\sum_{k<l}^n (x_{\\alpha,k}-\\langle X_m \\rangle)(x_{\\alpha,l}-\\langle X_m \\rangle),\n",
    "$$"
   ]
  },
  {
   "cell_type": "markdown",
   "metadata": {},
   "source": [
    "where the first term is the sample variance of all $mn$ experiments divided by $n$\n",
    "and the last term is nothing but the covariance which arises when $k\\ne l$.\n",
    "\n",
    "\n",
    "\n",
    "\n",
    "\n",
    "\n",
    "\n",
    "## Definition of Correlation Functions and Standard Deviation\n",
    "Our estimate of the true average $\\mu_{X}$ is the sample mean $\\langle X_m \\rangle$\n",
    "\n",
    "If the \n",
    "observables are uncorrelated, then the covariance is zero and we obtain a total variance\n",
    "which agrees with the central limit theorem. Correlations may often be present in our data set, resulting in a non-zero covariance.  The first term is normally called the uncorrelated \n",
    "contribution.\n",
    "Computationally the uncorrelated first term is much easier to treat\n",
    "efficiently than the second.\n",
    "We just accumulate separately the values $x^2$ and $x$ for every\n",
    "measurement $x$ we receive. The correlation term, though, has to be\n",
    "calculated at the end of the experiment since we need all the\n",
    "measurements to calculate the cross terms. Therefore, all measurements\n",
    "have to be stored throughout the experiment.\n",
    "\n",
    "\n",
    "\n",
    "## Definition of Correlation Functions and Standard Deviation\n",
    "\n",
    "Let us analyze the problem by splitting up the correlation term into\n",
    "partial sums of the form"
   ]
  },
  {
   "cell_type": "markdown",
   "metadata": {},
   "source": [
    "$$\n",
    "f_d = \\frac{1}{nm}\\sum_{\\alpha=1}^m\\sum_{k=1}^{n-d}(x_{\\alpha,k}-\\langle X_m \\rangle)(x_{\\alpha,k+d}-\\langle X_m \\rangle),\n",
    "$$"
   ]
  },
  {
   "cell_type": "markdown",
   "metadata": {},
   "source": [
    "The correlation term of the total variance can now be rewritten in terms of\n",
    "$f_d$"
   ]
  },
  {
   "cell_type": "markdown",
   "metadata": {},
   "source": [
    "$$\n",
    "\\frac{2}{mn^2}\\sum_{\\alpha=1}^m\\sum_{k<l}^n (x_{\\alpha,k}-\\langle X_m \\rangle)(x_{\\alpha,l}-\\langle X_m \\rangle)=\n",
    "\\frac{2}{n}\\sum_{d=1}^{n-1} f_d\n",
    "$$"
   ]
  },
  {
   "cell_type": "markdown",
   "metadata": {},
   "source": [
    "## Definition of Correlation Functions and Standard Deviation\n",
    "The value of $f_d$ reflects the correlation between measurements\n",
    "separated by the distance $d$ in the samples.  Notice that for\n",
    "$d=0$, $f$ is just the sample variance, $\\sigma^2$. If we divide $f_d$\n",
    "by $\\sigma^2$, we arrive at the so called **autocorrelation function**"
   ]
  },
  {
   "cell_type": "markdown",
   "metadata": {},
   "source": [
    "<!-- Equation labels as ordinary links -->\n",
    "<div id=\"eq:autocorrelformal\"></div>\n",
    "\n",
    "$$\n",
    "\\begin{equation}\n",
    "\\kappa_d = \\frac{f_d}{\\sigma^2}\n",
    "\\label{eq:autocorrelformal} \\tag{11}\n",
    "\\end{equation}\n",
    "$$"
   ]
  },
  {
   "cell_type": "markdown",
   "metadata": {},
   "source": [
    "which gives us a useful measure of the correlation pair correlation\n",
    "starting always at $1$ for $d=0$.\n",
    "\n",
    "\n",
    "\n",
    "## Definition of Correlation Functions and Standard Deviation, sample variance\n",
    "\n",
    "The sample variance of the $mn$ experiments can now be\n",
    "written in terms of the autocorrelation function"
   ]
  },
  {
   "cell_type": "markdown",
   "metadata": {},
   "source": [
    "<!-- Equation labels as ordinary links -->\n",
    "<div id=\"eq:error_estimate_corr_time\"></div>\n",
    "\n",
    "$$\n",
    "\\begin{equation}\n",
    "\\sigma_m^2=\\frac{\\sigma^2}{n}+\\frac{2}{n}\\cdot\\sigma^2\\sum_{d=1}^{n-1}\n",
    "\\frac{f_d}{\\sigma^2}=\\left(1+2\\sum_{d=1}^{n-1}\\kappa_d\\right)\\frac{1}{n}\\sigma^2=\\frac{\\tau}{n}\\cdot\\sigma^2\n",
    "\\label{eq:error_estimate_corr_time} \\tag{12}\n",
    "\\end{equation}\n",
    "$$"
   ]
  },
  {
   "cell_type": "markdown",
   "metadata": {},
   "source": [
    "and we see that $\\sigma_m$ can be expressed in terms of the\n",
    "uncorrelated sample variance times a correction factor $\\tau$ which\n",
    "accounts for the correlation between measurements. We call this\n",
    "correction factor the *autocorrelation time*"
   ]
  },
  {
   "cell_type": "markdown",
   "metadata": {},
   "source": [
    "<!-- Equation labels as ordinary links -->\n",
    "<div id=\"eq:autocorrelation_time\"></div>\n",
    "\n",
    "$$\n",
    "\\begin{equation}\n",
    "\\tau = 1+2\\sum_{d=1}^{n-1}\\kappa_d\n",
    "\\label{eq:autocorrelation_time} \\tag{13}\n",
    "\\end{equation}\n",
    "$$"
   ]
  },
  {
   "cell_type": "markdown",
   "metadata": {},
   "source": [
    "<!-- It is closely related to the area under the graph of the -->\n",
    "<!-- autocorrelation function. -->\n",
    "For a correlation free experiment, $\\tau$\n",
    "equals 1.\n",
    "\n",
    "\n",
    "\n",
    "\n",
    "\n",
    "## Definition of Correlation Functions and Standard Deviation\n",
    "From the point of view of\n",
    "Eq. ([eq:error_estimate_corr_time](#eq:error_estimate_corr_time)) we can interpret a sequential\n",
    "correlation as an effective reduction of the number of measurements by\n",
    "a factor $\\tau$. The effective number of measurements becomes"
   ]
  },
  {
   "cell_type": "markdown",
   "metadata": {},
   "source": [
    "$$\n",
    "n_\\mathrm{eff} = \\frac{n}{\\tau}\n",
    "$$"
   ]
  },
  {
   "cell_type": "markdown",
   "metadata": {},
   "source": [
    "To neglect the autocorrelation time $\\tau$ will always cause our\n",
    "simple uncorrelated estimate of $\\sigma_m^2\\approx \\sigma^2/n$ to\n",
    "be less than the true sample error. The estimate of the error will be\n",
    "too \"good\". On the other hand, the calculation of the full\n",
    "autocorrelation time poses an efficiency problem if the set of\n",
    "measurements is very large.  The solution to this problem is given by \n",
    "more practically oriented methods like the blocking technique.\n",
    "<!-- add ref here to flybjerg -->\n",
    "\n",
    "\n",
    "\n",
    "# Random Numbers\n",
    "\n",
    "Uniform deviates are just random numbers that lie within a specified range\n",
    "(typically 0 to 1), with any one number in the range just as likely as any other. They\n",
    "are, in other words, what you probably think random numbers are. However,\n",
    "we want to distinguish uniform deviates from other sorts of random numbers, for\n",
    "example numbers drawn from a normal (Gaussian) distribution of specified mean\n",
    "and standard deviation. These other sorts of deviates are almost always generated by\n",
    "performing appropriate operations on one or more uniform deviates, as we will see\n",
    "in subsequent sections. So, a reliable source of random uniform deviates, the subject\n",
    "of this section, is an essential building block for any sort of stochastic modeling\n",
    "or Monte Carlo computer work.\n",
    "<!-- dom:FIGURE: [figslides/random.gif, width=500 frac=0.6]  -->\n",
    "<!-- begin figure -->\n",
    "\n",
    "<p></p>\n",
    "<img src=\"figslides/random.gif\" width=500>\n",
    "\n",
    "<!-- end figure -->\n",
    "\n",
    "\n",
    "\n",
    "\n",
    "\n",
    "\n",
    "# Random Numbers, better name: pseudo random numbers\n",
    "\n",
    "A disclaimer is however appropriate. It should be fairly obvious that \n",
    "something as deterministic as a computer cannot generate purely random numbers.\n",
    "\n",
    "Numbers generated by any of the standard algorithms are in reality pseudo random\n",
    "numbers, hopefully abiding to the following criteria:\n",
    "\n",
    "  * they produce a uniform distribution in the interval [0,1].\n",
    "\n",
    "  * correlations between random numbers are negligible\n",
    "\n",
    "  * the period before the same sequence of random numbers is repeated   is as large as possible and finally\n",
    "\n",
    "  * the algorithm should be fast.\n",
    "\n",
    "\n",
    "\n",
    "\n",
    "# Random number generator RNG\n",
    " The most common random number generators are based on so-called\n",
    "Linear congruential relations of the type"
   ]
  },
  {
   "cell_type": "markdown",
   "metadata": {},
   "source": [
    "$$\n",
    "N_i=(aN_{i-1}+c) \\mathrm{MOD} (M),\n",
    "$$"
   ]
  },
  {
   "cell_type": "markdown",
   "metadata": {},
   "source": [
    "which yield a number in the interval [0,1] through"
   ]
  },
  {
   "cell_type": "markdown",
   "metadata": {},
   "source": [
    "$$\n",
    "x_i=N_i/M\n",
    "$$"
   ]
  },
  {
   "cell_type": "markdown",
   "metadata": {},
   "source": [
    "The number \n",
    "$M$ is called the period and it should be as large as possible \n",
    " and \n",
    "$N_0$ is the starting value, or seed. The function $\\mathrm{MOD}$ means the remainder,\n",
    "that is if we were to evaluate $(13)\\mathrm{MOD}(9)$, the outcome is the remainder\n",
    "of the division $13/9$, namely $4$.\n",
    "\n",
    "\n",
    "\n",
    "# Random number generator RNG and periodic outputs\n",
    "\n",
    "The problem with such generators is that their outputs are periodic;\n",
    "they \n",
    "will start to repeat themselves with a period that is at most $M$. If however\n",
    "the parameters $a$ and $c$ are badly chosen, the period may be even shorter.\n",
    "\n",
    "Consider the following example"
   ]
  },
  {
   "cell_type": "markdown",
   "metadata": {},
   "source": [
    "$$\n",
    "N_i=(6N_{i-1}+7) \\mathrm{MOD} (5),\n",
    "$$"
   ]
  },
  {
   "cell_type": "markdown",
   "metadata": {},
   "source": [
    "with a seed $N_0=2$. This generator produces the sequence\n",
    "$4,1,3,0,2,4,1,3,0,2,...\\dots$, i.e., a sequence with period $5$.\n",
    "However, increasing $M$ may not guarantee a larger period as the following\n",
    "example shows"
   ]
  },
  {
   "cell_type": "markdown",
   "metadata": {},
   "source": [
    "$$\n",
    "N_i=(27N_{i-1}+11) \\mathrm{MOD} (54),\n",
    "$$"
   ]
  },
  {
   "cell_type": "markdown",
   "metadata": {},
   "source": [
    "which still, with $N_0=2$, results in $11,38,11,38,11,38,\\dots$, a period of\n",
    "just $2$.\n",
    "\n",
    "\n",
    "\n",
    "# Random number generator RNG and its period\n",
    "Typical periods for the random generators provided in the program library \n",
    "are of the order of $\\sim 10^9$ or larger. Other random number generators which have\n",
    "become increasingly popular are so-called shift-register generators.\n",
    "In these generators each successive number depends on many preceding\n",
    "values (rather than the last values as in the linear congruential\n",
    "generator).\n",
    "For example, you could make a shift register generator whose $l$th \n",
    "number is the sum of the $l-i$th and $l-j$th values with modulo $M$,"
   ]
  },
  {
   "cell_type": "markdown",
   "metadata": {},
   "source": [
    "$$\n",
    "N_l=(aN_{l-i}+cN_{l-j})\\mathrm{MOD}(M).\n",
    "$$"
   ]
  },
  {
   "cell_type": "markdown",
   "metadata": {},
   "source": [
    "# Random number generator RNG, other examples\n",
    "Such a generator again produces a sequence of pseudorandom numbers\n",
    "but this time with a period much larger than $M$.\n",
    "It is also possible to construct more elaborate algorithms by including\n",
    "more than two past terms in the sum of each iteration.\n",
    "One example is the generator of [Marsaglia and Zaman](http://dl.acm.org/citation.cfm?id=187154)\n",
    "which consists of two congruential relations"
   ]
  },
  {
   "cell_type": "markdown",
   "metadata": {},
   "source": [
    "<!-- Equation labels as ordinary links -->\n",
    "<div id=\"eq:mz1\"></div>\n",
    "\n",
    "$$\n",
    "\\begin{equation}\n",
    "   N_l=(N_{l-3}-N_{l-1})\\mathrm{MOD}(2^{31}-69),\n",
    "\\label{eq:mz1} \\tag{14}\n",
    "\\end{equation}\n",
    "$$"
   ]
  },
  {
   "cell_type": "markdown",
   "metadata": {},
   "source": [
    "followed by"
   ]
  },
  {
   "cell_type": "markdown",
   "metadata": {},
   "source": [
    "<!-- Equation labels as ordinary links -->\n",
    "<div id=\"eq:mz2\"></div>\n",
    "\n",
    "$$\n",
    "\\begin{equation}\n",
    "   N_l=(69069N_{l-1}+1013904243)\\mathrm{MOD}(2^{32}),\n",
    "\\label{eq:mz2} \\tag{15}\n",
    "\\end{equation}\n",
    "$$"
   ]
  },
  {
   "cell_type": "markdown",
   "metadata": {},
   "source": [
    "which according to the authors has a period larger than $2^{94}$.\n",
    "\n",
    "\n",
    "\n",
    "# Random number generator RNG, other examples\n",
    "Instead of  using modular addition, we could use the bitwise\n",
    "exclusive-OR ($\\oplus$) operation so that"
   ]
  },
  {
   "cell_type": "markdown",
   "metadata": {},
   "source": [
    "$$\n",
    "N_l=(N_{l-i})\\oplus (N_{l-j})\n",
    "$$"
   ]
  },
  {
   "cell_type": "markdown",
   "metadata": {},
   "source": [
    "where the bitwise action of $\\oplus$ means that if $N_{l-i}=N_{l-j}$ the result is\n",
    "$0$ whereas if $N_{l-i}\\ne N_{l-j}$ the result is\n",
    "$1$. As an example, consider the case where  $N_{l-i}=6$ and $N_{l-j}=11$. The first\n",
    "one has a bit representation (using 4 bits only) which reads $0110$ whereas the \n",
    "second number is $1011$. Employing the $\\oplus$ operator yields \n",
    "$1101$, or $2^3+2^2+2^0=13$.\n",
    "\n",
    "In Fortran90, the bitwise $\\oplus$ operation is coded through the intrinsic\n",
    "function $\\mathrm{IEOR}(m,n)$ where $m$ and $n$ are the input numbers, while in $C$\n",
    "it is given by $m\\wedge n$.\n",
    "\n",
    "\n",
    "\n",
    "\n",
    "# Random number generator RNG, RAN0\n",
    "\n",
    "We show here how the linear congruential algorithm can be implemented, namely"
   ]
  },
  {
   "cell_type": "markdown",
   "metadata": {},
   "source": [
    "$$\n",
    "N_i=(aN_{i-1}) \\mathrm{MOD} (M).\n",
    "$$"
   ]
  },
  {
   "cell_type": "markdown",
   "metadata": {},
   "source": [
    "However, since $a$ and $N_{i-1}$ are integers and their multiplication \n",
    "could become greater than the standard 32 bit integer, there is a trick via \n",
    "Schrage's algorithm which approximates the multiplication\n",
    "of large integers through the factorization"
   ]
  },
  {
   "cell_type": "markdown",
   "metadata": {},
   "source": [
    "$$\n",
    "M=aq+r,\n",
    "$$"
   ]
  },
  {
   "cell_type": "markdown",
   "metadata": {},
   "source": [
    "where we have defined"
   ]
  },
  {
   "cell_type": "markdown",
   "metadata": {},
   "source": [
    "$$\n",
    "q=[M/a],\n",
    "$$"
   ]
  },
  {
   "cell_type": "markdown",
   "metadata": {},
   "source": [
    "and"
   ]
  },
  {
   "cell_type": "markdown",
   "metadata": {},
   "source": [
    "$$\n",
    "r = M\\hspace{0.1cm}\\mathrm{MOD} \\hspace{0.1cm}a.\n",
    "$$"
   ]
  },
  {
   "cell_type": "markdown",
   "metadata": {},
   "source": [
    "where the brackets denote integer division. In the code below the numbers \n",
    "$q$ and $r$ are chosen so that $r < q$.\n",
    "\n",
    "\n",
    "\n",
    "\n",
    "\n",
    "# Random number generator RNG, RAN0\n",
    "\n",
    "To see how this works we note first that"
   ]
  },
  {
   "cell_type": "markdown",
   "metadata": {},
   "source": [
    "<!-- Equation labels as ordinary links -->\n",
    "<div id=\"eq:rntrick1\"></div>\n",
    "\n",
    "$$\n",
    "\\begin{equation}\n",
    "(aN_{i-1}) \\mathrm{MOD} (M)= (aN_{i-1}-[N_{i-1}/q]M)\\mathrm{MOD} (M),\n",
    "\\label{eq:rntrick1} \\tag{16}\n",
    "\\end{equation}\n",
    "$$"
   ]
  },
  {
   "cell_type": "markdown",
   "metadata": {},
   "source": [
    "since we can add or subtract any integer multiple of $M$ from $aN_{i-1}$.\n",
    "The last term $[N_{i-1}/q]M\\mathrm{MOD}(M)$ is zero since the integer division \n",
    "$[N_{i-1}/q]$ just yields a constant which is multiplied with $M$.\n",
    "\n",
    "\n",
    "\n",
    "\n",
    "# Random number generator RNG, RAN0\n",
    "We can now rewrite Eq. ([eq:rntrick1](#eq:rntrick1)) as"
   ]
  },
  {
   "cell_type": "markdown",
   "metadata": {},
   "source": [
    "<!-- Equation labels as ordinary links -->\n",
    "<div id=\"eq:rntrick2\"></div>\n",
    "\n",
    "$$\n",
    "\\begin{equation}\n",
    "(aN_{i-1}) \\mathrm{MOD} (M)= (aN_{i-1}-[N_{i-1}/q](aq+r))\\mathrm{MOD} (M),\n",
    "\\label{eq:rntrick2} \\tag{17}\n",
    "\\end{equation}\n",
    "$$"
   ]
  },
  {
   "cell_type": "markdown",
   "metadata": {},
   "source": [
    "which results\n",
    "in"
   ]
  },
  {
   "cell_type": "markdown",
   "metadata": {},
   "source": [
    "<!-- Equation labels as ordinary links -->\n",
    "<div id=\"eq:rntrick3\"></div>\n",
    "\n",
    "$$\n",
    "\\begin{equation}\n",
    "(aN_{i-1}) \\mathrm{MOD} (M)= \\left(a(N_{i-1}-[N_{i-1}/q]q)-[N_{i-1}/q]r)\\right)\\mathrm{MOD} (M),\n",
    "\\label{eq:rntrick3} \\tag{18}\n",
    "\\end{equation}\n",
    "$$"
   ]
  },
  {
   "cell_type": "markdown",
   "metadata": {},
   "source": [
    "yielding"
   ]
  },
  {
   "cell_type": "markdown",
   "metadata": {},
   "source": [
    "<!-- Equation labels as ordinary links -->\n",
    "<div id=\"eq:rntrick4\"></div>\n",
    "\n",
    "$$\n",
    "\\begin{equation}\n",
    "(aN_{i-1}) \\mathrm{MOD} (M)= \\left(a(N_{i-1}\\mathrm{MOD} (q)) -[N_{i-1}/q]r)\\right)\\mathrm{MOD} (M).\n",
    "\\label{eq:rntrick4} \\tag{19}\n",
    "\\end{equation}\n",
    "$$"
   ]
  },
  {
   "cell_type": "markdown",
   "metadata": {},
   "source": [
    "# Random number generator RNG, RAN0\n",
    "The term $[N_{i-1}/q]r$ is always smaller or equal $N_{i-1}(r/q)$ and with $r < q$ we obtain always a \n",
    "number smaller than $N_{i-1}$, which is smaller than $M$. \n",
    "And since the number $N_{i-1}\\mathrm{MOD} (q)$ is between zero and $q-1$ then\n",
    "$a(N_{i-1}\\mathrm{MOD} (q))< aq$. Combined with our definition of $q=[M/a]$ ensures that \n",
    "this term is also smaller than $M$ meaning that both terms fit into a\n",
    "32-bit signed integer. None of these two terms can be negative, but their difference could.\n",
    "The algorithm below adds $M$ if their difference is negative.\n",
    "Note that the program uses the bitwise $\\oplus$ operator to generate\n",
    "the starting point for each generation of a random number. The period\n",
    "of $ran0$ is $\\sim 2.1\\times 10^{9}$. A special feature of this\n",
    "algorithm is that is should never be called with the initial seed \n",
    "set to $0$.\n",
    "\n",
    "\n",
    "\n",
    "\n",
    "# Random number generator RNG, RAN0 code"
   ]
  },
  {
   "cell_type": "markdown",
   "metadata": {},
   "source": [
    "            /*\n",
    "             ** The function\n",
    "             **           ran0()\n",
    "             ** is an \"Minimal\" random number generator of Park and Miller\n",
    "             ** Set or reset the input value\n",
    "             ** idum to any integer value (except the unlikely value MASK)\n",
    "             ** to initialize the sequence; idum must not be altered between\n",
    "             ** calls for sucessive deviates in a sequence.\n",
    "             ** The function returns a uniform deviate between 0.0 and 1.0.\n",
    "             */\n",
    "        double ran0(long &idum)\n",
    "        {\n",
    "           const int a = 16807, m = 2147483647, q = 127773;\n",
    "           const int r = 2836, MASK = 123459876;\n",
    "           const double am = 1./m;\n",
    "           long     k;\n",
    "           double   ans;\n",
    "           idum ^= MASK;\n",
    "           k = (*idum)/q;\n",
    "           idum = a*(idum - k*q) - r*k;\n",
    "           // add m if negative difference\n",
    "           if(idum < 0) idum += m;\n",
    "           ans=am*(idum);\n",
    "           idum ^= MASK;\n",
    "           return ans;\n",
    "        } // End: function ran0() \n"
   ]
  },
  {
   "cell_type": "markdown",
   "metadata": {},
   "source": [
    "## Properties of Selected Random Number Generators\n",
    "\n",
    "As mentioned previously, the underlying PDF for the generation of\n",
    "random numbers is the uniform distribution, meaning that the \n",
    "probability for finding a number $x$ in the interval [0,1] is $p(x)=1$.\n",
    "\n",
    "A random number generator should produce numbers which are uniformly distributed\n",
    "in this interval. The table  shows the distribution of $N=10000$ random\n",
    "numbers generated by the functions in the program library.\n",
    "We note in this table that the number of points in the various\n",
    "intervals $0.0-0.1$, $0.1-0.2$ etc are fairly close to $1000$, with some minor\n",
    "deviations. \n",
    "\n",
    "Two additional measures are the standard deviation $\\sigma$ and the mean\n",
    "$\\mu=\\langle x\\rangle$.\n",
    "\n",
    "\n",
    "\n",
    "## Properties of Selected Random Number Generators\n",
    "For the uniform distribution, the mean value $\\mu$ is then"
   ]
  },
  {
   "cell_type": "markdown",
   "metadata": {},
   "source": [
    "$$\n",
    "\\mu=\\langle x\\rangle=\\frac{1}{2}\n",
    "$$"
   ]
  },
  {
   "cell_type": "markdown",
   "metadata": {},
   "source": [
    "while the standard deviation is"
   ]
  },
  {
   "cell_type": "markdown",
   "metadata": {},
   "source": [
    "$$\n",
    "\\sigma=\\sqrt{\\langle x^2\\rangle-\\mu^2}=\\frac{1}{\\sqrt{12}}=0.2886.\n",
    "$$"
   ]
  },
  {
   "cell_type": "markdown",
   "metadata": {},
   "source": [
    "## Properties of Selected Random Number Generators\n",
    "The various random number generators produce results which agree rather well with\n",
    "these limiting values. \n",
    "\n",
    "<table border=\"1\">\n",
    "<thead>\n",
    "<tr><th align=\"center\">$x$-bin </th> <th align=\"center\"> ran0 </th> <th align=\"center\"> ran1 </th> <th align=\"center\"> ran2 </th> <th align=\"center\"> ran3 </th> </tr>\n",
    "</thead>\n",
    "<tbody>\n",
    "<tr><td align=\"center\">   0.0-0.1     </td> <td align=\"right\">   1013      </td> <td align=\"right\">   991       </td> <td align=\"right\">   938       </td> <td align=\"right\">   1047      </td> </tr>\n",
    "<tr><td align=\"center\">   0.1-0.2     </td> <td align=\"right\">   1002      </td> <td align=\"right\">   1009      </td> <td align=\"right\">   1040      </td> <td align=\"right\">   1030      </td> </tr>\n",
    "<tr><td align=\"center\">   0.2-0.3     </td> <td align=\"right\">   989       </td> <td align=\"right\">   999       </td> <td align=\"right\">   1030      </td> <td align=\"right\">   993       </td> </tr>\n",
    "<tr><td align=\"center\">   0.3-0.4     </td> <td align=\"right\">   939       </td> <td align=\"right\">   960       </td> <td align=\"right\">   1023      </td> <td align=\"right\">   937       </td> </tr>\n",
    "<tr><td align=\"center\">   0.4-0.5     </td> <td align=\"right\">   1038      </td> <td align=\"right\">   1001      </td> <td align=\"right\">   1002      </td> <td align=\"right\">   992       </td> </tr>\n",
    "<tr><td align=\"center\">   0.5-0.6     </td> <td align=\"right\">   1037      </td> <td align=\"right\">   1047      </td> <td align=\"right\">   1009      </td> <td align=\"right\">   1009      </td> </tr>\n",
    "<tr><td align=\"center\">   0.6-0.7     </td> <td align=\"right\">   1005      </td> <td align=\"right\">   989       </td> <td align=\"right\">   1003      </td> <td align=\"right\">   989       </td> </tr>\n",
    "<tr><td align=\"center\">   0.7-0.8     </td> <td align=\"right\">   986       </td> <td align=\"right\">   962       </td> <td align=\"right\">   985       </td> <td align=\"right\">   954       </td> </tr>\n",
    "<tr><td align=\"center\">   0.8-0.9     </td> <td align=\"right\">   1000      </td> <td align=\"right\">   1027      </td> <td align=\"right\">   1009      </td> <td align=\"right\">   1023      </td> </tr>\n",
    "<tr><td align=\"center\">   0.9-1.0     </td> <td align=\"right\">   991       </td> <td align=\"right\">   1015      </td> <td align=\"right\">   961       </td> <td align=\"right\">   1026      </td> </tr>\n",
    "<tr><td align=\"center\">   $\\mu$       </td> <td align=\"right\">   0.4997    </td> <td align=\"right\">   0.5018    </td> <td align=\"right\">   0.4992    </td> <td align=\"right\">   0.4990    </td> </tr>\n",
    "<tr><td align=\"center\">   $\\sigma$    </td> <td align=\"right\">   0.2882    </td> <td align=\"right\">   0.2892    </td> <td align=\"right\">   0.2861    </td> <td align=\"right\">   0.2915    </td> </tr>\n",
    "</tbody>\n",
    "</table>\n",
    "\n",
    "\n",
    "\n",
    "## Simple demonstration of RNGs using python\n",
    "The following simple Python code plots the distribution of the produced random numbers using the linear congruential RNG employed by Python. The trend displayed in the previous table is seen rather clearly."
   ]
  },
  {
   "cell_type": "code",
   "execution_count": 4,
   "metadata": {
    "collapsed": false
   },
   "outputs": [],
   "source": [
    "#!/usr/bin/env python\n",
    "import numpy as np\n",
    "import matplotlib.mlab as mlab\n",
    "import matplotlib.pyplot as plt\n",
    "import random\n",
    "\n",
    "# initialize the rng with a seed\n",
    "random.seed() \n",
    "counts = 10000\n",
    "values = np.zeros(counts)   \n",
    "for i in range (1, counts, 1):\n",
    "    values[i] = random.random()\n",
    "\n",
    "# the histogram of the data\n",
    "n, bins, patches = plt.hist(values, 10, facecolor='green')\n",
    "\n",
    "plt.xlabel('$x$')\n",
    "plt.ylabel('Number of counts')\n",
    "plt.title(r'Test of uniform distribution')\n",
    "plt.axis([0, 1, 0, 1100])\n",
    "plt.grid(True)\n",
    "plt.show()"
   ]
  },
  {
   "cell_type": "markdown",
   "metadata": {},
   "source": [
    "## Properties of Selected Random Number Generators\n",
    "Since our random numbers, which are typically generated via a linear congruential algorithm,\n",
    "are never fully independent, we can then define \n",
    "an important test which measures the degree of correlation, namely the  so-called  \n",
    "auto-correlation function defined previously, see again Eq. ([eq:autocorrelformal](#eq:autocorrelformal)).\n",
    "We rewrite it here as"
   ]
  },
  {
   "cell_type": "markdown",
   "metadata": {},
   "source": [
    "$$\n",
    "C_k=\\frac{f_d}\n",
    "             {\\sigma^2},\n",
    "$$"
   ]
  },
  {
   "cell_type": "markdown",
   "metadata": {},
   "source": [
    "with $C_0=1$. Recall that \n",
    "$\\sigma^2=\\langle x_i^2\\rangle-\\langle x_i\\rangle^2$ and that"
   ]
  },
  {
   "cell_type": "markdown",
   "metadata": {},
   "source": [
    "$$\n",
    "f_d = \\frac{1}{nm}\\sum_{\\alpha=1}^m\\sum_{k=1}^{n-d}(x_{\\alpha,k}-\\langle X_m \\rangle)(x_{\\alpha,k+d}-\\langle X_m \\rangle),\n",
    "$$"
   ]
  },
  {
   "cell_type": "markdown",
   "metadata": {},
   "source": [
    "The non-vanishing of $C_k$ for $k\\ne 0$ means that the random\n",
    "numbers are not independent. The independence of the random numbers is crucial \n",
    "in the evaluation of other expectation values. If they are not independent, our\n",
    "assumption for approximating $\\sigma_N$ in Eq. ([eq:sigmaN](#eq:sigmaN)) is no longer valid.\n",
    "\n",
    "\n",
    "\n",
    "\n",
    "## Correlation function and which random number generators should I use\n",
    "The program here computes the correlation function for one of the standard functions included with the c++ compiler."
   ]
  },
  {
   "cell_type": "markdown",
   "metadata": {},
   "source": [
    "        //  This function computes the autocorrelation function for \n",
    "        //  the standard c++ random number generator\n",
    "        \n",
    "        #include <fstream>\n",
    "        #include <iomanip>\n",
    "        #include <iostream>\n",
    "        #include <cmath>\n",
    "        using namespace std;\n",
    "        // output file as global variable\n",
    "        ofstream ofile;  \n",
    "        \n",
    "        //     Main function begins here     \n",
    "        int main(int argc, char* argv[])\n",
    "        {\n",
    "             int n;\n",
    "             char *outfilename;\n",
    "        \n",
    "             cin >> n;\n",
    "             double MCint = 0.;      double MCintsqr2=0.;\n",
    "             double invers_period = 1./RAND_MAX; // initialise the random number generator\n",
    "             srand(time(NULL));  // This produces the so-called seed in MC jargon\n",
    "             // Compute the variance and the mean value of the uniform distribution\n",
    "             // Compute also the specific values x for each cycle in order to be able to\n",
    "             // the covariance and the correlation function  \n",
    "             // Read in output file, abort if there are too few command-line arguments\n",
    "             if( argc <= 2 ){\n",
    "               cout << \"Bad Usage: \" << argv[0] << \n",
    "        \t \" read also output file and number of cycles on same line\" << endl;\n",
    "               exit(1);\n",
    "             }\n",
    "             else{\n",
    "               outfilename=argv[1];\n",
    "             }\n",
    "             ofile.open(outfilename); \n",
    "             // Get  the number of Monte-Carlo samples\n",
    "             n = atoi(argv[2]);\n",
    "             double *X;  \n",
    "             X = new double[n];\n",
    "             for (int i = 0;  i < n; i++){\n",
    "                   double x = double(rand())*invers_period; \n",
    "                   X[i] = x;\n",
    "                   MCint += x;\n",
    "                   MCintsqr2 += x*x;\n",
    "             }\n",
    "             double Mean = MCint/((double) n );\n",
    "             MCintsqr2 = MCintsqr2/((double) n );\n",
    "             double STDev = sqrt(MCintsqr2-Mean*Mean);\n",
    "             double Variance = MCintsqr2-Mean*Mean;\n",
    "        //   Write mean value and standard deviation \n",
    "             cout << \" Standard deviation= \" << STDev << \" Integral = \" << Mean << endl;\n",
    "        \n",
    "             // Now we compute the autocorrelation function\n",
    "             double *autocor;  autocor = new double[n];\n",
    "             for (int j = 0; j < n; j++){\n",
    "               double sum = 0.0;\n",
    "               for (int k = 0; k < (n-j); k++){\n",
    "        \t sum  += (X[k]-Mean)*(X[k+j]-Mean); \n",
    "               }\n",
    "               autocor[j] = sum/Variance/((double) n );\n",
    "               ofile << setiosflags(ios::showpoint | ios::uppercase);\n",
    "               ofile << setw(15) << setprecision(8) << j;\n",
    "               ofile << setw(15) << setprecision(8) << autocor[j] << endl;\n",
    "             }\n",
    "             ofile.close();  // close output file\n",
    "             return 0;\n",
    "        }  // end of main program \n"
   ]
  },
  {
   "cell_type": "markdown",
   "metadata": {},
   "source": [
    "## Correlation function and which random number generators should I use\n",
    "The following Python code plots the results for the correlation function from the above program."
   ]
  },
  {
   "cell_type": "code",
   "execution_count": 5,
   "metadata": {
    "collapsed": false
   },
   "outputs": [],
   "source": [
    "import numpy as np\n",
    "from  matplotlib import pyplot as plt\n",
    "# Load in data file\n",
    "data = np.loadtxt(\"datafiles/autocor.dat\")\n",
    "# Make arrays containing x-axis and binding energies as function of A\n",
    "x = data[:,0]\n",
    "corr = data[:,1]\n",
    "plt.plot(x, corr ,'ro')\n",
    "plt.axis([0,1000,-0.2, 1.1])\n",
    "plt.xlabel(r'$d$')\n",
    "plt.ylabel(r'$C_d$')\n",
    "plt.title(r'autocorrelation function for RNG')\n",
    "plt.savefig('autocorr.pdf')\n",
    "plt.show()"
   ]
  },
  {
   "cell_type": "markdown",
   "metadata": {},
   "source": [
    "# Which RNG should I use?\n",
    "* In the library files lib.cpp and lib.h we have included four popular RNGs taken from the widely used textbook [Numerical Recipes](http://numerical.recipes/). These are called ran0, ran1, ran2 and ran3.\n",
    "\n",
    "* C++ has a class called **random**. The [random class](http://www.cplusplus.com/reference/random/) contains a large selection of RNGs and is highly recommended. Some of these RNGs have very large periods making it thereby very safe to use these RNGs in case one is performing large calculations. In particular, the [Mersenne twister random number engine](http://www.cplusplus.com/reference/random/mersenne_twister_engine/) has a period of $2^{19937}$.\n",
    "\n",
    "\n",
    "\n",
    "\n",
    "## How to use the Mersenne generator\n",
    "The following part of a c++ code (from project 4) sets up the uniform distribution for $x\\in [0,1]$."
   ]
  },
  {
   "cell_type": "markdown",
   "metadata": {},
   "source": [
    "        /*\n",
    "        \n",
    "        //  You need this \n",
    "        #include <random>\n",
    "        \n",
    "        // Initialize the seed and call the Mersienne algo\n",
    "        std::random_device rd;\n",
    "        std::mt19937_64 gen(rd());\n",
    "        // Set up the uniform distribution for x \\in [[0, 1]\n",
    "        std::uniform_real_distribution<double> RandomNumberGenerator(0.0,1.0);\n",
    "        \n",
    "        // Now use the RNG\n",
    "        int ix = (int) (RandomNumberGenerator(gen)*NSpins);\n"
   ]
  },
  {
   "cell_type": "markdown",
   "metadata": {},
   "source": [
    "# Improved Monte Carlo Integration\n",
    "We have presented a simple brute force approach \n",
    "to integration with the Monte Carlo method. There we sampled\n",
    "over a given number of points distributed uniformly in the interval\n",
    "$[0,1]$"
   ]
  },
  {
   "cell_type": "markdown",
   "metadata": {},
   "source": [
    "$$\n",
    "I=\\int_0^1 f(x)dx=\\langle f\\rangle.\n",
    "$$"
   ]
  },
  {
   "cell_type": "markdown",
   "metadata": {},
   "source": [
    "Here we introduce two important steps which in most cases improve\n",
    "upon the above simple brute force approach with the uniform distribution, namely\n",
    "* change of variables and\n",
    "\n",
    "* importance sampling\n",
    "\n",
    "\n",
    "\n",
    "## Change of Variables\n",
    "The starting point is always the uniform distribution"
   ]
  },
  {
   "cell_type": "markdown",
   "metadata": {},
   "source": [
    "$$\n",
    "p(x)dx=\\left\\{\\begin{array}{cc} dx & 0 \\le x \\le 1\\\\\n",
    "                                0  & else\\end{array}\\right.\n",
    "$$"
   ]
  },
  {
   "cell_type": "markdown",
   "metadata": {},
   "source": [
    "with $p(x)=1$ and \n",
    "satisfying"
   ]
  },
  {
   "cell_type": "markdown",
   "metadata": {},
   "source": [
    "$$\n",
    "\\int_{-\\infty}^{\\infty}p(x)dx=1.\n",
    "$$"
   ]
  },
  {
   "cell_type": "markdown",
   "metadata": {},
   "source": [
    "All random number generators  use the uniform distribution to generate numbers $x\\in [0,1]$.\n",
    "\n",
    "\n",
    "\n",
    "## Change of Variables\n",
    "When we attempt a \n",
    "transformation to a new variable \n",
    "$x\\rightarrow y$ \n",
    "we have to conserve the probability"
   ]
  },
  {
   "cell_type": "markdown",
   "metadata": {},
   "source": [
    "$$\n",
    "p(y)dy=p(x)dx,\n",
    "$$"
   ]
  },
  {
   "cell_type": "markdown",
   "metadata": {},
   "source": [
    "which for the uniform distribution implies"
   ]
  },
  {
   "cell_type": "markdown",
   "metadata": {},
   "source": [
    "$$\n",
    "p(y)dy=dx.\n",
    "$$"
   ]
  },
  {
   "cell_type": "markdown",
   "metadata": {},
   "source": [
    "Let us assume that $p(y)$ is a  PDF different from the uniform\n",
    "PDF $p(x)=1$ with $x \\in [0,1]$.\n",
    "If we integrate the last expression we arrive at"
   ]
  },
  {
   "cell_type": "markdown",
   "metadata": {},
   "source": [
    "$$\n",
    "x(y)=\\int_0^y p(y')dy',\n",
    "$$"
   ]
  },
  {
   "cell_type": "markdown",
   "metadata": {},
   "source": [
    "which is nothing but the cumulative distribution of $p(y)$, i.e.,"
   ]
  },
  {
   "cell_type": "markdown",
   "metadata": {},
   "source": [
    "$$\n",
    "x(y)=P(y)=\\int_0^y p(y')dy'.\n",
    "$$"
   ]
  },
  {
   "cell_type": "markdown",
   "metadata": {},
   "source": [
    "## Transformed Uniform Distribution\n",
    "Suppose we have the general uniform distribution"
   ]
  },
  {
   "cell_type": "markdown",
   "metadata": {},
   "source": [
    "$$\n",
    "p(y)dy=\\left\\{\\begin{array}{cc} \\frac{dy}{b-a} & a \\le y \\le b\\\\\n",
    "                                0  & else\\end{array}\\right.\n",
    "$$"
   ]
  },
  {
   "cell_type": "markdown",
   "metadata": {},
   "source": [
    "If we wish to relate this distribution to the one in the interval\n",
    "$x \\in [0,1]$\n",
    "we have"
   ]
  },
  {
   "cell_type": "markdown",
   "metadata": {},
   "source": [
    "$$\n",
    "p(y)dy=\\frac{dy}{b-a}=dx,\n",
    "$$"
   ]
  },
  {
   "cell_type": "markdown",
   "metadata": {},
   "source": [
    "and integrating we obtain the cumulative function"
   ]
  },
  {
   "cell_type": "markdown",
   "metadata": {},
   "source": [
    "$$\n",
    "x(y)=\\int_a^y \\frac{dy'}{b-a},\n",
    "$$"
   ]
  },
  {
   "cell_type": "markdown",
   "metadata": {},
   "source": [
    "yielding"
   ]
  },
  {
   "cell_type": "markdown",
   "metadata": {},
   "source": [
    "$$\n",
    "y=a+(b-a)x,\n",
    "$$"
   ]
  },
  {
   "cell_type": "markdown",
   "metadata": {},
   "source": [
    "a well-known result!\n",
    "\n",
    "\n",
    "\n",
    "\n",
    "## Exponential Distribution\n",
    "Assume that"
   ]
  },
  {
   "cell_type": "markdown",
   "metadata": {},
   "source": [
    "$$\n",
    "p(y)=\\exp{(-y)},\n",
    "$$"
   ]
  },
  {
   "cell_type": "markdown",
   "metadata": {},
   "source": [
    "which is the exponential distribution, important for the analysis\n",
    "of e.g., radioactive decay. Again, \n",
    "$p(x)$ is given by the uniform distribution with \n",
    "$x \\in [0,1]$, and \n",
    "with the assumption that the probability is conserved we have"
   ]
  },
  {
   "cell_type": "markdown",
   "metadata": {},
   "source": [
    "$$\n",
    "p(y)dy=\\exp{(-y)}dy=dx,\n",
    "$$"
   ]
  },
  {
   "cell_type": "markdown",
   "metadata": {},
   "source": [
    "which yields after integration"
   ]
  },
  {
   "cell_type": "markdown",
   "metadata": {},
   "source": [
    "$$\n",
    "x(y)=P(y)=\\int_0^y \\exp{(-y')}dy'=1-\\exp{(-y)},\n",
    "$$"
   ]
  },
  {
   "cell_type": "markdown",
   "metadata": {},
   "source": [
    "or"
   ]
  },
  {
   "cell_type": "markdown",
   "metadata": {},
   "source": [
    "$$\n",
    "y(x)=-\\ln{(1-x)}.\n",
    "$$"
   ]
  },
  {
   "cell_type": "markdown",
   "metadata": {},
   "source": [
    "## Exponential Distribution\n",
    "This gives us the new random variable $y$ in the domain\n",
    "$y \\in [0,\\infty)$\n",
    "determined through the random variable $x \\in [0,1]$ generated by\n",
    "functions like $ran0$. \n",
    "\n",
    "This means that if we can factor out \n",
    "$\\exp{(-y)}$ from an integrand we may have"
   ]
  },
  {
   "cell_type": "markdown",
   "metadata": {},
   "source": [
    "$$\n",
    "I=\\int_0^{\\infty}F(y)dy=\\int_0^{\\infty}\\exp{(-y)}G(y)dy\n",
    "$$"
   ]
  },
  {
   "cell_type": "markdown",
   "metadata": {},
   "source": [
    "which we rewrite as"
   ]
  },
  {
   "cell_type": "markdown",
   "metadata": {},
   "source": [
    "$$\n",
    "\\int_0^{\\infty}\\exp{(-y)}G(y)dy=\n",
    "   \\int_0^{1}G(y(x))dx\\approx \n",
    "   \\frac{1}{N}\\sum_{i=1}^NG(y(x_i)),\n",
    "$$"
   ]
  },
  {
   "cell_type": "markdown",
   "metadata": {},
   "source": [
    "where $x_i$ is a random number in the interval $[0,1]$.\n",
    "\n",
    "\n",
    "\n",
    "## Exponential Distribution\n",
    "We have changed the integration limits in the second integral, since we have performed a change of variables.  Since we have used the uniform distribution defined for $x\\in [0,1]$, the integration limits change to $0$ and $1$. The variable $y$ is now a function of $x$.\n",
    "Note also that in practical implementations, our random number generators for the \n",
    "uniform distribution never return exactly 0 or 1, but we may come very close.\n",
    "\n",
    "The algorithm for the last example is rather simple. \n",
    "In the function which sets up the integral, we simply need\n",
    "to call one of the random number generators \n",
    "like $ran0$, $ran1$, $ran2$ or $ran3$ in order to obtain numbers \n",
    "in the interval [0,1]. We obtain $y$ by the taking the logarithm of\n",
    "$(1-x)$. Our calling function which sets up the new random\n",
    "variable $y$ may then include statements like"
   ]
  },
  {
   "cell_type": "markdown",
   "metadata": {},
   "source": [
    "        .....\n",
    "        idum=-1;\n",
    "        x=ran0(&idum);\n",
    "        y=-log(1.-x);\n",
    "        .....\n"
   ]
  },
  {
   "cell_type": "markdown",
   "metadata": {},
   "source": [
    "## Normal Distribution\n",
    "For the normal distribution, expressed here as"
   ]
  },
  {
   "cell_type": "markdown",
   "metadata": {},
   "source": [
    "$$\n",
    "g(x,y)=\\exp{(-(x^2+y^2)/2)}dxdy.\n",
    "$$"
   ]
  },
  {
   "cell_type": "markdown",
   "metadata": {},
   "source": [
    "it is rather difficult to find an inverse since the cumulative\n",
    "distribution is given by the error function $erf(x)$"
   ]
  },
  {
   "cell_type": "markdown",
   "metadata": {},
   "source": [
    "$$\n",
    "\\mathrm{erf}(x) = \\frac{2}{\\sqrt{\\pi}}\\int_{0}^x e^{-t^2} dt.\n",
    "$$"
   ]
  },
  {
   "cell_type": "markdown",
   "metadata": {},
   "source": [
    "Both [c++](http://www.cplusplus.com/reference/cmath/erfc/)  and  [Fortran](https://gcc.gnu.org/onlinedocs/gfortran/ERFC.html)   have this function as intrinsic ones.\n",
    "\n",
    "\n",
    "\n",
    "## Normal Distribution\n",
    "We obviously would like to avoid computing an integral everytime we need a random variable.\n",
    "If we however switch to polar coordinates, we have\n",
    "for $x$ and $y$"
   ]
  },
  {
   "cell_type": "markdown",
   "metadata": {},
   "source": [
    "$$\n",
    "r=\\left(x^2+y^2\\right)^{1/2} \\hspace{1cm}\n",
    "   \\theta =tan^{-1}\\frac{x}{y},\n",
    "$$"
   ]
  },
  {
   "cell_type": "markdown",
   "metadata": {},
   "source": [
    "resulting in"
   ]
  },
  {
   "cell_type": "markdown",
   "metadata": {},
   "source": [
    "$$\n",
    "g(r,\\theta)=r\\exp{(-r^2/2)}drd\\theta,\n",
    "$$"
   ]
  },
  {
   "cell_type": "markdown",
   "metadata": {},
   "source": [
    "where the angle $\\theta$ could be given by a uniform \n",
    "distribution in the region $[0,2\\pi]$.\n",
    "Following example 1 above, this implies simply \n",
    "multiplying random numbers \n",
    "$x\\in [0,1]$ by $2\\pi$.\n",
    "\n",
    "\n",
    "\n",
    "## Normal Distribution\n",
    "The variable \n",
    "$r$, defined for $r \\in [0,\\infty)$ needs to be related to\n",
    "to random numbers $x'\\in [0,1]$. To achieve that, we introduce a new variable"
   ]
  },
  {
   "cell_type": "markdown",
   "metadata": {},
   "source": [
    "$$\n",
    "u=\\frac{1}{2}r^2,\n",
    "$$"
   ]
  },
  {
   "cell_type": "markdown",
   "metadata": {},
   "source": [
    "and define a PDF"
   ]
  },
  {
   "cell_type": "markdown",
   "metadata": {},
   "source": [
    "$$\n",
    "\\exp{(-u)}du,\n",
    "$$"
   ]
  },
  {
   "cell_type": "markdown",
   "metadata": {},
   "source": [
    "with $u\\in [0,\\infty)$. \n",
    "Using the results from example 2 for the exponential distribution, we have"
   ]
  },
  {
   "cell_type": "markdown",
   "metadata": {},
   "source": [
    "$$\n",
    "u=-\\ln{(1-x')},\n",
    "$$"
   ]
  },
  {
   "cell_type": "markdown",
   "metadata": {},
   "source": [
    "where $x'$ is a random number generated for $x'\\in [0,1]$.\n",
    "\n",
    "\n",
    "\n",
    "## Normal Distribution\n",
    "With"
   ]
  },
  {
   "cell_type": "markdown",
   "metadata": {},
   "source": [
    "$$\n",
    "x=r\\cos{(\\theta)}=\\sqrt{2u}\\cos{(\\theta)},\n",
    "$$"
   ]
  },
  {
   "cell_type": "markdown",
   "metadata": {},
   "source": [
    "and"
   ]
  },
  {
   "cell_type": "markdown",
   "metadata": {},
   "source": [
    "$$\n",
    "y=r\\sin{(\\theta)}=\\sqrt{2u}\\sin{(\\theta)},\n",
    "$$"
   ]
  },
  {
   "cell_type": "markdown",
   "metadata": {},
   "source": [
    "we can obtain new random numbers $x,y$ through"
   ]
  },
  {
   "cell_type": "markdown",
   "metadata": {},
   "source": [
    "$$\n",
    "x=\\sqrt{-2\\ln{(1-x')}}\\cos{(\\theta)},\n",
    "$$"
   ]
  },
  {
   "cell_type": "markdown",
   "metadata": {},
   "source": [
    "and"
   ]
  },
  {
   "cell_type": "markdown",
   "metadata": {},
   "source": [
    "$$\n",
    "y=\\sqrt{-2\\ln{(1-x')}}\\sin{(\\theta)},\n",
    "$$"
   ]
  },
  {
   "cell_type": "markdown",
   "metadata": {},
   "source": [
    "with $x'\\in [0,1]$ and $\\theta \\in 2\\pi [0,1]$.\n",
    "\n",
    "\n",
    "\n",
    "## Normal Distribution\n",
    "A function which yields such random numbers for the normal\n",
    "distribution would include statements like"
   ]
  },
  {
   "cell_type": "markdown",
   "metadata": {},
   "source": [
    "        .....\n",
    "        idum=-1;\n",
    "        radius=sqrt(-2*ln(1.-ran0(idum)));\n",
    "        theta=2*pi*ran0(idum);\n",
    "        x=radius*cos(theta);\n",
    "        y=radius*sin(theta);\n",
    "        .....\n"
   ]
  },
  {
   "cell_type": "markdown",
   "metadata": {},
   "source": [
    "## Importance Sampling\n",
    "With the aid of the above variable transformations we address now\n",
    "one of the most widely used approaches to Monte Carlo integration,\n",
    "namely importance sampling. \n",
    "\n",
    "Let us assume that  $p(y)$ is a PDF whose behavior resembles that of a function\n",
    "$F$ defined in a certain interval $[a,b]$. The normalization condition is"
   ]
  },
  {
   "cell_type": "markdown",
   "metadata": {},
   "source": [
    "$$\n",
    "\\int_a^bp(y)dy=1.\n",
    "$$"
   ]
  },
  {
   "cell_type": "markdown",
   "metadata": {},
   "source": [
    "We can rewrite our integral as"
   ]
  },
  {
   "cell_type": "markdown",
   "metadata": {},
   "source": [
    "<!-- Equation labels as ordinary links -->\n",
    "<div id=\"eq:impsampl1\"></div>\n",
    "\n",
    "$$\n",
    "I=\\int_a^b F(y) dy =\\int_a^b p(y)\\frac{F(y)}{p(y)} dy.\n",
    "\\label{eq:impsampl1} \\tag{20}\n",
    "$$"
   ]
  },
  {
   "cell_type": "markdown",
   "metadata": {},
   "source": [
    "## Importance Sampling\n",
    "Since random numbers are generated for the uniform distribution $p(x)$\n",
    "with $x\\in [0,1]$, we need to perform a change of variables $x\\rightarrow y$\n",
    "through"
   ]
  },
  {
   "cell_type": "markdown",
   "metadata": {},
   "source": [
    "$$\n",
    "x(y)=\\int_a^y p(y')dy',\n",
    "$$"
   ]
  },
  {
   "cell_type": "markdown",
   "metadata": {},
   "source": [
    "where we used"
   ]
  },
  {
   "cell_type": "markdown",
   "metadata": {},
   "source": [
    "$$\n",
    "p(x)dx=dx=p(y)dy.\n",
    "$$"
   ]
  },
  {
   "cell_type": "markdown",
   "metadata": {},
   "source": [
    "If we can invert $x(y)$, we find $y(x)$ as well.\n",
    "\n",
    "\n",
    "\n",
    "\n",
    "## Importance Sampling\n",
    "With this change of variables we can express the integral of \n",
    "Eq. ([eq:impsampl1](#eq:impsampl1)) as"
   ]
  },
  {
   "cell_type": "markdown",
   "metadata": {},
   "source": [
    "$$\n",
    "I=\\int_a^b p(y)\\frac{F(y)}{p(y)} dy=\\int_{\\tilde{a}}^{\\tilde{b}}\\frac{F(y(x))}{p(y(x))} dx,\n",
    "$$"
   ]
  },
  {
   "cell_type": "markdown",
   "metadata": {},
   "source": [
    "meaning that a Monte Carlo evaluation of the above integral gives"
   ]
  },
  {
   "cell_type": "markdown",
   "metadata": {},
   "source": [
    "$$\n",
    "\\int_{\\tilde{a}}^{\\tilde{b}}\\frac{F(y(x))}{p(y(x))} dx=\n",
    "\\frac{1}{N}\\sum_{i=1}^N\\frac{F(y(x_i))}{p(y(x_i))}.\n",
    "$$"
   ]
  },
  {
   "cell_type": "markdown",
   "metadata": {},
   "source": [
    "## Importance Sampling\n",
    "Note the change in integration limits from $a$ and $b$ to $\\tilde{a}$ and \n",
    "$\\tilde{b}$.\n",
    "The advantage of such a change of variables in case $p(y)$ follows\n",
    "closely $F$ is that the integrand becomes smooth and we can sample\n",
    "over relevant values for the integrand. It is however not trivial\n",
    "to find such a function $p$.\n",
    "The conditions on $p$ which allow us to perform these transformations\n",
    "are\n",
    "\n",
    "  * $p$ is normalizable and positive definite,\n",
    "\n",
    "  * it is analytically integrable and\n",
    "\n",
    "  * the integral is invertible, allowing us thereby to express a new variable in terms of the old one.\n",
    "\n",
    "\n",
    "\n",
    "## Importance Sampling\n",
    "The variance  is now with the definition"
   ]
  },
  {
   "cell_type": "markdown",
   "metadata": {},
   "source": [
    "$$\n",
    "\\tilde{F}=\\frac{F(y(x))}{p(y(x))},\n",
    "$$"
   ]
  },
  {
   "cell_type": "markdown",
   "metadata": {},
   "source": [
    "given by"
   ]
  },
  {
   "cell_type": "markdown",
   "metadata": {},
   "source": [
    "<!-- Equation labels as ordinary links -->\n",
    "<div id=\"eq:standard_is\"></div>\n",
    "\n",
    "$$\n",
    "\\sigma^2=\\frac{1}{N}\\sum_{i=1}^N\\left(\\tilde{F}\\right)^2-\n",
    "\\left(\\frac{1}{N}\\sum_{i=1}^N\\tilde{F}\\right)^2.\n",
    "\\label{eq:standard_is} \\tag{21}\n",
    "$$"
   ]
  },
  {
   "cell_type": "markdown",
   "metadata": {},
   "source": [
    "## Importance Sampling\n",
    "The algorithm for this procedure is \n",
    "\n",
    "* Use the uniform distribution to find the random variable   $y$ in the interval [0,1]. The function $p(x)$ is a user provided PDF.\n",
    "\n",
    "* Evaluate thereafter"
   ]
  },
  {
   "cell_type": "markdown",
   "metadata": {},
   "source": [
    "$$\n",
    "I=\\int_a^b F(x) dx =\\int_a^b p(x)\\frac{F(x)}{p(x)} dx,\n",
    "$$"
   ]
  },
  {
   "cell_type": "markdown",
   "metadata": {},
   "source": [
    "by rewriting"
   ]
  },
  {
   "cell_type": "markdown",
   "metadata": {},
   "source": [
    "$$\n",
    "\\int_a^b p(x)\\frac{F(x)}{p(x)} dx =   \n",
    "   \\int_{\\tilde{a}}^{\\tilde{b}}\\frac{F(x(y))}{p(x(y))} dy,\n",
    "$$"
   ]
  },
  {
   "cell_type": "markdown",
   "metadata": {},
   "source": [
    "since"
   ]
  },
  {
   "cell_type": "markdown",
   "metadata": {},
   "source": [
    "$$\n",
    "\\frac{dy}{dx}=p(x).\n",
    "$$"
   ]
  },
  {
   "cell_type": "markdown",
   "metadata": {},
   "source": [
    "* Perform then a Monte Carlo sampling for"
   ]
  },
  {
   "cell_type": "markdown",
   "metadata": {},
   "source": [
    "$$\n",
    "\\int_{\\tilde{a}}^{\\tilde{b}}\\frac{F(x(y))}{p(x(y))} dy\\approx  \\frac{1}{N}\\sum_{i=1}^N\\frac{F(x(y_i))}{p(x(y_i))},\n",
    "$$"
   ]
  },
  {
   "cell_type": "markdown",
   "metadata": {},
   "source": [
    "with $y_i\\in [0,1]$,\n",
    "* and evaluate the variance as well.\n",
    "\n",
    "\n",
    "\n",
    "\n",
    "## Importance Sampling, a simple example\n",
    "Let us look again at the integral"
   ]
  },
  {
   "cell_type": "markdown",
   "metadata": {},
   "source": [
    "$$\n",
    "I=\\int_0^1 F(x) dx = \\int_0^1 \\frac{1}{1+x^2} dx = \\frac{\\pi}{4}.\n",
    "$$"
   ]
  },
  {
   "cell_type": "markdown",
   "metadata": {},
   "source": [
    "We choose the following PDF (which follows closely the function to\n",
    "integrate)"
   ]
  },
  {
   "cell_type": "markdown",
   "metadata": {},
   "source": [
    "$$\n",
    "p(x)=\\frac{1}{3}\\left(4-2x\\right) \\hspace{1cm} \\int_0^1p(x)dx=1,\n",
    "$$"
   ]
  },
  {
   "cell_type": "markdown",
   "metadata": {},
   "source": [
    "resulting in"
   ]
  },
  {
   "cell_type": "markdown",
   "metadata": {},
   "source": [
    "$$\n",
    "\\frac{F(0)}{p(0)}=\\frac{F(1)}{p(1)}=\\frac{3}{4}.\n",
    "$$"
   ]
  },
  {
   "cell_type": "markdown",
   "metadata": {},
   "source": [
    "Check that it fullfils the requirements of a PDF!\n",
    "We perform then the change of variables (via the Cumulative function)"
   ]
  },
  {
   "cell_type": "markdown",
   "metadata": {},
   "source": [
    "$$\n",
    "y(x)=\\int_0^x p(x')dx'=\\frac{1}{3}x\\left(4-x\\right),\n",
    "$$"
   ]
  },
  {
   "cell_type": "markdown",
   "metadata": {},
   "source": [
    "or"
   ]
  },
  {
   "cell_type": "markdown",
   "metadata": {},
   "source": [
    "$$\n",
    "x=2-\\left(4-3y\\right)^{1/2}\n",
    "$$"
   ]
  },
  {
   "cell_type": "markdown",
   "metadata": {},
   "source": [
    "We have that when $y=0$ then  $x=0$ and when  $y=1$ we have $x=1$.\n",
    "\n",
    "\n",
    "\n",
    "## Importance Sampling, a simple example, a simple plot"
   ]
  },
  {
   "cell_type": "code",
   "execution_count": 6,
   "metadata": {
    "collapsed": false
   },
   "outputs": [],
   "source": [
    "from  matplotlib import pyplot as plt\n",
    "from math import exp, acos, log10\n",
    "import numpy as np\n",
    "\n",
    "#  function to integrate                                                                                     \n",
    "def function(x):\n",
    "    return 1.0/(1+x*x)\n",
    "\n",
    "#  new probability                                                                                           \n",
    "def newfunction(x):\n",
    "    return 0.3333333*(4.0-2*x)\n",
    "\n",
    "Dim = 100\n",
    "x = np.linspace(0.0,1.0,Dim)\n",
    "f = np.zeros(Dim)\n",
    "g = np.zeros(Dim)\n",
    "for i in xrange(Dim):\n",
    "    f[i] = function(x[i])\n",
    "    g[i] = newfunction(x[i])\n",
    "\n",
    "plt.plot(x, f ,'b-',x, g,'g-')\n",
    "plt.axis([0,1,0.5, 1.5])\n",
    "plt.xlabel('$x$')\n",
    "plt.ylabel('Functions')\n",
    "plt.title('Similarities between functions')\n",
    "plt.legend(['Integrand', 'New integrand'], loc='best')\n",
    "plt.savefig('newprobability.pdf')\n",
    "plt.show()"
   ]
  },
  {
   "cell_type": "markdown",
   "metadata": {},
   "source": [
    "## Importance Sampling, a simple example, the code part"
   ]
  },
  {
   "cell_type": "markdown",
   "metadata": {},
   "source": [
    "        //   evaluate the integral with importance sampling\n",
    "             for ( int i = 1;  i <= n; i++){\n",
    "               x = ran0(&idum);  // random numbers in [0,1]\n",
    "               y = 2 - sqrt(4-3*x);  // new random numbers\n",
    "               fy=3*func(y)/(4-2*y); // weighted function\n",
    "               int_mc += fy;\n",
    "               sum_sigma += fy*fy;\n",
    "             }\n",
    "             int_mc = int_mc/((double) n );\n",
    "             sum_sigma = sum_sigma/((double) n );\n",
    "             variance=(sum_sigma-int_mc*int_mc);\n"
   ]
  },
  {
   "cell_type": "markdown",
   "metadata": {},
   "source": [
    "## Importance Sampling, a simple example, and the results\n",
    "The suffix $cr$ stands for the brute force approach \n",
    "while $is$ stands for the use of importance sampling.\n",
    "All calculations use ran0 as function to generate the uniform distribution.\n",
    "\n",
    "<table border=\"1\">\n",
    "<thead>\n",
    "<tr><th align=\"center\">  $N$   </th> <th align=\"center\">  $I_{cr}$ </th> <th align=\"center\">$\\sigma_{cr}$</th> <th align=\"center\">  $I_{is}$ </th> <th align=\"center\">$\\sigma_{is}$</th> </tr>\n",
    "</thead>\n",
    "<tbody>\n",
    "<tr><td align=\"center\">   10000       </td> <td align=\"center\">   3.13395E+00    </td> <td align=\"center\">   4.22881E-01      </td> <td align=\"center\">   3.14163E+00    </td> <td align=\"center\">   6.49921E-03      </td> </tr>\n",
    "<tr><td align=\"center\">   100000      </td> <td align=\"center\">   3.14195E+00    </td> <td align=\"center\">   4.11195E-01      </td> <td align=\"center\">   3.14163E+00    </td> <td align=\"center\">   6.36837E-03      </td> </tr>\n",
    "<tr><td align=\"center\">   1000000     </td> <td align=\"center\">   3.14003E+00    </td> <td align=\"center\">   4.14114E-01      </td> <td align=\"center\">   3.14128E+00    </td> <td align=\"center\">   6.39217E-03      </td> </tr>\n",
    "<tr><td align=\"center\">   10000000    </td> <td align=\"center\">   3.14213E+00    </td> <td align=\"center\">   4.13838E-01      </td> <td align=\"center\">   3.14160E+00    </td> <td align=\"center\">   6.40784E-03      </td> </tr>\n",
    "</tbody>\n",
    "</table>\n",
    "However, it is unfair to study one-dimensional integrals with MC methods!\n",
    "\n",
    "\n",
    "\n",
    "\n",
    "\n",
    "\n",
    "\n",
    "## Acceptance-Rejection Method\n",
    "<!-- add ref -->\n",
    "This is a rather simple and appealing\n",
    "method after von Neumann. Assume that we are looking at an interval\n",
    "$x\\in [a,b]$, this being the domain of the PDF $p(x)$. Suppose also that\n",
    "the largest value our distribution function takes in this interval\n",
    "is $M$, that is"
   ]
  },
  {
   "cell_type": "markdown",
   "metadata": {},
   "source": [
    "$$\n",
    "p(x) \\le M \\hspace{1cm}  x\\in [a,b].\n",
    "$$"
   ]
  },
  {
   "cell_type": "markdown",
   "metadata": {},
   "source": [
    "Then we generate a random number $x$ from the uniform distribution\n",
    "for $x\\in [a,b]$ and a corresponding number $s$ for the uniform\n",
    "distribution between $[0,M]$. If"
   ]
  },
  {
   "cell_type": "markdown",
   "metadata": {},
   "source": [
    "$$\n",
    "p(x) \\ge s,\n",
    "$$"
   ]
  },
  {
   "cell_type": "markdown",
   "metadata": {},
   "source": [
    "we accept the new value of $x$, else we generate\n",
    "again two new random numbers $x$ and $s$ and perform the test\n",
    "in the latter equation again.\n",
    "\n",
    "\n",
    "\n",
    "## Acceptance-Rejection Method\n",
    "\n",
    "As an example, consider the evaluation of the integral"
   ]
  },
  {
   "cell_type": "markdown",
   "metadata": {},
   "source": [
    "$$\n",
    "I=\\int_0^3\\exp{(x)}dx.\n",
    "$$"
   ]
  },
  {
   "cell_type": "markdown",
   "metadata": {},
   "source": [
    "Obviously to derive a closed-form expression is much easier, however the integrand could pose some more\n",
    "difficult challenges. The aim here is simply to show how to implent the acceptance-rejection algorithm.\n",
    "The integral is the area below the curve $f(x)=\\exp{(x)}$. If we uniformly fill the rectangle\n",
    "spanned by $x\\in [0,3]$ and $y\\in [0,\\exp{(3)}]$, the fraction below the curve obtained from a uniform distribution, and\n",
    "multiplied by the area of the rectangle, should approximate the chosen integral.\n",
    "\n",
    "\n",
    "\n",
    "## Acceptance-Rejection Method\n",
    "It is rather\n",
    "easy to implement this numerically, as shown in the following code."
   ]
  },
  {
   "cell_type": "markdown",
   "metadata": {},
   "source": [
    "        //   Loop over Monte Carlo trials n\n",
    "             integral =0.;\n",
    "             for ( int i = 1;  i <= n; i++){\n",
    "        //   Finds a random value for x in the interval [0,3]\n",
    "                  x = 3*ran0(&idum);\n",
    "        //   Finds y-value between [0,exp(3)]\n",
    "                  y = exp(3.0)*ran0(&idum);\n",
    "        //   if the value of y at exp(x) is below the curve, we accept\n",
    "                  if ( y  < exp(x)) s = s+ 1.0;\n",
    "        //   The integral is area enclosed below the line f(x)=exp(x)\n",
    "            }\n",
    "        //  Then we multiply with the area of the rectangle and divide by the number of cycles \n",
    "            Integral = 3.*exp(3.)*s/n\n"
   ]
  },
  {
   "cell_type": "markdown",
   "metadata": {},
   "source": [
    "## Monte Carlo Integration of Multidimensional Integrals\n",
    "When we deal with multidimensional integrals of the form"
   ]
  },
  {
   "cell_type": "markdown",
   "metadata": {},
   "source": [
    "$$\n",
    "I=\\int_{a_1}^{b_1}dx_1\\int_{a_2}^{b_2}dx_2\\dots \\int_{a_d}^{b_d}dx_d g(x_1,\\dots,x_d),\n",
    "$$"
   ]
  },
  {
   "cell_type": "markdown",
   "metadata": {},
   "source": [
    "with \n",
    "$x_i$ defined in the interval  $[a_i,b_i]$ we would typically\n",
    "need a transformation\n",
    "of variables of the form"
   ]
  },
  {
   "cell_type": "markdown",
   "metadata": {},
   "source": [
    "$$\n",
    "x_i=a_i+(b_i-a_i)t_i,\n",
    "$$"
   ]
  },
  {
   "cell_type": "markdown",
   "metadata": {},
   "source": [
    "if we were to use the uniform distribution on the interval $[0,1]$.\n",
    "\n",
    "\n",
    "\n",
    "## Monte Carlo Integration of Multidimensional Integrals\n",
    "In this case, we need a \n",
    "Jacobi determinant"
   ]
  },
  {
   "cell_type": "markdown",
   "metadata": {},
   "source": [
    "$$\n",
    "\\prod_{i=1}^d (b_i-a_i),\n",
    "$$"
   ]
  },
  {
   "cell_type": "markdown",
   "metadata": {},
   "source": [
    "and to convert the function $g(x_1,\\dots,x_d)$ to"
   ]
  },
  {
   "cell_type": "markdown",
   "metadata": {},
   "source": [
    "$$\n",
    "g(x_1,\\dots,x_d)\\rightarrow \n",
    "   g(a_1+(b_1-a_1)t_1,\\dots,a_d+(b_d-a_d)t_d).\n",
    "$$"
   ]
  },
  {
   "cell_type": "markdown",
   "metadata": {},
   "source": [
    "## Monte Carlo Integration of Multidimensional Integrals\n",
    "As an example, consider the following six-dimensional\n",
    "integral"
   ]
  },
  {
   "cell_type": "markdown",
   "metadata": {},
   "source": [
    "$$\n",
    "\\int_{-\\infty}^{\\infty}\\mathbf{dxdy}g(\\mathbf{x, y}),\n",
    "$$"
   ]
  },
  {
   "cell_type": "markdown",
   "metadata": {},
   "source": [
    "where"
   ]
  },
  {
   "cell_type": "markdown",
   "metadata": {},
   "source": [
    "$$\n",
    "g(\\mathbf{x, y})=\\exp{(-\\mathbf{x}^2-\\mathbf{y}^2)}(\\mathbf{x}-\\mathbf{y})^2\n",
    "$$"
   ]
  },
  {
   "cell_type": "markdown",
   "metadata": {},
   "source": [
    "with  $d=6$.\n",
    "\n",
    "\n",
    "## Monte Carlo Integration of Multidimensional Integrals\n",
    "We can solve this integral by employing our brute force scheme,\n",
    "or using importance sampling and random variables distributed \n",
    "according to a gaussian PDF. For the latter, if we set\n",
    "the mean value \n",
    "$\\mu=0$ and the standard deviation  $\\sigma=1/\\sqrt{2}$, we have"
   ]
  },
  {
   "cell_type": "markdown",
   "metadata": {},
   "source": [
    "$$\n",
    "\\frac{1}{\\sqrt{\\pi}}\\exp{(-x^2)},\n",
    "$$"
   ]
  },
  {
   "cell_type": "markdown",
   "metadata": {},
   "source": [
    "and using this normal distribution we rewrite our integral as"
   ]
  },
  {
   "cell_type": "markdown",
   "metadata": {},
   "source": [
    "$$\n",
    "\\pi^3\\int\\prod_{i=1}^6\\left(\n",
    "    \\frac{1}{\\sqrt{\\pi}}\\exp{(-x_i^2)}\\right)\n",
    "    (\\mathbf{x}-\\mathbf{y})^2dx_1.\\dots dx_6.\n",
    "$$"
   ]
  },
  {
   "cell_type": "markdown",
   "metadata": {},
   "source": [
    "## Monte Carlo Integration of Multidimensional Integrals\n",
    "\n",
    "We  rewrite it in a more compact form as"
   ]
  },
  {
   "cell_type": "markdown",
   "metadata": {},
   "source": [
    "$$\n",
    "\\int f(x_1,\\dots,x_d)F(x_1,\\dots,x_d)\\prod_{i=1}^6dx_i,\n",
    "$$"
   ]
  },
  {
   "cell_type": "markdown",
   "metadata": {},
   "source": [
    "where $f$ is the above normal distribution\n",
    "and"
   ]
  },
  {
   "cell_type": "markdown",
   "metadata": {},
   "source": [
    "$$\n",
    "F(x_1,\\dots,x_6)=F(\\mathbf{x, y})=(\\mathbf{x}-\\mathbf{y})^2,\n",
    "$$"
   ]
  },
  {
   "cell_type": "markdown",
   "metadata": {},
   "source": [
    "## Brute Force Integration\n",
    "Below we list two codes, one for the brute force integration\n",
    "and the other employing importance sampling with a gaussian distribution."
   ]
  },
  {
   "cell_type": "markdown",
   "metadata": {},
   "source": [
    "        #include <iostream>\n",
    "        #include <fstream>\n",
    "        #include <iomanip>\n",
    "        #include \"lib.h\"\n",
    "        using namespace std;\n",
    "        \n",
    "        double brute_force_MC(double *);\n",
    "        //     Main function begins here     \n",
    "        int main()\n",
    "        {\n",
    "             int n;\n",
    "             double x[6], y, fx; \n",
    "             double int_mc = 0.;  double variance = 0.;\n",
    "             double sum_sigma= 0. ; long idum=-1 ;  \n",
    "             double length = 5.; // we fix the max size of the box to L=5\n",
    "             double jacobidet = pow((2*length),6);\n",
    "             cout << \"Read in the number of Monte-Carlo samples\" << endl;\n",
    "             cin >> n;\n",
    "        //   evaluate the integral with importance sampling    \n",
    "             for ( int i = 1;  i <= n; i++){\n",
    "        //   x[] contains the random numbers for all dimensions\n",
    "               for (int j = 0; j< 6; j++) {\n",
    "                   x[j]=-length+2*length*ran0(&idum);\n",
    "               }\n",
    "               fx=brute_force_MC(x); \n",
    "               int_mc += fx;\n",
    "               sum_sigma += fx*fx;\n",
    "             }\n",
    "             int_mc = int_mc/((double) n );\n",
    "             sum_sigma = sum_sigma/((double) n );\n",
    "             variance=sum_sigma-int_mc*int_mc;\n",
    "        //   final output \n",
    "              cout << setiosflags(ios::showpoint | ios::uppercase);\n",
    "              cout << \" Monte carlo result= \" << setw(10) << setprecision(8) << jacobidet*int_mc;\n",
    "              cout << \" Sigma= \" << setw(10) << setprecision(8) << volume*sqrt(variance/((double) n )) << endl;\n",
    "             return 0;\n",
    "        }  // end of main program \n",
    "        \n",
    "        // this function defines the integrand to integrate \n",
    "         \n",
    "        double  brute_force_MC(double *x) \n",
    "        {\n",
    "        // evaluate the different terms of the exponential\n",
    "           double xx=x[0]*x[0]+x[1]*x[1]+x[2]*x[2];\n",
    "           double yy=x[3]*x[3]+x[4]*x[4]+x[5]*x[5];\n",
    "           double xy=pow((x[0]-x[3]),2)+pow((x[1]-x[4]),2)+pow((x[2]-x[5]),2);\n",
    "           return exp(-xx-yy)*xy;\n",
    "        } // end function for the integrand\n"
   ]
  },
  {
   "cell_type": "markdown",
   "metadata": {},
   "source": [
    "## Importance Sampling\n",
    "This code includes a call to the function $normal_random$, which produces\n",
    "random numbers from a gaussian distribution."
   ]
  },
  {
   "cell_type": "markdown",
   "metadata": {},
   "source": [
    "        // importance sampling with gaussian deviates\n",
    "        #include <iostream>\n",
    "        #include <fstream>\n",
    "        #include <iomanip>\n",
    "        #include \"lib.h\"\n",
    "        using namespace std;\n",
    "        \n",
    "        double gaussian_MC(double *);\n",
    "        double gaussian_deviate(long *);\n",
    "        //     Main function begins here     \n",
    "        int main()\n",
    "        {\n",
    "             int n;\n",
    "             double x[6], y, fx; \n",
    "             cout << \"Read in the number of Monte-Carlo samples\" << endl;\n",
    "             cin >> n;\n",
    "             double int_mc = 0.;  double variance = 0.;\n",
    "             double sum_sigma= 0. ; long idum=-1 ;  \n",
    "             double jacobidet = pow(acos(-1.),3.);\n",
    "             double sqrt2 = 1./sqrt(2.);\n",
    "        //   evaluate the integral with importance sampling    \n",
    "             for ( int i = 1;  i <= n; i++){\n",
    "        //   x[] contains the random numbers for all dimensions\n",
    "               for (int j = 0; j < 6; j++) {\n",
    "        \t x[j] = gaussian_deviate(&idum)*sqrt2;\n",
    "               }\n",
    "               fx=gaussian_MC(x); \n",
    "               int_mc += fx;\n",
    "               sum_sigma += fx*fx;\n",
    "             }\n",
    "             int_mc = int_mc/((double) n );\n",
    "             sum_sigma = sum_sigma/((double) n );\n",
    "             variance=sum_sigma-int_mc*int_mc;\n",
    "        //   final output \n",
    "              cout << setiosflags(ios::showpoint | ios::uppercase);\n",
    "              cout << \" Monte carlo result= \" << setw(10) << setprecision(8) << jacobidet*int_mc;\n",
    "              cout << \" Sigma= \" << setw(10) << setprecision(8) << volume*sqrt(variance/((double) n )) << endl;\n",
    "             return 0;\n",
    "        }  // end of main program \n",
    "        \n",
    "        // this function defines the integrand to integrate \n",
    "         \n",
    "        double  gaussian_MC(double *x) \n",
    "        {\n",
    "        // evaluate the different terms of the exponential\n",
    "           double xy=pow((x[0]-x[3]),2)+pow((x[1]-x[4]),2)+pow((x[2]-x[5]),2);\n",
    "           return xy;\n",
    "        } // end function for the integrand\n",
    "        \n",
    "        // random numbers with gaussian distribution\n",
    "        double gaussian_deviate(long * idum)\n",
    "        {\n",
    "          static int iset = 0;\n",
    "          static double gset;\n",
    "          double fac, rsq, v1, v2;\n",
    "        \n",
    "          if ( idum < 0) iset =0;\n",
    "          if (iset == 0) {\n",
    "            do {\n",
    "              v1 = 2.*ran0(idum) -1.0;\n",
    "              v2 = 2.*ran0(idum) -1.0;\n",
    "              rsq = v1*v1+v2*v2;\n",
    "            } while (rsq >= 1.0 || rsq == 0.);\n",
    "            fac = sqrt(-2.*log(rsq)/rsq);\n",
    "            gset = v1*fac;\n",
    "            iset = 1;\n",
    "            return v2*fac;\n",
    "          } else {\n",
    "            iset =0;\n",
    "            return gset;\n",
    "          }\n",
    "        } // end function for gaussian deviates\n"
   ]
  },
  {
   "cell_type": "markdown",
   "metadata": {},
   "source": [
    "## Python codes\n",
    "The first code here is an example of a python which computes the above integral using \n",
    "the brute force approach"
   ]
  },
  {
   "cell_type": "code",
   "execution_count": 7,
   "metadata": {
    "collapsed": false
   },
   "outputs": [],
   "source": [
    "#Monte Carlo integration in 6 dimensions\n",
    "\n",
    "import numpy,math\n",
    "import sys\n",
    "\n",
    "def integrand(x):\n",
    "    \"\"\"Calculates the integrand\n",
    "    exp(-a*(x1^2+x2^2+...+x6^2)-b*[(x1-x4)^2+...+(x3-x6)^2])\n",
    "    from the values in the 6-dimensional array x.\"\"\"\n",
    "    a = 1.0\n",
    "    b = 0.5\n",
    "\n",
    "    x2 = numpy.sum(x**2)\n",
    "    xy = (x[0]-x[3])**2 + (x[1]-x[4])**2 + (x[2]-x[5])**2\n",
    "    \n",
    "    return numpy.exp(-a*x2-b*xy)\n",
    "\n",
    "#Main program\n",
    "\n",
    "#Integration limits: x[i] in (-5, 5)\n",
    "L      = 5.0\n",
    "jacobi = (2*L)**6\n",
    "\n",
    "N = 100000\n",
    "\n",
    "#Evaluate the integral\n",
    "sum  = 0.0\n",
    "sum2 = 0.0\n",
    "for i in xrange(N):\n",
    "    #Generate random coordinates to sample at\n",
    "    x = numpy.array([-L+2*L*numpy.random.random() for j in xrange(6)])\n",
    "\n",
    "    fx         = integrand(x)\n",
    "    sum       += fx\n",
    "    sum2      += fx**2\n",
    "#Calculate expt. values for fx and fx^2\n",
    "sum /=float(N)\n",
    "sum2/=float(N)\n",
    "\n",
    "#Result\n",
    "int_mc  = jacobi*sum;\n",
    "#Gaussian standard deviation\n",
    "sigma   = jacobi*math.sqrt((sum2-sum**2)/float(N))\n",
    "\n",
    "#Output\n",
    "print \"Montecarlo result = %10.8E\" % int_mc\n",
    "print \"Sigma             = %10.8E\" % sigma"
   ]
  },
  {
   "cell_type": "markdown",
   "metadata": {},
   "source": [
    "## Python codes, importance sampling\n",
    "The second code, displayed here, uses importance sampling and random numbers that follow the normal distribution\n",
    "the brute force approach"
   ]
  },
  {
   "cell_type": "code",
   "execution_count": 8,
   "metadata": {
    "collapsed": false
   },
   "outputs": [],
   "source": [
    "#Monte Carlo integration with importance sampling\n",
    "\n",
    "import numpy,math\n",
    "import sys\n",
    "\n",
    "def integrand(x):\n",
    "    \"\"\"Calculates the integrand\n",
    "    exp(-b*[(x1-x4)^2+...+(x3-x6)^2])\n",
    "    from the values in the 6-dimensional array x.\"\"\"\n",
    "    b = 0.5\n",
    "\n",
    "    xy = (x[0]-x[3])**2 + (x[1]-x[4])**2 + (x[2]-x[5])**2\n",
    "    return numpy.exp(-b*xy)\n",
    "\n",
    "#Main program\n",
    "\n",
    "#Jacobi determinant\n",
    "jacobi = math.acos(-1.0)**3\n",
    "sqrt2  = 1.0/math.sqrt(2)\n",
    "\n",
    "N = 100000\n",
    "\n",
    "#Evaluate the integral\n",
    "sum  = 0.0\n",
    "sum2 = 0.0\n",
    "for i in xrange(N):\n",
    "    #Generate random, gaussian distributed coordinates to sample at\n",
    "    x = numpy.array([numpy.random.normal()*sqrt2 for j in xrange(6)])\n",
    "\n",
    "    fx         = integrand(x)\n",
    "    sum       += fx\n",
    "    sum2      += fx**2\n",
    "#Calculate expt. values for fx and fx^2\n",
    "sum /=float(N)\n",
    "sum2/=float(N)\n",
    "\n",
    "#Result\n",
    "int_mc  = jacobi*sum;\n",
    "#Gaussian standard deviation\n",
    "sigma   = jacobi*math.sqrt((sum2-sum**2)/float(N))\n",
    "\n",
    "#Output\n",
    "print \"Montecarlo result = %10.8E\" % int_mc\n",
    "print \"Sigma             = %10.8E\" % sigma"
   ]
  }
 ],
 "metadata": {},
 "nbformat": 4,
 "nbformat_minor": 2
}
