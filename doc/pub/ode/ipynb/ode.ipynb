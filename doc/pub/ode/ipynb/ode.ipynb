{
 "cells": [
  {
   "cell_type": "markdown",
   "metadata": {},
   "source": [
    "<!-- dom:TITLE: Computational Physics  Lectures: Ordinary differential equations -->\n",
    "# Computational Physics  Lectures: Ordinary differential equations\n",
    "<!-- dom:AUTHOR: Morten Hjorth-Jensen at Department of Physics, University of Oslo & Department of Physics and Astronomy and National Superconducting Cyclotron Laboratory, Michigan State University -->\n",
    "<!-- Author: --> **Morten Hjorth-Jensen**, Department of Physics, University of Oslo and Department of Physics and Astronomy and National Superconducting Cyclotron Laboratory, Michigan State University\n",
    "\n",
    "Date: **2017**\n",
    "\n",
    "## Differential equations program\n",
    " * Ordinary differential equations, Runge-Kutta method,chapter 8\n",
    "\n",
    " * Ordinary differential equations with boundary conditions: one-variable equations to be solved by shooting and Green's function methods, chapter 9\n",
    "\n",
    " * We can solve such equations by a finite difference scheme as well, turning the equation into an eigenvalue problem. Still one variable. Done in projects 1 and 2.\n",
    "\n",
    " * If we have more than one variable, we need to solve  partial differential equations, see Chapter 10\n",
    "\n",
    "The material on differential equations is covered by chapters 8, 9 and 10.\n",
    "Two of  the final projects deal with ordinary differential equations.\n",
    "\n",
    "\n",
    "\n",
    "\n",
    "\n",
    "## Differential Equations, chapter 8\n",
    "The order of the ODE refers to the order of the derivative \n",
    "on the left-hand side in the equation"
   ]
  },
  {
   "cell_type": "markdown",
   "metadata": {},
   "source": [
    "<!-- Equation labels as ordinary links -->\n",
    "<div id=\"_auto1\"></div>\n",
    "\n",
    "$$\n",
    "\\begin{equation} \n",
    "   \\frac{dy}{dt}=f(t,y).\n",
    "\\label{_auto1} \\tag{1}\n",
    "\\end{equation}\n",
    "$$"
   ]
  },
  {
   "cell_type": "markdown",
   "metadata": {},
   "source": [
    "This equation is of first order and $f$ is an arbitrary function.\n",
    "A second-order equation goes typically like"
   ]
  },
  {
   "cell_type": "markdown",
   "metadata": {},
   "source": [
    "<!-- Equation labels as ordinary links -->\n",
    "<div id=\"_auto2\"></div>\n",
    "\n",
    "$$\n",
    "\\begin{equation} \n",
    "   \\frac{d^2y}{dt^2}=f(t,\\frac{dy}{dt},y).\n",
    "\\label{_auto2} \\tag{2}\n",
    "\\end{equation}\n",
    "$$"
   ]
  },
  {
   "cell_type": "markdown",
   "metadata": {},
   "source": [
    "A well-known second-order equation is Newton's second law"
   ]
  },
  {
   "cell_type": "markdown",
   "metadata": {},
   "source": [
    "<!-- Equation labels as ordinary links -->\n",
    "<div id=\"eq:newton\"></div>\n",
    "\n",
    "$$\n",
    "\\begin{equation} \n",
    "   m\\frac{d^2x}{dt^2}=-kx,\n",
    "\\label{eq:newton} \\tag{3}\n",
    "\\end{equation}\n",
    "$$"
   ]
  },
  {
   "cell_type": "markdown",
   "metadata": {},
   "source": [
    "where $k$ is the force constant. ODE depend only on one\n",
    "variable\n",
    "\n",
    "\n",
    "\n",
    "\n",
    "## Differential Equations\n",
    "partial differential equations like the time-dependent Schr\\\"odinger\n",
    "equation"
   ]
  },
  {
   "cell_type": "markdown",
   "metadata": {},
   "source": [
    "<!-- Equation labels as ordinary links -->\n",
    "<div id=\"_auto3\"></div>\n",
    "\n",
    "$$\n",
    "\\begin{equation}\n",
    "   i\\hbar\\frac{\\partial \\psi({\\bf x},t)}{\\partial t}=\n",
    "   -\\frac{\\hbar^2}{2m}\\left( \\frac{\\partial^2 \\psi({\\bf r},t)}{\\partial x^2} +\n",
    "                            \\frac{\\partial^2 \\psi({\\bf r},t)}{\\partial y^2}+\n",
    "                            \\frac{\\partial^2 \\psi({\\bf r},t)}{\\partial z^2}\\right) + V({\\bf x})\\psi({\\bf x},t),\n",
    "\\label{_auto3} \\tag{4}\n",
    "\\end{equation}\n",
    "$$"
   ]
  },
  {
   "cell_type": "markdown",
   "metadata": {},
   "source": [
    "may depend on several variables. In certain cases, like the above\n",
    "equation, the wave function can be factorized in functions of the separate\n",
    "variables, so that the Schroedinger equation \n",
    "can be rewritten in terms of sets of ordinary differential equations.\n",
    "These equations are discussed in chapter 10. Involve boundary conditions in addition to initial conditions.\n",
    "\n",
    "\n",
    "\n",
    "## Differential Equations\n",
    "We distinguish also between linear and non-linear differential\n",
    "equation where for example"
   ]
  },
  {
   "cell_type": "markdown",
   "metadata": {},
   "source": [
    "<!-- Equation labels as ordinary links -->\n",
    "<div id=\"_auto4\"></div>\n",
    "\n",
    "$$\n",
    "\\begin{equation} \n",
    "   \\frac{dy}{dt}=g^3(t)y(t),\n",
    "\\label{_auto4} \\tag{5}\n",
    "\\end{equation}\n",
    "$$"
   ]
  },
  {
   "cell_type": "markdown",
   "metadata": {},
   "source": [
    "is an example of a linear equation, while"
   ]
  },
  {
   "cell_type": "markdown",
   "metadata": {},
   "source": [
    "<!-- Equation labels as ordinary links -->\n",
    "<div id=\"_auto5\"></div>\n",
    "\n",
    "$$\n",
    "\\begin{equation} \n",
    "   \\frac{dy}{dt}=g^3(t)y(t)-g(t)y^2(t),\n",
    "\\label{_auto5} \\tag{6}\n",
    "\\end{equation}\n",
    "$$"
   ]
  },
  {
   "cell_type": "markdown",
   "metadata": {},
   "source": [
    "is a non-linear ODE.\n",
    "\n",
    "\n",
    "\n",
    "## Differential Equations\n",
    "Another concept which dictates the numerical method chosen\n",
    "for solving an ODE, is that of initial and boundary conditions.\n",
    "To give an example, if we study white dwarf stars or neutron stars\n",
    "we will need to solve two coupled first-order differential\n",
    "equations, one for the total mass $m$ and one for the \n",
    "pressure $P$ as functions of \n",
    "$\\rho$"
   ]
  },
  {
   "cell_type": "markdown",
   "metadata": {},
   "source": [
    "$$\n",
    "\\frac{dm}{dr}=4\\pi r^{2}\\rho (r)/c^2,\n",
    "$$"
   ]
  },
  {
   "cell_type": "markdown",
   "metadata": {},
   "source": [
    "and"
   ]
  },
  {
   "cell_type": "markdown",
   "metadata": {},
   "source": [
    "$$\n",
    "\\frac{dP}{dr}=-\\frac{Gm(r)}{r^{2}}\\rho (r)/c^2.\n",
    "$$"
   ]
  },
  {
   "cell_type": "markdown",
   "metadata": {},
   "source": [
    "where $\\rho$ is the mass-energy density.\n",
    "The initial conditions are dictated by the mass being\n",
    "zero at the center of the star, i.e., when $r=0$,\n",
    "yielding $m(r=0)=0$. The other condition is that\n",
    "the pressure vanishes at the surface of the star.\n",
    "\n",
    "In the solution of the Schroedinger equation for a particle\n",
    "in a potential, we may need to apply boundary conditions as well,\n",
    "such as demanding continuity of the wave function and its derivative.\n",
    "\n",
    "\n",
    "\n",
    "## Differential Equations\n",
    "In many cases it is possible to rewrite a second-order\n",
    "differential equation in terms of two first-order differential\n",
    "equations. Consider again the case of Newton's second law in Eq. ([eq:newton](#eq:newton)). If we define the position $x(t)=y^{(1)}(t)$ \n",
    "and the velocity $v(t)=y^{(2)}(t)$ as its derivative"
   ]
  },
  {
   "cell_type": "markdown",
   "metadata": {},
   "source": [
    "<!-- Equation labels as ordinary links -->\n",
    "<div id=\"_auto6\"></div>\n",
    "\n",
    "$$\n",
    "\\begin{equation} \n",
    "   \\frac{dy^{(1)}(t)}{dt}=\\frac{dx(t)}{dt}=y^{(2)}(t),\n",
    "\\label{_auto6} \\tag{7}\n",
    "\\end{equation}\n",
    "$$"
   ]
  },
  {
   "cell_type": "markdown",
   "metadata": {},
   "source": [
    "we can rewrite Newton's second law as two coupled first-order\n",
    "differential equations"
   ]
  },
  {
   "cell_type": "markdown",
   "metadata": {},
   "source": [
    "<!-- Equation labels as ordinary links -->\n",
    "<div id=\"eq:n1\"></div>\n",
    "\n",
    "$$\n",
    "\\begin{equation} \n",
    "   m\\frac{dy^{(2)}(t)}{dt}=-kx(t)=-ky^{(1)}(t),\n",
    "\\label{eq:n1} \\tag{8}\n",
    "\\end{equation}\n",
    "$$"
   ]
  },
  {
   "cell_type": "markdown",
   "metadata": {},
   "source": [
    "and"
   ]
  },
  {
   "cell_type": "markdown",
   "metadata": {},
   "source": [
    "<!-- Equation labels as ordinary links -->\n",
    "<div id=\"eq:n2\"></div>\n",
    "\n",
    "$$\n",
    "\\begin{equation}\n",
    "\\frac{dy^{(1)}(t)}{dt}=y^{(2)}(t). \\label{eq:n2} \\tag{9}\n",
    "\\end{equation}\n",
    "$$"
   ]
  },
  {
   "cell_type": "markdown",
   "metadata": {},
   "source": [
    "## Differential Equations, Finite Difference\n",
    "These methods fall under the general class of one-step methods.\n",
    "The algoritm is rather simple. \n",
    "Suppose we have an initial value for the function $y(t)$ given by"
   ]
  },
  {
   "cell_type": "markdown",
   "metadata": {},
   "source": [
    "<!-- Equation labels as ordinary links -->\n",
    "<div id=\"_auto7\"></div>\n",
    "\n",
    "$$\n",
    "\\begin{equation}\n",
    "  y_0=y(t=t_0).\n",
    "\\label{_auto7} \\tag{10}\n",
    "\\end{equation}\n",
    "$$"
   ]
  },
  {
   "cell_type": "markdown",
   "metadata": {},
   "source": [
    "We are interested in solving a differential equation in a region\n",
    "in space $[a,b]$. We define a step $h$ by splitting the interval\n",
    "in $N$ sub intervals, so that we have"
   ]
  },
  {
   "cell_type": "markdown",
   "metadata": {},
   "source": [
    "<!-- Equation labels as ordinary links -->\n",
    "<div id=\"_auto8\"></div>\n",
    "\n",
    "$$\n",
    "\\begin{equation}\n",
    "  h=\\frac{b-a}{N}.\n",
    "\\label{_auto8} \\tag{11}\n",
    "\\end{equation}\n",
    "$$"
   ]
  },
  {
   "cell_type": "markdown",
   "metadata": {},
   "source": [
    "With this step and the derivative of $y$ we can construct the\n",
    "next value of the function $y$ at"
   ]
  },
  {
   "cell_type": "markdown",
   "metadata": {},
   "source": [
    "<!-- Equation labels as ordinary links -->\n",
    "<div id=\"_auto9\"></div>\n",
    "\n",
    "$$\n",
    "\\begin{equation}\n",
    "   y_1=y(t_1=t_0+h),\n",
    "\\label{_auto9} \\tag{12}\n",
    "\\end{equation}\n",
    "$$"
   ]
  },
  {
   "cell_type": "markdown",
   "metadata": {},
   "source": [
    "and so forth.\n",
    "\n",
    "\n",
    "\n",
    "\n",
    "## Differential Equations\n",
    "If the function is rather well-behaved in the domain\n",
    "$[a,b]$, we can use a fixed step size. If not, adaptive steps \n",
    "may be needed. Here we concentrate on fixed-step\n",
    "methods only. \n",
    "Let us try to generalize the above procedure by writing the \n",
    "step $y_{i+1}$ in terms of the previous step $y_i$"
   ]
  },
  {
   "cell_type": "markdown",
   "metadata": {},
   "source": [
    "<!-- Equation labels as ordinary links -->\n",
    "<div id=\"_auto10\"></div>\n",
    "\n",
    "$$\n",
    "\\begin{equation}\n",
    "  y_{i+1}=y(t=t_i+h)=y(t_i) + h\\Delta(t_i,y_i(t_i)) + O(h^{p+1}),\n",
    "\\label{_auto10} \\tag{13}\n",
    "\\end{equation}\n",
    "$$"
   ]
  },
  {
   "cell_type": "markdown",
   "metadata": {},
   "source": [
    "where $O(h^{p+1})$ represents the truncation error. To determine \n",
    "$\\Delta$, we Taylor expand our function $y$"
   ]
  },
  {
   "cell_type": "markdown",
   "metadata": {},
   "source": [
    "<!-- Equation labels as ordinary links -->\n",
    "<div id=\"eq:taylor\"></div>\n",
    "\n",
    "$$\n",
    "\\begin{equation}\n",
    "     y_{i+1}=y(t=t_i+h)=y(t_i) + h(y'(t_i)+\\dots +y^{(p)}(t_i)\\frac{h^{p-1}}{p!}) + O(h^{p+1}), \\label{eq:taylor} \\tag{14}\n",
    "\\end{equation}\n",
    "$$"
   ]
  },
  {
   "cell_type": "markdown",
   "metadata": {},
   "source": [
    "where we will associate the derivatives in the parenthesis with"
   ]
  },
  {
   "cell_type": "markdown",
   "metadata": {},
   "source": [
    "<!-- Equation labels as ordinary links -->\n",
    "<div id=\"eq:delta\"></div>\n",
    "\n",
    "$$\n",
    "\\begin{equation}\n",
    "\\Delta(t_i,y_i(t_i))=(y'(t_i)+\\dots +y^{(p)}(t_i)\\frac{h^{p-1}}{p!}). \\label{eq:delta} \\tag{15}\n",
    "\\end{equation}\n",
    "$$"
   ]
  },
  {
   "cell_type": "markdown",
   "metadata": {},
   "source": [
    "## Differential Equations\n",
    "We define"
   ]
  },
  {
   "cell_type": "markdown",
   "metadata": {},
   "source": [
    "<!-- Equation labels as ordinary links -->\n",
    "<div id=\"_auto11\"></div>\n",
    "\n",
    "$$\n",
    "\\begin{equation}\n",
    "  y'(t_i)=f(t_i,y_i)   \n",
    "\\label{_auto11} \\tag{16}\n",
    "\\end{equation}\n",
    "$$"
   ]
  },
  {
   "cell_type": "markdown",
   "metadata": {},
   "source": [
    "and if we truncate $\\Delta$ at the first derivative, we have"
   ]
  },
  {
   "cell_type": "markdown",
   "metadata": {},
   "source": [
    "<!-- Equation labels as ordinary links -->\n",
    "<div id=\"eq:euler\"></div>\n",
    "\n",
    "$$\n",
    "\\begin{equation}\n",
    "   y_{i+1}=y(t_i) + hf(t_i,y_i) + O(h^2), \\label{eq:euler} \\tag{17}\n",
    "\\end{equation}\n",
    "$$"
   ]
  },
  {
   "cell_type": "markdown",
   "metadata": {},
   "source": [
    "which when complemented with $t_{i+1}=t_i+h$ forms\n",
    "the algorithm for the well-known Euler method. \n",
    "Note that at every step we make an approximation error\n",
    "of the order of $O(h^2)$, however the total error is the sum over all\n",
    "steps $N=(b-a)/h$, yielding thus a global error which goes like\n",
    "$NO(h^2)\\approx O(h)$.\n",
    "\n",
    "\n",
    "\n",
    "## Differential Equations\n",
    "To make Euler's method more precise we can obviously\n",
    "decrease $h$ (increase $N$). However, if we are computing the \n",
    "derivative $f$ numerically  \n",
    "by for example the two-steps formula"
   ]
  },
  {
   "cell_type": "markdown",
   "metadata": {},
   "source": [
    "$$\n",
    "f'_{2c}(x)= \\frac{f(x+h)-f(x)}{h}+O(h),\n",
    "$$"
   ]
  },
  {
   "cell_type": "markdown",
   "metadata": {},
   "source": [
    "we can enter into roundoff error problems when we subtract \n",
    "two almost equal numbers $f(x+h)-f(x)\\approx 0$. \n",
    "Euler's method is not recommended for precision calculation,\n",
    "although it is handy to use in order to get a first\n",
    "view on how a solution may look like. As an example,\n",
    "consider Newton's equation rewritten in Eqs. ([eq:n1](#eq:n1)) and ([eq:n2](#eq:n2)). We define $y_0=y^{(1)}(t=0)$\n",
    "an $v_0=y^{(2)}(t=0)$. The first steps in Newton's equations\n",
    "are then"
   ]
  },
  {
   "cell_type": "markdown",
   "metadata": {},
   "source": [
    "<!-- Equation labels as ordinary links -->\n",
    "<div id=\"_auto12\"></div>\n",
    "\n",
    "$$\n",
    "\\begin{equation} \n",
    "   y^{(1)}_1=y_0+hv_0+O(h^2)\n",
    "\\label{_auto12} \\tag{18}\n",
    "\\end{equation}\n",
    "$$"
   ]
  },
  {
   "cell_type": "markdown",
   "metadata": {},
   "source": [
    "and"
   ]
  },
  {
   "cell_type": "markdown",
   "metadata": {},
   "source": [
    "<!-- Equation labels as ordinary links -->\n",
    "<div id=\"_auto13\"></div>\n",
    "\n",
    "$$\n",
    "\\begin{equation}\n",
    "      y^{(2)}_1=v_0-hy_0k/m+O(h^2).\n",
    "\\label{_auto13} \\tag{19}\n",
    "\\end{equation}\n",
    "$$"
   ]
  },
  {
   "cell_type": "markdown",
   "metadata": {},
   "source": [
    "## Differential Equations\n",
    "The Euler method is asymmetric in time, since it uses information about the derivative at the beginning\n",
    "of the time interval. This means that we evaluate the position at $y^{(1)}_1$ using the velocity\n",
    "at $y^{(2)}_0=v_0$. A simple variation is to determine $y^{(1)}_{n+1}$ using the velocity at\n",
    "$y^{(2)}_{n+1}$, that is (in a slightly more generalized form)"
   ]
  },
  {
   "cell_type": "markdown",
   "metadata": {},
   "source": [
    "<!-- Equation labels as ordinary links -->\n",
    "<div id=\"_auto14\"></div>\n",
    "\n",
    "$$\n",
    "\\begin{equation} \n",
    "   y^{(1)}_{n+1}=y^{(1)}_{n}+h y^{(2)}_{n+1}+O(h^2)\n",
    "\\label{_auto14} \\tag{20}\n",
    "\\end{equation}\n",
    "$$"
   ]
  },
  {
   "cell_type": "markdown",
   "metadata": {},
   "source": [
    "and"
   ]
  },
  {
   "cell_type": "markdown",
   "metadata": {},
   "source": [
    "<!-- Equation labels as ordinary links -->\n",
    "<div id=\"_auto15\"></div>\n",
    "\n",
    "$$\n",
    "\\begin{equation}\n",
    "   y^{(2)}_{n+1}=y^{(2)}_{n}+h a_{n}+O(h^2).\n",
    "\\label{_auto15} \\tag{21}\n",
    "\\end{equation}\n",
    "$$"
   ]
  },
  {
   "cell_type": "markdown",
   "metadata": {},
   "source": [
    "The acceleration $a_n$ is a function of $a_n(y^{(1)}_{n}, y^{(2)}_{n},t)$ and needs to be evaluated\n",
    "as well. This is the Euler-Cromer method.\n",
    "\n",
    "\n",
    "\n",
    "\n",
    "## Differential Equations\n",
    "Let us then include the second derivative in our Taylor expansion. \n",
    "We have then"
   ]
  },
  {
   "cell_type": "markdown",
   "metadata": {},
   "source": [
    "<!-- Equation labels as ordinary links -->\n",
    "<div id=\"_auto16\"></div>\n",
    "\n",
    "$$\n",
    "\\begin{equation}\n",
    " \\Delta(t_i,y_i(t_i))=f(t_i)+\\frac{h}{2}\\frac{df(t_i,y_i)}{dt}+O(h^3).\n",
    "\\label{_auto16} \\tag{22}\n",
    "\\end{equation}\n",
    "$$"
   ]
  },
  {
   "cell_type": "markdown",
   "metadata": {},
   "source": [
    "The second derivative can be rewritten as"
   ]
  },
  {
   "cell_type": "markdown",
   "metadata": {},
   "source": [
    "<!-- Equation labels as ordinary links -->\n",
    "<div id=\"eq:derivatives\"></div>\n",
    "\n",
    "$$\n",
    "\\begin{equation}\n",
    "  y''=f'=\\frac{df}{dt}=\\frac{\\partial f}{\\partial t}+\\frac{\\partial f}{\\partial y}\\frac{\\partial y}{\\partial t}=\\frac{\\partial f}{\\partial t}+\\frac{\\partial f}{\\partial y}f \\label{eq:derivatives} \\tag{23}\n",
    "\\end{equation}\n",
    "$$"
   ]
  },
  {
   "cell_type": "markdown",
   "metadata": {},
   "source": [
    "and we can rewrite Eq.\\ ([eq:taylor](#eq:taylor)) as"
   ]
  },
  {
   "cell_type": "markdown",
   "metadata": {},
   "source": [
    "<!-- Equation labels as ordinary links -->\n",
    "<div id=\"_auto17\"></div>\n",
    "\n",
    "$$\n",
    "\\begin{equation}\n",
    "     y_{i+1}=y(t=t_i+h)=y(t_i) +hf(t_i)+\n",
    "     \\frac{h^2}{2}\\left(\\frac{\\partial f}{\\partial t}+\\frac{\\partial f}{\\partial y}f\\right) + O(h^{3  }),\n",
    "\\label{_auto17} \\tag{24}\n",
    "\\end{equation}\n",
    "$$"
   ]
  },
  {
   "cell_type": "markdown",
   "metadata": {},
   "source": [
    "which has a local approximation error $O(h^{3  })$ and a global\n",
    "error $O(h^{2})$.\n",
    "\n",
    "\n",
    "\n",
    "\n",
    "## Differential Equations\n",
    "These approximations can be generalized by using the derivative $f$ to\n",
    "arbitrary order so that we have"
   ]
  },
  {
   "cell_type": "markdown",
   "metadata": {},
   "source": [
    "<!-- Equation labels as ordinary links -->\n",
    "<div id=\"_auto18\"></div>\n",
    "\n",
    "$$\n",
    "\\begin{equation}\n",
    "     y_{i+1}=y(t=t_i+h)=y(t_i) + h(f(t_i,y_i)+\\dots f^{(p-1)}(t_i,y_i)\n",
    "     \\frac{h^{p-1}}{p!}) + O(h^{p+1}).\n",
    "\\label{_auto18} \\tag{25}\n",
    "\\end{equation}\n",
    "$$"
   ]
  },
  {
   "cell_type": "markdown",
   "metadata": {},
   "source": [
    "These methods, based on higher-order derivatives, are in general not used\n",
    "in numerical computation, since they rely on evaluating \n",
    "derivatives several times. Unless one has analytical expressions\n",
    "for these, the risk of roundoff errors is large.\n",
    "\n",
    "\n",
    "\n",
    "## Differential Equations\n",
    "The most obvious improvements to Euler's and Euler-Cromer's algorithms, \n",
    "avoiding in addition the need for computing a\n",
    "second derivative, is the so-called midpoint method. We have then"
   ]
  },
  {
   "cell_type": "markdown",
   "metadata": {},
   "source": [
    "<!-- Equation labels as ordinary links -->\n",
    "<div id=\"_auto19\"></div>\n",
    "\n",
    "$$\n",
    "\\begin{equation} \n",
    "   y^{(1)}_{n+1}=y^{(1)}_{n}+\\frac{h}{2}\\left(y^{(2)}_{n+1}+y^{(2)}_{n}\\right)+O(h^2)\n",
    "\\label{_auto19} \\tag{26}\n",
    "\\end{equation}\n",
    "$$"
   ]
  },
  {
   "cell_type": "markdown",
   "metadata": {},
   "source": [
    "and"
   ]
  },
  {
   "cell_type": "markdown",
   "metadata": {},
   "source": [
    "<!-- Equation labels as ordinary links -->\n",
    "<div id=\"_auto20\"></div>\n",
    "\n",
    "$$\n",
    "\\begin{equation}\n",
    "   y^{(2)}_{n+1}=y^{(2)}_{n}+h a_{n}+O(h^2),\n",
    "\\label{_auto20} \\tag{27}\n",
    "\\end{equation}\n",
    "$$"
   ]
  },
  {
   "cell_type": "markdown",
   "metadata": {},
   "source": [
    "yielding"
   ]
  },
  {
   "cell_type": "markdown",
   "metadata": {},
   "source": [
    "<!-- Equation labels as ordinary links -->\n",
    "<div id=\"_auto21\"></div>\n",
    "\n",
    "$$\n",
    "\\begin{equation} \n",
    "   y^{(1)}_{n+1}=y^{(1)}_{n}+hy^{(2)}_{n}+\\frac{h^2}{2}a_n+O(h^3)\n",
    "\\label{_auto21} \\tag{28}\n",
    "\\end{equation}\n",
    "$$"
   ]
  },
  {
   "cell_type": "markdown",
   "metadata": {},
   "source": [
    "implying that the local truncation error in the position is now $O(h^3)$, whereas Euler's or Euler-Cromer's\n",
    "methods have a local error of  $O(h^2)$.\n",
    "\n",
    "\n",
    "\n",
    "## Differential Equations\n",
    "Thus, the midpoint method yields a global error with \n",
    "second-order accuracy for\n",
    "the position and first-order accuracy for the velocity. However, although these methods yield exact results for\n",
    "constant accelerations, the error increases in general with each time step.\n",
    "\n",
    "One method that avoids this is the so-called half-step method. Here we define"
   ]
  },
  {
   "cell_type": "markdown",
   "metadata": {},
   "source": [
    "<!-- Equation labels as ordinary links -->\n",
    "<div id=\"_auto22\"></div>\n",
    "\n",
    "$$\n",
    "\\begin{equation}\n",
    "   y^{(2)}_{n+1/2}=y^{(2)}_{n-1/2}+h a_{n}+O(h^2),\n",
    "\\label{_auto22} \\tag{29}\n",
    "\\end{equation}\n",
    "$$"
   ]
  },
  {
   "cell_type": "markdown",
   "metadata": {},
   "source": [
    "and"
   ]
  },
  {
   "cell_type": "markdown",
   "metadata": {},
   "source": [
    "<!-- Equation labels as ordinary links -->\n",
    "<div id=\"_auto23\"></div>\n",
    "\n",
    "$$\n",
    "\\begin{equation}\n",
    "   y^{(1)}_{n+1}=y^{(1)}_{n}+hy^{(2)}_{n+1/2} +O(h^2).\n",
    "\\label{_auto23} \\tag{30}\n",
    "\\end{equation}\n",
    "$$"
   ]
  },
  {
   "cell_type": "markdown",
   "metadata": {},
   "source": [
    "Note that this method needs the calculation of $y^{(2)}_{1/2}$. This is done using \n",
    "e.g., Euler's method"
   ]
  },
  {
   "cell_type": "markdown",
   "metadata": {},
   "source": [
    "<!-- Equation labels as ordinary links -->\n",
    "<div id=\"_auto24\"></div>\n",
    "\n",
    "$$\n",
    "\\begin{equation}\n",
    "   y^{(2)}_{1/2}=y^{(2)}_{0}+h a_{0}+O(h^2).\n",
    "\\label{_auto24} \\tag{31}\n",
    "\\end{equation}\n",
    "$$"
   ]
  },
  {
   "cell_type": "markdown",
   "metadata": {},
   "source": [
    "As this method is numerically stable, it is often used instead of Euler's method.\n",
    "\n",
    "\n",
    "\n",
    "\n",
    "## Differential Equations\n",
    "Another method which one may encounter is the Euler-Richardson method\n",
    "with"
   ]
  },
  {
   "cell_type": "markdown",
   "metadata": {},
   "source": [
    "<!-- Equation labels as ordinary links -->\n",
    "<div id=\"eq:er1\"></div>\n",
    "\n",
    "$$\n",
    "\\begin{equation}\n",
    "   y^{(2)}_{n+1}=y^{(2)}_{n}+h a_{n+1/2}+O(h^2),\n",
    "\\label{eq:er1} \\tag{32}\n",
    "\\end{equation}\n",
    "$$"
   ]
  },
  {
   "cell_type": "markdown",
   "metadata": {},
   "source": [
    "and"
   ]
  },
  {
   "cell_type": "markdown",
   "metadata": {},
   "source": [
    "<!-- Equation labels as ordinary links -->\n",
    "<div id=\"eq:er2\"></div>\n",
    "\n",
    "$$\n",
    "\\begin{equation}\n",
    "\\label{eq:er2} \\tag{33}\n",
    "   y^{(1)}_{n+1}=y^{(1)}_{n}+hy^{(2)}_{n+1/2} +O(h^2).\n",
    "\\end{equation}\n",
    "$$"
   ]
  },
  {
   "cell_type": "markdown",
   "metadata": {},
   "source": [
    "## The Verlet method\n",
    "Another set of popular algorithms, which are both numerically stable and easy to implement are the\n",
    "Verlet algorithms, with the velocity Verlet method as widely used in for example Molecular dynamics calculations. \n",
    "Consider again a second-order differential equation  like Newton's second law, whose one-dimensional\n",
    "version reads"
   ]
  },
  {
   "cell_type": "markdown",
   "metadata": {},
   "source": [
    "$$\n",
    "m\\frac{d^2 x}{dt^2}= F(x,t),\n",
    "$$"
   ]
  },
  {
   "cell_type": "markdown",
   "metadata": {},
   "source": [
    "which we rewrite in terms of two coupled differential equations"
   ]
  },
  {
   "cell_type": "markdown",
   "metadata": {},
   "source": [
    "$$\n",
    "\\frac{dx}{dt}=v(x,t) \\hspace{1cm}\\mathrm{and}\\hspace{1cm} \\frac{dv}{dt}=F(x,t)/m=a(x,t).\n",
    "$$"
   ]
  },
  {
   "cell_type": "markdown",
   "metadata": {},
   "source": [
    "## The Verlet method\n",
    "If we now perform a Taylor expansion"
   ]
  },
  {
   "cell_type": "markdown",
   "metadata": {},
   "source": [
    "$$\n",
    "x(t+h) = x(t)+hx^{(1)}(t)+\\frac{h^2}{2}x^{(2)}(t)+O(h^3).\n",
    "$$"
   ]
  },
  {
   "cell_type": "markdown",
   "metadata": {},
   "source": [
    "In our case the second derivative is known via Newton's second law, namely $x^{(2)}(t)=a(x,t)$.\n",
    "If we add to the above equation the corresponding Taylor expansion for $x(t-h)$, we obtain, using the\n",
    "discretized expressions"
   ]
  },
  {
   "cell_type": "markdown",
   "metadata": {},
   "source": [
    "$$\n",
    "x(t_i\\pm h) = x_{i\\pm 1} \\hspace{1cm}\\mathrm{and}\\hspace{1cm} x_i=x(t_i),\n",
    "$$"
   ]
  },
  {
   "cell_type": "markdown",
   "metadata": {},
   "source": [
    "we arrive at"
   ]
  },
  {
   "cell_type": "markdown",
   "metadata": {},
   "source": [
    "$$\n",
    "x_{i+1} = 2x_i - x_{i-1} +h^2x^{(2)}_i+O(h^4).\n",
    "$$"
   ]
  },
  {
   "cell_type": "markdown",
   "metadata": {},
   "source": [
    "## The velocity Verlet method\n",
    "We note that the truncation error goes like $O(h^4)$ since all the odd terms cancel when we add the two Taylor expansions.\n",
    "We see also that the velocity is not directly included in the equation since the function\n",
    "$x^{(2)}=a(x,t)$ is supposed to be known. If we need the velocity however, we can compute it using the well-known\n",
    "formula"
   ]
  },
  {
   "cell_type": "markdown",
   "metadata": {},
   "source": [
    "$$\n",
    "x^{(1)}_i=\\frac{x_{i+1}-x_{i-1}}{2h}+O(h^2).\n",
    "$$"
   ]
  },
  {
   "cell_type": "markdown",
   "metadata": {},
   "source": [
    "We note that the velocity has a truncation error which goes like $O(h^2)$. In for example so-called Molecular dynamics calculations,\n",
    "since the acceleration is normally known via Newton's second law, there is seldomly a need for computing the velocity.\n",
    "\n",
    "We note also that the algorithm for the position is not self-starting since, for $i=0$ it depends on the value of $x$ \n",
    "at the fictitious value $x_{-1}$. \n",
    "\n",
    "We can amend this by introducing the velocity Verlet method.\n",
    "\n",
    " \n",
    "\n",
    "## The velocity Verlet method\n",
    "We have the Taylor expansion for the position given by"
   ]
  },
  {
   "cell_type": "markdown",
   "metadata": {},
   "source": [
    "$$\n",
    "x_{i+1} = x_i+hx^{(1)}_i+\\frac{h^2}{2}x^{(2)}_i+O(h^3).\n",
    "$$"
   ]
  },
  {
   "cell_type": "markdown",
   "metadata": {},
   "source": [
    "The corresponding expansion for the velocity is"
   ]
  },
  {
   "cell_type": "markdown",
   "metadata": {},
   "source": [
    "$$\n",
    "v_{i+1} = v_i+hv^{(1)}_i+\\frac{h^2}{2}v^{(2)}_i+O(h^3).\n",
    "$$"
   ]
  },
  {
   "cell_type": "markdown",
   "metadata": {},
   "source": [
    "Via Newton's second law we have normally an analytical expression for the derivative of the velocity, namely"
   ]
  },
  {
   "cell_type": "markdown",
   "metadata": {},
   "source": [
    "$$\n",
    "v^{(1)}_i = \\frac{d^2 x}{dt^2}\\vert_{i}= \\frac{F(x_i,t_i)}{m},\n",
    "$$"
   ]
  },
  {
   "cell_type": "markdown",
   "metadata": {},
   "source": [
    "## The velocity Verlet method\n",
    "If we add to this the corresponding expansion for the derivative of the velocity"
   ]
  },
  {
   "cell_type": "markdown",
   "metadata": {},
   "source": [
    "$$\n",
    "v^{(1)}_{i+1} = v^{(1)}_i+hv^{(2)}_i+O(h^2),\n",
    "$$"
   ]
  },
  {
   "cell_type": "markdown",
   "metadata": {},
   "source": [
    "and retain only terms up to the second derivative of the velocity since our error goes as $O(h^3)$, we have"
   ]
  },
  {
   "cell_type": "markdown",
   "metadata": {},
   "source": [
    "$$\n",
    "hv^{(2)}_i\\approx v^{(1)}_{i+1}-v^{(1)}_i.\n",
    "$$"
   ]
  },
  {
   "cell_type": "markdown",
   "metadata": {},
   "source": [
    "We can then rewrite the Taylor expansion for the velocity as"
   ]
  },
  {
   "cell_type": "markdown",
   "metadata": {},
   "source": [
    "$$\n",
    "v_{i+1} = v_i+\\frac{h}{2}\\left( v^{(1)}_{i+1}+v^{(1)}_{i}\\right)+O(h^3).\n",
    "$$"
   ]
  },
  {
   "cell_type": "markdown",
   "metadata": {},
   "source": [
    "## The velocity Verlet method\n",
    "Our final equations for the position and the velocity become then"
   ]
  },
  {
   "cell_type": "markdown",
   "metadata": {},
   "source": [
    "$$\n",
    "x_{i+1} = x_i+hv_i+\\frac{h^2}{2}v^{(1)}_{i}+O(h^3),\n",
    "$$"
   ]
  },
  {
   "cell_type": "markdown",
   "metadata": {},
   "source": [
    "and"
   ]
  },
  {
   "cell_type": "markdown",
   "metadata": {},
   "source": [
    "$$\n",
    "v_{i+1} = v_i+\\frac{h}{2}\\left( v^{(1)}_{i+1}+v^{(1)}_{i}\\right)+O(h^3).\n",
    "$$"
   ]
  },
  {
   "cell_type": "markdown",
   "metadata": {},
   "source": [
    "Note well that the term $v^{(1)}_{i+1}$ depends on the position at $x_{i+1}$. This means that you need to calculate \n",
    "the position at the updated time $t_{i+1}$ before the computing the next velocity.  Note also that the derivative of the velocity at the time\n",
    "$t_i$ used in the updating of the position can be reused in the calculation of the velocity update as well.\n",
    "\n",
    "\n",
    "\n",
    "\n",
    "\n",
    "\n",
    "\n",
    "## Differential Equations, Runge-Kutta methods\n",
    "Runge-Kutta (RK) methods are based on Taylor expansion formulae, but yield\n",
    "in general better algorithms for solutions of an ODE.\n",
    "The basic philosophy is that it provides an intermediate step in the computation of $y_{i+1}$.\n",
    "\n",
    "To see this, consider first the following definitions"
   ]
  },
  {
   "cell_type": "markdown",
   "metadata": {},
   "source": [
    "<!-- Equation labels as ordinary links -->\n",
    "<div id=\"_auto25\"></div>\n",
    "\n",
    "$$\n",
    "\\begin{equation}\n",
    "   \\frac{dy}{dt}=f(t,y),  \n",
    "\\label{_auto25} \\tag{34}\n",
    "\\end{equation}\n",
    "$$"
   ]
  },
  {
   "cell_type": "markdown",
   "metadata": {},
   "source": [
    "and"
   ]
  },
  {
   "cell_type": "markdown",
   "metadata": {},
   "source": [
    "<!-- Equation labels as ordinary links -->\n",
    "<div id=\"_auto26\"></div>\n",
    "\n",
    "$$\n",
    "\\begin{equation}\n",
    "   y(t)=\\int f(t,y) dt,  \n",
    "\\label{_auto26} \\tag{35}\n",
    "\\end{equation}\n",
    "$$"
   ]
  },
  {
   "cell_type": "markdown",
   "metadata": {},
   "source": [
    "and"
   ]
  },
  {
   "cell_type": "markdown",
   "metadata": {},
   "source": [
    "<!-- Equation labels as ordinary links -->\n",
    "<div id=\"_auto27\"></div>\n",
    "\n",
    "$$\n",
    "\\begin{equation}\n",
    "  y_{i+1}=y_i+ \\int_{t_i}^{t_{i+1}} f(t,y) dt.\n",
    "\\label{_auto27} \\tag{36}\n",
    "\\end{equation}\n",
    "$$"
   ]
  },
  {
   "cell_type": "markdown",
   "metadata": {},
   "source": [
    "## Differential Equations, Runge-Kutta methods\n",
    "To demonstrate the philosophy behind RK methods, let us consider\n",
    "the second-order RK method, RK2.\n",
    "The first approximation consists in Taylor expanding $f(t,y)$\n",
    "around the center of the integration interval $t_i$ to $t_{i+1}$,\n",
    "that is, at $t_i+h/2$, $h$ being the step.\n",
    "Using the midpoint formula for an integral, \n",
    "defining $y(t_i+h/2) = y_{i+1/2}$ and   \n",
    "$t_i+h/2 = t_{i+1/2}$, we obtain"
   ]
  },
  {
   "cell_type": "markdown",
   "metadata": {},
   "source": [
    "<!-- Equation labels as ordinary links -->\n",
    "<div id=\"_auto28\"></div>\n",
    "\n",
    "$$\n",
    "\\begin{equation}\n",
    "    \\int_{t_i}^{t_{i+1}} f(t,y) dt \\approx hf(t_{i+1/2},y_{i+1/2}) +O(h^3).\n",
    "\\label{_auto28} \\tag{37}\n",
    "\\end{equation}\n",
    "$$"
   ]
  },
  {
   "cell_type": "markdown",
   "metadata": {},
   "source": [
    "This means in turn that we have"
   ]
  },
  {
   "cell_type": "markdown",
   "metadata": {},
   "source": [
    "<!-- Equation labels as ordinary links -->\n",
    "<div id=\"_auto29\"></div>\n",
    "\n",
    "$$\n",
    "\\begin{equation}\n",
    "     y_{i+1}=y_i + hf(t_{i+1/2},y_{i+1/2}) +O(h^3).\n",
    "\\label{_auto29} \\tag{38}\n",
    "\\end{equation}\n",
    "$$"
   ]
  },
  {
   "cell_type": "markdown",
   "metadata": {},
   "source": [
    "## Differential Equations, Runge-Kutta methods\n",
    "However, we do not know the value of   $y_{i+1/2}$. Here comes thus the next approximation, namely, we use Euler's\n",
    "method to approximate $y_{i+1/2}$. We have then"
   ]
  },
  {
   "cell_type": "markdown",
   "metadata": {},
   "source": [
    "<!-- Equation labels as ordinary links -->\n",
    "<div id=\"_auto30\"></div>\n",
    "\n",
    "$$\n",
    "\\begin{equation}\n",
    "   y_{(i+1/2)}=y_i + \\frac{h}{2}\\frac{dy}{dt} =\n",
    "   y(t_i) + \\frac{h}{2}f(t_i,y_i).\n",
    "\\label{_auto30} \\tag{39}\n",
    "\\end{equation}\n",
    "$$"
   ]
  },
  {
   "cell_type": "markdown",
   "metadata": {},
   "source": [
    "This means that we can define the following algorithm for \n",
    "the second-order Runge-Kutta method, RK2."
   ]
  },
  {
   "cell_type": "markdown",
   "metadata": {},
   "source": [
    "5\n",
    "6\n",
    " \n",
    "<\n",
    "<\n",
    "<\n",
    "!\n",
    "!\n",
    "M\n",
    "A\n",
    "T\n",
    "H\n",
    "_\n",
    "B\n",
    "L\n",
    "O\n",
    "C\n",
    "K"
   ]
  },
  {
   "cell_type": "markdown",
   "metadata": {},
   "source": [
    "<!-- Equation labels as ordinary links -->\n",
    "<div id=\"_auto32\"></div>\n",
    "\n",
    "$$\n",
    "\\begin{equation}\n",
    "  k_2=hf(t_{i+1/2},y_i+k_1/2),\n",
    "\\label{_auto32} \\tag{41}\n",
    "\\end{equation}\n",
    "$$"
   ]
  },
  {
   "cell_type": "markdown",
   "metadata": {},
   "source": [
    "with the final value"
   ]
  },
  {
   "cell_type": "markdown",
   "metadata": {},
   "source": [
    "<!-- Equation labels as ordinary links -->\n",
    "<div id=\"_auto33\"></div>\n",
    "\n",
    "$$\n",
    "\\begin{equation} \n",
    "  y_{i+i}\\approx y_i + k_2 +O(h^3). \n",
    "\\label{_auto33} \\tag{42}\n",
    "\\end{equation}\n",
    "$$"
   ]
  },
  {
   "cell_type": "markdown",
   "metadata": {},
   "source": [
    "The difference between the previous one-step methods \n",
    "is that we now need an intermediate step in our evaluation,\n",
    "namely $t_i+h/2 = t_{(i+1/2)}$ where we evaluate the derivative $f$. \n",
    "This involves more operations, but the gain is a better stability\n",
    "in the solution.\n",
    "\n",
    "\n",
    "\n",
    "## Differential Equations, Runge-Kutta methods\n",
    "The fourth-order Runge-Kutta, RK4, which we will employ in the solution of various differential equations below, has the following algorithm"
   ]
  },
  {
   "cell_type": "markdown",
   "metadata": {},
   "source": [
    "5\n",
    "9\n",
    " \n",
    "<\n",
    "<\n",
    "<\n",
    "!\n",
    "!\n",
    "M\n",
    "A\n",
    "T\n",
    "H\n",
    "_\n",
    "B\n",
    "L\n",
    "O\n",
    "C\n",
    "K"
   ]
  },
  {
   "cell_type": "markdown",
   "metadata": {},
   "source": [
    "$$\n",
    "k_3=hf(t_i+h/2,y_i+k_2/2)\\hspace{0.5cm}   k_4=hf(t_i+h,y_i+k_3)\n",
    "$$"
   ]
  },
  {
   "cell_type": "markdown",
   "metadata": {},
   "source": [
    "with the final result"
   ]
  },
  {
   "cell_type": "markdown",
   "metadata": {},
   "source": [
    "$$\n",
    "y_{i+1}=y_i +\\frac{1}{6}\\left( k_1 +2k_2+2k_3+k_4\\right).\n",
    "$$"
   ]
  },
  {
   "cell_type": "markdown",
   "metadata": {},
   "source": [
    "Thus, the algorithm consists in first calculating $k_1$ \n",
    "with $t_i$, $y_1$ and $f$ as inputs. Thereafter, we increase the step\n",
    "size by $h/2$ and calculate $k_2$, then $k_3$ and finally $k_4$. The global error goes as $O(h^4)$.\n",
    "\n",
    "\n",
    "\n",
    "## Building a code for the solar system, gravitational force and constants\n",
    "We start with a simpler case first, the Earth-Sun system  in two dimensions only.  The gravitational force $F_G$ is"
   ]
  },
  {
   "cell_type": "markdown",
   "metadata": {},
   "source": [
    "$$\n",
    "F=\\frac{GM_{\\odot}M_E}{r^2},\n",
    "$$"
   ]
  },
  {
   "cell_type": "markdown",
   "metadata": {},
   "source": [
    "where $G$ is the gravitational constant,"
   ]
  },
  {
   "cell_type": "markdown",
   "metadata": {},
   "source": [
    "$$\n",
    "M_E=6\\times 10^{24}\\mathrm{Kg},\n",
    "$$"
   ]
  },
  {
   "cell_type": "markdown",
   "metadata": {},
   "source": [
    "the mass of Earth,"
   ]
  },
  {
   "cell_type": "markdown",
   "metadata": {},
   "source": [
    "$$\n",
    "M_{\\odot}=2\\times 10^{30}\\mathrm{Kg},\n",
    "$$"
   ]
  },
  {
   "cell_type": "markdown",
   "metadata": {},
   "source": [
    "the mass of the Sun and"
   ]
  },
  {
   "cell_type": "markdown",
   "metadata": {},
   "source": [
    "$$\n",
    "r=1.5\\times 10^{11}\\mathrm{m},\n",
    "$$"
   ]
  },
  {
   "cell_type": "markdown",
   "metadata": {},
   "source": [
    "is the distance between Earth and the Sun. The latter defines what we call an astronomical unit **AU**.\n",
    "From Newton's second law we have then for the $x$ direction"
   ]
  },
  {
   "cell_type": "markdown",
   "metadata": {},
   "source": [
    "$$\n",
    "\\frac{d^2x}{dt^2}=\\frac{F_{x}}{M_E},\n",
    "$$"
   ]
  },
  {
   "cell_type": "markdown",
   "metadata": {},
   "source": [
    "and"
   ]
  },
  {
   "cell_type": "markdown",
   "metadata": {},
   "source": [
    "$$\n",
    "\\frac{d^2y}{dt^2}=\\frac{F_{y}}{M_E},\n",
    "$$"
   ]
  },
  {
   "cell_type": "markdown",
   "metadata": {},
   "source": [
    "for the $y$ direction.\n",
    "\n",
    "\n",
    "\n",
    "\n",
    "## Building a code for the solar system, force equations\n",
    "Introducing $x=r\\cos{(\\theta)}$, $y=r\\sin{(\\theta)}$ and"
   ]
  },
  {
   "cell_type": "markdown",
   "metadata": {},
   "source": [
    "$$\n",
    "r = \\sqrt{x^2+y^2},\n",
    "$$"
   ]
  },
  {
   "cell_type": "markdown",
   "metadata": {},
   "source": [
    "we can rewrite"
   ]
  },
  {
   "cell_type": "markdown",
   "metadata": {},
   "source": [
    "$$\n",
    "F_{x}=-\\frac{GM_{\\odot}M_E}{r^2}\\cos{(\\theta)}=-\\frac{GM_{\\odot}M_E}{r^3}x,\n",
    "$$"
   ]
  },
  {
   "cell_type": "markdown",
   "metadata": {},
   "source": [
    "and"
   ]
  },
  {
   "cell_type": "markdown",
   "metadata": {},
   "source": [
    "$$\n",
    "F_{y}=-\\frac{GM_{\\odot}M_E}{r^2}\\sin{(\\theta)}=-\\frac{GM_{\\odot}M_E}{r^3}y,\n",
    "$$"
   ]
  },
  {
   "cell_type": "markdown",
   "metadata": {},
   "source": [
    "for the $y$ direction.\n",
    "\n",
    "\n",
    "\n",
    "\n",
    "## Building a code for the solar system, coupled equations\n",
    "We can rewrite these two equations"
   ]
  },
  {
   "cell_type": "markdown",
   "metadata": {},
   "source": [
    "$$\n",
    "F_{x}=-\\frac{GM_{\\odot}M_E}{r^2}\\cos{(\\theta)}=-\\frac{GM_{\\odot}M_E}{r^3}x,\n",
    "$$"
   ]
  },
  {
   "cell_type": "markdown",
   "metadata": {},
   "source": [
    "and"
   ]
  },
  {
   "cell_type": "markdown",
   "metadata": {},
   "source": [
    "$$\n",
    "F_{y}=-\\frac{GM_{\\odot}M_E}{r^2}\\sin{(\\theta)}=-\\frac{GM_{\\odot}M_E}{r^3}y,\n",
    "$$"
   ]
  },
  {
   "cell_type": "markdown",
   "metadata": {},
   "source": [
    "as four first-order coupled differential equations"
   ]
  },
  {
   "cell_type": "markdown",
   "metadata": {},
   "source": [
    "7\n",
    "3\n",
    " \n",
    "<\n",
    "<\n",
    "<\n",
    "!\n",
    "!\n",
    "M\n",
    "A\n",
    "T\n",
    "H\n",
    "_\n",
    "B\n",
    "L\n",
    "O\n",
    "C\n",
    "K"
   ]
  },
  {
   "cell_type": "markdown",
   "metadata": {},
   "source": [
    "7\n",
    "4\n",
    " \n",
    "<\n",
    "<\n",
    "<\n",
    "!\n",
    "!\n",
    "M\n",
    "A\n",
    "T\n",
    "H\n",
    "_\n",
    "B\n",
    "L\n",
    "O\n",
    "C\n",
    "K"
   ]
  },
  {
   "cell_type": "markdown",
   "metadata": {},
   "source": [
    "7\n",
    "5\n",
    " \n",
    "<\n",
    "<\n",
    "<\n",
    "!\n",
    "!\n",
    "M\n",
    "A\n",
    "T\n",
    "H\n",
    "_\n",
    "B\n",
    "L\n",
    "O\n",
    "C\n",
    "K"
   ]
  },
  {
   "cell_type": "markdown",
   "metadata": {},
   "source": [
    "$$\n",
    "\\frac{dy}{dt}=v_y.\n",
    "$$"
   ]
  },
  {
   "cell_type": "markdown",
   "metadata": {},
   "source": [
    "## Building a code for the solar system, final coupled equations\n",
    "The four coupled differential equations"
   ]
  },
  {
   "cell_type": "markdown",
   "metadata": {},
   "source": [
    "7\n",
    "7\n",
    " \n",
    "<\n",
    "<\n",
    "<\n",
    "!\n",
    "!\n",
    "M\n",
    "A\n",
    "T\n",
    "H\n",
    "_\n",
    "B\n",
    "L\n",
    "O\n",
    "C\n",
    "K"
   ]
  },
  {
   "cell_type": "markdown",
   "metadata": {},
   "source": [
    "7\n",
    "8\n",
    " \n",
    "<\n",
    "<\n",
    "<\n",
    "!\n",
    "!\n",
    "M\n",
    "A\n",
    "T\n",
    "H\n",
    "_\n",
    "B\n",
    "L\n",
    "O\n",
    "C\n",
    "K"
   ]
  },
  {
   "cell_type": "markdown",
   "metadata": {},
   "source": [
    "7\n",
    "9\n",
    " \n",
    "<\n",
    "<\n",
    "<\n",
    "!\n",
    "!\n",
    "M\n",
    "A\n",
    "T\n",
    "H\n",
    "_\n",
    "B\n",
    "L\n",
    "O\n",
    "C\n",
    "K"
   ]
  },
  {
   "cell_type": "markdown",
   "metadata": {},
   "source": [
    "$$\n",
    "\\frac{dy}{dt}=v_y,\n",
    "$$"
   ]
  },
  {
   "cell_type": "markdown",
   "metadata": {},
   "source": [
    "can be turned into dimensionless equations (as we did in project 2) or we can introduce astronomical units with $1$ AU = $1.5\\times 10^{11}$. \n",
    "\n",
    "Using the equations from circular motion (with $r =1\\mathrm{AU}$)"
   ]
  },
  {
   "cell_type": "markdown",
   "metadata": {},
   "source": [
    "$$\n",
    "\\frac{M_E v^2}{r} = F = \\frac{GM_{\\odot}M_E}{r^2},\n",
    "$$"
   ]
  },
  {
   "cell_type": "markdown",
   "metadata": {},
   "source": [
    "we have"
   ]
  },
  {
   "cell_type": "markdown",
   "metadata": {},
   "source": [
    "$$\n",
    "GM_{\\odot}=v^2r,\n",
    "$$"
   ]
  },
  {
   "cell_type": "markdown",
   "metadata": {},
   "source": [
    "and using that the velocity of Earth (assuming circular motion) is\n",
    "$v = 2\\pi r/\\mathrm{yr}=2\\pi\\mathrm{AU}/\\mathrm{yr}$, we have"
   ]
  },
  {
   "cell_type": "markdown",
   "metadata": {},
   "source": [
    "$$\n",
    "GM_{\\odot}= v^2r = 4\\pi^2 \\frac{(\\mathrm{AU})^3}{\\mathrm{yr}^2}.\n",
    "$$"
   ]
  },
  {
   "cell_type": "markdown",
   "metadata": {},
   "source": [
    "## Building a code for the solar system, discretized equations\n",
    "The four coupled differential equations can then be discretized using Euler's method as (with step length $h$)"
   ]
  },
  {
   "cell_type": "markdown",
   "metadata": {},
   "source": [
    "8\n",
    "4\n",
    " \n",
    "<\n",
    "<\n",
    "<\n",
    "!\n",
    "!\n",
    "M\n",
    "A\n",
    "T\n",
    "H\n",
    "_\n",
    "B\n",
    "L\n",
    "O\n",
    "C\n",
    "K"
   ]
  },
  {
   "cell_type": "markdown",
   "metadata": {},
   "source": [
    "8\n",
    "5\n",
    " \n",
    "<\n",
    "<\n",
    "<\n",
    "!\n",
    "!\n",
    "M\n",
    "A\n",
    "T\n",
    "H\n",
    "_\n",
    "B\n",
    "L\n",
    "O\n",
    "C\n",
    "K"
   ]
  },
  {
   "cell_type": "markdown",
   "metadata": {},
   "source": [
    "8\n",
    "6\n",
    " \n",
    "<\n",
    "<\n",
    "<\n",
    "!\n",
    "!\n",
    "M\n",
    "A\n",
    "T\n",
    "H\n",
    "_\n",
    "B\n",
    "L\n",
    "O\n",
    "C\n",
    "K"
   ]
  },
  {
   "cell_type": "markdown",
   "metadata": {},
   "source": [
    "$$\n",
    "y_{i+1}=y_i+hv_{y,i},\n",
    "$$"
   ]
  },
  {
   "cell_type": "markdown",
   "metadata": {},
   "source": [
    "## Building a code for the solar system, adding Jupiter\n",
    "It is rather straightforward to add a new planet, say Jupiter.\n",
    "Jupiter has mass"
   ]
  },
  {
   "cell_type": "markdown",
   "metadata": {},
   "source": [
    "$$\n",
    "M_J=1.9\\times 10^{27}\\mathrm{kg},\n",
    "$$"
   ]
  },
  {
   "cell_type": "markdown",
   "metadata": {},
   "source": [
    "and distance to the Sun of $5.2$ AU. \n",
    "The additional gravitational force the Earth feels from Jupiter in the $x$-direction is"
   ]
  },
  {
   "cell_type": "markdown",
   "metadata": {},
   "source": [
    "$$\n",
    "F_{x}^{EJ}=-\\frac{GM_JM_E}{r_{EJ}^3}(x_E-x_J),\n",
    "$$"
   ]
  },
  {
   "cell_type": "markdown",
   "metadata": {},
   "source": [
    "where $E$ stands for Earth, $J$ for Jupiter, $r_{EJ}$ is distance between Earth and Jupiter"
   ]
  },
  {
   "cell_type": "markdown",
   "metadata": {},
   "source": [
    "$$\n",
    "r_{EJ} = \\sqrt{(x_E-x_J)^2+(y_E-y_J)^2},\n",
    "$$"
   ]
  },
  {
   "cell_type": "markdown",
   "metadata": {},
   "source": [
    "and $x_E$ and $y_E$ are the $x$ and $y$ coordinates of Earth, respectively, and \n",
    "$x_J$ and $y_J$ are the $x$ and $y$ coordinates of Jupiter, respectively.\n",
    "The $x$-component of the velocity of Earth changes thus to"
   ]
  },
  {
   "cell_type": "markdown",
   "metadata": {},
   "source": [
    "$$\n",
    "\\frac{dv_x^E}{dt}=-\\frac{GM_{\\odot}}{r^3}x_E-\\frac{GM_J}{r_{EJ}^3}(x_E-x_J).\n",
    "$$"
   ]
  },
  {
   "cell_type": "markdown",
   "metadata": {},
   "source": [
    "## Building a code for the solar system, adding Jupiter\n",
    "We can rewrite"
   ]
  },
  {
   "cell_type": "markdown",
   "metadata": {},
   "source": [
    "$$\n",
    "\\frac{dv_x^E}{dt}=-\\frac{GM_{\\odot}}{r^3}x_E-\\frac{GM_J}{r_{EJ}^3}(x_E-x_J).\n",
    "$$"
   ]
  },
  {
   "cell_type": "markdown",
   "metadata": {},
   "source": [
    "to"
   ]
  },
  {
   "cell_type": "markdown",
   "metadata": {},
   "source": [
    "$$\n",
    "\\frac{dv_x^E}{dt}=-\\frac{4\\pi^2}{r^3}x_E-\\frac{4\\pi^2M_J/M_{\\odot}}{r_{EJ}^3}(x_E-x_J),\n",
    "$$"
   ]
  },
  {
   "cell_type": "markdown",
   "metadata": {},
   "source": [
    "where we used"
   ]
  },
  {
   "cell_type": "markdown",
   "metadata": {},
   "source": [
    "$$\n",
    "GM_J = GM_{\\odot}\\left(\\frac{M_J}{M_{\\odot}}\\right)=4\\pi^2 \\frac{M_J}{M_{\\odot}}.\n",
    "$$"
   ]
  },
  {
   "cell_type": "markdown",
   "metadata": {},
   "source": [
    "Similarly, for the velocity in $y$-direction we have"
   ]
  },
  {
   "cell_type": "markdown",
   "metadata": {},
   "source": [
    "$$\n",
    "\\frac{dv_y^E}{dt}=-\\frac{4\\pi^2}{r^3}y_E-\\frac{4\\pi^2M_J/M_{\\odot}}{r_{EJ}^3}(y_E-y_J).\n",
    "$$"
   ]
  },
  {
   "cell_type": "markdown",
   "metadata": {},
   "source": [
    "Similar expressions apply for Jupiter. The equations for $x$ and $y$ \n",
    "derivatives are unchanged. This equations are similar for all other planets and as we will see later, it will be convenient to object orient this part when we program the full solar system.\n",
    "\n",
    "\n",
    "\n",
    "\n",
    "## How can I get the initial velocities and positions of the planets\n",
    "[NASA](http://www.nasa.gov/index.html) has an excellent site at <http://ssd.jpl.nasa.gov/horizons.cgi#top>.\n",
    "From there you can extract initial conditions in order to start your differential equation solver.\n",
    "At the above website you need to change from **OBSERVER** to **VECTOR** and then write in the planet you are interested in.\n",
    "The generated data contain the $x$, $y$ and $z$ values as well as their corresponding velocities. The velocities are in units of AU per day.\n",
    "Alternatively they can be obtained in terms of km and km/s. \n",
    "\n",
    "For the first simple system involving the Earth and the Sun, you could just initialize the position with say $x=1$ AU\n",
    "and $y=0$ AU.\n",
    "\n",
    "\n",
    "\n",
    "## How do we develop a larger numerical project\n",
    "\n",
    "When building up a numerical project there are several elements you should think of, amongst these we take the liberty of mentioning the following.\n",
    " 1. How to structure a code in terms of functions and modules\n",
    "\n",
    " 2. How to read input data flexibly from the command line\n",
    "\n",
    " 3. Find tests and how to write unit tests (test functions). A very good example is [Catch](https://github.com/philsquared/Catch), a modern, C++-native, header-only, framework for unit-tests. Try to find suitable tests of the mathematical algorithms as well as tests which reflect the physics of the system. \n",
    "\n",
    " 4. It takes one quick command to let all your code undergo heavy testing\n",
    "\n",
    " 5. How to refactor code in terms of classes (instead of functions only)\n",
    "\n",
    " 6. How to conduct and automate large-scale numerical experiments\n",
    "\n",
    "## More on large numerical projects\n",
    "The conventions and techniques outlined here will save you a lot of time when you incrementally extend software over time from simpler to more complicated problems.\n",
    "1. Scale your equations in order to simplify, make for example the equations dimensionless or scale them in convenient units\n",
    "\n",
    "2. New code is added in a modular fashion to a library (modules)\n",
    "\n",
    "3. Programs are run through convenient user interfaces\n",
    "\n",
    "4. Tedious manual work with running programs is automated,\n",
    "\n",
    "5. Your scientific investigations are reproducible, scientific reports with top quality typesetting are produced both for paper and electronic devices.\n",
    "\n",
    "## A few words on unit testing\n",
    "A very good and simple framework for unit testing is [Catch](https://github.com/philsquared/Catch).\n",
    "Unit Testing is the practice of testing the smallest testable parts,\n",
    "called units, of an application individually and independently to\n",
    "determine if they behave exactly as expected. Unit tests (short code\n",
    "fragments) are usually written such that they can be performed at any\n",
    "time during the development to continually verify the behavior of the\n",
    "code. In this way, possible bugs will be identified early in the\n",
    "development cycle, making the debugging at later stage much\n",
    "easier.\n",
    "\n",
    "\n",
    "## Unit tests with [Catch](https://github.com/philsquared/Catch)\n",
    "There are many benefits associated with Unit Testing since it  increases confidence in changing and maintaining code. Big changes can be made to the code quickly, since the tests will ensure that everything still is working properly.\n",
    " * Since the code needs to be modular to make Unit Testing possible, the code will be easier to reuse. This improves the code design.\n",
    "\n",
    " * Debugging is easier, since when a test fails, only the latest changes need to be debugged.\n",
    "\n",
    " * Different parts of a project can be tested without the need to wait for the other parts to be available.\n",
    "\n",
    " * A unit test can serve as a documentation on the functionality of a unit of the code.\n",
    "\n",
    "## A simple Example first, Block tied to a Wall\n",
    "Our first example is the classical case of simple harmonic oscillations, namely a block sliding on a horizontal frictionless surface. The block is tied to a wall with a spring. If the spring is not compressed or stretched too far, the force on the block at a given position $x$ is"
   ]
  },
  {
   "cell_type": "markdown",
   "metadata": {},
   "source": [
    "$$\n",
    "F=-kx.\n",
    "$$"
   ]
  },
  {
   "cell_type": "markdown",
   "metadata": {},
   "source": [
    "The negative sign means that the force acts to restore the object to an equilibrium position. Newton's equation of motion for this idealized system is then"
   ]
  },
  {
   "cell_type": "markdown",
   "metadata": {},
   "source": [
    "$$\n",
    "m\\frac{d^2x}{dt^2}=-kx,\n",
    "$$"
   ]
  },
  {
   "cell_type": "markdown",
   "metadata": {},
   "source": [
    "or we could rephrase it as"
   ]
  },
  {
   "cell_type": "markdown",
   "metadata": {},
   "source": [
    "<!-- Equation labels as ordinary links -->\n",
    "<div id=\"eq:newton1\"></div>\n",
    "\n",
    "$$\n",
    "\\frac{d^2x}{dt^2}=-\\frac{k}{m}x=-\\omega_0^2x,\n",
    "\\label{eq:newton1} \\tag{43}\n",
    "$$"
   ]
  },
  {
   "cell_type": "markdown",
   "metadata": {},
   "source": [
    "with the angular frequency $\\omega_0^2=k/m$. \n",
    "\n",
    "The above differential equation has the advantage that it can be solved  analytically with solutions on the form"
   ]
  },
  {
   "cell_type": "markdown",
   "metadata": {},
   "source": [
    "$$\n",
    "x(t)=Acos(\\omega_0t+\\nu),\n",
    "$$"
   ]
  },
  {
   "cell_type": "markdown",
   "metadata": {},
   "source": [
    "where $A$ is the amplitude and $\\nu$ the phase constant.   This provides in turn an important test for the numerical\n",
    "solution and the development of a program for more complicated cases which cannot be solved analytically.\n",
    "\n",
    "\n",
    "\n",
    "\n",
    "## Simple Example, Block tied to a Wall\n",
    "With the position $x(t)$ and the velocity  $v(t)=dx/dt$ we can reformulate Newton's equation in the following way"
   ]
  },
  {
   "cell_type": "markdown",
   "metadata": {},
   "source": [
    "$$\n",
    "\\frac{dx(t)}{dt}=v(t),\n",
    "$$"
   ]
  },
  {
   "cell_type": "markdown",
   "metadata": {},
   "source": [
    "and"
   ]
  },
  {
   "cell_type": "markdown",
   "metadata": {},
   "source": [
    "$$\n",
    "\\frac{dv(t)}{dt}=-\\omega_0^2x(t).\n",
    "$$"
   ]
  },
  {
   "cell_type": "markdown",
   "metadata": {},
   "source": [
    "We are now going to solve these equations using the Runge-Kutta method\n",
    "  to fourth order discussed previously.\n",
    "\n",
    "\n",
    "\n",
    "## Simple Example, Block tied to a Wall\n",
    "Before proceeding however, it is important to note that in addition to the exact solution, we have at least two further tests which can be used to check our solution. \n",
    "\n",
    "Since functions like $cos$ are periodic with a period $2\\pi$, then the solution $x(t)$ has also to be periodic. This means that"
   ]
  },
  {
   "cell_type": "markdown",
   "metadata": {},
   "source": [
    "$$\n",
    "x(t+T)=x(t),\n",
    "$$"
   ]
  },
  {
   "cell_type": "markdown",
   "metadata": {},
   "source": [
    "with $T$ the period defined as"
   ]
  },
  {
   "cell_type": "markdown",
   "metadata": {},
   "source": [
    "$$\n",
    "T=\\frac{2\\pi}{\\omega_0}=\\frac{2\\pi}{\\sqrt{k/m}}.\n",
    "$$"
   ]
  },
  {
   "cell_type": "markdown",
   "metadata": {},
   "source": [
    "Observe that $T$ depends only on $k/m$ and not on the amplitude of the solution.\n",
    "\n",
    "\n",
    "\n",
    "## Simple Example, Block tied to a Wall\n",
    "In addition to the periodicity test, the total energy has also to be conserved. \n",
    "\n",
    "Suppose we choose the initial conditions"
   ]
  },
  {
   "cell_type": "markdown",
   "metadata": {},
   "source": [
    "$$\n",
    "x(t=0)=1\\hspace{0.1cm} \\mathrm{m}\\hspace{1cm} v(t=0)=0\\hspace{0.1cm}\\mathrm{m/s},\n",
    "$$"
   ]
  },
  {
   "cell_type": "markdown",
   "metadata": {},
   "source": [
    "meaning that block is at rest at $t=0$ but with a potential energy"
   ]
  },
  {
   "cell_type": "markdown",
   "metadata": {},
   "source": [
    "$$\n",
    "E_0=\\frac{1}{2}kx(t=0)^2=\\frac{1}{2}k.\n",
    "$$"
   ]
  },
  {
   "cell_type": "markdown",
   "metadata": {},
   "source": [
    "The total energy at any time $t$ has however to be conserved, meaning that our solution has to fulfil the condition"
   ]
  },
  {
   "cell_type": "markdown",
   "metadata": {},
   "source": [
    "$$\n",
    "E_0=\\frac{1}{2}kx(t)^2+\\frac{1}{2}mv(t)^2.\n",
    "$$"
   ]
  },
  {
   "cell_type": "markdown",
   "metadata": {},
   "source": [
    "## Simple Example, Block tied to a Wall\n",
    "An algorithm which implements these equations is included below.\n",
    " * Choose the initial position and speed, with the most common choice $v(t=0)=0$ and some fixed value for the position. \n",
    "\n",
    " * Choose the method you wish to employ in solving the problem.\n",
    "\n",
    " * Subdivide the time interval $[t_i,t_f] $ into a grid with step size"
   ]
  },
  {
   "cell_type": "markdown",
   "metadata": {},
   "source": [
    "$$\n",
    "h=\\frac{t_f-t_i}{N},\n",
    "$$"
   ]
  },
  {
   "cell_type": "markdown",
   "metadata": {},
   "source": [
    "where $N$ is the number of mesh points. \n",
    " * Calculate now the total energy given by"
   ]
  },
  {
   "cell_type": "markdown",
   "metadata": {},
   "source": [
    "$$\n",
    "E_0=\\frac{1}{2}kx(t=0)^2=\\frac{1}{2}k.\n",
    "$$"
   ]
  },
  {
   "cell_type": "markdown",
   "metadata": {},
   "source": [
    "* The Runge-Kutta method is used to obtain $x_{i+1}$ and $v_{i+1}$ starting from the previous values $x_i$ and $v_i$.\n",
    "\n",
    " * When we have computed $x(v)_{i+1}$ we upgrade  $t_{i+1}=t_i+h$.\n",
    "\n",
    " * This iterative  process continues till we reach the maximum time $t_f$.\n",
    "\n",
    " * The results are checked against the exact solution. Furthermore, one has to check the stability of the numerical solution against the chosen number of mesh points $N$.\n",
    "\n",
    "\n",
    "\n",
    "## Simple Example, Block tied to a Wall"
   ]
  },
  {
   "cell_type": "code",
   "execution_count": 1,
   "metadata": {
    "collapsed": false
   },
   "outputs": [],
   "source": [
    "/*    This program solves Newton's equation for a block\n",
    "      sliding on a horizontal frictionless surface. The block\n",
    "      is tied  to a wall with a spring, and Newton's equation\n",
    "      takes the form\n",
    "           m d^2x/dt^2 =-kx\n",
    "      with k the spring tension and m the mass of the block.\n",
    "      The angular frequency is omega^2 = k/m and we set it equal\n",
    "      1 in this example program. \n",
    "\n",
    "      Newton's equation is rewritten as two coupled differential\n",
    "      equations, one for the position x  and one for the velocity v\n",
    "           dx/dt = v    and\n",
    "           dv/dt = -x   when we set k/m=1\n",
    "\n",
    "      We use therefore a two-dimensional array to represent x and v\n",
    "      as functions of t\n",
    "      y[0] == x\n",
    "      y[1] == v\n",
    "      dy[0]/dt = v\n",
    "      dy[1]/dt = -x\n",
    "\n",
    "      The derivatives are calculated by the user defined function \n",
    "      derivatives.\n",
    "\n",
    "      The user has to specify the initial velocity (usually v_0=0)\n",
    "      the number of steps and the initial position. In the programme\n",
    "      below we fix the time interval [a,b] to [0,2*pi].\n",
    "\n",
    "*/ \n",
    "#include <cmath>\n",
    "#include <iostream>\n",
    "#include <fstream>\n",
    "#include <iomanip>\n",
    "//#include \"lib.h\"\n",
    "using namespace  std;\n",
    "// output file as global variable\n",
    "ofstream ofile;\n",
    "// function declarations\n",
    "void derivatives(double, double *, double *);\n",
    "void initialise ( double&, double&, int&);\n",
    "void output( double, double *, double);\n",
    "void runge_kutta_4(double *, double *, int, double, double, \n",
    "                   double *, void (*)(double, double *, double *));\n",
    "\n",
    "int main(int argc, char* argv[])\n",
    "{\n",
    "//  declarations of variables\n",
    "  double *y, *dydt, *yout, t, h, tmax, E0;\n",
    "  double initial_x, initial_v;\n",
    "  int i, number_of_steps, n;\n",
    "  char *outfilename;\n",
    "  // Read in output file, abort if there are too few command-line arguments\n",
    "  if( argc <= 1 ){\n",
    "    cout << \"Bad Usage: \" << argv[0] <<\n",
    "      \" read also output file on same line\" << endl;\n",
    "    //    exit(1);\n",
    "  }\n",
    "  else{\n",
    "    outfilename=argv[1];\n",
    "  }\n",
    "  ofile.open(outfilename);\n",
    "  //  this is the number of differential equations  \n",
    "  n = 2;     \n",
    "  //  allocate space in memory for the arrays containing the derivatives \n",
    "  dydt = new double[n];\n",
    "  y = new double[n];\n",
    "  yout = new double[n];\n",
    "  // read in the initial position, velocity and number of steps \n",
    "  initialise (initial_x, initial_v, number_of_steps);\n",
    "  //  setting initial values, step size and max time tmax  \n",
    "  h = 4.*acos(-1.)/( (double) number_of_steps);   // the step size     \n",
    "  tmax = h*number_of_steps;               // the final time    \n",
    "  y[0] = initial_x;                       // initial position  \n",
    "  y[1] = initial_v;                       // initial velocity  \n",
    "  t=0.;                                   // initial time      \n",
    "  E0 = 0.5*y[0]*y[0]+0.5*y[1]*y[1];       // the initial total energy\n",
    "  // now we start solving the differential equations using the RK4 method \n",
    "  while (t <= tmax){\n",
    "    derivatives(t, y, dydt);   // initial derivatives              \n",
    "    runge_kutta_4(y, dydt, n, t, h, yout, derivatives); \n",
    "    for (i = 0; i < n; i++) {\n",
    "      y[i] = yout[i];  \n",
    "    }\n",
    "    t += h;\n",
    "    output(t, y, E0);   // write to file \n",
    "  }\n",
    "  delete [] y; delete [] dydt; delete [] yout;\n",
    "  ofile.close();  // close output file\n",
    "  return 0;\n",
    "}   //  End of main function \n",
    "\n",
    "//     Read in from screen the number of steps,\n",
    "//     initial position and initial speed \n",
    "void initialise (double& initial_x, double& initial_v, int& number_of_steps)\n",
    "{\n",
    " cout << \"Initial position = \";\n",
    " cin >> initial_x;\n",
    " cout << \"Initial speed = \";\n",
    " cin >> initial_v;\n",
    " cout << \"Number of steps = \";\n",
    " cin >> number_of_steps;\n",
    "}  // end of function initialise  \n",
    "\n",
    "//   this function sets up the derivatives for this special case  \n",
    "void derivatives(double t, double *y, double *dydt)\n",
    "{\n",
    "  dydt[0]=y[1];    // derivative of x \n",
    "  dydt[1]=-y[0]; // derivative of v \n",
    "} // end of function derivatives  \n",
    "\n",
    "//    function to write out the final results\n",
    "void output(double t, double *y, double E0)\n",
    "{\n",
    "  ofile << setiosflags(ios::showpoint | ios::uppercase);\n",
    "  Ofile << setw(15) << setprecision(8) << t;\n",
    "  ofile << setw(15) << setprecision(8) << y[0];\n",
    "  ofile << setw(15) << setprecision(8) << y[1];\n",
    "  ofile << setw(15) << setprecision(8) << cos(t);\n",
    "  ofile << setw(15) << setprecision(8) << \n",
    "    0.5*y[0]*y[0]+0.5*y[1]*y[1]-E0 << endl;\n",
    "}  // end of function output\n",
    "\n",
    "/*   This function upgrades a function y (input as a pointer)\n",
    "     and returns the result yout, also as a pointer. Note that\n",
    "     these variables are declared as arrays.  It also receives as\n",
    "     input the starting value for the derivatives in the pointer\n",
    "     dydx. It receives also the variable n which represents the \n",
    "     number of differential equations, the step size h and \n",
    "     the initial value of x. It receives also the name of the\n",
    "     function *derivs where the given derivative is computed\n",
    "*/\n",
    "void runge_kutta_4(double *y, double *dydx, int n, double x, double h, \n",
    "                   double *yout, void (*derivs)(double, double *, double *))\n",
    "{\n",
    "  int i;\n",
    "  double      xh,hh,h6; \n",
    "  double *dym, *dyt, *yt;\n",
    "  //   allocate space for local vectors   \n",
    "  dym = new double [n];\n",
    "  dyt =  new double [n];\n",
    "  yt =  new double [n];\n",
    "  hh = h*0.5;\n",
    "  h6 = h/6.;\n",
    "  xh = x+hh;\n",
    "  for (i = 0; i < n; i++) {\n",
    "    yt[i] = y[i]+hh*dydx[i];\n",
    "  }\n",
    "  (*derivs)(xh,yt,dyt);     // computation of k2, eq. 3.60   \n",
    "  for (i = 0; i < n; i++) {\n",
    "    yt[i] = y[i]+hh*dyt[i];\n",
    "  }\n",
    "  (*derivs)(xh,yt,dym); //  computation of k3, eq. 3.61   \n",
    "  for (i=0; i < n; i++) {\n",
    "    yt[i] = y[i]+h*dym[i];\n",
    "    dym[i] += dyt[i];\n",
    "  }\n",
    "  (*derivs)(x+h,yt,dyt);    // computation of k4, eq. 3.62   \n",
    "  //      now we upgrade y in the array yout  \n",
    "  for (i = 0; i < n; i++){\n",
    "    yout[i] = y[i]+h6*(dydx[i]+dyt[i]+2.0*dym[i]);\n",
    "  }\n",
    "  delete []dym;\n",
    "  delete [] dyt;\n",
    "  delete [] yt;\n",
    "}       //  end of function Runge-kutta 4"
   ]
  },
  {
   "cell_type": "markdown",
   "metadata": {},
   "source": [
    "## Simple Example, Block tied to a Wall, python code\n",
    "The following python program performs essentially the same calculations as the previous c++ code."
   ]
  },
  {
   "cell_type": "code",
   "execution_count": 2,
   "metadata": {
    "collapsed": false
   },
   "outputs": [],
   "source": [
    "#\n",
    "# This program solves Newtons equation for a block sliding on\n",
    "# an horizontal frictionless surface.\n",
    "# The block is tied to the wall with a spring, so N's eq takes the form:\n",
    "#\n",
    "#  m d^2x/dt^2 = - kx\n",
    "#\n",
    "# In order to make the solution dimless, we set k/m = 1.\n",
    "# This results in two coupled diff. eq's that may be written as:\n",
    "#\n",
    "#  dx/dt = v\n",
    "#  dv/dt = -x\n",
    "#\n",
    "# The user has to specify the initial velocity and position,\n",
    "# and the number of steps. The time interval is fixed to\n",
    "# t \\in [0, 4\\pi) (two periods)\n",
    "#\n",
    "# Note that this is a highly simplifyed rk4 code, intended\n",
    "# for conceptual understanding and experimentation.\n",
    "\n",
    "import sys\n",
    "import numpy, math\n",
    "\n",
    "#Global variables\n",
    "ofile = None;\n",
    "E0    = 0.0\n",
    "\n",
    "def sim(x_0, v_0, N):\n",
    "    ts = 0.0\n",
    "    te = 4*math.pi\n",
    "    h = (te-ts)/float(N)\n",
    "\n",
    "    t = ts;\n",
    "    x = x_0\n",
    "    v = v_0\n",
    "    while (t < te):\n",
    "        kv1 = -h*x\n",
    "        kx1 = h*v\n",
    "\n",
    "        kv2 = -h*(x+kx1/2)\n",
    "        kx2 =  h*(v+kv1/2)\n",
    "\n",
    "        kv3 = -h*(x+kx2/2)\n",
    "        kx3 =  h*(v+kv2/2)\n",
    "\n",
    "        kv4 = -h*(x+kx3/2)\n",
    "        kx4 =  h*(v+kv3/2)\n",
    "\n",
    "        #Write the old values to file\n",
    "        output(t,x,v)\n",
    "\n",
    "        #Update\n",
    "        x = x + (kx1 + 2*(kx2+kx3) + kx4)/6\n",
    "        v = v + (kv1 + 2*(kv2+kv3) + kv4)/6\n",
    "        t = t+h\n",
    "        \n",
    "def output(t,x,v):\n",
    "    de = 0.5*x**2+0.5*v**2 - E0;\n",
    "    ofile.write(\"%15.8E %15.8E %15.8E %15.8E %15.8E\\n\"\\\n",
    "                %(t, x, v, math.cos(t),de));\n",
    "\n",
    "\n",
    "#MAIN PROGRAM:\n",
    "\n",
    "#Get input\n",
    "if len(sys.argv) == 5:\n",
    "    ofilename =       sys.argv[1];\n",
    "    x_0       = float(sys.argv[2])\n",
    "    v_0       = float(sys.argv[3])\n",
    "    N         =   int(sys.argv[4])\n",
    "else:\n",
    "    print \"Usage:\", sys.argv[0], \"ofilename x0 v0 N\"\n",
    "    sys.exit(0)\n",
    "\n",
    "#Setup\n",
    "ofile = open(ofilename, 'w')\n",
    "E0    = 0.5*x_0**2+0.5*v_0**2\n",
    "\n",
    "#Run simulation\n",
    "sim(x_0,v_0,N)\n",
    "\n",
    "#Cleanup\n",
    "ofile.close()"
   ]
  },
  {
   "cell_type": "markdown",
   "metadata": {},
   "source": [
    "## The second example: The classical pendulum and scaling the equations\n",
    "The angular equation of motion of the pendulum is given by\n",
    "Newton's equation and with no external force it reads"
   ]
  },
  {
   "cell_type": "markdown",
   "metadata": {},
   "source": [
    "<!-- Equation labels as ordinary links -->\n",
    "<div id=\"_auto34\"></div>\n",
    "\n",
    "$$\n",
    "\\begin{equation}\n",
    "  ml\\frac{d^2\\theta}{dt^2}+mgsin(\\theta)=0,\n",
    "\\label{_auto34} \\tag{44}\n",
    "\\end{equation}\n",
    "$$"
   ]
  },
  {
   "cell_type": "markdown",
   "metadata": {},
   "source": [
    "with an angular velocity and acceleration given by"
   ]
  },
  {
   "cell_type": "markdown",
   "metadata": {},
   "source": [
    "<!-- Equation labels as ordinary links -->\n",
    "<div id=\"_auto35\"></div>\n",
    "\n",
    "$$\n",
    "\\begin{equation}\n",
    "     v=l\\frac{d\\theta}{dt},\n",
    "\\label{_auto35} \\tag{45}\n",
    "\\end{equation}\n",
    "$$"
   ]
  },
  {
   "cell_type": "markdown",
   "metadata": {},
   "source": [
    "and"
   ]
  },
  {
   "cell_type": "markdown",
   "metadata": {},
   "source": [
    "<!-- Equation labels as ordinary links -->\n",
    "<div id=\"_auto36\"></div>\n",
    "\n",
    "$$\n",
    "\\begin{equation}\n",
    "     a=l\\frac{d^2\\theta}{dt^2}.\n",
    "\\label{_auto36} \\tag{46}\n",
    "\\end{equation}\n",
    "$$"
   ]
  },
  {
   "cell_type": "markdown",
   "metadata": {},
   "source": [
    "## More on the Pendulum\n",
    "We do however expect that the motion will gradually come to an end due a viscous drag torque acting on the pendulum. \n",
    "In the presence of the drag, the above equation becomes"
   ]
  },
  {
   "cell_type": "markdown",
   "metadata": {},
   "source": [
    "<!-- Equation labels as ordinary links -->\n",
    "<div id=\"eq:pend1\"></div>\n",
    "\n",
    "$$\n",
    "\\begin{equation}\n",
    "   ml\\frac{d^2\\theta}{dt^2}+\\nu\\frac{d\\theta}{dt}  +mgsin(\\theta)=0, \\label{eq:pend1} \\tag{47}\n",
    "\\end{equation}\n",
    "$$"
   ]
  },
  {
   "cell_type": "markdown",
   "metadata": {},
   "source": [
    "where $\\nu$ is now a positive constant parameterizing the viscosity\n",
    "of the medium in question. In order to maintain the motion against\n",
    "viscosity, it is necessary to add some external driving force. \n",
    "We choose here a periodic driving force. The last equation becomes then"
   ]
  },
  {
   "cell_type": "markdown",
   "metadata": {},
   "source": [
    "<!-- Equation labels as ordinary links -->\n",
    "<div id=\"eq:pend2\"></div>\n",
    "\n",
    "$$\n",
    "\\begin{equation}\n",
    "   ml\\frac{d^2\\theta}{dt^2}+\\nu\\frac{d\\theta}{dt}  +mgsin(\\theta)=Asin(\\omega t), \\label{eq:pend2} \\tag{48}\n",
    "\\end{equation}\n",
    "$$"
   ]
  },
  {
   "cell_type": "markdown",
   "metadata": {},
   "source": [
    "with $A$ and $\\omega$ two constants representing the amplitude and \n",
    "the angular frequency respectively. The latter is called the driving frequency.\n",
    "\n",
    "\n",
    "\n",
    "\n",
    "\n",
    "## More on the Pendulum\n",
    "We define"
   ]
  },
  {
   "cell_type": "markdown",
   "metadata": {},
   "source": [
    "$$\n",
    "\\omega_0=\\sqrt{g/l},\n",
    "$$"
   ]
  },
  {
   "cell_type": "markdown",
   "metadata": {},
   "source": [
    "the so-called natural frequency and the new dimensionless quantities"
   ]
  },
  {
   "cell_type": "markdown",
   "metadata": {},
   "source": [
    "$$\n",
    "\\hat{t}=\\omega_0t,\n",
    "$$"
   ]
  },
  {
   "cell_type": "markdown",
   "metadata": {},
   "source": [
    "with the dimensionless driving frequency"
   ]
  },
  {
   "cell_type": "markdown",
   "metadata": {},
   "source": [
    "$$\n",
    "\\hat{\\omega}=\\frac{\\omega}{\\omega_0},\n",
    "$$"
   ]
  },
  {
   "cell_type": "markdown",
   "metadata": {},
   "source": [
    "and introducing the quantity $Q$, called the *quality factor*,"
   ]
  },
  {
   "cell_type": "markdown",
   "metadata": {},
   "source": [
    "$$\n",
    "Q=\\frac{mg}{\\omega_0\\nu},\n",
    "$$"
   ]
  },
  {
   "cell_type": "markdown",
   "metadata": {},
   "source": [
    "and the dimensionless amplitude"
   ]
  },
  {
   "cell_type": "markdown",
   "metadata": {},
   "source": [
    "$$\n",
    "\\hat{A}=\\frac{A}{mg}\n",
    "$$"
   ]
  },
  {
   "cell_type": "markdown",
   "metadata": {},
   "source": [
    "## More on the Pendulum\n",
    "We have"
   ]
  },
  {
   "cell_type": "markdown",
   "metadata": {},
   "source": [
    "$$\n",
    "\\frac{d^2\\theta}{d\\hat{t}^2}+\\frac{1}{Q}\\frac{d\\theta}{d\\hat{t}}  \n",
    "     +sin(\\theta)=\\hat{A}cos(\\hat{\\omega}\\hat{t}).\n",
    "$$"
   ]
  },
  {
   "cell_type": "markdown",
   "metadata": {},
   "source": [
    "This equation can in turn be recast in terms of two coupled first-order differential equations as follows"
   ]
  },
  {
   "cell_type": "markdown",
   "metadata": {},
   "source": [
    "$$\n",
    "\\frac{d\\theta}{d\\hat{t}}=\\hat{v},\n",
    "$$"
   ]
  },
  {
   "cell_type": "markdown",
   "metadata": {},
   "source": [
    "and"
   ]
  },
  {
   "cell_type": "markdown",
   "metadata": {},
   "source": [
    "$$\n",
    "\\frac{d\\hat{v}}{d\\hat{t}}=-\\frac{\\hat{v}}{Q}-sin(\\theta)+\\hat{A}cos(\\hat{\\omega}\\hat{t}).\n",
    "$$"
   ]
  },
  {
   "cell_type": "markdown",
   "metadata": {},
   "source": [
    "These are the equations to be solved.  The factor $Q$ represents the number of oscillations of the undriven system that must occur before  its energy is significantly reduced due to the viscous drag. The  amplitude $\\hat{A}$ is measured in units of the maximum possible  gravitational torque while $\\hat{\\omega}$ is the angular frequency of the external torque measured in units of the pendulum's natural frequency.\n",
    "\n",
    "\n",
    "\n",
    "\n",
    "## How to start our solar system project\n",
    "\n",
    "The simplest possible step is to code the Earth-Sun system using Euler's method in two dimensions.\n",
    "The four coupled differential equations can then be discretized using Euler's method as (with step length $h$) are"
   ]
  },
  {
   "cell_type": "markdown",
   "metadata": {},
   "source": [
    "1\n",
    "2\n",
    "2\n",
    " \n",
    "<\n",
    "<\n",
    "<\n",
    "!\n",
    "!\n",
    "M\n",
    "A\n",
    "T\n",
    "H\n",
    "_\n",
    "B\n",
    "L\n",
    "O\n",
    "C\n",
    "K"
   ]
  },
  {
   "cell_type": "markdown",
   "metadata": {},
   "source": [
    "1\n",
    "2\n",
    "3\n",
    " \n",
    "<\n",
    "<\n",
    "<\n",
    "!\n",
    "!\n",
    "M\n",
    "A\n",
    "T\n",
    "H\n",
    "_\n",
    "B\n",
    "L\n",
    "O\n",
    "C\n",
    "K"
   ]
  },
  {
   "cell_type": "markdown",
   "metadata": {},
   "source": [
    "1\n",
    "2\n",
    "4\n",
    " \n",
    "<\n",
    "<\n",
    "<\n",
    "!\n",
    "!\n",
    "M\n",
    "A\n",
    "T\n",
    "H\n",
    "_\n",
    "B\n",
    "L\n",
    "O\n",
    "C\n",
    "K"
   ]
  },
  {
   "cell_type": "markdown",
   "metadata": {},
   "source": [
    "$$\n",
    "y_{i+1}=y_i+hv_{y,i},\n",
    "$$"
   ]
  },
  {
   "cell_type": "markdown",
   "metadata": {},
   "source": [
    "## How to start our solar system project, the simple Euler equations"
   ]
  },
  {
   "cell_type": "markdown",
   "metadata": {},
   "source": [
    "        /*    \n",
    "            Euler's method for the Eart-Sun system, simplest possible code\n",
    "        */ \n",
    "        #include <cmath>\n",
    "        #include <iostream>\n",
    "        #include <fstream>\n",
    "        #include <iomanip>\n",
    "        using namespace  std;\n",
    "        // output file as global variable\n",
    "        ofstream ofile;\n",
    "        // function declarations\n",
    "        void output( double, double, double, double, double);\n",
    "        \n",
    "        int main(int argc, char* argv[])\n",
    "        {\n",
    "        //  declarations of variables\n",
    "          char *outfilename;\n",
    "          // Read in output file, abort if there are too few command-line arguments\n",
    "          if( argc <= 1 ){\n",
    "            cout << \"Bad Usage: \" << argv[0] <<\n",
    "              \" read also output file on same line\" << endl;\n",
    "            //    exit(1);\n",
    "          }\n",
    "          else{\n",
    "            outfilename=argv[1];\n",
    "          }\n",
    "          ofile.open(outfilename);\n",
    "        \n",
    "          int NumberofSteps = 1000;\n",
    "          double FinalTime = 1.0;\n",
    "          double Step = FinalTime/((double) NumberofSteps);\n",
    "          double time = 0.0;\n",
    "          // Initial values  x = 1.0 AU and vy = 2*pi\n",
    "          double pi = acos(-1.0);\n",
    "          double FourPi2 = 4*pi*pi;\n",
    "          double x =  1.0; double y =  0.0; double vx = 0.0; double vy = 2.0*pi;\n",
    "          double r = sqrt(x*x+y*y);\n",
    "        \n",
    "        // now we start solving the differential equations using Euler's method\n",
    "          while (time <= FinalTime){\n",
    "            x += Step*vx;\n",
    "            y += Step*vy;\n",
    "            vx -= Step*FourPi2*x/(r*r*r);\n",
    "            vy -= Step*FourPi2*y/(r*r*r);\n",
    "            r = sqrt(x*x+y*y);\n",
    "            time += Step;\n",
    "            output(time, x, y, vx, vy);   // write to file \n",
    "          }\n",
    "          ofile.close();  // close output file\n",
    "          return 0;\n",
    "        }   //  End of main function \n",
    "        \n",
    "        //    function to write out the final results\n",
    "        void output(double time, double x, double y, double vx, double vy)\n",
    "        {\n",
    "          ofile << setiosflags(ios::showpoint | ios::uppercase);\n",
    "          ofile << setw(15) << setprecision(8) << time;\n",
    "          ofile << setw(15) << setprecision(8) << x;\n",
    "          ofile << setw(15) << setprecision(8) << y;\n",
    "          ofile << setw(15) << setprecision(8) << vx;\n",
    "          ofile << setw(15) << setprecision(8) << vy << endl;\n",
    "        }  // end of function output\n",
    "        \n",
    "        \n"
   ]
  },
  {
   "cell_type": "markdown",
   "metadata": {},
   "source": [
    "## Where do we go from here?\n",
    "\n",
    "* Our next step could be to simply replace the brute force coding of the positions and velocities using the vector class discussed in the solar system  [class example](https://github.com/mortele/solar-system-fys3150). That is, we continue with the above Euler code and simply replace the variables $x$, $y$, $vx$ and $vy$ with vectors defined in the **vec3** class.\n",
    "\n",
    "* It is important to have a simple working code that is well tested and understood before we move on to new additions. In this part it is useful to introduce possible unit tests. \n",
    "\n",
    "* The next step is to add a class about for example celestial bodies, as discussed in the simple extension of the Euler method for the [Earth-Sun system](https://github.com/andeplane/solar-system). This will discussed during the lab sessions.\n",
    "\n",
    "* Thereafter we can add the full complexity as discussed in the solar system [class example](https://github.com/mortele/solar-system-fys3150) to be discussed during the lab sessions.\n",
    "\n",
    "\n",
    "\n",
    "## Adaptive methods\n",
    "In case the function to integrate varies slowly or fast in different integration domains, adaptive methods are normally used. One strategy is always to decrease the step size. As we have seen earlier, this leads to more CPU cycles and may lead to loss or numerical precision. An alternative is to use higher-order RK methods for example. However, this leads again to more cycles, furthermore, there is no guarantee that higher-order leads to an improved error.\n",
    "\n",
    "\n",
    "\n",
    "\n",
    "## Adaptive methods\n",
    "Assume the exact result is $\\tilde{x}$ and that we are using an RKM method. Suppose we run two calculations, one with $h$ (called $x_1$) and one with $h/2$ (called $x_2$). Then"
   ]
  },
  {
   "cell_type": "markdown",
   "metadata": {},
   "source": [
    "$$\n",
    "\\tilde{x}=x_1+Ch^{M+1}+O(h^{M+2}),\n",
    "$$"
   ]
  },
  {
   "cell_type": "markdown",
   "metadata": {},
   "source": [
    "and"
   ]
  },
  {
   "cell_type": "markdown",
   "metadata": {},
   "source": [
    "$$\n",
    "\\tilde{x}=x_2+2C(h/2)^{M+1}+O(h^{M+2}),\n",
    "$$"
   ]
  },
  {
   "cell_type": "markdown",
   "metadata": {},
   "source": [
    "with $C$ a constant. Note that we calculate two halves in the last equation. We get then"
   ]
  },
  {
   "cell_type": "markdown",
   "metadata": {},
   "source": [
    "$$\n",
    "|x_1-x_2| = Ch^{M+1}(1-\\frac{1}{2^M}).\n",
    "$$"
   ]
  },
  {
   "cell_type": "markdown",
   "metadata": {},
   "source": [
    "yielding"
   ]
  },
  {
   "cell_type": "markdown",
   "metadata": {},
   "source": [
    "$$\n",
    "C=\\frac{|x_1-x_2|}{(1-2^{-M})h^{M+1}}.\n",
    "$$"
   ]
  },
  {
   "cell_type": "markdown",
   "metadata": {},
   "source": [
    "We rewrite"
   ]
  },
  {
   "cell_type": "markdown",
   "metadata": {},
   "source": [
    "$$\n",
    "\\tilde{x}=x_2+\\epsilon+O((h)^{M+2}),\n",
    "$$"
   ]
  },
  {
   "cell_type": "markdown",
   "metadata": {},
   "source": [
    "with"
   ]
  },
  {
   "cell_type": "markdown",
   "metadata": {},
   "source": [
    "$$\n",
    "\\epsilon = \\frac{|x_1-x_2|}{2^M-1}.\n",
    "$$"
   ]
  },
  {
   "cell_type": "markdown",
   "metadata": {},
   "source": [
    "## Adaptive methods\n",
    "With RK4 the expressions become"
   ]
  },
  {
   "cell_type": "markdown",
   "metadata": {},
   "source": [
    "$$\n",
    "\\tilde{x}=x_2+\\epsilon+O((h)^{6}),\n",
    "$$"
   ]
  },
  {
   "cell_type": "markdown",
   "metadata": {},
   "source": [
    "with"
   ]
  },
  {
   "cell_type": "markdown",
   "metadata": {},
   "source": [
    "$$\n",
    "\\epsilon = \\frac{|x_1-x_2|}{15}.\n",
    "$$"
   ]
  },
  {
   "cell_type": "markdown",
   "metadata": {},
   "source": [
    "The estimate is one order higher than the original RK4. But this method is normally rather inefficient since it requires a lot of computations. We solve typically the equation three times at each time step. \n",
    "However, we can compare the estimate $\\epsilon$ with some by us given accuracy $\\xi$. \n",
    "We can then ask the question: what is, with a given $x_j$ and $t_j$, the largest possible step size $\\tilde{h}$ that leads to a truncation error below $\\xi$?\n",
    "We want"
   ]
  },
  {
   "cell_type": "markdown",
   "metadata": {},
   "source": [
    "$$\n",
    "C\\tilde{h} \\le \\xi,\n",
    "$$"
   ]
  },
  {
   "cell_type": "markdown",
   "metadata": {},
   "source": [
    "which leads to"
   ]
  },
  {
   "cell_type": "markdown",
   "metadata": {},
   "source": [
    "$$\n",
    "\\left(\\frac{\\tilde{h}}{h}\\right)^{M+1}\\frac{|x_1-x_2|}{(1-2^{-M})}\\le \\xi,\n",
    "$$"
   ]
  },
  {
   "cell_type": "markdown",
   "metadata": {},
   "source": [
    "meaning that"
   ]
  },
  {
   "cell_type": "markdown",
   "metadata": {},
   "source": [
    "$$\n",
    "\\tilde{h}=h\\left(\\frac{\\xi}{\\epsilon}\\right)^{1+1/M}.\n",
    "$$"
   ]
  },
  {
   "cell_type": "markdown",
   "metadata": {},
   "source": [
    "## Adaptive methods\n",
    "With"
   ]
  },
  {
   "cell_type": "markdown",
   "metadata": {},
   "source": [
    "$$\n",
    "\\tilde{h}=h\\left(\\frac{\\xi}{\\epsilon}\\right)^{1+1/M}.\n",
    "$$"
   ]
  },
  {
   "cell_type": "markdown",
   "metadata": {},
   "source": [
    "we can design the following algorithm:\n",
    " * If the two answers are close, keep the approximation to $h$.\n",
    "\n",
    " * If $\\epsilon > \\xi$ we need to decrease the step size in the next time step.\n",
    "\n",
    " * If $\\epsilon < \\xi$ we need to increase the step size in the next time step."
   ]
  }
 ],
 "metadata": {
  "kernelspec": {
   "display_name": "Python 2",
   "language": "python",
   "name": "python2"
  },
  "language_info": {
   "codemirror_mode": {
    "name": "ipython",
    "version": 2
   },
   "file_extension": ".py",
   "mimetype": "text/x-python",
   "name": "python",
   "nbconvert_exporter": "python",
   "pygments_lexer": "ipython2",
   "version": "2.7.13"
  }
 },
 "nbformat": 4,
 "nbformat_minor": 1
}
