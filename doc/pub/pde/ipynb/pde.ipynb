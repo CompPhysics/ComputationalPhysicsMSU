{
 "cells": [
  {
   "cell_type": "markdown",
   "metadata": {},
   "source": [
    "<!-- dom:TITLE: Computational Physics  Lectures: Partial differential equations -->\n",
    "# Computational Physics  Lectures: Partial differential equations\n",
    "<!-- dom:AUTHOR: Morten Hjorth-Jensen at Department of Physics, University of Oslo & Department of Physics and Astronomy and National Superconducting Cyclotron Laboratory, Michigan State University -->\n",
    "<!-- Author: -->  \n",
    "**Morten Hjorth-Jensen**, Department of Physics, University of Oslo and Department of Physics and Astronomy and National Superconducting Cyclotron Laboratory, Michigan State University\n",
    "\n",
    "Date: **2017**\n",
    "\n",
    "## Famous PDEs\n",
    "In the Natural Sciences we often encounter problems with many variables\n",
    "constrained by boundary conditions and initial values. Many of these problems\n",
    "can be modelled as partial differential equations. One case which arises \n",
    "in many situations is the so-called wave equation whose one-dimensional form\n",
    "reads"
   ]
  },
  {
   "cell_type": "markdown",
   "metadata": {},
   "source": [
    "<!-- Equation labels as ordinary links -->\n",
    "<div id=\"eq:waveeqpde\"></div>\n",
    "\n",
    "$$\n",
    "\\begin{equation}\n",
    "\\label{eq:waveeqpde} \\tag{1}\n",
    " \\frac{\\partial^2 u}{\\partial x^2}=A\\frac{\\partial^2 u}{\\partial t^2},\n",
    "\\end{equation}\n",
    "$$"
   ]
  },
  {
   "cell_type": "markdown",
   "metadata": {},
   "source": [
    "where $A$ is a constant. The solution $u$ depends on both spatial and temporal variables, viz. $u=u(x,t)$.\n",
    "\n",
    "\n",
    "## Famous PDEs, two dimension\n",
    "In two dimension we have $u=u(x,y,t)$.  We will, unless otherwise stated, simply use $u$ in our discussion below.\n",
    "Familiar situations which this equation can model\n",
    "are waves on a string, pressure waves, waves on the surface of a fjord or a \n",
    "lake, electromagnetic waves and sound waves to mention a few. For e.g., electromagnetic\n",
    "waves we have the constant $A=c^2$, with $c$ the speed of light. It is rather\n",
    "straightforward to extend this equation to two or three dimension. In two dimensions\n",
    "we have"
   ]
  },
  {
   "cell_type": "markdown",
   "metadata": {},
   "source": [
    "$$\n",
    "\\frac{\\partial^2 u}{\\partial x^2}+\\frac{\\partial^2 u}{\\partial y^2}=A\\frac{\\partial^2 u}{\\partial t^2},\n",
    "$$"
   ]
  },
  {
   "cell_type": "markdown",
   "metadata": {},
   "source": [
    "## Famous PDEs, diffusion equation\n",
    "The diffusion equation whose one-dimensional version   reads"
   ]
  },
  {
   "cell_type": "markdown",
   "metadata": {},
   "source": [
    "<!-- Equation labels as ordinary links -->\n",
    "<div id=\"eq:diffusionpde\"></div>\n",
    "\n",
    "$$\n",
    "\\begin{equation}\n",
    "\\label{eq:diffusionpde} \\tag{2}\n",
    " \\frac{\\partial^2 u}{\\partial x^2}=A\\frac{\\partial u}{\\partial t},\n",
    "\\end{equation}\n",
    "$$"
   ]
  },
  {
   "cell_type": "markdown",
   "metadata": {},
   "source": [
    "and  $A$ is in this case called the diffusion constant. It can be used to model\n",
    "a wide selection of diffusion processes, from molecules to the diffusion of heat\n",
    "in a given material.\n",
    "\n",
    "## Famous PDEs, Laplace's equation\n",
    "Another familiar equation from electrostatics is Laplace's equation, which looks similar\n",
    "to the wave equation in Eq. ([eq:waveeqpde](#eq:waveeqpde)) except that we have set $A=0$"
   ]
  },
  {
   "cell_type": "markdown",
   "metadata": {},
   "source": [
    "<!-- Equation labels as ordinary links -->\n",
    "<div id=\"eq:laplacepde\"></div>\n",
    "\n",
    "$$\n",
    "\\begin{equation}\n",
    "\\label{eq:laplacepde} \\tag{3}\n",
    " \\frac{\\partial^2 u}{\\partial x^2}+\\frac{\\partial^2 u}{\\partial y^2}=0,\n",
    "\\end{equation}\n",
    "$$"
   ]
  },
  {
   "cell_type": "markdown",
   "metadata": {},
   "source": [
    "or if we have a finite electric charge represented by a charge density \n",
    "$\\rho(\\mathbf{x})$ we have the familiar Poisson equation"
   ]
  },
  {
   "cell_type": "markdown",
   "metadata": {},
   "source": [
    "<!-- Equation labels as ordinary links -->\n",
    "<div id=\"eq:poissonpde\"></div>\n",
    "\n",
    "$$\n",
    "\\begin{equation}\n",
    "\\label{eq:poissonpde} \\tag{4}\n",
    " \\frac{\\partial^2 u}{\\partial x^2}+\\frac{\\partial^2 u}{\\partial y^2}=-4\\pi \\rho(\\mathbf{x}).\n",
    "\\end{equation}\n",
    "$$"
   ]
  },
  {
   "cell_type": "markdown",
   "metadata": {},
   "source": [
    "## Famous PDEs, Helmholtz' equation\n",
    "Other famous partial differential equations  are the Helmholtz (or eigenvalue) equation, here specialized to two \n",
    "dimensions only"
   ]
  },
  {
   "cell_type": "markdown",
   "metadata": {},
   "source": [
    "<!-- Equation labels as ordinary links -->\n",
    "<div id=\"eq:helmholtz\"></div>\n",
    "\n",
    "$$\n",
    "\\begin{equation}\n",
    "\\label{eq:helmholtz} \\tag{5}\n",
    " -\\frac{\\partial^2 u}{\\partial x^2}-\\frac{\\partial^2 u}{\\partial y^2}=\\lambda u,\n",
    "\\end{equation}\n",
    "$$"
   ]
  },
  {
   "cell_type": "markdown",
   "metadata": {},
   "source": [
    "the linear transport equation  (in $2+1$ dimensions) familiar from Brownian motion as well"
   ]
  },
  {
   "cell_type": "markdown",
   "metadata": {},
   "source": [
    "<!-- Equation labels as ordinary links -->\n",
    "<div id=\"eq:transport\"></div>\n",
    "\n",
    "$$\n",
    "\\begin{equation}\n",
    "\\label{eq:transport} \\tag{6}\n",
    "\\frac{\\partial u}{\\partial t} +\\frac{\\partial u}{\\partial x}+\\frac{\\partial u}{\\partial y }=0,\n",
    "\\end{equation}\n",
    "$$"
   ]
  },
  {
   "cell_type": "markdown",
   "metadata": {},
   "source": [
    "## Famous PDEs, Schroedinger's equation in two dimensions\n",
    "Schroedinger's equation"
   ]
  },
  {
   "cell_type": "markdown",
   "metadata": {},
   "source": [
    "$$\n",
    "-\\frac{\\partial^2 u}{\\partial x^2}-\\frac{\\partial^2 u}{\\partial y^2}+f(x,y)u = \\imath\\frac{\\partial u}{\\partial t}.\n",
    "$$"
   ]
  },
  {
   "cell_type": "markdown",
   "metadata": {},
   "source": [
    "## Famous PDEs, Maxwell's equations\n",
    "Important systems of linear partial differential equations are the famous Maxwell equations"
   ]
  },
  {
   "cell_type": "markdown",
   "metadata": {},
   "source": [
    "$$\n",
    "\\frac{\\partial \\mathbf{E}}{\\partial t} =  \\mathrm{curl}\\mathbf{B},\n",
    "$$"
   ]
  },
  {
   "cell_type": "markdown",
   "metadata": {},
   "source": [
    "and"
   ]
  },
  {
   "cell_type": "markdown",
   "metadata": {},
   "source": [
    "$$\n",
    "-\\mathrm{curl} \\mathbf{E} =  \\mathbf{B}\n",
    "$$"
   ]
  },
  {
   "cell_type": "markdown",
   "metadata": {},
   "source": [
    "and"
   ]
  },
  {
   "cell_type": "markdown",
   "metadata": {},
   "source": [
    "$$\n",
    "\\mathrm{div} \\mathbf{E} =   \\mathrm{div}\\mathbf{B}  = 0.\n",
    "$$"
   ]
  },
  {
   "cell_type": "markdown",
   "metadata": {},
   "source": [
    "## Famous PDEs, Euler's equations\n",
    "Similarly, famous systems of non-linear partial differential equations are for example Euler's equations for \n",
    "incompressible, inviscid flow"
   ]
  },
  {
   "cell_type": "markdown",
   "metadata": {},
   "source": [
    "$$\n",
    "\\frac{\\partial \\mathbf{u}}{\\partial t} +\\mathbf{u}\\nabla\\mathbf{u}=  -Dp; \\hspace{1cm} \\mathrm{div} \\mathbf{u} =  0,\n",
    "$$"
   ]
  },
  {
   "cell_type": "markdown",
   "metadata": {},
   "source": [
    "with $p$ being the pressure and"
   ]
  },
  {
   "cell_type": "markdown",
   "metadata": {},
   "source": [
    "$$\n",
    "\\nabla = \\frac{\\partial}{\\partial x}e_x+\\frac{\\partial}{\\partial y}e_y,\n",
    "$$"
   ]
  },
  {
   "cell_type": "markdown",
   "metadata": {},
   "source": [
    "in the two dimensions. The unit vectors are $e_x$ and $e_y$. \n",
    "\n",
    "## Famous PDEs, the Navier-Stokes' equations\n",
    "Another example is the set of   \n",
    "Navier-Stokes equations for incompressible, viscous flow"
   ]
  },
  {
   "cell_type": "markdown",
   "metadata": {},
   "source": [
    "$$\n",
    "\\frac{\\partial \\mathbf{u}}{\\partial t} +\\mathbf{u}\\nabla\\mathbf{u}-\\Delta \\mathbf{u}=  -Dp; \\hspace{1cm} \\mathrm{div} \\mathbf{u} =  0.\n",
    "$$"
   ]
  },
  {
   "cell_type": "markdown",
   "metadata": {},
   "source": [
    "## Famous PDEs, general equation in two dimensions\n",
    "A general partial differential equation with two given dimensions\n",
    "reads"
   ]
  },
  {
   "cell_type": "markdown",
   "metadata": {},
   "source": [
    "$$\n",
    "A(x,y)\\frac{\\partial^2 u}{\\partial x^2}+B(x,y)\\frac{\\partial^2 u}{\\partial x\\partial y}\n",
    "+C(x,y)\\frac{\\partial^2 u}{\\partial y^2}=F(x,y,u,\\frac{\\partial u}{\\partial x}, \\frac{\\partial u}{\\partial y}),\n",
    "$$"
   ]
  },
  {
   "cell_type": "markdown",
   "metadata": {},
   "source": [
    "and if we set"
   ]
  },
  {
   "cell_type": "markdown",
   "metadata": {},
   "source": [
    "$$\n",
    "B=C=0,\n",
    "$$"
   ]
  },
  {
   "cell_type": "markdown",
   "metadata": {},
   "source": [
    "we recover the $1+1$-dimensional diffusion equation which is an example\n",
    "of a so-called parabolic partial differential equation.\n",
    "With"
   ]
  },
  {
   "cell_type": "markdown",
   "metadata": {},
   "source": [
    "$$\n",
    "B=0, \\hspace{1cm} AC < 0\n",
    "$$"
   ]
  },
  {
   "cell_type": "markdown",
   "metadata": {},
   "source": [
    "we get the $2+1$-dim wave equation which is an example of a so-called \n",
    "elliptic PDE, where more generally we have\n",
    "$B^2 > AC$.\n",
    "For $B^2 <  AC$ \n",
    "we obtain a so-called hyperbolic PDE, with the Laplace equation in \n",
    "Eq. ([eq:laplacepde](#eq:laplacepde)) as one of the \n",
    "classical examples.\n",
    "These equations can all be easily extended to non-linear partial differential\n",
    "equations and $3+1$ dimensional cases.\n",
    "\n",
    "\n",
    "## Diffusion equation\n",
    "The diffusion equation describes in typical applications the evolution in time of the density $u$ of a quantity like\n",
    "the particle density, energy density, temperature gradient, chemical concentrations etc.\n",
    "\n",
    "The basis is the assumption that the flux density $\\mathbf{\\rho}$ obeys the Gauss-Green theorem"
   ]
  },
  {
   "cell_type": "markdown",
   "metadata": {},
   "source": [
    "$$\n",
    "\\int_V \\mathrm{div}\\mathbf{\\rho} dx = \\int_{\\partial V} \\mathbf{\\rho}\\mathbf{n}dS,\n",
    "$$"
   ]
  },
  {
   "cell_type": "markdown",
   "metadata": {},
   "source": [
    "where $n$ is the unit outer normal field and $V$ is a smooth region with the space where\n",
    "we seek a solution.  \n",
    "The Gauss-Green theorem leads to"
   ]
  },
  {
   "cell_type": "markdown",
   "metadata": {},
   "source": [
    "$$\n",
    "\\mathrm{div} \\mathbf{\\rho} = 0.\n",
    "$$"
   ]
  },
  {
   "cell_type": "markdown",
   "metadata": {},
   "source": [
    "## Diffusion equation\n",
    "Assuming that the flux is proportional to the gradient $\\mathbf{\\nabla} u$ but pointing in the opposite direction\n",
    "since the flow is from regions  of high concetration to lower concentrations, we obtain"
   ]
  },
  {
   "cell_type": "markdown",
   "metadata": {},
   "source": [
    "$$\n",
    "\\mathbf{\\rho} = -D\\mathbf{\\nabla} u,\n",
    "$$"
   ]
  },
  {
   "cell_type": "markdown",
   "metadata": {},
   "source": [
    "resulting in"
   ]
  },
  {
   "cell_type": "markdown",
   "metadata": {},
   "source": [
    "$$\n",
    "\\mathrm{div} \\mathbf{\\nabla} u  = D\\Delta u = 0,\n",
    "$$"
   ]
  },
  {
   "cell_type": "markdown",
   "metadata": {},
   "source": [
    "which is Laplace's equation. The constant $D$ can be coupled with various physical \n",
    "constants, such as the diffusion constant or the specific heat and thermal conductivity discussed below. \n",
    "\n",
    "## Diffusion equation, famous laws\n",
    "If we let $u$ denote the concetration of a particle species, this results in Fick's law of diffusion. \n",
    "If it denotes the temperature gradient, we have Fourier'slaw of heat conduction and if it refers to the \n",
    "electrostatic potential we have Ohm's law of electrical conduction.\n",
    "\n",
    "Coupling the rate of change (temporal dependence) of $u$ with the flux density we have"
   ]
  },
  {
   "cell_type": "markdown",
   "metadata": {},
   "source": [
    "$$\n",
    "\\frac{\\partial u}{\\partial t} = -\\mathrm{div}\\mathbf{\\rho},\n",
    "$$"
   ]
  },
  {
   "cell_type": "markdown",
   "metadata": {},
   "source": [
    "which results in"
   ]
  },
  {
   "cell_type": "markdown",
   "metadata": {},
   "source": [
    "$$\n",
    "\\frac{\\partial u}{\\partial t}= D \\mathrm{div} \\mathbf{\\nabla} u  = D \\Delta u,\n",
    "$$"
   ]
  },
  {
   "cell_type": "markdown",
   "metadata": {},
   "source": [
    "the diffusion equation, or heat equation.\n",
    "\n",
    "## Diffusion equation, heat equation\n",
    "If we specialize to the heat equation, \n",
    "we assume that the diffusion of heat through some \n",
    "material is proportional with the temperature gradient $T(\\mathbf{x},t)$\n",
    "and using \n",
    "conservation of energy we arrive at the diffusion equation"
   ]
  },
  {
   "cell_type": "markdown",
   "metadata": {},
   "source": [
    "$$\n",
    "\\frac{\\kappa}{C\\rho}\\nabla^2 T(\\mathbf{x},t) =\\frac{\\partial T(\\mathbf{x},t)}{\\partial t}\n",
    "$$"
   ]
  },
  {
   "cell_type": "markdown",
   "metadata": {},
   "source": [
    "where $C$ is the specific heat and  $\\rho$ \n",
    "the density of the material. \n",
    "Here we let the density be represented by a \n",
    "constant, but there is no problem introducing  an explicit spatial dependence, viz.,"
   ]
  },
  {
   "cell_type": "markdown",
   "metadata": {},
   "source": [
    "$$\n",
    "\\frac{\\kappa}{C\\rho(\\mathbf{x},t)}\\nabla^2 T(\\mathbf{x},t) =\n",
    "\\frac{\\partial T(\\mathbf{x},t)}{\\partial t}.\n",
    "$$"
   ]
  },
  {
   "cell_type": "markdown",
   "metadata": {},
   "source": [
    "## Diffusion equation, heat equation in one dimension\n",
    "Setting all constants equal to the diffusion constant $D$, i.e.,"
   ]
  },
  {
   "cell_type": "markdown",
   "metadata": {},
   "source": [
    "$$\n",
    "D=\\frac{C\\rho}{\\kappa},\n",
    "$$"
   ]
  },
  {
   "cell_type": "markdown",
   "metadata": {},
   "source": [
    "we arrive at"
   ]
  },
  {
   "cell_type": "markdown",
   "metadata": {},
   "source": [
    "$$\n",
    "\\nabla^2 T(\\mathbf{x},t) =\n",
    "D\\frac{\\partial T(\\mathbf{x},t)}{\\partial t}.\n",
    "$$"
   ]
  },
  {
   "cell_type": "markdown",
   "metadata": {},
   "source": [
    "Specializing to the $1+1$-dimensional case we have"
   ]
  },
  {
   "cell_type": "markdown",
   "metadata": {},
   "source": [
    "$$\n",
    "\\frac{\\partial^2 T(x,t)}{\\partial x^2}=D\\frac{\\partial T(x,t)}{\\partial t}.\n",
    "$$"
   ]
  },
  {
   "cell_type": "markdown",
   "metadata": {},
   "source": [
    "## Diffusion equation, dimensionless form\n",
    "We note that the dimension of $D$ is time/length$^2$.\n",
    "Introducing the dimensionless variables $\\alpha\\hat{x}=x$\n",
    "we get"
   ]
  },
  {
   "cell_type": "markdown",
   "metadata": {},
   "source": [
    "$$\n",
    "\\frac{\\partial^2 T(x,t)}{\\alpha^2\\partial \\hat{x}^2}=\n",
    "D\\frac{\\partial T(x,t)}{\\partial t},\n",
    "$$"
   ]
  },
  {
   "cell_type": "markdown",
   "metadata": {},
   "source": [
    "and since $\\alpha$ is just a constant we could define\n",
    "$\\alpha^2D= 1$ or use the last expression to define a dimensionless time-variable \n",
    "$\\hat{t}$. This yields a simplified diffusion equation"
   ]
  },
  {
   "cell_type": "markdown",
   "metadata": {},
   "source": [
    "$$\n",
    "\\frac{\\partial^2 T(\\hat{x},\\hat{t})}{\\partial \\hat{x}^2}=\n",
    "\\frac{\\partial T(\\hat{x},\\hat{t})}{\\partial \\hat{t}}.\n",
    "$$"
   ]
  },
  {
   "cell_type": "markdown",
   "metadata": {},
   "source": [
    "It is now a partial differential equation in terms of dimensionless\n",
    "variables. In the discussion below, we will however, for the sake\n",
    "of notational simplicity replace $\\hat{x}\\rightarrow x$ and \n",
    "$\\hat{t}\\rightarrow t$. Moreover, the solution to the $1+1$-dimensional\n",
    "partial differential equation is replaced by $T(\\hat{x},\\hat{t})\\rightarrow u(x,t)$.\n",
    "\n",
    "## Explicit Scheme\n",
    "In one dimension we have the following equation"
   ]
  },
  {
   "cell_type": "markdown",
   "metadata": {},
   "source": [
    "$$\n",
    "\\nabla^2 u(x,t) =\\frac{\\partial u(x,t)}{\\partial t},\n",
    "$$"
   ]
  },
  {
   "cell_type": "markdown",
   "metadata": {},
   "source": [
    "or"
   ]
  },
  {
   "cell_type": "markdown",
   "metadata": {},
   "source": [
    "$$\n",
    "u_{xx} = u_t,\n",
    "$$"
   ]
  },
  {
   "cell_type": "markdown",
   "metadata": {},
   "source": [
    "with initial conditions, i.e., the conditions at $t=0$,"
   ]
  },
  {
   "cell_type": "markdown",
   "metadata": {},
   "source": [
    "$$\n",
    "u(x,0)= g(x) \\hspace{0.5cm} 0 < x < L\n",
    "$$"
   ]
  },
  {
   "cell_type": "markdown",
   "metadata": {},
   "source": [
    "with $L=1$ the length of the $x$-region of interest. \n",
    "\n",
    "## Explicit Scheme, boundary conditions\n",
    "The  boundary conditions are"
   ]
  },
  {
   "cell_type": "markdown",
   "metadata": {},
   "source": [
    "$$\n",
    "u(0,t)= a(t) \\hspace{0.5cm} t \\ge 0,\n",
    "$$"
   ]
  },
  {
   "cell_type": "markdown",
   "metadata": {},
   "source": [
    "and"
   ]
  },
  {
   "cell_type": "markdown",
   "metadata": {},
   "source": [
    "$$\n",
    "u(L,t)= b(t) \\hspace{0.5cm} t \\ge 0,\n",
    "$$"
   ]
  },
  {
   "cell_type": "markdown",
   "metadata": {},
   "source": [
    "where $a(t)$ and $b(t)$ are two functions which depend on time only, while\n",
    "$g(x)$ depends only on the position $x$.\n",
    "Our next step is to find a numerical algorithm for solving this equation. Here we recur\n",
    "to our familiar equal-step methods\n",
    "and introduce different step lengths for the space-variable $x$ and time $t$ through\n",
    "the  step length for $x$"
   ]
  },
  {
   "cell_type": "markdown",
   "metadata": {},
   "source": [
    "$$\n",
    "\\Delta x=\\frac{1}{n+1}\n",
    "$$"
   ]
  },
  {
   "cell_type": "markdown",
   "metadata": {},
   "source": [
    "and the time step length $\\Delta t$. The position after $i$ steps and\n",
    "time at time-step $j$ are now given by"
   ]
  },
  {
   "cell_type": "markdown",
   "metadata": {},
   "source": [
    "$$\n",
    "\\begin{array}{cc} t_j=j\\Delta t & j \\ge 0 \\\\\n",
    "                  x_i=i\\Delta x & 0 \\le i \\le n+1\\end{array}\n",
    "$$"
   ]
  },
  {
   "cell_type": "markdown",
   "metadata": {},
   "source": [
    "## Explicit Scheme, algorithm\n",
    "If we use standard approximations for the derivatives we obtain"
   ]
  },
  {
   "cell_type": "markdown",
   "metadata": {},
   "source": [
    "$$\n",
    "u_t\\approx \\frac{u(x,t+\\Delta t)-u(x,t)}{\\Delta t}=\\frac{u(x_i,t_j+\\Delta t)-u(x_i,t_j)}{\\Delta t}\n",
    "$$"
   ]
  },
  {
   "cell_type": "markdown",
   "metadata": {},
   "source": [
    "with a local approximation error $O(\\Delta t)$  \n",
    "and"
   ]
  },
  {
   "cell_type": "markdown",
   "metadata": {},
   "source": [
    "$$\n",
    "u_{xx}\\approx \\frac{u(x+\\Delta x,t)-2u(x,t)+u(x-\\Delta x,t)}{\\Delta x^2},\n",
    "$$"
   ]
  },
  {
   "cell_type": "markdown",
   "metadata": {},
   "source": [
    "or"
   ]
  },
  {
   "cell_type": "markdown",
   "metadata": {},
   "source": [
    "$$\n",
    "u_{xx}\\approx \\frac{u(x_i+\\Delta x,t_j)-2u(x_i,t_j)+u(x_i-\\Delta x,t_j)}{\\Delta x^2},\n",
    "$$"
   ]
  },
  {
   "cell_type": "markdown",
   "metadata": {},
   "source": [
    "with a local approximation error $O(\\Delta x^2)$. Our approximation is to higher order\n",
    "in coordinate space. This can be justified since in most cases it is the spatial\n",
    "dependence which causes numerical problems.\n",
    "\n",
    "## Explicit Scheme, simplifications\n",
    "These equations can be further simplified as"
   ]
  },
  {
   "cell_type": "markdown",
   "metadata": {},
   "source": [
    "$$\n",
    "u_t\\approx \\frac{u_{i,j+1}-u_{i,j}}{\\Delta t},\n",
    "$$"
   ]
  },
  {
   "cell_type": "markdown",
   "metadata": {},
   "source": [
    "and"
   ]
  },
  {
   "cell_type": "markdown",
   "metadata": {},
   "source": [
    "$$\n",
    "u_{xx}\\approx \\frac{u_{i+1,j}-2u_{i,j}+u_{i-1,j}}{\\Delta x^2}.\n",
    "$$"
   ]
  },
  {
   "cell_type": "markdown",
   "metadata": {},
   "source": [
    "The one-dimensional diffusion equation can then be rewritten in its\n",
    "discretized version as"
   ]
  },
  {
   "cell_type": "markdown",
   "metadata": {},
   "source": [
    "$$\n",
    "\\frac{u_{i,j+1}-u_{i,j}}{\\Delta t}=\\frac{u_{i+1,j}-2u_{i,j}+u_{i-1,j}}{\\Delta x^2}.\n",
    "$$"
   ]
  },
  {
   "cell_type": "markdown",
   "metadata": {},
   "source": [
    "Defining $\\alpha = \\Delta t/\\Delta x^2$ results in the explicit scheme"
   ]
  },
  {
   "cell_type": "markdown",
   "metadata": {},
   "source": [
    "<!-- Equation labels as ordinary links -->\n",
    "<div id=\"eq:explicitpde\"></div>\n",
    "\n",
    "$$\n",
    "\\begin{equation}\n",
    "\\label{eq:explicitpde} \\tag{7}\n",
    " u_{i,j+1}= \\alpha u_{i-1,j}+(1-2\\alpha)u_{i,j}+\\alpha u_{i+1,j}.\n",
    "\\end{equation}\n",
    "$$"
   ]
  },
  {
   "cell_type": "markdown",
   "metadata": {},
   "source": [
    "## Explicit Scheme, solving the equations\n",
    "Since all the discretized initial values"
   ]
  },
  {
   "cell_type": "markdown",
   "metadata": {},
   "source": [
    "$$\n",
    "u_{i,0} = g(x_i),\n",
    "$$"
   ]
  },
  {
   "cell_type": "markdown",
   "metadata": {},
   "source": [
    "are known, then after one time-step the only unknown quantity is\n",
    "$u_{i,1}$ which is given by"
   ]
  },
  {
   "cell_type": "markdown",
   "metadata": {},
   "source": [
    "$$\n",
    "u_{i,1}= \\alpha u_{i-1,0}+(1-2\\alpha)u_{i,0}+\\alpha u_{i+1,0}=\n",
    "\\alpha g(x_{i-1})+(1-2\\alpha)g(x_{i})+\\alpha g(x_{i+1}).\n",
    "$$"
   ]
  },
  {
   "cell_type": "markdown",
   "metadata": {},
   "source": [
    "We can then obtain $u_{i,2}$ using the previously calculated values $u_{i,1}$\n",
    "and the boundary conditions $a(t)$ and $b(t)$. \n",
    "This algorithm results in a so-called explicit scheme, since the next functions\n",
    "$u_{i,j+1}$ are explicitely given by Eq. ([eq:explicitpde](#eq:explicitpde)).\n",
    "\n",
    "\n",
    "## Explicit Scheme, simple case\n",
    "We specialize to the case\n",
    "$a(t)=b(t)=0$ which results in  $u_{0,j}=u_{n+1,j}=0$.\n",
    "We can then reformulate our partial differential equation through the vector \n",
    "$V_j$ at the time  $t_j=j\\Delta t$"
   ]
  },
  {
   "cell_type": "markdown",
   "metadata": {},
   "source": [
    "$$\n",
    "V_j=\\begin{bmatrix}u_{1,j}\\\\ u_{2,j} \\\\ \\dots \\\\ u_{n,j}\\end{bmatrix}.\n",
    "$$"
   ]
  },
  {
   "cell_type": "markdown",
   "metadata": {},
   "source": [
    "## Explicit Scheme, matrix-vector formulation\n",
    "This results in a matrix-vector multiplication"
   ]
  },
  {
   "cell_type": "markdown",
   "metadata": {},
   "source": [
    "$$\n",
    "V_{j+1} = \\mathbf{A}V_{j}\n",
    "$$"
   ]
  },
  {
   "cell_type": "markdown",
   "metadata": {},
   "source": [
    "with the matrix $\\mathbf{A}$ given by"
   ]
  },
  {
   "cell_type": "markdown",
   "metadata": {},
   "source": [
    "$$\n",
    "\\mathbf{A}=\\begin{bmatrix}1-2\\alpha&\\alpha&0& 0\\dots\\\\ \n",
    "                            \\alpha&1-2\\alpha&\\alpha & 0\\dots \\\\ \n",
    "                            \\dots & \\dots & \\dots & \\dots \\\\\n",
    "                      0\\dots & 0\\dots &\\alpha& 1-2\\alpha\\end{bmatrix}\n",
    "$$"
   ]
  },
  {
   "cell_type": "markdown",
   "metadata": {},
   "source": [
    "which means we can rewrite the original partial differential equation as\n",
    "a set of matrix-vector multiplications"
   ]
  },
  {
   "cell_type": "markdown",
   "metadata": {},
   "source": [
    "$$\n",
    "V_{j+1} = \\mathbf{A}V_{j}=\\dots = \\mathbf{A}^{j+1}V_0,\n",
    "$$"
   ]
  },
  {
   "cell_type": "markdown",
   "metadata": {},
   "source": [
    "where $V_0$ is the initial vector at time $t=0$ defined by the initial value\n",
    "$g(x)$. \n",
    "In the numerical implementation \n",
    "one should avoid to treat this problem as a matrix vector multiplication\n",
    "since the matrix is triangular and at most three elements in each row are different from zero.\n",
    "\n",
    "\n",
    "## Explicit Scheme, sketch of code\n",
    "It is rather easy to implement this matrix-vector multiplication as seen in the following piece of code"
   ]
  },
  {
   "cell_type": "markdown",
   "metadata": {},
   "source": [
    "        //  First we set initialise the new and old vectors\n",
    "        //  Here we have chosen the boundary conditions to be zero.\n",
    "        //  n+1 is the number of mesh points in x\n",
    "        //  Armadillo notation for vectors\n",
    "            u(0) = unew(0) = u(n) = unew(n) = 0.0;\n",
    "            for (int i = 1; i < n; i++) {\n",
    "              x =  i*step;\n",
    "              //  initial condition\n",
    "              u(i) =  func(x);\n",
    "              //  intitialise the new vector \n",
    "              unew(i) = 0;\n",
    "            }\n",
    "           // Time integration\n",
    "           for (int t = 1; t <= tsteps; t++) {\n",
    "              for (int i = 1; i < n; i++) {\n",
    "                 // Discretized diff eq\n",
    "                 unew(i) = alpha * u(i-1) + (1 - 2*alpha) * u(i) + alpha * u(i+1);\n",
    "              }\n",
    "           //  note that the boundaries are not changed.\n"
   ]
  },
  {
   "cell_type": "markdown",
   "metadata": {},
   "source": [
    "## Explicit Scheme, stability condition\n",
    "However, although the explicit scheme is easy to implement, it has a very weak \n",
    "stability condition,  given by"
   ]
  },
  {
   "cell_type": "markdown",
   "metadata": {},
   "source": [
    "$$\n",
    "\\Delta t/\\Delta x^2 \\le 1/2.\n",
    "$$"
   ]
  },
  {
   "cell_type": "markdown",
   "metadata": {},
   "source": [
    "This means that if $\\Delta x = 0.01$ (a rather frequent choice), then $\\Delta t= 5\\times 10^{-5}$. This has obviously \n",
    "bad consequences if our time interval is large.\n",
    "In order to derive this relation we need some results from studies of iterative schemes. \n",
    "If we require that our solution approaches a definite value after \n",
    "a certain amount of time steps we need to require that the so-called\n",
    "spectral radius $\\rho(\\mathbf{A})$ of our matrix $\\mathbf{A}$ satisfies the condition"
   ]
  },
  {
   "cell_type": "markdown",
   "metadata": {},
   "source": [
    "<!-- Equation labels as ordinary links -->\n",
    "<div id=\"eq:rhoconverge\"></div>\n",
    "\n",
    "$$\n",
    "\\begin{equation}\n",
    "\\label{eq:rhoconverge} \\tag{8}\n",
    "   \\rho(\\mathbf{A}) < 1.\n",
    "\\end{equation}\n",
    "$$"
   ]
  },
  {
   "cell_type": "markdown",
   "metadata": {},
   "source": [
    "## Explicit Scheme, spectral radius and stability\n",
    "The spectral radius is defined \n",
    "as"
   ]
  },
  {
   "cell_type": "markdown",
   "metadata": {},
   "source": [
    "$$\n",
    "\\rho(\\mathbf{A}) = \\hspace{0.1cm}\\mathrm{max}\\left\\{|\\lambda|:\\mathrm{det}(\\mathbf{A}-\\lambda\\hat{I})=0\\right\\},\n",
    "$$"
   ]
  },
  {
   "cell_type": "markdown",
   "metadata": {},
   "source": [
    "which is interpreted as the smallest number such that a circle  with radius centered at zero in the complex plane\n",
    "contains all eigenvalues of $\\mathbf{A}$. If the matrix is positive definite, the condition in \n",
    "Eq. ([eq:rhoconverge](#eq:rhoconverge)) is always satisfied.\n",
    "\n",
    "## Explicit Scheme, eigenvalues and stability\n",
    "We can obtain closed-form expressions for the  eigenvalues of $\\mathbf{A}$. To achieve this it is convenient\n",
    "to rewrite the matrix as"
   ]
  },
  {
   "cell_type": "markdown",
   "metadata": {},
   "source": [
    "$$\n",
    "\\mathbf{A}=\\hat{I}-\\alpha\\hat{B},\n",
    "$$"
   ]
  },
  {
   "cell_type": "markdown",
   "metadata": {},
   "source": [
    "with"
   ]
  },
  {
   "cell_type": "markdown",
   "metadata": {},
   "source": [
    "$$\n",
    "\\hat{B} =\\begin{bmatrix}2&-1&0& 0 &\\dots\\\\ \n",
    "                           -1&2&-1& 0&\\dots \\\\ \n",
    "                            \\dots & \\dots & \\dots & \\dots & -1 \\\\\n",
    "                      0 & 0 &\\dots &-1&2\\end{bmatrix}.\n",
    "$$"
   ]
  },
  {
   "cell_type": "markdown",
   "metadata": {},
   "source": [
    "## Explicit Scheme, final stability analysis\n",
    "The eigenvalues of $\\mathbf{A}$ are $\\lambda_i=1-\\alpha\\mu_i$, with $\\mu_i$ being the\n",
    "eigenvalues of $\\hat{B}$. To find $\\mu_i$ we note that the matrix elements of $\\hat{B}$ are"
   ]
  },
  {
   "cell_type": "markdown",
   "metadata": {},
   "source": [
    "$$\n",
    "b_{ij} = 2\\delta_{ij}-\\delta_{i+1j}-\\delta_{i-1j},\n",
    "$$"
   ]
  },
  {
   "cell_type": "markdown",
   "metadata": {},
   "source": [
    "meaning that we \n",
    "have the following set of eigenequations for component $i$"
   ]
  },
  {
   "cell_type": "markdown",
   "metadata": {},
   "source": [
    "$$\n",
    "(\\hat{B}\\hat{x})_i = \\mu_ix_i,\n",
    "$$"
   ]
  },
  {
   "cell_type": "markdown",
   "metadata": {},
   "source": [
    "resulting in"
   ]
  },
  {
   "cell_type": "markdown",
   "metadata": {},
   "source": [
    "$$\n",
    "(\\hat{B}\\hat{x})_i=\\sum_{j=1}^n\\left(2\\delta_{ij}-\\delta_{i+1j}-\\delta_{i-1j}\\right)x_j =\n",
    "2x_i-x_{i+1}-x_{i-1}=\\mu_ix_i.\n",
    "$$"
   ]
  },
  {
   "cell_type": "markdown",
   "metadata": {},
   "source": [
    "## Explicit Scheme, stability condition\n",
    "If we assume that $x$ can be expanded in a basis of $x=(\\sin{(\\theta)}, \\sin{(2\\theta)},\\dots, \\sin{(n\\theta)})$\n",
    "with $\\theta = l\\pi/n+1$, where we have the endpoints given by $x_0 = 0$ and $x_{n+1}=0$, we can rewrite the \n",
    "last equation as"
   ]
  },
  {
   "cell_type": "markdown",
   "metadata": {},
   "source": [
    "$$\n",
    "2\\sin{(i\\theta)}-\\sin{((i+1)\\theta)}-\\sin{((i-1)\\theta)}=\\mu_i\\sin{(i\\theta)},\n",
    "$$"
   ]
  },
  {
   "cell_type": "markdown",
   "metadata": {},
   "source": [
    "or"
   ]
  },
  {
   "cell_type": "markdown",
   "metadata": {},
   "source": [
    "$$\n",
    "2\\left(1-\\cos{(\\theta)}\\right)\\sin{(i\\theta)}=\\mu_i\\sin{(i\\theta)},\n",
    "$$"
   ]
  },
  {
   "cell_type": "markdown",
   "metadata": {},
   "source": [
    "which is nothing but"
   ]
  },
  {
   "cell_type": "markdown",
   "metadata": {},
   "source": [
    "$$\n",
    "2\\left(1-\\cos{(\\theta)}\\right)x_i=\\mu_ix_i,\n",
    "$$"
   ]
  },
  {
   "cell_type": "markdown",
   "metadata": {},
   "source": [
    "with eigenvalues $\\mu_i = 2-2\\cos{(\\theta)}$. \n",
    "\n",
    "Our requirement in \n",
    "Eq. ([eq:rhoconverge](#eq:rhoconverge)) results in"
   ]
  },
  {
   "cell_type": "markdown",
   "metadata": {},
   "source": [
    "$$\n",
    "-1 < 1-\\alpha2\\left(1-\\cos{(\\theta)}\\right) < 1,\n",
    "$$"
   ]
  },
  {
   "cell_type": "markdown",
   "metadata": {},
   "source": [
    "which is satisfied only if $\\alpha < \\left(1-\\cos{(\\theta)}\\right)^{-1}$ resulting in\n",
    "$\\alpha \\le 1/2$ or $\\Delta t/\\Delta x^2 \\le 1/2$. \n",
    "\n",
    "## Explicit Scheme, general tridiagonal matrix\n",
    "A more general tridiagonal matrix"
   ]
  },
  {
   "cell_type": "markdown",
   "metadata": {},
   "source": [
    "$$\n",
    "\\mathbf{A} =\\begin{bmatrix}a&b&0& 0 &\\dots\\\\ \n",
    "                           c&a&b& 0&\\dots \\\\ \n",
    "                            \\dots & \\dots & \\dots & \\dots & b \\\\\n",
    "                      0 & 0 &\\dots &c&a\\end{bmatrix},\n",
    "$$"
   ]
  },
  {
   "cell_type": "markdown",
   "metadata": {},
   "source": [
    "has eigenvalues $\\mu_i=a+s\\sqrt{bc}\\cos{(i\\pi/n+1)}$ with $i=1:n$. \n",
    "\n",
    "\n",
    "## Implicit Scheme\n",
    "In deriving the equations for the explicit scheme we started with the so-called \n",
    "forward formula for the first derivative, i.e., we used the discrete approximation"
   ]
  },
  {
   "cell_type": "markdown",
   "metadata": {},
   "source": [
    "$$\n",
    "u_t\\approx \\frac{u(x_i,t_j+\\Delta t)-u(x_i,t_j)}{\\Delta t}.\n",
    "$$"
   ]
  },
  {
   "cell_type": "markdown",
   "metadata": {},
   "source": [
    "However, there is nothing which hinders us from using the backward formula"
   ]
  },
  {
   "cell_type": "markdown",
   "metadata": {},
   "source": [
    "$$\n",
    "u_t\\approx \\frac{u(x_i,t_j)-u(x_i,t_j-\\Delta t)}{\\Delta t},\n",
    "$$"
   ]
  },
  {
   "cell_type": "markdown",
   "metadata": {},
   "source": [
    "still with a truncation error which goes like $O(\\Delta t)$.\n",
    "\n",
    "## Implicit Scheme\n",
    "We could also have used a midpoint approximation for the first derivative, resulting in"
   ]
  },
  {
   "cell_type": "markdown",
   "metadata": {},
   "source": [
    "$$\n",
    "u_t\\approx \\frac{u(x_i,t_j+\\Delta t)-u(x_i,t_j-\\Delta t)}{2\\Delta t},\n",
    "$$"
   ]
  },
  {
   "cell_type": "markdown",
   "metadata": {},
   "source": [
    "with a truncation error $O(\\Delta t^2)$. \n",
    "Here we will stick to the backward formula and come back to the latter below. \n",
    "For the second derivative we use however"
   ]
  },
  {
   "cell_type": "markdown",
   "metadata": {},
   "source": [
    "$$\n",
    "u_{xx}\\approx \\frac{u(x_i+\\Delta x,t_j)-2u(x_i,t_j)+u(x_i-\\Delta x,t_j)}{\\Delta x^2},\n",
    "$$"
   ]
  },
  {
   "cell_type": "markdown",
   "metadata": {},
   "source": [
    "and define again $\\alpha = \\Delta t/\\Delta x^2$.  \n",
    "\n",
    "## Implicit Scheme\n",
    "We obtain now"
   ]
  },
  {
   "cell_type": "markdown",
   "metadata": {},
   "source": [
    "$$\n",
    "u_{i,j-1}= -\\alpha u_{i-1,j}+(1-2\\alpha)u_{i,j}-\\alpha u_{i+1,j}.\n",
    "$$"
   ]
  },
  {
   "cell_type": "markdown",
   "metadata": {},
   "source": [
    "Here $u_{i,j-1}$ is the only unknown quantity. \n",
    "Defining the matrix \n",
    "$\\mathbf{A}$"
   ]
  },
  {
   "cell_type": "markdown",
   "metadata": {},
   "source": [
    "$$\n",
    "\\mathbf{A}=\\begin{bmatrix}1+2\\alpha&-\\alpha&0& 0 &\\dots\\\\ \n",
    "                            -\\alpha&1+2\\alpha&-\\alpha & 0 & \\dots \\\\ \n",
    "                            \\dots & \\dots & \\dots & \\dots &\\dots  \\\\\n",
    "                            \\dots & \\dots & \\dots & \\dots & -\\alpha \\\\\n",
    "                      0 & 0 &\\dots &-\\alpha& 1+2\\alpha\\end{bmatrix},\n",
    "$$"
   ]
  },
  {
   "cell_type": "markdown",
   "metadata": {},
   "source": [
    "we can reformulate again the problem as a matrix-vector multiplication"
   ]
  },
  {
   "cell_type": "markdown",
   "metadata": {},
   "source": [
    "$$\n",
    "\\mathbf{A}V_{j} = V_{j-1}\n",
    "$$"
   ]
  },
  {
   "cell_type": "markdown",
   "metadata": {},
   "source": [
    "## Implicit Scheme\n",
    "It means that we can rewrite the problem as"
   ]
  },
  {
   "cell_type": "markdown",
   "metadata": {},
   "source": [
    "$$\n",
    "V_{j} = \\mathbf{A}^{-1}V_{j-1}=\\mathbf{A}^{-1}\\left(\\mathbf{A}^{-1}V_{j-2}\\right)=\\dots = \\mathbf{A}^{-j}V_0.\n",
    "$$"
   ]
  },
  {
   "cell_type": "markdown",
   "metadata": {},
   "source": [
    "This is an implicit scheme since it relies on determining the vector\n",
    "$u_{i,j-1}$ instead of $u_{i,j+1}$.\n",
    "If $\\alpha$ does not depend on time $t$, we need \n",
    "to invert a matrix only once. Alternatively we can solve this system of equations using our methods\n",
    "from linear algebra.\n",
    "These are however very cumbersome ways of solving since they involve $\\sim O(N^3)$ operations \n",
    "for  a $N\\times N$ matrix. \n",
    "It is much faster to solve these linear equations using methods for tridiagonal matrices,\n",
    "since these involve only $\\sim O(N)$ operations. \n",
    "\n",
    "## Implicit Scheme\n",
    "The implicit scheme is always stable since the spectral radius satisfies $\\rho(\\mathbf{A}) < 1 $. We could have inferred this by noting that \n",
    "the matrix is positive definite, viz. all eigenvalues are larger than zero. We see this from\n",
    "the fact that $\\mathbf{A}=\\hat{I}+\\alpha\\hat{B}$ has eigenvalues\n",
    "$\\lambda_i = 1+\\alpha(2-2cos(\\theta))$ which satisfy $\\lambda_i > 1$. Since it is the inverse which stands\n",
    "to the right of our iterative equation, we have $\\rho(\\mathbf{A}^{-1}) < 1 $ \n",
    "and the method is stable for all combinations\n",
    "of $\\Delta t$ and $\\Delta x$.\n",
    "\n",
    "### Program Example for Implicit Equation\n",
    "\n",
    "We show here parts of a  simple example of how to solve the one-dimensional diffusion equation using the implicit\n",
    "scheme discussed above. The program uses the function to solve linear equations with a tridiagonal \n",
    "matrix."
   ]
  },
  {
   "cell_type": "markdown",
   "metadata": {},
   "source": [
    "        //  parts of the function for backward Euler\n",
    "        void backward_euler(int n, int tsteps, double delta_x, double alpha)\n",
    "        {\n",
    "           double a, b, c;\n",
    "           vec u(n+1); // This is u  of Au = y\n",
    "           vec y(n+1); // Right side of matrix equation Au=y, the solution at a previous step\n",
    "           \n",
    "           // Initial conditions\n",
    "           for (int i = 1; i < n; i++) {\n",
    "              y(i) = u(i) = func(delta_x*i);\n",
    "           }\n",
    "           // Boundary conditions (zero here)\n",
    "           y(n) = u(n) = u(0) = y(0);\n",
    "           // Matrix A, only constants\n",
    "           a = c = - alpha;\n",
    "           b = 1 + 2*alpha;\n",
    "           // Time iteration\n",
    "           for (int t = 1; t <= tsteps; t++) {\n",
    "              //  here we solve the tridiagonal linear set of equations, \n",
    "              tridag(a, b, c, y, u, n+1);\n",
    "              // boundary conditions\n",
    "              u(0) = 0;\n",
    "              u(n) = 0;\n",
    "              // replace previous time solution with new\n",
    "              for (int i = 0; i <= n; i++) {\n",
    "        \t y(i) = u(i);\n",
    "              }\n",
    "              //  You may consider printing the solution at regular time intervals\n",
    "              ....   // print statements\n",
    "           }  // end time iteration\n",
    "           ...\n",
    "        }\n"
   ]
  },
  {
   "cell_type": "markdown",
   "metadata": {},
   "source": [
    "## Crank-Nicolson scheme\n",
    "It is possible to combine the implicit and explicit methods in a slightly more general\n",
    "approach. Introducing a parameter $\\theta$ (the so-called $\\theta$-rule) we can set up \n",
    "an equation"
   ]
  },
  {
   "cell_type": "markdown",
   "metadata": {},
   "source": [
    "<!-- Equation labels as ordinary links -->\n",
    "<div id=\"eq:cranknicolson\"></div>\n",
    "\n",
    "$$\n",
    "\\begin{equation}\n",
    "\\label{eq:cranknicolson} \\tag{9}\n",
    "  \\frac{\\theta}{\\Delta x^2}\\left(u_{i-1,j}-2u_{i,j}+u_{i+1,j}\\right)+\n",
    "  \\frac{1-\\theta}{\\Delta x^2}\\left(u_{i+1,j-1}-2u_{i,j-1}+u_{i-1,j-1}\\right)=\n",
    "  \\frac{1}{\\Delta t}\\left(u_{i,j}-u_{i,j-1}\\right),\n",
    "\\end{equation}\n",
    "$$"
   ]
  },
  {
   "cell_type": "markdown",
   "metadata": {},
   "source": [
    "which for $\\theta=0$ yields the forward formula for the first derivative and\n",
    "the explicit scheme, while $\\theta=1$ yields the backward formula and the implicit\n",
    "scheme. These two schemes are called the backward and forward Euler schemes, respectively.\n",
    "For $\\theta = 1/2$ we obtain a new scheme after its inventors, Crank and Nicolson.\n",
    "This scheme yields a truncation in time which goes like $O(\\Delta t^2)$ and it is stable \n",
    "for all possible combinations of $\\Delta t$ and $\\Delta x$.\n",
    "\n",
    "## Derivation of CN scheme\n",
    "To derive the Crank-Nicolson equation, \n",
    "we start with the forward Euler scheme and Taylor expand $u(x,t+\\Delta t)$,\n",
    "$u(x+\\Delta x, t)$ and $u(x-\\Delta x,t)$"
   ]
  },
  {
   "cell_type": "markdown",
   "metadata": {},
   "source": [
    "<!-- Equation labels as ordinary links -->\n",
    "<div id=\"_auto1\"></div>\n",
    "\n",
    "$$\n",
    "\\begin{equation}\n",
    "u(x+\\Delta x,t)=u(x,t)+\\frac{\\partial u(x,t)}{\\partial x} \\Delta x+\\frac{\\partial^2 u(x,t)}{2\\partial x^2}\\Delta x^2+\\mathcal{O}(\\Delta x^3),\n",
    "\\label{_auto1} \\tag{10}\n",
    "\\end{equation}\n",
    "$$"
   ]
  },
  {
   "cell_type": "markdown",
   "metadata": {},
   "source": [
    "$$\n",
    "\\nonumber\n",
    "u(x-\\Delta x,t)=u(x,t)-\\frac{\\partial u(x,t)}{\\partial x}\\Delta x+\\frac{\\partial^2 u(x,t)}{2\\partial x^2} \\Delta x^2+\\mathcal{O}(\\Delta x^3),\n",
    "$$"
   ]
  },
  {
   "cell_type": "markdown",
   "metadata": {},
   "source": [
    "<!-- Equation labels as ordinary links -->\n",
    "<div id=\"eq:deltat0\"></div>\n",
    "\n",
    "$$\n",
    "\\nonumber\n",
    "u(x,t+\\Delta t)=u(x,t)+\\frac{\\partial u(x,t)}{\\partial t}\\Delta t+  \\mathcal{O}(\\Delta t^2).\n",
    "\\label{eq:deltat0} \\tag{11}\n",
    "$$"
   ]
  },
  {
   "cell_type": "markdown",
   "metadata": {},
   "source": [
    "## Taylor expansions\n",
    "With these Taylor expansions the approximations for the derivatives takes the form"
   ]
  },
  {
   "cell_type": "markdown",
   "metadata": {},
   "source": [
    "<!-- Equation labels as ordinary links -->\n",
    "<div id=\"_auto2\"></div>\n",
    "\n",
    "$$\n",
    "\\begin{equation}\n",
    "\\left[\\frac{\\partial u(x,t)}{\\partial t}\\right]_{\\text{approx}} =\\frac{\\partial u(x,t)}{\\partial t}+\\mathcal{O}(\\Delta t) , \n",
    "\\label{_auto2} \\tag{12}\n",
    "\\end{equation}\n",
    "$$"
   ]
  },
  {
   "cell_type": "markdown",
   "metadata": {},
   "source": [
    "$$\n",
    "\\nonumber\n",
    "\\left[\\frac{\\partial^2 u(x,t)}{\\partial x^2}\\right]_{\\text{approx}}=\\frac{\\partial^2 u(x,t)}{\\partial x^2}+\\mathcal{O}(\\Delta x^2).\n",
    "$$"
   ]
  },
  {
   "cell_type": "markdown",
   "metadata": {},
   "source": [
    "It is easy to convince oneself that the backward Euler method must have the same truncation errors as the forward Euler scheme.\n",
    "\n",
    "\n",
    "## Error in CN scheme\n",
    "For the Crank-Nicolson scheme we also need to Taylor expand $u(x+\\Delta x, t+\\Delta t)$ and $u(x-\\Delta x, t+\\Delta t)$ around $t'=t+\\Delta t/2$."
   ]
  },
  {
   "cell_type": "markdown",
   "metadata": {},
   "source": [
    "<!-- Equation labels as ordinary links -->\n",
    "<div id=\"_auto3\"></div>\n",
    "\n",
    "$$\n",
    "\\begin{equation}\n",
    "u(x+\\Delta x, t+\\Delta t)=u(x,t')+\\frac{\\partial u(x,t')}{\\partial x}\\Delta x+\\frac{\\partial u(x,t')}{\\partial t} \\frac{\\Delta t}{2} +\\frac{\\partial^2 u(x,t')}{2\\partial x^2}\\Delta x^2+\\frac{\\partial^2 u(x,t')}{2\\partial t^2}\\frac{\\Delta t^2}{4} +\\notag \n",
    "\\label{_auto3} \\tag{13}\n",
    "\\end{equation}\n",
    "$$"
   ]
  },
  {
   "cell_type": "markdown",
   "metadata": {},
   "source": [
    "$$\n",
    "\\nonumber\n",
    "\\frac{\\partial^2 u(x,t')}{\\partial x\\partial t}\\frac{\\Delta t}{2} \\Delta x+ \\mathcal{O}(\\Delta t^3)\n",
    "$$"
   ]
  },
  {
   "cell_type": "markdown",
   "metadata": {},
   "source": [
    "$$\n",
    "\\nonumber\n",
    "u(x-\\Delta x, t+\\Delta t)=u(x,t')-\\frac{\\partial u(x,t')}{\\partial x}\\Delta x+\\frac{\\partial u(x,t')}{\\partial t} \\frac{\\Delta t}{2} +\\frac{\\partial^2 u(x,t')}{2\\partial x^2}\\Delta x^2+\\frac{\\partial^2 u(x,t')}{2\\partial t^2}\\frac{\\Delta t^2}{4} - \\notag\n",
    "$$"
   ]
  },
  {
   "cell_type": "markdown",
   "metadata": {},
   "source": [
    "$$\n",
    "\\nonumber\n",
    "\\frac{\\partial^2 u(x,t')}{\\partial x\\partial t}\\frac{\\Delta t}{2} \\Delta x+ \\mathcal{O}(\\Delta t^3)\n",
    "$$"
   ]
  },
  {
   "cell_type": "markdown",
   "metadata": {},
   "source": [
    "<!-- Equation labels as ordinary links -->\n",
    "<div id=\"_auto4\"></div>\n",
    "\n",
    "$$\n",
    "\\begin{equation} \n",
    "u(x+\\Delta x,t)=u(x,t')+\\frac{\\partial u(x,t')}{\\partial x}\\Delta x-\\frac{\\partial u(x,t')}{\\partial t} \\frac{\\Delta t}{2} +\\frac{\\partial^2 u(x,t')}{2\\partial x^2}\\Delta x^2+\\frac{\\partial^2 u(x,t')}{2\\partial t^2}\\frac{\\Delta t^2}{4} -\\notag \n",
    "\\label{_auto4} \\tag{14}\n",
    "\\end{equation}\n",
    "$$"
   ]
  },
  {
   "cell_type": "markdown",
   "metadata": {},
   "source": [
    "$$\n",
    "\\nonumber\n",
    "\\frac{\\partial^2 u(x,t')}{\\partial x\\partial t}\\frac{\\Delta t}{2} \\Delta x+ \\mathcal{O}(\\Delta t^3)\n",
    "$$"
   ]
  },
  {
   "cell_type": "markdown",
   "metadata": {},
   "source": [
    "$$\n",
    "\\nonumber\n",
    "u(x-\\Delta x,t)=u(x,t')-\\frac{\\partial u(x,t')}{\\partial x}\\Delta x-\\frac{\\partial u(x,t')}{\\partial t} \\frac{\\Delta t}{2} +\\frac{\\partial^2 u(x,t')}{2\\partial x^2}\\Delta x^2+\\frac{\\partial^2 u(x,t')}{2\\partial t^2}\\frac{\\Delta t^2}{4} +\\notag\n",
    "$$"
   ]
  },
  {
   "cell_type": "markdown",
   "metadata": {},
   "source": [
    "$$\n",
    "\\nonumber\n",
    "\\frac{\\partial^2 u(x,t')}{\\partial x\\partial t}\\frac{\\Delta t}{2} \\Delta x+ \\mathcal{O}(\\Delta t^3)\n",
    "$$"
   ]
  },
  {
   "cell_type": "markdown",
   "metadata": {},
   "source": [
    "$$\n",
    "\\nonumber\n",
    "u(x,t+\\Delta t)=u(x,t')+\\frac{\\partial u(x,t')}{\\partial t}\\frac{\\Delta_t}{2} +\\frac{\\partial ^2 u(x,t')}{2\\partial t^2}\\Delta t^2 + \\mathcal{O}(\\Delta t^3)\n",
    "$$"
   ]
  },
  {
   "cell_type": "markdown",
   "metadata": {},
   "source": [
    "<!-- Equation labels as ordinary links -->\n",
    "<div id=\"eq:deltat\"></div>\n",
    "\n",
    "$$\n",
    "\\nonumber\n",
    "u(x,t)=u(x,t')-\\frac{\\partial u(x,t')}{\\partial t}\\frac{\\Delta t}{2}+\\frac{\\partial ^2 u(x,t')}{2\\partial t^2}\\Delta t^2 + \\mathcal{O}(\\Delta t^3)\n",
    "\\label{eq:deltat} \\tag{15}\n",
    "$$"
   ]
  },
  {
   "cell_type": "markdown",
   "metadata": {},
   "source": [
    "We now insert these expansions in the approximations for the derivatives to find"
   ]
  },
  {
   "cell_type": "markdown",
   "metadata": {},
   "source": [
    "<!-- Equation labels as ordinary links -->\n",
    "<div id=\"_auto5\"></div>\n",
    "\n",
    "$$\n",
    "\\begin{equation}\n",
    "\\left[\\frac{\\partial u(x,t')}{\\partial t}\\right]_{\\text{approx}} =\\frac{\\partial u(x,t')}{\\partial t}+\\mathcal{O}(\\Delta t^2) , \n",
    "\\label{_auto5} \\tag{16}\n",
    "\\end{equation}\n",
    "$$"
   ]
  },
  {
   "cell_type": "markdown",
   "metadata": {},
   "source": [
    "$$\n",
    "\\nonumber\n",
    "\\left[\\frac{\\partial^2 u(x,t')}{\\partial x^2}\\right]_{\\text{approx}}=\\frac{\\partial^2 u(x,t')}{\\partial x^2}+\\mathcal{O}(\\Delta x^2).\n",
    "$$"
   ]
  },
  {
   "cell_type": "markdown",
   "metadata": {},
   "source": [
    "## Truncation errors and stability\n",
    "\n",
    "The following table summarizes the three methods.\n",
    "\n",
    "<table border=\"1\">\n",
    "<thead>\n",
    "<tr><th align=\"center\">  *Scheme:*   </th> <th align=\"center\">                  *Truncation Error:*                  </th> <th align=\"center\">        *Stability requirements:*        </th> </tr>\n",
    "</thead>\n",
    "<tbody>\n",
    "<tr><td align=\"center\">   Crank-Nicolson    </td> <td align=\"center\">   $\\mathcal{O}(\\Delta x^2)$ and $\\mathcal{O}(\\Delta t^2)$    </td> <td align=\"center\">   Stable for all $\\Delta t$ and $\\Delta x$.    </td> </tr>\n",
    "<tr><td align=\"center\">   Backward Euler    </td> <td align=\"center\">   $\\mathcal{O}(\\Delta x^2)$ and $\\mathcal{O}(\\Delta t)$      </td> <td align=\"center\">   Stable for all $\\Delta t$ and $\\Delta x$.    </td> </tr>\n",
    "<tr><td align=\"center\">   Forward Euler     </td> <td align=\"center\">   $\\mathcal{O}(\\Delta x^2)$ and $\\mathcal{O}(\\Delta t)$      </td> <td align=\"center\">   $\\Delta t\\leq \\frac{1}{2}\\Delta x^2$         </td> </tr>\n",
    "</tbody>\n",
    "</table>\n",
    "\n",
    "## Rewrite of CN scheme\n",
    "Using our previous definition of $\\alpha=\\Delta t/\\Delta x^2$ we can rewrite Eq. ([eq:cranknicolson](#eq:cranknicolson)) as"
   ]
  },
  {
   "cell_type": "markdown",
   "metadata": {},
   "source": [
    "$$\n",
    "-\\alpha u_{i-1,j}+\\left(2+2\\alpha\\right)u_{i,j}-\\alpha u_{i+1,j}=\n",
    "  \\alpha u_{i-1,j-1}+\\left(2-2\\alpha\\right)u_{i,j-1}+\\alpha u_{i+1,j-1},\n",
    "$$"
   ]
  },
  {
   "cell_type": "markdown",
   "metadata": {},
   "source": [
    "or in matrix-vector form as"
   ]
  },
  {
   "cell_type": "markdown",
   "metadata": {},
   "source": [
    "$$\n",
    "\\left(2\\hat{I}+\\alpha\\hat{B}\\right)V_{j}=\n",
    "  \\left(2\\hat{I}-\\alpha\\hat{B}\\right)V_{j-1},\n",
    "$$"
   ]
  },
  {
   "cell_type": "markdown",
   "metadata": {},
   "source": [
    "where the vector $V_{j}$ is the same as defined in the implicit case while the matrix\n",
    "$\\hat{B}$ is"
   ]
  },
  {
   "cell_type": "markdown",
   "metadata": {},
   "source": [
    "$$\n",
    "\\hat{B}=\\begin{bmatrix}2&-1&0&0 & \\dots\\\\ \n",
    "                                -1&      2&    -1 &     0 &\\dots \\\\ \n",
    "                            \\dots & \\dots & \\dots & \\dots & \\dots \\\\\n",
    "                            \\dots & \\dots & \\dots &  \\dots &-1 \\\\\n",
    "                              0& 0 & \\dots &-1& 2\\end{bmatrix}.\n",
    "$$"
   ]
  },
  {
   "cell_type": "markdown",
   "metadata": {},
   "source": [
    "## Final CN equations\n",
    "We can rewrite the Crank-Nicolson scheme as follows"
   ]
  },
  {
   "cell_type": "markdown",
   "metadata": {},
   "source": [
    "$$\n",
    "V_{j}=\n",
    "  \\left(2\\hat{I}+\\alpha\\hat{B}\\right)^{-1}\\left(2\\hat{I}-\\alpha\\hat{B}\\right)V_{j-1}.\n",
    "$$"
   ]
  },
  {
   "cell_type": "markdown",
   "metadata": {},
   "source": [
    "We have already obtained the eigenvalues for the two matrices \n",
    "$\\left(2\\hat{I}+\\alpha\\hat{B}\\right)$ and $\\left(2\\hat{I}-\\alpha\\hat{B}\\right)$. \n",
    "This means that the spectral function has to satisfy"
   ]
  },
  {
   "cell_type": "markdown",
   "metadata": {},
   "source": [
    "$$\n",
    "\\rho(\\left(2\\hat{I}+\\alpha\\hat{B}\\right)^{-1}\\left(2\\hat{I}-\\alpha\\hat{B}\\right)) <1,\n",
    "$$"
   ]
  },
  {
   "cell_type": "markdown",
   "metadata": {},
   "source": [
    "meaning that"
   ]
  },
  {
   "cell_type": "markdown",
   "metadata": {},
   "source": [
    "$$\n",
    "\\left|(\\left(2+\\alpha\\mu_i\\right)^{-1}\\left(2-\\alpha\\mu_i\\right)\\right| <1,\n",
    "$$"
   ]
  },
  {
   "cell_type": "markdown",
   "metadata": {},
   "source": [
    "and since $\\mu_i = 2-2cos(\\theta)$ we have $0< \\mu_i <  4$. A little algebra shows that\n",
    "the algorithm is stable for all possible values of $\\Delta t$ and $\\Delta x$. \n",
    "\n",
    "## Parts of Code for the Crank-Nicolson Scheme\n",
    "We can code in an efficient way the Crank-Nicolson algortihm by first multplying the matrix"
   ]
  },
  {
   "cell_type": "markdown",
   "metadata": {},
   "source": [
    "$$\n",
    "\\tilde{V}_{j-1}=\\left(2\\hat{I}-\\alpha\\hat{B}\\right)V_{j-1},\n",
    "$$"
   ]
  },
  {
   "cell_type": "markdown",
   "metadata": {},
   "source": [
    "with our previous vector $V_{j-1}$ using the matrix-vector multiplication algorithm for a \n",
    "tridiagonal matrix, as done in the forward-Euler scheme. Thereafter we can solve the equation"
   ]
  },
  {
   "cell_type": "markdown",
   "metadata": {},
   "source": [
    "$$\n",
    "\\left(2\\hat{I}+\\alpha\\hat{B}\\right) V_{j}=\n",
    "  \\tilde{V}_{j-1},\n",
    "$$"
   ]
  },
  {
   "cell_type": "markdown",
   "metadata": {},
   "source": [
    "using our method for systems of linear equations with a tridiagonal matrix, as done for the backward Euler scheme.\n",
    "\n",
    "\n",
    "\n",
    "## Parts of Code for the Crank-Nicolson Scheme\n",
    "We illustrate this in the following part of our program."
   ]
  },
  {
   "cell_type": "markdown",
   "metadata": {},
   "source": [
    "        void crank_nicolson(int n, int tsteps, double delta_x, double alpha)\n",
    "        {\n",
    "           double a, b, c;\n",
    "           vec u(n+1); // This is u in Au = r\n",
    "           vec r(n+1); // Right side of matrix equation Au=r\n",
    "           ....\n",
    "           // setting up the matrix \n",
    "           a = c = - alpha;\n",
    "           b = 2 + 2*alpha;\n",
    "        \n",
    "           // Time iteration\n",
    "           for (int t = 1; t <= tsteps; t++) {\n",
    "              // Calculate r for use in tridag, right hand side of the Crank Nicolson method\n",
    "              for (int i = 1; i < n; i++) {\n",
    "        \t r(i) = alpha*u(i-1) + (2 - 2*alpha)*u(i) + alpha*u(i+1);\n",
    "              }\n",
    "              r(0) = 0;\n",
    "              r(n) = 0;\n",
    "              //  Then solve the tridiagonal matrix\n",
    "              tridiag(a, b, c, r, u, xsteps+1);\n",
    "              u(0) = 0;\n",
    "              u(n) = 0;\n",
    "              //  Eventual print statements etc\n",
    "              ....\n",
    "        }\n"
   ]
  },
  {
   "cell_type": "markdown",
   "metadata": {},
   "source": [
    "## Python code for solving the one-dimensional diffusion equation\n",
    "The following Python code sets up and solves the diffusion equation for all three methods discussed."
   ]
  },
  {
   "cell_type": "code",
   "execution_count": 1,
   "metadata": {
    "collapsed": false
   },
   "outputs": [],
   "source": [
    "%matplotlib inline\n",
    "\n",
    "# Code for solving the 1+1 dimensional diffusion equation\n",
    "# du/dt = ddu/ddx on a rectangular grid of size L x (T*dt),\n",
    "# with with L = 1, u(x,0) = g(x), u(0,t) = u(L,t) = 0\n",
    "\n",
    "import numpy, sys, math\n",
    "from  matplotlib import pyplot as plt\n",
    "import numpy as np\n",
    "\n",
    "def forward_step(alpha,u,uPrev,N):\n",
    "    \"\"\"\n",
    "    Steps forward-euler algo one step ahead.\n",
    "    Implemented in a separate function for code-reuse from crank_nicolson()\n",
    "    \"\"\"\n",
    "    \n",
    "    for x in xrange(1,N+1): #loop from i=1 to i=N\n",
    "        u[x] = alpha*uPrev[x-1] + (1.0-2*alpha)*uPrev[x] + alpha*uPrev[x+1]\n",
    "\n",
    "def forward_euler(alpha,u,N,T):\n",
    "    \"\"\"\n",
    "    Implements the forward Euler sheme, results saved to\n",
    "    array u\n",
    "    \"\"\"\n",
    "\n",
    "    #Skip boundary elements\n",
    "    for t in xrange(1,T):\n",
    "        forward_step(alpha,u[t],u[t-1],N)\n",
    "\n",
    "def tridiag(alpha,u,N):\n",
    "    \"\"\"\n",
    "    Tridiagonal gaus-eliminator, specialized to diagonal = 1+2*alpha,\n",
    "    super- and sub- diagonal = - alpha\n",
    "    \"\"\"\n",
    "    d = numpy.zeros(N) + (1+2*alpha)\n",
    "    b = numpy.zeros(N-1) - alpha\n",
    "\n",
    "    #Forward eliminate\n",
    "    for i in xrange(1,N):\n",
    "        #Normalize row i (i in u convention):\n",
    "        b[i-1] /= d[i-1];\n",
    "        u[i] /= d[i-1] #Note: row i in u = row i-1 in the matrix\n",
    "        d[i-1] = 1.0\n",
    "        #Eliminate\n",
    "        u[i+1] += u[i]*alpha\n",
    "        d[i] += b[i-1]*alpha\n",
    "    #Normalize bottom row\n",
    "    u[N] /= d[N-1]\n",
    "    d[N-1] = 1.0\n",
    "\n",
    "    #Backward substitute\n",
    "    for i in xrange(N,1,-1): #loop from i=N to i=2\n",
    "        u[i-1] -= u[i]*b[i-2]\n",
    "        #b[i-2] = 0.0 #This is never read, why bother...\n",
    "        \n",
    "def backward_euler(alpha,u,N,T):\n",
    "    \"\"\"\n",
    "    Implements backward euler scheme by gaus-elimination of tridiagonal matrix.\n",
    "    Results are saved to u.\n",
    "    \"\"\"\n",
    "    for t in xrange(1,T):\n",
    "        u[t] = u[t-1].copy()\n",
    "        tridiag(alpha,u[t],N) #Note: Passing a pointer to row t, which is modified in-place\n",
    "\n",
    "def crank_nicolson(alpha,u,N,T):\n",
    "    \"\"\"\n",
    "    Implents crank-nicolson scheme, reusing code from forward- and backward euler\n",
    "    \"\"\"\n",
    "    for t in xrange(1,T):\n",
    "        forward_step(alpha/2,u[t],u[t-1],N)\n",
    "        tridiag(alpha/2,u[t],N)\n",
    "\n",
    "def g(x):\n",
    "    \"\"\"Initial condition u(x,0) = g(x), x \\in [0,1]\"\"\"\n",
    "    return numpy.sin(math.pi*x)\n",
    "\n",
    "# Number of integration points along x-axis\n",
    "N       =   100\n",
    "# Step length in time\n",
    "dt      =   0.01\n",
    "# Number of time steps till final time \n",
    "T       =   100\n",
    "# Define method to use 1 = explicit scheme, 2= implicit scheme, 3 = Crank-Nicolson\n",
    "method  =   2\n",
    "\n",
    "#dx = 1/float(N+1)\n",
    "u = numpy.zeros((T,N+2),numpy.double)\n",
    "(x,dx) = numpy.linspace (0,1,N+2, retstep=True)\n",
    "alpha = dt/(dx**2)\n",
    "\n",
    "#Initial codition\n",
    "u[0,:] = g(x)\n",
    "u[0,0] = u[0,N+1] = 0.0 #Implement boundaries rigidly\n",
    "\n",
    "if   method == 1:\n",
    "    forward_euler(alpha,u,N,T)\n",
    "elif method == 2:\n",
    "    backward_euler(alpha,u,N,T)\n",
    "elif method == 3:\n",
    "    crank_nicolson(alpha,u,N,T)\n",
    "else:\n",
    "    print \"Please select method 1,2, or 3!\"\n",
    "    import sys\n",
    "    sys.exit(0)\n",
    "# To do: add movie"
   ]
  },
  {
   "cell_type": "markdown",
   "metadata": {},
   "source": [
    "## Solution for the One-dimensional Diffusion Equation\n",
    "\n",
    "It cannot be repeated enough, it is always useful to find cases where one can compare the numerical results\n",
    "and the developed algorithms and codes with closed-form solutions.  \n",
    "The above case is also particularly simple. \n",
    "We have the following partial differential equation"
   ]
  },
  {
   "cell_type": "markdown",
   "metadata": {},
   "source": [
    "$$\n",
    "\\nabla^2 u(x,t) =\\frac{\\partial u(x,t)}{\\partial t},\n",
    "$$"
   ]
  },
  {
   "cell_type": "markdown",
   "metadata": {},
   "source": [
    "with initial conditions"
   ]
  },
  {
   "cell_type": "markdown",
   "metadata": {},
   "source": [
    "$$\n",
    "u(x,0)= g(x) \\hspace{0.5cm} 0 < x < L.\n",
    "$$"
   ]
  },
  {
   "cell_type": "markdown",
   "metadata": {},
   "source": [
    "## Solution for the One-dimensional Diffusion Equation\n",
    "The  boundary conditions are"
   ]
  },
  {
   "cell_type": "markdown",
   "metadata": {},
   "source": [
    "$$\n",
    "u(0,t)= 0 \\hspace{0.5cm} t \\ge 0,  \\hspace{1cm}  u(L,t)= 0 \\hspace{0.5cm} t \\ge 0,\n",
    "$$"
   ]
  },
  {
   "cell_type": "markdown",
   "metadata": {},
   "source": [
    "We assume that we have solutions of the form (separation of variable)"
   ]
  },
  {
   "cell_type": "markdown",
   "metadata": {},
   "source": [
    "$$\n",
    "u(x,t)=F(x)G(t).\n",
    "$$"
   ]
  },
  {
   "cell_type": "markdown",
   "metadata": {},
   "source": [
    "which inserted in the partial differential equation results in"
   ]
  },
  {
   "cell_type": "markdown",
   "metadata": {},
   "source": [
    "$$\n",
    "\\frac{F''}{F}=\\frac{G'}{G},\n",
    "$$"
   ]
  },
  {
   "cell_type": "markdown",
   "metadata": {},
   "source": [
    "where the derivative is with respect to $x$ on the left hand side and with respect to $t$ on right hand side.\n",
    "This equation  should hold for all $x$ and $t$. We must require the rhs and lhs to be equal to a constant. \n",
    "\n",
    "## Solution for the One-dimensional Diffusion Equation\n",
    "We call this constant $-\\lambda^2$. This gives us the two differential equations,"
   ]
  },
  {
   "cell_type": "markdown",
   "metadata": {},
   "source": [
    "$$\n",
    "F''+\\lambda^2F=0;  \\hspace{1cm} G'=-\\lambda^2G,\n",
    "$$"
   ]
  },
  {
   "cell_type": "markdown",
   "metadata": {},
   "source": [
    "with general solutions"
   ]
  },
  {
   "cell_type": "markdown",
   "metadata": {},
   "source": [
    "$$\n",
    "F(x)=A\\sin(\\lambda x)+B\\cos(\\lambda x); \\hspace{1cm} G(t)=Ce^{-\\lambda^2t}.\n",
    "$$"
   ]
  },
  {
   "cell_type": "markdown",
   "metadata": {},
   "source": [
    "## Solution for the One-dimensional Diffusion Equation\n",
    "To satisfy the boundary conditions we require $B=0$ and $\\lambda=n\\pi/L$. One solution is therefore found to be"
   ]
  },
  {
   "cell_type": "markdown",
   "metadata": {},
   "source": [
    "$$\n",
    "u(x,t)=A_n\\sin(n\\pi x/L)e^{-n^2\\pi^2 t/L^2}.\n",
    "$$"
   ]
  },
  {
   "cell_type": "markdown",
   "metadata": {},
   "source": [
    "But there are infinitely many  possible $n$ values (infinite number of solutions). Moreover, \n",
    "the diffusion equation is linear and because of this we know that a superposition of solutions \n",
    "will also be a solution of the equation. We may therefore write"
   ]
  },
  {
   "cell_type": "markdown",
   "metadata": {},
   "source": [
    "$$\n",
    "u(x,t)=\\sum_{n=1}^{\\infty} A_n \\sin(n\\pi x/L) e^{-n^2\\pi^2 t/L^2}.\n",
    "$$"
   ]
  },
  {
   "cell_type": "markdown",
   "metadata": {},
   "source": [
    "## Solution for the One-dimensional Diffusion Equation\n",
    "The coefficient $A_n$ is in turn determined from the initial condition. We require"
   ]
  },
  {
   "cell_type": "markdown",
   "metadata": {},
   "source": [
    "$$\n",
    "u(x,0)=g(x)=\\sum_{n=1}^{\\infty} A_n \\sin(n\\pi x/L).\n",
    "$$"
   ]
  },
  {
   "cell_type": "markdown",
   "metadata": {},
   "source": [
    "The coefficient $A_n$ is the Fourier coefficients for the function $g(x)$. Because of this, $A_n$ is given by (from the theory on Fourier series)"
   ]
  },
  {
   "cell_type": "markdown",
   "metadata": {},
   "source": [
    "$$\n",
    "A_n=\\frac{2}{L}\\int_0^L g(x)\\sin(n\\pi x/L) \\mathrm{d}x.\n",
    "$$"
   ]
  },
  {
   "cell_type": "markdown",
   "metadata": {},
   "source": [
    "Different $g(x)$ functions will obviously result in different results for $A_n$. \n",
    "\n",
    "\n",
    "## Explict scheme for the diffusion equation in two dimensions\n",
    "The $2+1$-dimensional diffusion equation, with the diffusion constant $D=1$, is given by"
   ]
  },
  {
   "cell_type": "markdown",
   "metadata": {},
   "source": [
    "$$\n",
    "\\frac{\\partial u}{\\partial t}=\\left(\\frac{\\partial^2 u}{\\partial x^2}+\\frac{\\partial^2 u}{\\partial y^2}\\right),\n",
    "$$"
   ]
  },
  {
   "cell_type": "markdown",
   "metadata": {},
   "source": [
    "where we have $u=u(x,y,t)$.\n",
    "We assume that we have a square lattice of length $L$ with equally\n",
    "many mesh points in the $x$ and $y$ directions. \n",
    "\n",
    "We discretize again position and time using now"
   ]
  },
  {
   "cell_type": "markdown",
   "metadata": {},
   "source": [
    "$$\n",
    "u_{xx}\\approx \\frac{u(x+h,y,t)-2u(x,y,t)+u(x-h,y,t)}{h^2},\n",
    "$$"
   ]
  },
  {
   "cell_type": "markdown",
   "metadata": {},
   "source": [
    "which we rewrite as, in its discretized version,"
   ]
  },
  {
   "cell_type": "markdown",
   "metadata": {},
   "source": [
    "$$\n",
    "u_{xx}\\approx \\frac{u^{l}_{i+1,j}-2u^{l}_{i,j}+u^{l}_{i-1,j}}{h^2},\n",
    "$$"
   ]
  },
  {
   "cell_type": "markdown",
   "metadata": {},
   "source": [
    "where $x_i=x_0+ih$, $y_j=y_0+jh$ and $t_l=t_0+l\\Delta t$, with $h=L/(n+1)$ and $\\Delta t$ the time step.\n",
    "\n",
    "\n",
    "## Explict scheme for the diffusion equation in two dimensions\n",
    "We have defined our domain to start $x(y)=0$ and end at $X(y)=L$.  \n",
    "The second derivative with respect to $y$ reads"
   ]
  },
  {
   "cell_type": "markdown",
   "metadata": {},
   "source": [
    "$$\n",
    "u_{yy}\\approx \\frac{u^{l}_{i,j+1}-2u^{l}_{i,j}+u^{l}_{i,j-1}}{h^2}.\n",
    "$$"
   ]
  },
  {
   "cell_type": "markdown",
   "metadata": {},
   "source": [
    "We use again the so-called forward-going Euler formula for the first derivative in time. In its discretized form we have"
   ]
  },
  {
   "cell_type": "markdown",
   "metadata": {},
   "source": [
    "$$\n",
    "u_{t}\\approx \\frac{u^{l+1}_{i,j}-u^{l}_{i,j}}{\\Delta t},\n",
    "$$"
   ]
  },
  {
   "cell_type": "markdown",
   "metadata": {},
   "source": [
    "resulting in"
   ]
  },
  {
   "cell_type": "markdown",
   "metadata": {},
   "source": [
    "$$\n",
    "u^{l+1}_{i,j}= u^{l}_{i,j} + \\alpha\\left[u^{l}_{i+1,j}+u^{l}_{i-1,j}+u^{l}_{i,j+1}+u^{l}_{i,j-1}-4u^{l}_{i,j}\\right],\n",
    "$$"
   ]
  },
  {
   "cell_type": "markdown",
   "metadata": {},
   "source": [
    "where the left hand side, with the solution at the new time step, is the only unknown term, since starting with $t=t_0$, the right hand side is entirely \n",
    "determined by the boundary and initial conditions.  We have $\\alpha=\\Delta t/h^2$. \n",
    "This scheme can be implemented using essentially the same approach as we used in Eq. ([eq:explicitpde](#eq:explicitpde)).\n",
    "\n",
    "## Laplace's and Poisson's Equations\n",
    "Laplace's equation reads"
   ]
  },
  {
   "cell_type": "markdown",
   "metadata": {},
   "source": [
    "$$\n",
    "\\nabla^2 u(\\mathbf{x})=u_{xx}+u_{yy}=0.\n",
    "$$"
   ]
  },
  {
   "cell_type": "markdown",
   "metadata": {},
   "source": [
    "with possible boundary conditions\n",
    "$u(x,y) = g(x,y) $ on the border $\\delta\\Omega$. There is no time-dependence.\n",
    "We seek a solution in the region $\\Omega$ and we choose a quadratic mesh\n",
    "with equally many steps in both directions.  We could choose the grid to be rectangular or following\n",
    "polar coordinates $r,\\theta$ as well. Here we choose equal steps lengths in the $x$ and\n",
    "the $y$ directions. We set"
   ]
  },
  {
   "cell_type": "markdown",
   "metadata": {},
   "source": [
    "$$\n",
    "h=\\Delta x = \\Delta y =  \\frac{L}{n+1},\n",
    "$$"
   ]
  },
  {
   "cell_type": "markdown",
   "metadata": {},
   "source": [
    "where $L$ is the length of the sides and we have $n+1$ points in both directions.\n",
    "\n",
    "## Laplace's and Poisson's Equations, discretized version\n",
    "The discretized version  reads"
   ]
  },
  {
   "cell_type": "markdown",
   "metadata": {},
   "source": [
    "$$\n",
    "u_{xx}\\approx \\frac{u(x+h,y)-2u(x,y)+u(x-h,y)}{h^2},\n",
    "$$"
   ]
  },
  {
   "cell_type": "markdown",
   "metadata": {},
   "source": [
    "and"
   ]
  },
  {
   "cell_type": "markdown",
   "metadata": {},
   "source": [
    "$$\n",
    "u_{yy}\\approx \\frac{u(x,y+h)-2u(x,y)+u(x,y-h)}{h^2},\n",
    "$$"
   ]
  },
  {
   "cell_type": "markdown",
   "metadata": {},
   "source": [
    "which we rewrite as"
   ]
  },
  {
   "cell_type": "markdown",
   "metadata": {},
   "source": [
    "$$\n",
    "u_{xx}\\approx \\frac{u_{i+1,j}-2u_{i,j}+u_{i-1,j}}{h^2},\n",
    "$$"
   ]
  },
  {
   "cell_type": "markdown",
   "metadata": {},
   "source": [
    "and"
   ]
  },
  {
   "cell_type": "markdown",
   "metadata": {},
   "source": [
    "$$\n",
    "u_{yy}\\approx \\frac{u_{i,j+1}-2u_{i,j}+u_{i,j-1}}{h^2}.\n",
    "$$"
   ]
  },
  {
   "cell_type": "markdown",
   "metadata": {},
   "source": [
    "## Laplace's and Poisson's Equations, final discretized version\n",
    "Inserting in Laplace's equation we obtain"
   ]
  },
  {
   "cell_type": "markdown",
   "metadata": {},
   "source": [
    "<!-- Equation labels as ordinary links -->\n",
    "<div id=\"eq:laplacescheme\"></div>\n",
    "\n",
    "$$\n",
    "\\begin{equation}\n",
    "\\label{eq:laplacescheme} \\tag{17}\n",
    "  u_{i,j}= \\frac{1}{4}\\left[u_{i,j+1}+u_{i,j-1}+u_{i+1,j}+u_{i-1,j}\\right].\n",
    "\\end{equation}\n",
    "$$"
   ]
  },
  {
   "cell_type": "markdown",
   "metadata": {},
   "source": [
    "This is our final numerical scheme for solving Laplace's equation.\n",
    "Poisson's equation adds only a minor complication \n",
    "to the above equation since in this case we have"
   ]
  },
  {
   "cell_type": "markdown",
   "metadata": {},
   "source": [
    "$$\n",
    "u_{xx}+u_{yy}=-\\rho(x,y),\n",
    "$$"
   ]
  },
  {
   "cell_type": "markdown",
   "metadata": {},
   "source": [
    "and we need only to add a discretized version of $\\rho(\\mathbf{x})$\n",
    "resulting in"
   ]
  },
  {
   "cell_type": "markdown",
   "metadata": {},
   "source": [
    "<!-- Equation labels as ordinary links -->\n",
    "<div id=\"eq:poissonscheme\"></div>\n",
    "\n",
    "$$\n",
    "\\begin{equation}\n",
    "\\label{eq:poissonscheme} \\tag{18}\n",
    "  u_{i,j}= \\frac{1}{4}\\left[u_{i,j+1}+u_{i,j-1}+u_{i+1,j}+u_{i-1,j}\\right]\n",
    "           +\\frac{h^2}{4}\\rho_{i,j}.\n",
    "\\end{equation}\n",
    "$$"
   ]
  },
  {
   "cell_type": "markdown",
   "metadata": {},
   "source": [
    "## Laplace's and Poisson's Equations, boundary conditions\n",
    "The boundary condtions read"
   ]
  },
  {
   "cell_type": "markdown",
   "metadata": {},
   "source": [
    "$$\n",
    "u_{i,0} = g_{i,0} \\hspace{0.5cm} 0\\le i \\le n+1,\n",
    "$$"
   ]
  },
  {
   "cell_type": "markdown",
   "metadata": {},
   "source": [
    "$$\n",
    "u_{i,L} = g_{i,0} \\hspace{0.5cm} 0\\le i \\le n+1,\n",
    "$$"
   ]
  },
  {
   "cell_type": "markdown",
   "metadata": {},
   "source": [
    "$$\n",
    "u_{0,j} = g_{0,j} \\hspace{0.5cm} 0\\le j \\le n+1,\n",
    "$$"
   ]
  },
  {
   "cell_type": "markdown",
   "metadata": {},
   "source": [
    "and"
   ]
  },
  {
   "cell_type": "markdown",
   "metadata": {},
   "source": [
    "$$\n",
    "u_{L,j} = g_{L,j} \\hspace{0.5cm} 0\\le j \\le n+1.\n",
    "$$"
   ]
  },
  {
   "cell_type": "markdown",
   "metadata": {},
   "source": [
    "With $n+1$ mesh points the equations for $u$ result in a system of $(n+1)^2$ linear equations in the $(n+1)^2$ unknown $u_{i,j}$.\n",
    "\n",
    "## Scheme for solving Laplace's (Poisson's) equation\n",
    "We rewrite Eq. ([eq:poissonscheme](#eq:poissonscheme))"
   ]
  },
  {
   "cell_type": "markdown",
   "metadata": {},
   "source": [
    "<!-- Equation labels as ordinary links -->\n",
    "<div id=\"eq:poissonrewritten\"></div>\n",
    "\n",
    "$$\n",
    "\\begin{equation} \n",
    "\\label{eq:poissonrewritten} \\tag{19}\n",
    "  4u_{i,j}= \\left[u_{i,j+1}+u_{i,j-1}+u_{i+1,j}+u_{i-1,j}\\right]\n",
    "           -h^2\\rho_{i,j}=\\Delta_{ij}-\\tilde{\\rho}_{ij},\n",
    "\\end{equation}\n",
    "$$"
   ]
  },
  {
   "cell_type": "markdown",
   "metadata": {},
   "source": [
    "where we have defined"
   ]
  },
  {
   "cell_type": "markdown",
   "metadata": {},
   "source": [
    "$$\n",
    "\\Delta_{ij}= \\left[u_{i,j+1}+u_{i,j-1}+u_{i+1,j}+u_{i-1,j}\\right],\n",
    "$$"
   ]
  },
  {
   "cell_type": "markdown",
   "metadata": {},
   "source": [
    "and"
   ]
  },
  {
   "cell_type": "markdown",
   "metadata": {},
   "source": [
    "$$\n",
    "\\tilde{\\rho}_{ij}=h^2\\rho_{i,j}.\n",
    "$$"
   ]
  },
  {
   "cell_type": "markdown",
   "metadata": {},
   "source": [
    "## Scheme for solving Laplace's (Poisson's) equation\n",
    "In order to illustrate how we can transform the last equations into a\n",
    "linear algebra problem of the type $\\mathbf{A}\\mathbf{x}=\\mathbf{w}$, with\n",
    "$\\mathbf{A}$ a matrix and $\\mathbf{x}$ and $\\mathbf{w}$ unknown and known\n",
    "vectors respectively, let us also for the sake of simplicity assume\n",
    "that the number of points $n=3$. We assume also that $u(x,y) = g(x,y)\n",
    "$ on the border $\\delta\\Omega$. \n",
    "\n",
    "\n",
    "The inner values of the function $u$  are then\n",
    "given by"
   ]
  },
  {
   "cell_type": "markdown",
   "metadata": {},
   "source": [
    "$$\n",
    "4u_{11} -u_{21} -u_{01} - u_{12}- u_{10}=-\\tilde{\\rho}_{11} \\nonumber\n",
    "$$"
   ]
  },
  {
   "cell_type": "markdown",
   "metadata": {},
   "source": [
    "$$\n",
    "4u_{12} - u_{02} - u_{22} - u_{13}- u_{11}=-\\tilde{\\rho}_{12} \\nonumber\n",
    "$$"
   ]
  },
  {
   "cell_type": "markdown",
   "metadata": {},
   "source": [
    "$$\n",
    "4u_{21} - u_{11} - u_{31} - u_{22}- u_{20}=-\\tilde{\\rho}_{21} \\nonumber\n",
    "$$"
   ]
  },
  {
   "cell_type": "markdown",
   "metadata": {},
   "source": [
    "$$\n",
    "4u_{22} - u_{12} - u_{32} - u_{23}- u_{21}=-\\tilde{\\rho}_{22}. \\nonumber\n",
    "$$"
   ]
  },
  {
   "cell_type": "markdown",
   "metadata": {},
   "source": [
    "## Scheme for solving Laplace's (Poisson's) equation\n",
    "If we  isolate on the left-hand side the unknown quantities $u_{11}$, $u_{12}$, $u_{21}$ and $u_{22}$, that is\n",
    "the inner points not constrained by the boundary conditions, we can\n",
    "rewrite the above equations as a matrix $\\mathbf{A}$ times an unknown vector $\\mathbf{x}$, that is"
   ]
  },
  {
   "cell_type": "markdown",
   "metadata": {},
   "source": [
    "$$\n",
    "Ax = b,\n",
    "$$"
   ]
  },
  {
   "cell_type": "markdown",
   "metadata": {},
   "source": [
    "or in more detail"
   ]
  },
  {
   "cell_type": "markdown",
   "metadata": {},
   "source": [
    "$$\n",
    "\\begin{bmatrix} 4&-1 &-1 &0 \\\\\n",
    "                           -1& 4 &0 &-1 \\\\\n",
    "                           -1& 0 &4 &-1 \\\\\n",
    "                           0& -1 &-1 &4 \\\\\n",
    "                      \\end{bmatrix}\\begin{bmatrix}\n",
    "                           u_{11}\\\\\n",
    "                           u_{12}\\\\\n",
    "                           u_{21} \\\\\n",
    "                           u_{22}  \\\\\n",
    "                      \\end{bmatrix}=\\begin{bmatrix}\n",
    "                           u_{01}+u_{10}-\\tilde{\\rho}_{11}\\\\\n",
    "                           u_{13}+u_{02}-\\tilde{\\rho}_{12}\\\\\n",
    "                           u_{31}+u_{20}-\\tilde{\\rho}_{21} \\\\\n",
    "                           u_{32}+u_{23}-\\tilde{\\rho}_{22}\\\\\n",
    "                      \\end{bmatrix}.\n",
    "$$"
   ]
  },
  {
   "cell_type": "markdown",
   "metadata": {},
   "source": [
    "## Scheme for solving Laplace's (Poisson's) equation\n",
    "The right hand side is constrained by the values at the boundary plus the known function $\\tilde{\\rho}$. \n",
    "For a two-dimensional equation it is easy to convince oneself that for larger sets of mesh points, \n",
    "we will not have more than five function values for every row of the above matrix. For a problem with $n+1$\n",
    "mesh points, our matrix $\\mathbf{A}\\in {\\mathbb{R}}^{(n+1)\\times (n+1)}$ leads to $(n-1)\\times (n-1)$ unknown function\n",
    "values $u_{ij}$. \n",
    "This means that, if we fix the endpoints for the two-dimensional case (with a square lattice) at $i(j)=0$ \n",
    "and $i(j)=n+1$, we have to solve the equations for $1 \\ge i(j) le n$. \n",
    "\n",
    "Since the matrix is rather sparse but is not on a tridiagonal form, elimination methods like the LU decomposition discussed, are not very practical. Rather, iterative schemes like Jacobi's method or the Gauss-Seidel are preferred. \n",
    "The above matrix is also always diagonally dominant, a necessary condition\n",
    "for these iterative solvers to converge. \n",
    "\n",
    "\n",
    "## Scheme for solving Laplace's (Poisson's) equation using Jacobi's iterative method\n",
    "In setting up for example Jacobi's method, it is useful to rewrite the matrix $\\mathbf{A}$ as"
   ]
  },
  {
   "cell_type": "markdown",
   "metadata": {},
   "source": [
    "$$\n",
    "\\mathbf{A}=\\mathbf{D}+\\mathbf{U}+\\mathbf{L},\n",
    "$$"
   ]
  },
  {
   "cell_type": "markdown",
   "metadata": {},
   "source": [
    "with $\\mathbf{D}$ being a diagonal matrix with $4$ as the only value, $\\mathbf{U}$ is an upper triangular matrix and $\\mathbf{L}$ \n",
    "a  lower triangular matrix. In our case we have"
   ]
  },
  {
   "cell_type": "markdown",
   "metadata": {},
   "source": [
    "$$\n",
    "\\mathbf{D}=\\begin{bmatrix}4&0 &0 &0 \\\\\n",
    "                           0& 4 &0 &0 \\\\\n",
    "                           0& 0 &4 &0 \\\\\n",
    "                           0& 0 &0 &4 \\\\\n",
    "                      \\end{bmatrix},\n",
    "$$"
   ]
  },
  {
   "cell_type": "markdown",
   "metadata": {},
   "source": [
    "and"
   ]
  },
  {
   "cell_type": "markdown",
   "metadata": {},
   "source": [
    "$$\n",
    "\\mathbf{L}=\\begin{bmatrix} 0&0 &0 &0 \\\\\n",
    "                           -1& 0 &0 &0 \\\\\n",
    "                           -1& 0 &0 &0 \\\\\n",
    "                           0& -1 &-1 &0 \\\\\n",
    "                      \\end{bmatrix} \\hspace{1cm} \\mathbf{U}= \\begin{bmatrix}\n",
    "                           0&-1 &-1 &0 \\\\\n",
    "                           0& 0 &0 &-1 \\\\\n",
    "                           0& 0 &0 &-1 \\\\\n",
    "                           0& 0 &0 &0 \\\\\n",
    "                      \\end{bmatrix}.\n",
    "$$"
   ]
  },
  {
   "cell_type": "markdown",
   "metadata": {},
   "source": [
    "## Scheme for solving Laplace's (Poisson's) equation, with Jacobi's method\n",
    "\n",
    "We assume now that we have an estimate for the unknown functions $u_{11}$, $u_{12}$, $u_{21}$ and $u_{22}$. We will call this\n",
    "the zeroth value and label it as\n",
    "$u^{(0)}_{11}$, $u^{(0)}_{12}$, $u^{(0)}_{21}$ and $u^{(0)}_{22}$. We can then set up an iterative scheme where the next solution\n",
    "is defined in terms of the previous one as"
   ]
  },
  {
   "cell_type": "markdown",
   "metadata": {},
   "source": [
    "$$\n",
    "u^{(1)}_{11} =\\frac{1}{4}(b_1-u^{(0)}_{12} -u^{(0)}_{21}) \\nonumber\n",
    "$$"
   ]
  },
  {
   "cell_type": "markdown",
   "metadata": {},
   "source": [
    "$$\n",
    "u^{(1)}_{12} =\\frac{1}{4}(b_2-u^{(0)}_{11}-u^{(0)}_{22}) \\nonumber\n",
    "$$"
   ]
  },
  {
   "cell_type": "markdown",
   "metadata": {},
   "source": [
    "$$\n",
    "u^{(1)}_{21} =\\frac{1}{4}(b_3-u^{(0)}_{11}-u^{(0)}_{22}) \\nonumber\n",
    "$$"
   ]
  },
  {
   "cell_type": "markdown",
   "metadata": {},
   "source": [
    "$$\n",
    "u^{(1)}_{22}=\\frac{1}{4}(b_4-u^{(0)}_{12}-u^{(0)}_{21}),  \\nonumber\n",
    "$$"
   ]
  },
  {
   "cell_type": "markdown",
   "metadata": {},
   "source": [
    "where we have defined the vector"
   ]
  },
  {
   "cell_type": "markdown",
   "metadata": {},
   "source": [
    "$$\n",
    "\\mathbf{b}= \\begin{bmatrix} u_{01}+u_{10}-\\tilde{\\rho}_{11}\\\\\n",
    "                           u_{13}+u_{02}-\\tilde{\\rho}_{12}\\\\\n",
    "                           u_{31}+u_{20}-\\tilde{\\rho}_{21} \\\\\n",
    "                           u_{32}+u_{23}-\\tilde{\\rho}_{22}\\\\\n",
    "                      \\end{bmatrix}.\n",
    "$$"
   ]
  },
  {
   "cell_type": "markdown",
   "metadata": {},
   "source": [
    "## Scheme for solving Laplace's (Poisson's) equation, final rewrite\n",
    "We can rewrite the equations in a more compact form in terms of the matrices $\\mathbf{D}$, $\\mathbf{L}$ and $\\mathbf{U}$ as,\n",
    "after $r+1$ iterations,"
   ]
  },
  {
   "cell_type": "markdown",
   "metadata": {},
   "source": [
    "<!-- Equation labels as ordinary links -->\n",
    "<div id=\"eq:jacobisolverpoisson\"></div>\n",
    "\n",
    "$$\n",
    "\\begin{equation} \\label{eq:jacobisolverpoisson} \\tag{20}\n",
    "\\mathbf{x}^{(r+1)}= \\mathbf{D}^{-1}\\left(\\mathbf{b} - (\\mathbf{L}+\\mathbf{U})\\mathbf{x}^{(r)}\\right),\n",
    "\\end{equation}\n",
    "$$"
   ]
  },
  {
   "cell_type": "markdown",
   "metadata": {},
   "source": [
    "where the unknown functions are now defined in terms of"
   ]
  },
  {
   "cell_type": "markdown",
   "metadata": {},
   "source": [
    "$$\n",
    "\\mathbf{x}= \\begin{bmatrix} u_{11}\\\\\n",
    "                           u_{12}\\\\\n",
    "                           u_{21}\\\\\n",
    "                           u_{22}\\\\\n",
    "                      \\end{bmatrix}.\n",
    "$$"
   ]
  },
  {
   "cell_type": "markdown",
   "metadata": {},
   "source": [
    "If we wish to implement Gauss-Seidel's algorithm,\n",
    "the set of equations to solve are then given by"
   ]
  },
  {
   "cell_type": "markdown",
   "metadata": {},
   "source": [
    "<!-- Equation labels as ordinary links -->\n",
    "<div id=\"eq:gausseidelsolverpoisson\"></div>\n",
    "\n",
    "$$\n",
    "\\begin{equation} \\label{eq:gausseidelsolverpoisson} \\tag{21}\n",
    "\\mathbf{x}^{(r+1)}= -(\\mathbf{D}+\\mathbf{L})^{-1}\\left(\\mathbf{b} -\\mathbf{U}\\mathbf{x}^{(r)}\\right),\n",
    "\\end{equation}\n",
    "$$"
   ]
  },
  {
   "cell_type": "markdown",
   "metadata": {},
   "source": [
    "or alternatively as"
   ]
  },
  {
   "cell_type": "markdown",
   "metadata": {},
   "source": [
    "$$\n",
    "\\mathbf{x}^{(r+1)}= \\mathbf{D}^{-1}\\left(\\mathbf{b} -\\mathbf{L}\\mathbf{x}^{(r+1)}-\\mathbf{U}\\mathbf{x}^{(r)}\\right).\n",
    "$$"
   ]
  },
  {
   "cell_type": "markdown",
   "metadata": {},
   "source": [
    "## Jacobi Algorithm for solving Laplace's Equation\n",
    "It is thus fairly straightforward to extend this equation to the \n",
    "three-dimensional case. Whether we solve Eq. ([eq:laplacescheme](#eq:laplacescheme))\n",
    "or Eq. ([eq:poissonscheme](#eq:poissonscheme)), the solution strategy remains the same.\n",
    "We know the values of $u$ at $i=0$ or $i=n+1$  and at $j=0$ or\n",
    "$j=n+1$ but we cannot start at one of the boundaries and work our way into and\n",
    "across the system since Eq. ([eq:laplacescheme](#eq:laplacescheme)) requires the knowledge\n",
    "of $u$ at all of the neighbouring points in order to calculate $u$ at any\n",
    "given point.\n",
    "\n",
    "## Jacobi Algorithm for solving Laplace's Equation\n",
    "The way we solve these equations is based on an iterative scheme based on the Jacobi method or\n",
    "the Gauss-Seidel method or the relaxation methods.\n",
    "\n",
    "Implementing Jacobi's method is rather simple. We start with an initial guess\n",
    "for $u_{i,j}^{(0)}$ where all values are known. To obtain a new solution we\n",
    "solve Eq. ([eq:laplacescheme](#eq:laplacescheme)) or Eq. ([eq:poissonscheme](#eq:poissonscheme))\n",
    "in order to obtain a new solution $u_{i,j}^{(1)}$. \n",
    "Most likely this solution will not be a solution to \n",
    "Eq. ([eq:laplacescheme](#eq:laplacescheme)). This solution is in turn\n",
    "used to obtain a new and improved $u_{i,j}^{(2)}$. We continue this process\n",
    "till we obtain a result which satisfies some specific convergence criterion.\n",
    "\n",
    "\n",
    "## Jacobi Algorithm for solving Laplace's Equation, the algorithm\n",
    "Summarized, this algorithm reads\n",
    "\n",
    " 1. Make an initial guess for $u_{i,j}$ at all interior points $(i,j)$ for all $i=1:n$ and $j=1:n$\n",
    "\n",
    " 2. Use Eq. ([eq:laplacescheme](#eq:laplacescheme)) to compute $u^{m}$ at all interior points $(i,j)$.  The index $m$ stands for  iteration number $m$.\n",
    "\n",
    " 3. Stop if prescribed convergence threshold is reached, otherwise continue to the next step.\n",
    "\n",
    " 4. Update the new value of $u$ for the given iteration\n",
    "\n",
    " 5. Go to step 2\n",
    "\n",
    "## Jacobi Algorithm for solving Laplace's Equation, simple example\n",
    "A simple example may help in understanding this method.\n",
    "We consider a condensator with parallel \n",
    "plates separated at a distance $L$ resulting in for example the voltage differences\n",
    "$u(x,0)=200sin(2\\pi x/L)$ and\n",
    "$u(x,1)=-200sin(2\\pi x/L)$. These are our boundary conditions and we ask \n",
    "what is the voltage $u$ between the plates?\n",
    "To solve this problem numerically we provide below a C++ program\n",
    "which solves iteratively Eq. ([eq:laplacescheme](#eq:laplacescheme)) using Jacobi's method. Only the part which computes \n",
    "Eq. ([eq:laplacescheme](#eq:laplacescheme)) is included here."
   ]
  },
  {
   "cell_type": "markdown",
   "metadata": {},
   "source": [
    "        ....\n",
    "        //  We define the step size for a square lattice with n+1 points\n",
    "               double h = (xmax-xmin)/(n+1);\n",
    "               double L = xmax-xmin;   // The length of the lattice\n",
    "        //  We allocate space for the vector u and the temporary vector to\n",
    "        //  be upgraded in every iteration\n",
    "               mat  u( n+1, n+1);  // using Armadillo to define matrices\n",
    "               mat  u_temp( n+1, n+1);  // This is the temporary value\n",
    "               u = 0.  //  This is also our initial guess for all unknown values\n",
    "        //  We need to set up the  boundary conditions.  Specify for various cases\n",
    "            .....\n",
    "        //  The iteration algorithm starts here\n",
    "               iterations = 0;\n",
    "               while( (iterations <= max_iter) && ( diff > 0.00001) ){\n",
    "                  u_temp = u; diff = 0.;\n",
    "                  for (j = 1; j<= n,j++){\n",
    "                      for(l = 1; l <= n; l++){\n",
    "                         u(j,l) = 0.25*(u_temp(j+1,l)+u_temp(j-1,l)+ &\n",
    "                                       u_temp(j,l+1)+u_temp(j,l-1));\n",
    "                         diff += fabs(u_temp(i,j)-u(i,j));\n",
    "                      }\n",
    "                  }\n",
    "                  iterations++;\n",
    "                  diff /= pow((n),2.0); \n",
    "               }   // end while loop\n"
   ]
  },
  {
   "cell_type": "markdown",
   "metadata": {},
   "source": [
    "## Jacobi Algorithm for solving Laplace's Equation, to observe\n",
    "The important part of the algorithm is applied in the function which\n",
    "sets up the two-dimensional Laplace equation. There we have a while\n",
    "statement which tests the difference between the temporary vector and\n",
    "the solution $u_{i,j}$. Moreover, we have fixed the number of\n",
    "iterations to a given maximum. We need also to provide a convergence\n",
    "tolerance. In the above program example we have fixed this to be\n",
    "$0.00001$. Depending on the type of applications one may have to\n",
    "change both the number of maximum iterations and the tolerance.\n",
    "\n",
    "## Python code for solving the two-dimensional Laplace equation\n",
    "The following Python code sets up and solves the Laplace equation in two dimensions."
   ]
  },
  {
   "cell_type": "code",
   "execution_count": 2,
   "metadata": {
    "collapsed": false
   },
   "outputs": [],
   "source": [
    "# Solves the 2d Laplace equation using relaxation method\n",
    "\n",
    "import numpy, math\n",
    "\n",
    "def relax(A, maxsteps, convergence):\n",
    "    \"\"\"\n",
    "    Relaxes the matrix A until the sum of the absolute differences\n",
    "    between the previous step and the next step (divided by the number of\n",
    "    elements in A) is below convergence, or maxsteps is reached.\n",
    "\n",
    "    Input:\n",
    "     - A: matrix to relax\n",
    "     - maxsteps, convergence: Convergence criterions\n",
    "\n",
    "    Output:\n",
    "     - A is relaxed when this method returns\n",
    "    \"\"\"\n",
    "\n",
    "    iterations = 0\n",
    "    diff = convergence +1\n",
    "\n",
    "    Nx = A.shape[1]\n",
    "    Ny = A.shape[0]\n",
    "    \n",
    "    while iterations < maxsteps and diff > convergence:\n",
    "        #Loop over all *INNER* points and relax\n",
    "        Atemp = A.copy()\n",
    "        diff = 0.0\n",
    "        \n",
    "        for y in xrange(1,Ny-1):\n",
    "            for x in xrange(1,Ny-1):\n",
    "                A[y,x] = 0.25*(Atemp[y,x+1]+Atemp[y,x-1]+Atemp[y+1,x]+Atemp[y-1,x])\n",
    "                diff  += math.fabs(A[y,x] - Atemp[y,x])\n",
    "\n",
    "        diff /=(Nx*Ny)\n",
    "        iterations += 1\n",
    "        print \"Iteration #\", iterations, \", diff =\", diff;\n",
    "\n",
    "\n",
    "def boundary(A,x,y):\n",
    "    \"\"\"\n",
    "    Set up boundary conditions\n",
    "\n",
    "    Input:\n",
    "     - A: Matrix to set boundaries on\n",
    "     - x: Array where x[i] = hx*i, x[last_element] = Lx\n",
    "     - y: Eqivalent array for y\n",
    "\n",
    "    Output:\n",
    "     - A is initialized in-place (when this method returns)\n",
    "    \"\"\"\n",
    "\n",
    "    #Boundaries implemented (condensator with plates at y={0,Lx}, DeltaV = 200):\n",
    "    # A(x,0)  =  100*sin(2*pi*x/Lx)\n",
    "    # A(x,Ly) = -100*sin(2*pi*x/Lx)\n",
    "    # A(0,y)  = 0\n",
    "    # A(Lx,y) = 0\n",
    "\n",
    "    Nx = A.shape[1]\n",
    "    Ny = A.shape[0]\n",
    "    Lx = x[Nx-1] #They *SHOULD* have same sizes!\n",
    "    Ly = x[Nx-1]\n",
    "\n",
    "\n",
    "    A[:,0]    =   100*numpy.sin(math.pi*x/Lx)\n",
    "    A[:,Nx-1] = - 100*numpy.sin(math.pi*x/Lx)\n",
    "    A[0,:]    = 0.0\n",
    "    A[Ny-1,:] = 0.0\n",
    "\n",
    "\n",
    "#Main program\n",
    "\n",
    "import sys\n",
    "\n",
    "# Input parameters\n",
    "Nx      = 100\n",
    "Ny      = 100\n",
    "maxiter = 1000\n",
    "\n",
    "x = numpy.linspace(0,1,num=Nx+2) #Also include edges\n",
    "y = numpy.linspace(0,1,num=Ny+2)\n",
    "A = numpy.zeros((Nx+2,Ny+2))\n",
    "\n",
    "boundary(A,x,y)\n",
    "#Remember: as solution \"creeps\" in from the edges,\n",
    "#number of steps MUST AT LEAST be equal to\n",
    "#number of inner meshpoints/2 (unless you have a better\n",
    "#estimate for the solution than zeros() )\n",
    "relax(A,maxiter,0.00001)\n",
    "\n",
    "# To do: add visualization"
   ]
  },
  {
   "cell_type": "markdown",
   "metadata": {},
   "source": [
    "## Jacobi's algorithm extended to the diffusion equation in two dimensions\n",
    "\n",
    "Let us know implement the implicit scheme and show how we can extend the previous algorithm for solving\n",
    "Laplace's or Poisson's equations to the diffusion equation as well. As the reader will notice, this simply implies a\n",
    "slight redefinition of the vector $\\mathbf{b}$ defined in Eq. ([eq:jacobisolverpoisson](#eq:jacobisolverpoisson)).\n",
    "\n",
    "To see this, let us first set up the diffusion in two spatial dimensions, with boundary and initial conditions.\n",
    "The $2+1$-dimensional diffusion equation (with dimensionless variables) reads for a function\n",
    "$u=u(x,y,t)$"
   ]
  },
  {
   "cell_type": "markdown",
   "metadata": {},
   "source": [
    "$$\n",
    "\\frac{\\partial u}{\\partial t}= D\\left(\\frac{\\partial^2 u}{\\partial x^2}+\\frac{\\partial^2 u}{\\partial y^2}\\right).\n",
    "$$"
   ]
  },
  {
   "cell_type": "markdown",
   "metadata": {},
   "source": [
    "## Jacobi's algorithm extended to the diffusion equation in two dimensions\n",
    "We assume that we have a square lattice of length $L$ with equally\n",
    "many mesh points in the $x$ and $y$ directions.  Setting the diffusion\n",
    "constant $D=1$ and using the shorthand notation\n",
    "$u_{xx}={\\partial^2 u}/{\\partial x^2}$ etc for the second\n",
    "derivatives and $u_t={\\partial u}/{\\partial t}$ for the time\n",
    "derivative, we have, with a given set of boundary and initial\n",
    "conditions,"
   ]
  },
  {
   "cell_type": "markdown",
   "metadata": {},
   "source": [
    "$$\n",
    "\\begin{array}{cc}u_t= u_{xx}+u_{yy}& x, y\\in(0,L), t>0 \\\\\n",
    "                         u(x,y,0) = g(x,y)& x, y\\in (0,L) \\\\\n",
    "                         u(0,y,t)=u(L,y,t)=u(x,0,t)=u(x,L,t)0 & t > 0\\\\\n",
    "                       \\end{array}\n",
    "$$"
   ]
  },
  {
   "cell_type": "markdown",
   "metadata": {},
   "source": [
    "## Jacobi's algorithm extended to the diffusion equation in two dimensions, discretizing\n",
    "We discretize again position and time, and use the following approximation for the second derivatives"
   ]
  },
  {
   "cell_type": "markdown",
   "metadata": {},
   "source": [
    "$$\n",
    "u_{xx}\\approx \\frac{u(x+h,y,t)-2u(x,y,t)+u(x-h,y,t)}{h^2},\n",
    "$$"
   ]
  },
  {
   "cell_type": "markdown",
   "metadata": {},
   "source": [
    "which we rewrite as, in its discretized version,"
   ]
  },
  {
   "cell_type": "markdown",
   "metadata": {},
   "source": [
    "$$\n",
    "u_{xx}\\approx \\frac{u^{l}_{i+1,j}-2u^{l}_{i,j}+u^{l}_{i-1,j}}{h^2},\n",
    "$$"
   ]
  },
  {
   "cell_type": "markdown",
   "metadata": {},
   "source": [
    "where $x_i=x_0+ih$, $y_j=y_0+jh$ and $t_l=t_0+l\\Delta t$, with $h=L/(n+1)$ and $\\Delta t$ the time step. \n",
    "\n",
    "## Jacobi's algorithm extended to the diffusion equation in two dimensions, the second derivative\n",
    "The second derivative with respect to $y$ reads"
   ]
  },
  {
   "cell_type": "markdown",
   "metadata": {},
   "source": [
    "$$\n",
    "u_{yy}\\approx \\frac{u^{l}_{i,j+1}-2u^{l}_{i,j}+u^{l}_{i,j-1}}{h^2}.\n",
    "$$"
   ]
  },
  {
   "cell_type": "markdown",
   "metadata": {},
   "source": [
    "We use now the so-called backward going Euler formula for the first derivative in time. In its discretized form we have"
   ]
  },
  {
   "cell_type": "markdown",
   "metadata": {},
   "source": [
    "$$\n",
    "u_{t}\\approx \\frac{u^{l}_{i,j}-u^{l-1}_{i,j}}{\\Delta t},\n",
    "$$"
   ]
  },
  {
   "cell_type": "markdown",
   "metadata": {},
   "source": [
    "resulting in"
   ]
  },
  {
   "cell_type": "markdown",
   "metadata": {},
   "source": [
    "$$\n",
    "u^{l}_{i,j}+4\\alpha u^{l}_{i,j}- \\alpha\\left[u^{l}_{i+1,j}+u^{l}_{i-1,j}+u^{l}_{i,j+1}+u^{l}_{i,j-1}\\right] = u^{l-1}_{i,j},\n",
    "$$"
   ]
  },
  {
   "cell_type": "markdown",
   "metadata": {},
   "source": [
    "where the right hand side is the only known term, since starting with $t=t_0$, the right hand side is entirely \n",
    "determined by the boundary and initial conditions.  We have $\\alpha=\\Delta t/h^2$. \n",
    "\n",
    "\n",
    "\n",
    "## Jacobi's algorithm extended to the diffusion equation in two dimensions\n",
    "For future time steps, only the boundary values are determined \n",
    "and we need to solve the equations for the interior part in an iterative way similar to what was done for Laplace's or Poisson's equations.\n",
    "To see this, we rewrite the previous equation as"
   ]
  },
  {
   "cell_type": "markdown",
   "metadata": {},
   "source": [
    "$$\n",
    "u^{l}_{i,j}= \\frac{1}{1+4\\alpha}\\left[\\alpha(u^{l}_{i+1,j}+u^{l}_{i-1,j}+u^{l}_{i,j+1}+u^{l}_{i,j-1})+u^{l-1}_{i,j}\\right],\n",
    "$$"
   ]
  },
  {
   "cell_type": "markdown",
   "metadata": {},
   "source": [
    "or in a more compact form as"
   ]
  },
  {
   "cell_type": "markdown",
   "metadata": {},
   "source": [
    "<!-- Equation labels as ordinary links -->\n",
    "<div id=\"eq:implicitdiff2dim\"></div>\n",
    "\n",
    "$$\n",
    "\\begin{equation}\n",
    "\\label{eq:implicitdiff2dim} \\tag{22}\n",
    "u^{l}_{i,j}= \\frac{1}{1+4\\alpha}\\left[\\alpha\\Delta^l_{ij}+u^{l-1}_{i,j}\\right],\n",
    "\\end{equation}\n",
    "$$"
   ]
  },
  {
   "cell_type": "markdown",
   "metadata": {},
   "source": [
    "with $\\Delta^l_{ij}= \\left[u^l_{i,j+1}+u^l_{i,j-1}+u^l_{i+1,j}+u^l_{i-1,j}\\right]$.\n",
    "This equation has essentially the same structure as Eq. ([eq:poissonrewritten](#eq:poissonrewritten)), except that \n",
    "the function $\\rho_{ij}$ is replaced by the solution at a previous time step $l-1$. Furthermore, the diagonal matrix elements\n",
    "are now given by $1+4\\alpha$, while the non-zero non-diagonal matrix elements equal $\\alpha$. This matrix is also positive definite, meaning in turn that\n",
    "iterative schemes like the Jacobi or the Gauss-Seidel methods will converge to the desired solution after a given number of iterations. \n",
    "\n",
    "## [Solving project 1 again but now with Jacobi's method](https://github.com/CompPhysics/ComputationalPhysics/blob/master/doc/Programs/LecturePrograms/programs/PDE/cpp/Jacobi.cpp)\n",
    "Let us revisit project 1 and the Thomas algorithm for solving a system of tridiagonal matrices for  the equation"
   ]
  },
  {
   "cell_type": "markdown",
   "metadata": {},
   "source": [
    "        //  Solves linear equations for simple tridiagonal matrix using the iterative Jacobi method\n",
    "        ....\n",
    "        // Begin main program\n",
    "        int main(int argc, char *argv[]){\n",
    "             // missing statements, see code link above\n",
    "        \n",
    "              mat A = zeros<mat>(n,n);\n",
    "              // Set up arrays for the simple case\n",
    "              vec b(n);  vec x(n);\n",
    "              A(0,1) = -1;  x(0) = h;  b(0) =  hh*f(x(0)); \n",
    "              x(n-1) = x(0)+(n-1)*h; b(n-1) = hh*f(x(n-1)); \n",
    "              for (int i = 1; i < n-1; i++){ \n",
    "                x(i) = x(i-1)+h; \n",
    "        \tb(i) = hh*f(x(i));\n",
    "                A(i,i-1)  = -1.0;\n",
    "                A(i,i+1)  = -1.0;\n",
    "              }\n",
    "             A(n-2,n-1) = -1.0; A(n-1,n-2) = -1.0;\n",
    "          // solve Ax = b by iteration with a random starting vector\n",
    "             int maxiter = 100; double diff = 1.0; \n",
    "             double epsilon = 1.0e-10;  int iter = 0;\n",
    "              vec SolutionOld  = randu<vec>(n);\n",
    "              vec SolutionNew  = zeros<vec>(n);\n",
    "              while (iter <= maxiter || diff > epsilon){\n",
    "        \tSolutionNew = (b -A*SolutionOld)*0.5; \n",
    "                iter++; diff = fabs(sum(SolutionNew-SolutionOld)/n);\n",
    "                SolutionOld = SolutionNew;\n",
    "              }\n",
    "              vec solution = SolutionOld;}\n"
   ]
  },
  {
   "cell_type": "markdown",
   "metadata": {},
   "source": [
    "## [Program to solve Jacobi's method in two dimension](https://github.com/CompPhysics/ComputationalPhysics/blob/master/doc/Programs/LecturePrograms/programs/PDE/cpp/diffusion2dim.cpp)\n",
    "The following program sets up the diffusion equation solver in two spatial dimensions using Jacobi's method. Note that we have skipped a loop over time. This has to be inserted in order to perform the calculations."
   ]
  },
  {
   "cell_type": "markdown",
   "metadata": {},
   "source": [
    "        /* Simple program for solving the two-dimensional diffusion \n",
    "           equation or Poisson equation using Jacobi's iterative method\n",
    "           Note that this program does not contain a loop over the time \n",
    "           dependence.\n",
    "        */\n",
    "        \n",
    "        #include <iostream>\n",
    "        #include <iomanip>\n",
    "        #include <armadillo>\n",
    "        using namespace std;\n",
    "        using namespace arma;\n",
    "        \n",
    "        int JacobiSolver(int, double, double, mat &, mat &, double);\n",
    "        \n",
    "        int main(int argc, char * argv[]){\n",
    "          int Npoints = 40;\n",
    "          double ExactSolution;\n",
    "          double dx = 1.0/(Npoints-1);\n",
    "          double dt = 0.25*dx*dx;\n",
    "          double tolerance = 1.0e-14;\n",
    "          mat A = zeros<mat>(Npoints,Npoints);\n",
    "          mat q = zeros<mat>(Npoints,Npoints);\n",
    "        \n",
    "          // setting up an additional source term\n",
    "          for(int i = 0; i < Npoints; i++)\n",
    "            for(int j = 0; j < Npoints; j++)\n",
    "              q(i,j) = -2.0*M_PI*M_PI*sin(M_PI*dx*i)*sin(M_PI*dx*j);\n",
    "            \n",
    "          int itcount = JacobiSolver(Npoints,dx,dt,A,q,tolerance);\n",
    "         \n",
    "          // Testing against exact solution\n",
    "          double sum = 0.0;\n",
    "          for(int i = 0; i < Npoints; i++){\n",
    "            for(int j=0;j < Npoints; j++){\n",
    "              ExactSolution = -sin(M_PI*dx*i)*sin(M_PI*dx*j);\n",
    "              sum += fabs((A(i,j) - ExactSolution));\n",
    "            }\n",
    "          }\n",
    "          cout << setprecision(5) << setiosflags(ios::scientific);\n",
    "          cout << \"Jacobi method with error \" << sum/Npoints << \" in \" << itcount << \" iterations\" << endl;\n",
    "        }\n"
   ]
  },
  {
   "cell_type": "markdown",
   "metadata": {},
   "source": [
    "## [The Jacobi solver function](https://github.com/CompPhysics/ComputationalPhysics/blob/master/doc/Programs/LecturePrograms/programs/PDE/cpp/diffusion2dim.cpp)"
   ]
  },
  {
   "cell_type": "markdown",
   "metadata": {},
   "source": [
    "        // Function for setting up the iterative Jacobi solver\n",
    "        int JacobiSolver(int N, double dx, double dt, mat &A, mat &q, double abstol)\n",
    "        {\n",
    "          int MaxIterations = 100000;\n",
    "          mat Aold = zeros<mat>(N,N);\n",
    "          \n",
    "          double D = dt/(dx*dx);\n",
    "          \n",
    "          for(int i=1;  i < N-1; i++)\n",
    "            for(int j=1; j < N-1; j++)\n",
    "              Aold(i,j) = 1.0;\n",
    "          \n",
    "          // Boundary Conditions -- all zeros\n",
    "          for(int i=0; i < N; i++){\n",
    "            A(0,i) = 0.0;\n",
    "            A(N-1,i) = 0.0;\n",
    "            A(i,0) = 0.0;\n",
    "            A(i,N-1) = 0.0;\n",
    "          }\n",
    "          // Start the iterative solver\n",
    "          for(int k = 0; k < MaxIterations; k++){\n",
    "            for(int i = 1; i < N-1; i++){\n",
    "              for(int j=1; j < N-1; j++){\n",
    "        \tA(i,j) = dt*q(i,j) + Aold(i,j) +\n",
    "        \t  D*(Aold(i+1,j) + Aold(i,j+1) - 4.0*Aold(i,j) + \n",
    "        \t     Aold(i-1,j) + Aold(i,j-1));\n",
    "              }\n",
    "            }\n",
    "            double sum = 0.0;\n",
    "            for(int i = 0; i < N;i++){\n",
    "              for(int j = 0; j < N;j++){\n",
    "        \tsum += (Aold(i,j)-A(i,j))*(Aold(i,j)-A(i,j));\n",
    "        \tAold(i,j) = A(i,j);\n",
    "              }\n",
    "            }\n",
    "            if(sqrt (sum) <abstol){\n",
    "              return k;\n",
    "            }\n",
    "          }\n",
    "          cerr << \"Jacobi: Maximum Number of Interations Reached Without Convergence\\n\";\n",
    "          return MaxIterations;\n",
    "        }\n"
   ]
  },
  {
   "cell_type": "markdown",
   "metadata": {},
   "source": [
    "<!-- !split  -->\n",
    "## [Parallel Jacobi](https://github.com/CompPhysics/ComputationalPhysics/blob/master/doc/Programs/LecturePrograms/programs/PDE/cpp/MPIdiffusion.cpp)\n",
    "\n",
    "In order to parallelize the Jacobi method we need to introduce to new **MPI** functions, namely *MPIGather* and *MPIAllgather*.\n",
    "\n",
    "Here we present a parallel implementation of the Jacobi method without an explicit link to the diffusion equation.  Let us go back to the plain Jacobi method \n",
    "and implement it in parallel."
   ]
  },
  {
   "cell_type": "markdown",
   "metadata": {},
   "source": [
    "        //  Main program first\n",
    "        #include <mpi.h>\n",
    "        \n",
    "        //  Omitted statements\n",
    "        int main(int argc, char * argv[]){\n",
    "          int i,j, N = 20;\n",
    "          double **A,*x,*q;\n",
    "          int totalnodes,mynode;\n",
    "        \n",
    "          MPI_Init(&argc,&argv);\n",
    "          MPI_Comm_size(MPI_COMM_WORLD, &totalnodes);\n",
    "          MPI_Comm_rank(MPI_COMM_WORLD, &mynode);\n",
    "        \n",
    "          if(mynode==0){\n",
    "        \n",
    "          }\n",
    "          ParallelJacobi(mynode,totalnodes,N,A,x,q,1.0e-14);\n",
    "          if(mynode==0){\n",
    "            for(int i = 0; i < N; i++)\n",
    "              cout << x[i] << endl;\n",
    "        \n",
    "          }\n",
    "          MPI_Finalize();\n",
    "        }\n"
   ]
  },
  {
   "cell_type": "markdown",
   "metadata": {},
   "source": [
    "<!-- !split  -->\n",
    "## [Parallel Jacobi](https://github.com/CompPhysics/ComputationalPhysics/blob/master/doc/Programs/LecturePrograms/programs/PDE/cpp/MPIdiffusion.cpp)\n",
    "\n",
    "Here follows the parallel implementation of the Jacobi algorithm"
   ]
  },
  {
   "cell_type": "markdown",
   "metadata": {},
   "source": [
    "        \n",
    "        \n",
    "        int ParallelJacobi(int mynode, int numnodes, int N, double **A, double *x, double *b, double abstol){\n",
    "          int i,j,k,i_global;\n",
    "          int maxit = 100000;\n",
    "          int rows_local,local_offset,last_rows_local,*count,*displacements;\n",
    "          double sum1,sum2,*xold;\n",
    "          double error_sum_local, error_sum_global;\n",
    "          MPI_Status status;\n",
    "        \n",
    "          rows_local = (int) floor((double)N/numnodes);\n",
    "          local_offset = mynode*rows_local;\n",
    "          if(mynode == (numnodes-1)) \n",
    "            rows_local = N - rows_local*(numnodes-1);\n",
    "        \n",
    "          /*Distribute the Matrix and R.H.S. among the processors */\n",
    "          if(mynode == 0){\n",
    "            for(i=1;i<numnodes-1;i++){\n",
    "              for(j=0;j<rows_local;j++)\n",
    "                MPI_Send(A[i*rows_local+j],N,MPI_DOUBLE,i,j,MPI_COMM_WORLD);\n",
    "              MPI_Send(b+i*rows_local,rows_local,MPI_DOUBLE,i,rows_local,\n",
    "                       MPI_COMM_WORLD);\n",
    "            }\n",
    "            last_rows_local = N-rows_local*(numnodes-1);\n",
    "            for(j=0;j<last_rows_local;j++)\n",
    "              MPI_Send(A[(numnodes-1)*rows_local+j],N,MPI_DOUBLE,numnodes-1,j,\n",
    "                       MPI_COMM_WORLD);\n",
    "            MPI_Send(b+(numnodes-1)*rows_local,last_rows_local,MPI_DOUBLE,numnodes-1,\n",
    "                     last_rows_local,MPI_COMM_WORLD);\n",
    "          }\n",
    "          else{\n",
    "            A = CreateMatrix(rows_local,N);\n",
    "            x = new double[rows_local];    \n",
    "            b = new double[rows_local];\n",
    "            for(i=0;i<rows_local;i++)\n",
    "              MPI_Recv(A[i],N,MPI_DOUBLE,0,i,MPI_COMM_WORLD,&status);\n",
    "            MPI_Recv(b,rows_local,MPI_DOUBLE,0,rows_local,MPI_COMM_WORLD,&status);\n",
    "          }\n",
    "        \n",
    "        \n",
    "          xold = new double[N];\n",
    "          count = new int[numnodes];\n",
    "          displacements = new int[numnodes];\n",
    "        \n",
    "        \n",
    "          //set initial guess to all 1.0\n",
    "          for(i=0; i<N; i++){\n",
    "            xold[i] = 1.0;\n",
    "          }\n",
    "        \n",
    "          for(i=0;i<numnodes;i++){\n",
    "            count[i] = (int) floor((double)N/numnodes);\n",
    "            displacements[i] = i*count[i];\n",
    "          }\n",
    "          count[numnodes-1] = N - ((int)floor((double)N/numnodes))*(numnodes-1);\n",
    "          \n",
    "          for(k=0; k<maxit; k++){\n",
    "            error_sum_local = 0.0;\n",
    "            for(i = 0; i<rows_local; i++){\n",
    "              i_global = local_offset+i;\n",
    "              sum1 = 0.0; sum2 = 0.0;\n",
    "              for(j=0; j < i_global; j++)\n",
    "                sum1 = sum1 + A[i][j]*xold[j];\n",
    "              for(j=i_global+1; j < N; j++)\n",
    "                sum2 = sum2 + A[i][j]*xold[j];\n",
    "              \n",
    "              x[i] = (-sum1 - sum2 + b[i])/A[i][i_global];\n",
    "              error_sum_local += (x[i]-xold[i_global])*(x[i]-xold[i_global]);\n",
    "            }\n",
    "            \n",
    "            MPI_Allreduce(&error_sum_local,&error_sum_global,1,MPI_DOUBLE,\n",
    "                          MPI_SUM,MPI_COMM_WORLD);\n",
    "            MPI_Allgatherv(x,rows_local,MPI_DOUBLE,xold,count,displacements,\n",
    "                           MPI_DOUBLE,MPI_COMM_WORLD);\n",
    "            \n",
    "            if(sqrt(error_sum_global)<abstol){\n",
    "              if(mynode == 0){\n",
    "                for(i=0;i<N;i++)\n",
    "                  x[i] = xold[i];\n",
    "              }\n",
    "              else{\n",
    "                DestroyMatrix(A,rows_local,N);\n",
    "                delete[] x;\n",
    "                delete[] b;\n",
    "              }\n",
    "              delete[] xold;\n",
    "              delete[] count;\n",
    "              delete[] displacements;\n",
    "              return k;\n",
    "            }\n",
    "          }\n",
    "        \n",
    "          cerr << \"Jacobi: Maximum Number of Interations Reached Without Convergence\\n\";\n",
    "          if(mynode == 0){\n",
    "            for(i=0;i<N;i++)\n",
    "              x[i] = xold[i];\n",
    "          }\n",
    "          else{\n",
    "            DestroyMatrix(A,rows_local,N);\n",
    "            delete[] x;\n",
    "            delete[] b;\n",
    "          }\n",
    "          delete[] xold;\n",
    "          delete[] count;\n",
    "          delete[] displacements;\n",
    "          \n",
    "          return maxit;\n",
    "        }\n",
    "        \n"
   ]
  },
  {
   "cell_type": "markdown",
   "metadata": {},
   "source": [
    "<!-- !split  -->\n",
    "## [Parallel Jacobi](https://github.com/CompPhysics/ComputationalPhysics/blob/master/doc/Programs/LecturePrograms/programs/PDE/cpp/OpenMPdiffusion.cpp)\n",
    "\n",
    "Here follows the parallel implementation of the diffusion equation using OpenMP"
   ]
  },
  {
   "cell_type": "markdown",
   "metadata": {},
   "source": [
    "        /* Simple program for solving the two-dimensional diffusion \n",
    "           equation or Poisson equation using Jacobi's iterative method\n",
    "           Note that this program does not contain a loop over the time \n",
    "           dependence. It uses OpenMP to parallelize\n",
    "        */\n",
    "        \n",
    "        #include <iostream>\n",
    "        #include <iomanip>\n",
    "        #include <armadillo>\n",
    "        #include <omp.h>\n",
    "        using namespace std;\n",
    "        using namespace arma;\n",
    "        \n",
    "        int JacobiSolver(int, double, double, mat &, mat &, double);\n",
    "        \n",
    "        int main(int argc, char * argv[]){\n",
    "          int Npoints = 100;\n",
    "          double ExactSolution;\n",
    "          double dx = 1.0/(Npoints-1);\n",
    "          double dt = 0.25*dx*dx;\n",
    "          double tolerance = 1.0e-8;\n",
    "          mat A = zeros<mat>(Npoints,Npoints);\n",
    "          mat q = zeros<mat>(Npoints,Npoints);\n",
    "        \n",
    "          int thread_num;\n",
    "          omp_set_num_threads(4);\n",
    "          thread_num = omp_get_max_threads ();\n",
    "          cout << \"  The number of processors available = \" << omp_get_num_procs () << endl ;\n",
    "          cout << \"  The number of threads available    = \" << thread_num <<  endl;\n",
    "          // setting up an additional source term\n",
    "          for(int i = 0; i < Npoints; i++)\n",
    "            for(int j = 0; j < Npoints; j++)\n",
    "              q(i,j) = -2.0*M_PI*M_PI*sin(M_PI*dx*i)*sin(M_PI*dx*j);\n",
    "            \n",
    "          int itcount = JacobiSolver(Npoints,dx,dt,A,q,tolerance);\n",
    "         \n",
    "          // Testing against exact solution\n",
    "          double sum = 0.0;\n",
    "          for(int i = 0; i < Npoints; i++){\n",
    "            for(int j=0;j < Npoints; j++){\n",
    "              ExactSolution = -sin(M_PI*dx*i)*sin(M_PI*dx*j);\n",
    "              sum += fabs((A(i,j) - ExactSolution));\n",
    "            }\n",
    "          }\n",
    "          cout << setprecision(5) << setiosflags(ios::scientific);\n",
    "          cout << \"Jacobi error is \" << sum/Npoints << \" in \" << itcount << \" iterations\" << endl;\n",
    "        }\n",
    "        \n",
    "        \n",
    "        // Function for setting up the iterative Jacobi solver\n",
    "        int JacobiSolver(int N, double dx, double dt, mat &A, mat &q, double abstol)\n",
    "        {\n",
    "          int MaxIterations = 100000;\n",
    "        \n",
    "          \n",
    "          double D = dt/(dx*dx);\n",
    "          // initial guess\n",
    "          mat Aold = randu<mat>(N,N);  \n",
    "          // Boundary conditions, all zeros\n",
    "          for(int i=0; i < N; i++){\n",
    "            A(0,i) = 0.0;\n",
    "            A(N-1,i) = 0.0;\n",
    "            A(i,0) = 0.0;\n",
    "            A(i,N-1) = 0.0;\n",
    "          }\n",
    "          double sum = 1.0;\n",
    "          int k = 0;\n",
    "          // Start the iterative solver\n",
    "          while (k < MaxIterations && sum > abstol){\n",
    "          int i, j;\n",
    "          sum = 0.0;\n",
    "          // Define parallel region\n",
    "        # pragma omp parallel default(shared) private (i, j) reduction(+:sum)\n",
    "          {\n",
    "             # pragma omp for\n",
    "            for(i = 1; i < N-1; i++){\n",
    "              for(j = 1; j < N-1; j++){\n",
    "        \tA(i,j) = dt*q(i,j) + Aold(i,j) +\n",
    "        \t  D*(Aold(i+1,j) + Aold(i,j+1) - 4.0*Aold(i,j) + \n",
    "        \t     Aold(i-1,j) + Aold(i,j-1));\n",
    "              }\n",
    "            }\n",
    "            for(i = 0; i < N;i++){\n",
    "              for(j = 0; j < N;j++){\n",
    "        \tsum += fabs(Aold(i,j)-A(i,j));\n",
    "        \tAold(i,j) = A(i,j);\n",
    "              }\n",
    "            }\n",
    "            sum /= (N*N); \n",
    "          } //end parallel region\n",
    "          k++;\n",
    "          } //end while loop\n",
    "          return k;\n",
    "        }\n",
    "        \n",
    "        \n"
   ]
  },
  {
   "cell_type": "markdown",
   "metadata": {},
   "source": [
    "## Wave Equation in two Dimensions\n",
    "\n",
    "The $1+1$-dimensional wave equation reads"
   ]
  },
  {
   "cell_type": "markdown",
   "metadata": {},
   "source": [
    "$$\n",
    "\\frac{\\partial^2 u}{\\partial x^2}=\\frac{\\partial^2 u}{\\partial t^2},\n",
    "$$"
   ]
  },
  {
   "cell_type": "markdown",
   "metadata": {},
   "source": [
    "with $u=u(x,t)$ and we have assumed that we operate with \n",
    "dimensionless variables. Possible boundary and initial conditions\n",
    "with $L=1$  are"
   ]
  },
  {
   "cell_type": "markdown",
   "metadata": {},
   "source": [
    "$$\n",
    "\\begin{array}{cc} u_{xx} = u_{tt}& x\\in(0,1), t>0 \\\\\n",
    "                         u(x,0) = g(x)& x\\in (0,1) \\\\\n",
    "                         u(0,t)=u(1,t)=0 & t > 0\\\\\n",
    "                         \\partial u/\\partial t|_{t=0}=0 & x\\in (0,1)\\\\\n",
    "                       \\end{array} .\n",
    "$$"
   ]
  },
  {
   "cell_type": "markdown",
   "metadata": {},
   "source": [
    "## Wave Equation in two Dimensions, discretizing\n",
    "We discretize again time and position,"
   ]
  },
  {
   "cell_type": "markdown",
   "metadata": {},
   "source": [
    "$$\n",
    "u_{xx}\\approx \\frac{u(x+\\Delta x,t)-2u(x,t)+u(x-\\Delta x,t)}{\\Delta x^2},\n",
    "$$"
   ]
  },
  {
   "cell_type": "markdown",
   "metadata": {},
   "source": [
    "and"
   ]
  },
  {
   "cell_type": "markdown",
   "metadata": {},
   "source": [
    "$$\n",
    "u_{tt}\\approx \\frac{u(x,t+\\Delta t)-2u(x,t)+u(x,t-\\Delta t)}{\\Delta t^2},\n",
    "$$"
   ]
  },
  {
   "cell_type": "markdown",
   "metadata": {},
   "source": [
    "which we rewrite as"
   ]
  },
  {
   "cell_type": "markdown",
   "metadata": {},
   "source": [
    "$$\n",
    "u_{xx}\\approx \\frac{u_{i+1,j}-2u_{i,j}+u_{i-1,j}}{\\Delta x^2},\n",
    "$$"
   ]
  },
  {
   "cell_type": "markdown",
   "metadata": {},
   "source": [
    "and"
   ]
  },
  {
   "cell_type": "markdown",
   "metadata": {},
   "source": [
    "$$\n",
    "u_{tt}\\approx \\frac{u_{i,j+1}-2u_{i,j}+u_{i,j-1}}{\\Delta t^2},\n",
    "$$"
   ]
  },
  {
   "cell_type": "markdown",
   "metadata": {},
   "source": [
    "resulting in"
   ]
  },
  {
   "cell_type": "markdown",
   "metadata": {},
   "source": [
    "<!-- Equation labels as ordinary links -->\n",
    "<div id=\"eq:wavescheme\"></div>\n",
    "\n",
    "$$\n",
    "\\begin{equation}\n",
    "\\label{eq:wavescheme} \\tag{23}\n",
    "u_{i,j+1}=2u_{i,j}-u_{i,j-1}+\\frac{\\Delta t^2}{\\Delta x^2}\\left(u_{i+1,j}-2u_{i,j}+u_{i-1,j}\\right).\n",
    "\\end{equation}\n",
    "$$"
   ]
  },
  {
   "cell_type": "markdown",
   "metadata": {},
   "source": [
    "## Wave Equation in two Dimensions\n",
    "If we assume that all values at times $t=j$ and $t=j-1$ are known, the only unknown variable is $u_{i,j+1}$ and the last equation yields thus an explicit\n",
    "scheme for updating this quantity. We have thus an explicit finite difference\n",
    "scheme for computing the wave function $u$. The only additional complication\n",
    "in our case is the initial condition given by the first derivative in time,\n",
    "namely $\\partial u/\\partial t|_{t=0}=0$. \n",
    "The discretized version of this first derivative is given by"
   ]
  },
  {
   "cell_type": "markdown",
   "metadata": {},
   "source": [
    "$$\n",
    "u_t\\approx \\frac{u(x_i,t_j+\\Delta t)-u(x_i,t_j-\\Delta t)}{2\\Delta t},\n",
    "$$"
   ]
  },
  {
   "cell_type": "markdown",
   "metadata": {},
   "source": [
    "and at $t=0$ it reduces to"
   ]
  },
  {
   "cell_type": "markdown",
   "metadata": {},
   "source": [
    "$$\n",
    "u_t\\approx \\frac{u_{i,+1}-u_{i,-1}}{2\\Delta t}=0,\n",
    "$$"
   ]
  },
  {
   "cell_type": "markdown",
   "metadata": {},
   "source": [
    "implying that $u_{i,+1}=u_{i,-1}$. \n",
    "\n",
    "## Wave Equation in two Dimensions\n",
    "If we insert this condition in Eq. ([eq:wavescheme](#eq:wavescheme)) we arrive at a\n",
    "special formula for the first time step"
   ]
  },
  {
   "cell_type": "markdown",
   "metadata": {},
   "source": [
    "<!-- Equation labels as ordinary links -->\n",
    "<div id=\"eq:firstwavescheme\"></div>\n",
    "\n",
    "$$\n",
    "\\begin{equation}\n",
    "\\label{eq:firstwavescheme} \\tag{24}\n",
    "u_{i,1}=u_{i,0}+\\frac{\\Delta t^2}{2\\Delta x^2}\\left(u_{i+1,0}-2u_{i,0}+u_{i-1,0}\\right).\n",
    "\\end{equation}\n",
    "$$"
   ]
  },
  {
   "cell_type": "markdown",
   "metadata": {},
   "source": [
    "We need seemingly two different equations, one for the first time step\n",
    "given by Eq. ([eq:firstwavescheme](#eq:firstwavescheme)) and one for all other time-steps\n",
    "given by Eq. ([eq:wavescheme](#eq:wavescheme)). However, it suffices to use\n",
    "Eq. ([eq:wavescheme](#eq:wavescheme)) for all times as long as we \n",
    "provide $u(i,-1)$ using"
   ]
  },
  {
   "cell_type": "markdown",
   "metadata": {},
   "source": [
    "$$\n",
    "u_{i,-1}=u_{i,0}+\\frac{\\Delta t^2}{2\\Delta x^2}\\left(u_{i+1,0}-2u_{i,0}+u_{i-1,0}\\right),\n",
    "$$"
   ]
  },
  {
   "cell_type": "markdown",
   "metadata": {},
   "source": [
    "in our setup of the initial conditions.\n",
    "\n",
    "## Wave Equation in two Dimensions\n",
    "The situation is rather similar for the $2+1$-dimensional case, \n",
    "except that we now need to discretize the spatial $y$-coordinate as well.\n",
    "Our equations will now depend on three variables whose discretized versions\n",
    "are now"
   ]
  },
  {
   "cell_type": "markdown",
   "metadata": {},
   "source": [
    "$$\n",
    "\\begin{array}{cc} t_l=l\\Delta t& l \\ge 0 \\\\\n",
    "                          x_i=i\\Delta x& 0 \\le i \\le n_x\\\\\n",
    "                          y_j=j\\Delta y& 0 \\le j \\le n_y\\end{array} ,\n",
    "$$"
   ]
  },
  {
   "cell_type": "markdown",
   "metadata": {},
   "source": [
    "and we will let $\\Delta x=\\Delta y = h$ and $n_x=n_y$ for the sake of \n",
    "simplicity.\n",
    "The equation with initial and boundary conditions reads now"
   ]
  },
  {
   "cell_type": "markdown",
   "metadata": {},
   "source": [
    "$$\n",
    "\\begin{array}{cc} u_{xx}+u_{yy} = u_{tt}& x,y\\in(0,1), t>0 \\\\\n",
    "                         u(x,y,0) = g(x,y)& x,y\\in (0,1) \\\\\n",
    "                         u(0,0,t)=u(1,1,t)=0 & t > 0\\\\\n",
    "                         \\partial u/\\partial t|_{t=0}=0 & x,y\\in (0,1)\\\\\n",
    "                       \\end{array}.\n",
    "$$"
   ]
  },
  {
   "cell_type": "markdown",
   "metadata": {},
   "source": [
    "## Wave Equation in two Dimensions\n",
    "We have now the following discretized partial derivatives"
   ]
  },
  {
   "cell_type": "markdown",
   "metadata": {},
   "source": [
    "$$\n",
    "u_{xx}\\approx \\frac{u_{i+1,j}^l-2u_{i,j}^l+u_{i-1,j}^l}{h^2},\n",
    "$$"
   ]
  },
  {
   "cell_type": "markdown",
   "metadata": {},
   "source": [
    "and"
   ]
  },
  {
   "cell_type": "markdown",
   "metadata": {},
   "source": [
    "$$\n",
    "u_{yy}\\approx \\frac{u_{i,j+1}^l-2u_{i,j}^l+u_{i,j-1}^l}{h^2},\n",
    "$$"
   ]
  },
  {
   "cell_type": "markdown",
   "metadata": {},
   "source": [
    "and"
   ]
  },
  {
   "cell_type": "markdown",
   "metadata": {},
   "source": [
    "$$\n",
    "u_{tt}\\approx \\frac{u_{i,j}^{l+1}-2u_{i,j}^{l}+u_{i,j}^{l-1}}{\\Delta t^2},\n",
    "$$"
   ]
  },
  {
   "cell_type": "markdown",
   "metadata": {},
   "source": [
    "which we merge into the discretized $2+1$-dimensional wave equation\n",
    "as"
   ]
  },
  {
   "cell_type": "markdown",
   "metadata": {},
   "source": [
    "<!-- Equation labels as ordinary links -->\n",
    "<div id=\"eq:21wavescheme\"></div>\n",
    "\n",
    "$$\n",
    "\\begin{equation}\n",
    "\\label{eq:21wavescheme} \\tag{25}\n",
    "u_{i,j}^{l+1}\n",
    "=2u_{i,j}^{l}-u_{i,j}^{l-1}+\\frac{\\Delta t^2}{h^2}\\left(u_{i+1,j}^l-4u_{i,j}^l+u_{i-1,j}^l+u_{i,j+1}^l+u_{i,j-1}^l\\right),\n",
    "\\end{equation}\n",
    "$$"
   ]
  },
  {
   "cell_type": "markdown",
   "metadata": {},
   "source": [
    "where again we have an explicit scheme with $u_{i,j}^{l+1}$ as the only\n",
    "unknown quantity. \n",
    "\n",
    "## Wave Equation in two Dimensions\n",
    "It is easy to account for different step lengths for $x$ and $y$.\n",
    "The partial derivative is treated in much the same way\n",
    "as for the one-dimensional case, except that we now have an additional\n",
    "index due to the extra spatial dimension, viz., we need to compute \n",
    "$u_{i,j}^{-1}$ through"
   ]
  },
  {
   "cell_type": "markdown",
   "metadata": {},
   "source": [
    "$$\n",
    "u_{i,j}^{-1}=u_{i,j}^0+\\frac{\\Delta t}{2h^2}\\left(u_{i+1,j}^0-4u_{i,j}^0+u_{i-1,j}^0+u_{i,j+1}^0+u_{i,j-1}^0\\right),\n",
    "$$"
   ]
  },
  {
   "cell_type": "markdown",
   "metadata": {},
   "source": [
    "in our setup of the initial conditions.\n",
    "\n",
    "\n",
    "## Analytical  Solution for the two-dimensional wave equation\n",
    "We develop here the closed-form solution for the $2+1$ dimensional wave equation with the following boundary and initial conditions"
   ]
  },
  {
   "cell_type": "markdown",
   "metadata": {},
   "source": [
    "$$\n",
    "\\begin{array}{cc} c^2(u_{xx}+u_{yy}) = u_{tt}& x,y\\in(0,L), t>0 \\\\\n",
    "                         u(x,y,0) = f(x,y) & x,y\\in (0,L) \\\\\n",
    "                         u(0,0,t)=u(L,L,t)=0 & t > 0\\\\\n",
    "                         \\partial u/\\partial t|_{t=0}= g(x,y) & x,y\\in (0,L)\\\\\n",
    "                       \\end{array} .\n",
    "$$"
   ]
  },
  {
   "cell_type": "markdown",
   "metadata": {},
   "source": [
    "## Analytical  Solution for the two-dimensional wave equation, first step\n",
    "Our first step is to make the ansatz"
   ]
  },
  {
   "cell_type": "markdown",
   "metadata": {},
   "source": [
    "$$\n",
    "u(x,y,t) = F(x,y) G(t),\n",
    "$$"
   ]
  },
  {
   "cell_type": "markdown",
   "metadata": {},
   "source": [
    "resulting  in the equation"
   ]
  },
  {
   "cell_type": "markdown",
   "metadata": {},
   "source": [
    "$$\n",
    "FG_{tt}= c^2(F_{xx}G+F_{yy}G),\n",
    "$$"
   ]
  },
  {
   "cell_type": "markdown",
   "metadata": {},
   "source": [
    "or"
   ]
  },
  {
   "cell_type": "markdown",
   "metadata": {},
   "source": [
    "$$\n",
    "\\frac{G_{tt}}{c^2G} =  \\frac{1}{F}(F_{xx}+F_{yy}) = -\\nu^2.\n",
    "$$"
   ]
  },
  {
   "cell_type": "markdown",
   "metadata": {},
   "source": [
    "## Analytical  Solution for the two-dimensional wave equation,\n",
    "The lhs and rhs are independent of each other and we obtain two differential equations"
   ]
  },
  {
   "cell_type": "markdown",
   "metadata": {},
   "source": [
    "$$\n",
    "F_{xx}+F_{yy}+F\\nu^2=0,\n",
    "$$"
   ]
  },
  {
   "cell_type": "markdown",
   "metadata": {},
   "source": [
    "and"
   ]
  },
  {
   "cell_type": "markdown",
   "metadata": {},
   "source": [
    "$$\n",
    "G_{tt} + Gc^2\\nu^2 =    G_{tt} + G\\lambda^2 =  0,\n",
    "$$"
   ]
  },
  {
   "cell_type": "markdown",
   "metadata": {},
   "source": [
    "with $\\lambda = c\\nu$. \n",
    "We can in turn make the following ansatz for the $x$  and $y$ dependent part"
   ]
  },
  {
   "cell_type": "markdown",
   "metadata": {},
   "source": [
    "$$\n",
    "F(x,y) = H(x)Q(y),\n",
    "$$"
   ]
  },
  {
   "cell_type": "markdown",
   "metadata": {},
   "source": [
    "which results in"
   ]
  },
  {
   "cell_type": "markdown",
   "metadata": {},
   "source": [
    "$$\n",
    "\\frac{1}{H}H_{xx} =  -\\frac{1}{Q}(Q_{yy}+Q\\nu^2)= -\\kappa^2.\n",
    "$$"
   ]
  },
  {
   "cell_type": "markdown",
   "metadata": {},
   "source": [
    "## Analytical  Solution for the two-dimensional wave equation, separation of variables\n",
    "Since the lhs and rhs are again independent of each other, we can separate the latter equation into two independent \n",
    "equations, one for $x$ and one for $y$, namely"
   ]
  },
  {
   "cell_type": "markdown",
   "metadata": {},
   "source": [
    "$$\n",
    "H_{xx} + \\kappa^2H =  0,\n",
    "$$"
   ]
  },
  {
   "cell_type": "markdown",
   "metadata": {},
   "source": [
    "and"
   ]
  },
  {
   "cell_type": "markdown",
   "metadata": {},
   "source": [
    "$$\n",
    "Q_{yy} + \\rho^2Q = 0,\n",
    "$$"
   ]
  },
  {
   "cell_type": "markdown",
   "metadata": {},
   "source": [
    "with $\\rho^2= \\nu^2-\\kappa^2$. \n",
    "\n",
    "## Analytical  Solution for the two-dimensional wave equation, separation of variables\n",
    "The second step is to solve these differential equations, which all have trigonometric functions as solutions, viz."
   ]
  },
  {
   "cell_type": "markdown",
   "metadata": {},
   "source": [
    "$$\n",
    "H(x) = A\\cos(\\kappa x)+B\\sin(\\kappa x),\n",
    "$$"
   ]
  },
  {
   "cell_type": "markdown",
   "metadata": {},
   "source": [
    "and"
   ]
  },
  {
   "cell_type": "markdown",
   "metadata": {},
   "source": [
    "$$\n",
    "Q(y) = C\\cos(\\rho y)+D\\sin(\\rho y).\n",
    "$$"
   ]
  },
  {
   "cell_type": "markdown",
   "metadata": {},
   "source": [
    "## Analytical  Solution for the two-dimensional wave equation, boundary conditions\n",
    "The boundary conditions require that $F(x,y) = H(x)Q(y)$ are zero at the boundaries, meaning that\n",
    "$H(0)=H(L)=Q(0)=Q(L)=0$.  This yields the solutions"
   ]
  },
  {
   "cell_type": "markdown",
   "metadata": {},
   "source": [
    "$$\n",
    "H_m(x) = \\sin(\\frac{m\\pi x}{L}) \\hspace{1cm} Q_n(y) = \\sin(\\frac{n\\pi y}{L}),\n",
    "$$"
   ]
  },
  {
   "cell_type": "markdown",
   "metadata": {},
   "source": [
    "or"
   ]
  },
  {
   "cell_type": "markdown",
   "metadata": {},
   "source": [
    "$$\n",
    "F_{mn}(x,y) = \\sin(\\frac{m\\pi x}{L})\\sin(\\frac{n\\pi y}{L}).\n",
    "$$"
   ]
  },
  {
   "cell_type": "markdown",
   "metadata": {},
   "source": [
    "With $\\rho^2= \\nu^2-\\kappa^2$ and $\\lambda = c\\nu$ we have an eigenspectrum $\\lambda=c\\sqrt{\\kappa^2+\\rho^2}$ \n",
    "or $\\lambda_{mn}= c\\pi/L\\sqrt{m^2+n^2}$. \n",
    "\n",
    "\n",
    "## Analytical  Solution for the two-dimensional wave equation, separation of variables and solutions\n",
    "The solution for $G$ is"
   ]
  },
  {
   "cell_type": "markdown",
   "metadata": {},
   "source": [
    "$$\n",
    "G_{mn}(t) = B_{mn}\\cos(\\lambda_{mn} t)+D_{mn}\\sin(\\lambda_{mn} t),\n",
    "$$"
   ]
  },
  {
   "cell_type": "markdown",
   "metadata": {},
   "source": [
    "with the general solution of the form"
   ]
  },
  {
   "cell_type": "markdown",
   "metadata": {},
   "source": [
    "$$\n",
    "u(x,y,t) = \\sum_{mn=1}^{\\infty} u_{mn}(x,y,t) = \\sum_{mn=1}^{\\infty}F_{mn}(x,y)G_{mn}(t).\n",
    "$$"
   ]
  },
  {
   "cell_type": "markdown",
   "metadata": {},
   "source": [
    "## Analytical  Solution for the two-dimensional wave equation, final steps\n",
    "The final step is to determine the coefficients $B_{mn}$ and $D_{mn}$ from the Fourier coefficients.\n",
    "The equations for these  are determined by the initial conditions $u(x,y,0) = f(x,y)$ and \n",
    "$\\partial u/\\partial t|_{t=0}= g(x,y)$. \n",
    "The final expressions are"
   ]
  },
  {
   "cell_type": "markdown",
   "metadata": {},
   "source": [
    "$$\n",
    "B_{mn} = \\frac{2}{L}\\int_0^L\\int_0^L dxdy f(x,y) \\sin(\\frac{m\\pi x}{L})\\sin(\\frac{n\\pi y}{L}),\n",
    "$$"
   ]
  },
  {
   "cell_type": "markdown",
   "metadata": {},
   "source": [
    "and"
   ]
  },
  {
   "cell_type": "markdown",
   "metadata": {},
   "source": [
    "$$\n",
    "D_{mn} = \\frac{2}{L}\\int_0^L\\int_0^L dxdy g(x,y) \\sin(\\frac{m\\pi x}{L})\\sin(\\frac{n\\pi y}{L}).\n",
    "$$"
   ]
  },
  {
   "cell_type": "markdown",
   "metadata": {},
   "source": [
    "Inserting the particular functional forms of $f(x,y)$ and $g(x,y)$ one obtains the final closed-form expressions.\n",
    "\n",
    "## Python code for solving the two-dimensional wave equation\n",
    "The following Python code sets up and solves the two-dimensional  wave equation for all three methods discussed."
   ]
  },
  {
   "cell_type": "code",
   "execution_count": 3,
   "metadata": {
    "collapsed": false
   },
   "outputs": [],
   "source": [
    "#Program which solves the 2+1-dimensional wave equation by a finite difference scheme\n",
    "\n",
    "from numpy import *\n",
    "#Define the grid\n",
    "N = 31\n",
    "h = 1.0 / (N-1)\n",
    "dt = .0005\n",
    "t_steps = 10000\n",
    "x,y = ndgrid(linspace(0,1,N),linspace(0,1,N),sparse=False)\n",
    "\n",
    "alpha = dt**2 / h**2\n",
    "\n",
    "#Initial conditions with du/dt = 0\n",
    "u = sin(x*pi)*cos(y*pi-pi/2)\n",
    "u_old = zeros(u.shape,type(u[0,0]))\n",
    "for i in xrange(1,N-1):\n",
    "    for j in xrange(1,N-1):\n",
    "        u_old[i,j] = u[i,j] + (alpha/2)*(u[i+1,j] - 4*u[i,j] + u[i-1,j] + u[i,j+1] + u[i,j-1])\n",
    "u_new = zeros(u.shape,type(u[0,0]))\n",
    "\n",
    "#We don't necessarily want to plot every time step. We plot every n'th step where\n",
    "n = 100\n",
    "plotnr = 0\n",
    "\n",
    "#Iteration over time steps\n",
    "for k in xrange(t_steps):\n",
    "    for i in xrange(1,N-1): #1 - N-2 because we don't want to change the boundaries\n",
    "        for j in xrange(1,N-1):\n",
    "            u_new[i,j] = 2*u[i,j] - u_old[i,j] + alpha*(u[i+1,j] - 4*u[i,j] + u[i-1,j] + u[i,j+1] + u[i,j-1])\n",
    "\n",
    "    #Prepare for next time step by manipulating pointers\n",
    "    temp = u_new\n",
    "    u_new = u_old\n",
    "    u_old = u\n",
    "    u = temp\n",
    "#To do: Make movie"
   ]
  }
 ],
 "metadata": {},
 "nbformat": 4,
 "nbformat_minor": 2
}
