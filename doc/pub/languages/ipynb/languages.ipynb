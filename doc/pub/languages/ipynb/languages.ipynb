{
 "cells": [
  {
   "cell_type": "markdown",
   "metadata": {},
   "source": [
    "<!-- dom:TITLE: Computational Physics Lectures:  Introduction to programming (C++ and Fortran) -->\n",
    "# Computational Physics Lectures:  Introduction to programming (C++ and Fortran)\n",
    "<!-- dom:AUTHOR: Morten Hjorth-Jensen at Department of Physics, University of Oslo & Department of Physics and Astronomy and National Superconducting Cyclotron Laboratory, Michigan State University -->\n",
    "<!-- Author: --> **Morten Hjorth-Jensen**, Department of Physics, University of Oslo and Department of Physics and Astronomy and National Superconducting Cyclotron Laboratory, Michigan State University\n",
    "\n",
    "Date: **2016**\n",
    "\n",
    "## Extremely useful tools, strongly recommended\n",
    "\n",
    "**and discussed at the lab sessions the first two weeks.**\n",
    "\n",
    "  * GIT for version control, discussed at the lab this week (and next week as well)\n",
    "\n",
    "  * ipython notebook, mentioned this week \n",
    "\n",
    "  * QTcreator for editing and mastering computational projects\n",
    "\n",
    "  * Armadillo as a useful numerical library for C++, highly recommended\n",
    "\n",
    "  * Unit tests\n",
    "\n",
    "\n",
    "\n",
    "## A structured programming approach\n",
    "\n",
    "  * Before writing a single line, have the algorithm clarified and understood. It is crucial to have a logical structure of e.g., the flow and organization of data before one starts writing.\n",
    "\n",
    "  * Always try to choose the simplest algorithm. Computational speed can be improved upon later.\n",
    "\n",
    "  * Try to write a as clear program as possible. Such programs are easier to debug, and although it may take more time, in the long run it may save you time. If you collaborate with other people, it reduces spending time on debuging and trying to understand what the codes do. A clear program will also allow you to remember better what the program really does!\n",
    "\n",
    "\n",
    "\n",
    "## A structured programming approach\n",
    "\n",
    "  * The planning of the program should be from top down to bottom, trying to keep the flow as linear as possible. Avoid jumping back and forth in the program. First you need to arrange the major tasks to be achieved. Then try to break the major tasks into subtasks. These can be represented by functions or subprograms. They should accomplish limited tasks and as far as possible be independent of each other. That will allow you to use them in other programs as well.\n",
    "\n",
    "  * Try always to find some cases where an analytical solution exists or where simple test cases can be applied. If possible, devise different algorithms for solving the same problem. If you get the same answers, you may have coded things correctly or made the same error twice or more.\n",
    "\n",
    "\n",
    "\n",
    "## Getting Started\n",
    "\n",
    "**Compiling and linking, without QTcreator.**\n",
    "\n",
    "In order to obtain an executable file for a C++ program, the following\n",
    "instructions under Linux/Unix can be used"
   ]
  },
  {
   "cell_type": "markdown",
   "metadata": {},
   "source": [
    "        c++ -c -Wall myprogram.cpp\n",
    "        c++ -o myprogram myprogram.o\n"
   ]
  },
  {
   "cell_type": "markdown",
   "metadata": {},
   "source": [
    "where the compiler is called through the command c++/g++. The compiler\n",
    "option -Wall means that a warning is issued in case of non-standard\n",
    "language. The executable file is in this case `myprogram`. The option\n",
    "`-c` is for compilation only, where the program is translated into machine code,\n",
    "while the `-o` option links the produced object file `myprogram.o`\n",
    "and produces the executable `myprogram` .\n",
    "\n",
    "For Fortran2008 we use the Intel compiler, replace `c++` with `ifort`.\n",
    "Also, to speed up the code use compile options like"
   ]
  },
  {
   "cell_type": "markdown",
   "metadata": {},
   "source": [
    "        c++ -O3 -c -Wall myprogram.cpp\n"
   ]
  },
  {
   "cell_type": "markdown",
   "metadata": {},
   "source": [
    "## Makefiles and simple scripts\n",
    "\n",
    "Under Linux/Unix it is often convenient to create a\n",
    "so-called makefile, which is a script which includes possible\n",
    "compiling commands."
   ]
  },
  {
   "cell_type": "markdown",
   "metadata": {},
   "source": [
    "        # Comment lines\n",
    "        # General makefile for c - choose PROG =   name of given program\n",
    "        # Here we define compiler option, libraries and the  target\n",
    "        CC= g++ -Wall\n",
    "        PROG= myprogram\n",
    "        # this is the math library in C, not necessary for C++\n",
    "        LIB = -lm\n",
    "        # Here we make the executable file\n",
    "        ${PROG} :          ${PROG}.o\n",
    "                           ${CC} ${PROG}.o ${LIB} -o ${PROG}\n",
    "        # whereas here we create the object file\n",
    "        ${PROG}.o :       ${PROG}.c\n",
    "                          ${CC} -c ${PROG}.c\n"
   ]
  },
  {
   "cell_type": "markdown",
   "metadata": {},
   "source": [
    "If you name your file for `makefile`, simply type the command\n",
    "`make` and Linux/Unix executes all of the statements in the above\n",
    "makefile. Note that C++ files have the extension `.cpp`.\n",
    "\n",
    "## [Hello world](https://github.com/CompPhysics/ComputationalPhysicsMSU/blob/master/doc/Programs/LecturePrograms/programs/IntroProgramming/cpp/program1.cpp)\n",
    "\n",
    "**The C encounter.**\n",
    "\n",
    "Here we present first the C version."
   ]
  },
  {
   "cell_type": "markdown",
   "metadata": {},
   "source": [
    "        /* comments in C begin like this and end with */\n",
    "        #include <stdlib.h> /* atof function */\n",
    "        #include <math.h>   /* sine function */\n",
    "        #include <stdio.h>  /* printf function */\n",
    "        int main (int argc, char* argv[])\n",
    "        {\n",
    "          double r, s;        /* declare variables */\n",
    "          r = atof(argv[1]);  /* convert the text argv[1] to double */\n",
    "          s = sin(r);\n",
    "          printf(\"Hello, World! sin(%g)=%g\\n\", r, s);\n",
    "          return 0;           /* success execution of the program */\n",
    "        \n"
   ]
  },
  {
   "cell_type": "markdown",
   "metadata": {},
   "source": [
    "## Hello World, dissecting the code\n",
    "\n",
    "**Dissection I.**\n",
    "\n",
    "The compiler must see a declaration of a function before you can\n",
    "call it (the compiler checks the argument and return types).\n",
    "The declaration of library functions appears\n",
    "in so-called \"header files\" that must be included in the program, e.g.,"
   ]
  },
  {
   "cell_type": "markdown",
   "metadata": {},
   "source": [
    "           #include <stdlib.h> /* atof function */\n"
   ]
  },
  {
   "cell_type": "markdown",
   "metadata": {},
   "source": [
    "We call three functions (atof, sin, printf)\n",
    "and these are declared in three different header files.\n",
    "The main program is a function called main\n",
    "with a return value set to an integer, int (0 if success).\n",
    "The operating system stores the return value,\n",
    "and other programs/utilities can check whether\n",
    "the execution was successful or not.\n",
    "The command-line arguments are transferred to the main function through"
   ]
  },
  {
   "cell_type": "markdown",
   "metadata": {},
   "source": [
    "           int main (int argc, char* argv[])\n"
   ]
  },
  {
   "cell_type": "markdown",
   "metadata": {},
   "source": [
    "## Hello World, more dissection\n",
    "\n",
    "**Dissection II.**\n",
    "\n",
    "The command-line arguments are transferred to the main function through"
   ]
  },
  {
   "cell_type": "markdown",
   "metadata": {},
   "source": [
    "           int main (int argc, char* argv[])\n"
   ]
  },
  {
   "cell_type": "markdown",
   "metadata": {},
   "source": [
    "The integer `argc` is the no of command-line arguments, set to\n",
    "one in our case, while\n",
    "`argv` is a vector of strings containing the command-line arguments\n",
    "with `argv[0]` containing  the name of the program\n",
    "and `argv[1]`, `argv[2]`, ... are the command-line args, i.e., the number of\n",
    "lines of input to the program.\n",
    "Here we define floating points, see also below,\n",
    "through the keywords `float` for single precision real numbers and\n",
    "`double` for double precision. The function\n",
    "`atof` transforms a text (`argv[1]`) to a float.\n",
    "The sine function is declared in math.h, a library which\n",
    "is not automatically included and needs to be linked when computing\n",
    "an executable file.\n",
    "\n",
    "With the command `printf` we obtain a formatted printout.\n",
    "The `printf` syntax is used for formatting output\n",
    "in many C-inspired languages (Perl, Python, Awk, partly C++).\n",
    "\n",
    "\n",
    "\n",
    "## Hello World\n",
    "\n",
    "**Now in C++.**\n",
    "\n",
    "Here we present first the C++ version."
   ]
  },
  {
   "cell_type": "markdown",
   "metadata": {},
   "source": [
    "        // A comment line begins like this in C++ programs\n",
    "        // Standard ANSI-C++ include files\n",
    "        #include <iostream>   // input and output\n",
    "        #include <cmath>      // math functions\n",
    "        using namespace std;\n",
    "        int main (int argc, char* argv[])\n",
    "        {\n",
    "          // convert the text argv[1] to double using atof:\n",
    "          double r = atof(argv[1]);  /* convert the text argv[1] to double */\n",
    "          double s = sin(r);\n",
    "          cout << \"Hello, World! sin(\" << r << \") =\" << s << endl;\n",
    "          return 0;           /* success execution of the program */\n",
    "        }\n"
   ]
  },
  {
   "cell_type": "markdown",
   "metadata": {},
   "source": [
    "## C++ Hello World\n",
    "\n",
    "**Dissection I.**\n",
    "\n",
    "We have replaced the call to `printf` with the standard C++ function\n",
    "`cout`. The header file `<iostream.h>` is then needed.\n",
    "In addition, we don't need to\n",
    "declare variables like `r` and `s`  at the beginning of the program.\n",
    "I personally prefer\n",
    "however to declare all variables at the beginning of a function, as this\n",
    "gives *me* a feeling of greater readability.\n",
    "\n",
    "\n",
    "\n",
    "## Brief summary\n",
    "\n",
    "**C/C++ program.**\n",
    "\n",
    "  * A C/C++ program begins with include statements of header files (libraries,intrinsic functions etc)\n",
    "\n",
    "  * Functions which are used are normally defined at top (details next week)\n",
    "\n",
    "  * The main program is set up as an integer, it returns 0 (everything correct) or 1 (something went wrong)\n",
    "\n",
    "  * Standard `if`, `while` and `for` statements as in Java, Fortran, Python...\n",
    "\n",
    "  * Integers have a very limited range.\n",
    "\n",
    "\n",
    "\n",
    "## Brief summary\n",
    "\n",
    "**Arrays.**\n",
    "\n",
    "  * A C/C++ array begins by indexing at 0!\n",
    "\n",
    "  * Array allocations are done by size, not by the final index value.If you allocate an array with 10 elements, you should index them from $0,1,\\dots, 9$.\n",
    "\n",
    "  * Initialize always an array before a computation.\n",
    "\n",
    "\n",
    "\n",
    "## Serious problems and representation of numbers\n",
    "\n",
    "**Integer and Real Numbers.**\n",
    "\n",
    "\n",
    "  * Overflow\n",
    "\n",
    "  * Underflow\n",
    "\n",
    "  * Roundoff errors\n",
    "\n",
    "  * Loss of precision\n",
    "\n",
    "\n",
    "\n",
    "## Limits, you must declare variables\n",
    "\n",
    "\n",
    "**C++ and Fortran declarations.**\n",
    "\n",
    "\n",
    "<table border=\"1\">\n",
    "<thead>\n",
    "<tr><th align=\"center\">type in C/C++ and Fortran2008</th> <th align=\"center\">bits</th> <th align=\"center\">                    range                     </th> </tr>\n",
    "</thead>\n",
    "<tbody>\n",
    "<tr><td align=\"left\">   <code>int/INTEGER</code> (2)                </td> <td align=\"center\">   16      </td> <td align=\"left\">   -32768 to 32767                                   </td> </tr>\n",
    "<tr><td align=\"left\">   <code>unsigned int</code>                   </td> <td align=\"center\">   16      </td> <td align=\"left\">   0 to 65535                                        </td> </tr>\n",
    "<tr><td align=\"left\">   <code>signed int</code>                     </td> <td align=\"center\">   16      </td> <td align=\"left\">   -32768 to 32767                                   </td> </tr>\n",
    "<tr><td align=\"left\">   <code>short int</code>                      </td> <td align=\"center\">   16      </td> <td align=\"left\">   -32768 to 32767                                   </td> </tr>\n",
    "<tr><td align=\"left\">   <code>unsigned short int</code>             </td> <td align=\"center\">   16      </td> <td align=\"left\">   0 to 65535                                        </td> </tr>\n",
    "<tr><td align=\"left\">   <code>signed short int</code>               </td> <td align=\"center\">   16      </td> <td align=\"left\">   $-32768$ to 32767                                 </td> </tr>\n",
    "<tr><td align=\"left\">   <code>int/long int/INTEGER</code> (4)       </td> <td align=\"center\">   32      </td> <td align=\"left\">   -2147483648 to 2147483647                         </td> </tr>\n",
    "<tr><td align=\"left\">   <code>signed long int</code>                </td> <td align=\"center\">   32      </td> <td align=\"left\">   -2147483648 to 2147483647                         </td> </tr>\n",
    "<tr><td align=\"left\">   <code>float/REAL(4)</code>                  </td> <td align=\"center\">   32      </td> <td align=\"left\">   $3.4\\times 10^{-44}$ to $3.4\\times 10^{+38}$      </td> </tr>\n",
    "<tr><td align=\"left\">   <code>double/REAL(8)</code>                 </td> <td align=\"center\">   64      </td> <td align=\"left\">   $1.7\\times 10^{-322}$ to $1.7\\times 10^{+308}$    </td> </tr>\n",
    "<tr><td align=\"left\">   <code>long double</code>                    </td> <td align=\"center\">   64      </td> <td align=\"left\">   $1.7\\times 10^{-322}$ to $1.7\\times 10^{+308}$    </td> </tr>\n",
    "</tbody>\n",
    "</table>\n",
    "\n",
    "\n",
    "\n",
    "\n",
    "## From decimal to binary representation\n",
    "**How to do it.**"
   ]
  },
  {
   "cell_type": "markdown",
   "metadata": {},
   "source": [
    "$$\n",
    "a_n2^n+a_{n-1}2^{n-1}  +a_{n-2}2^{n-2}  +\\dots +a_{0}2^{0}.\n",
    "$$"
   ]
  },
  {
   "cell_type": "markdown",
   "metadata": {},
   "source": [
    "In binary notation we have thus $(417)_{10} =(110110001)_2$\n",
    "since we have"
   ]
  },
  {
   "cell_type": "markdown",
   "metadata": {},
   "source": [
    "$$\n",
    "\\begin{align*}\n",
    "(110100001)_2\n",
    "&=1\\times2^8+1\\times 2^{7}+0\\times 2^{6}+1\\times 2^{5}+0\\times 2^{4}+0\\times 2^{3}\\\\\n",
    "&+0\\times 2^{2}+0\\times 2^{2}+0\\times 2^{1}+1\\times 2^{0}.\n",
    "\\end{align*}\n",
    "$$"
   ]
  },
  {
   "cell_type": "markdown",
   "metadata": {},
   "source": [
    "## From decimal to binary representation, the actual operation\n",
    "To see this, we have performed the following divisions by 2\n",
    "\n",
    "<table border=\"1\">\n",
    "<tr></tr>\n",
    "<tbody>\n",
    "<tr><td align=\"center\">   417/2=208    </td> <td align=\"center\">   remainder 1    </td> <td align=\"center\">   coefficient of $2^{0}$ is 1    </td> </tr>\n",
    "<tr><td align=\"center\">   208/2=104    </td> <td align=\"center\">   remainder 0    </td> <td align=\"center\">   coefficient of $2^{1}$ is 0    </td> </tr>\n",
    "<tr><td align=\"center\">   104/2=52     </td> <td align=\"center\">   remainder 0    </td> <td align=\"center\">   coefficient of $2^{2}$ is 0    </td> </tr>\n",
    "<tr><td align=\"center\">   52/2=26      </td> <td align=\"center\">   remainder 0    </td> <td align=\"center\">   coefficient of $2^{3}$ is 0    </td> </tr>\n",
    "<tr><td align=\"center\">   26/2=13      </td> <td align=\"center\">   remainder 1    </td> <td align=\"center\">   coefficient of $2^{4}$ is 0    </td> </tr>\n",
    "<tr><td align=\"center\">   13/2= 6      </td> <td align=\"center\">   remainder 1    </td> <td align=\"center\">   coefficient of $2^{5}$ is 1    </td> </tr>\n",
    "<tr><td align=\"center\">   6/2= 3       </td> <td align=\"center\">   remainder 0    </td> <td align=\"center\">   coefficient of $2^{6}$ is 0    </td> </tr>\n",
    "<tr><td align=\"center\">   3/2= 1       </td> <td align=\"center\">   remainder 1    </td> <td align=\"center\">   coefficient of $2^{7}$ is 1    </td> </tr>\n",
    "<tr><td align=\"center\">   1/2= 0       </td> <td align=\"center\">   remainder 1    </td> <td align=\"center\">   coefficient of $2^{8}$ is 1    </td> </tr>\n",
    "</tbody>\n",
    "</table>\n",
    "\n",
    "\n",
    "\n",
    "## [From decimal to binary representation](https://github.com/CompPhysics/ComputationalPhysicsMSU/blob/master/doc/Programs/LecturePrograms/programs/IntroProgramming/cpp/program2.cpp)\n",
    "\n",
    "**Integer numbers.**"
   ]
  },
  {
   "cell_type": "markdown",
   "metadata": {},
   "source": [
    "        #include <iostream>\n",
    "        #include <cmath>\n",
    "        #include <cstdio>\n",
    "        #include <cstdlib>\n",
    "        using namespace std;\n",
    "        int main (int argc, char* argv[])\n",
    "        {\n",
    "          int i; \n",
    "          int terms[32]; // storage of a0, a1, etc, up to 32 bits\n",
    "          int save;\n",
    "          int number = atoi(argv[1]); \n",
    "          save = number;\n",
    "          // initialise the term a0, a1 etc\n",
    "          for (i=0; i < 32 ; i++){ terms[i] = 0;}\n",
    "          for (i=0; i < 32 ; i++){ \n",
    "            terms[i] = number%2;\n",
    "            number /= 2;\n",
    "          }\n",
    "          // write out results\n",
    "          cout << \"Number of bytes used= \" << sizeof(number) << endl;\n",
    "          for (i=0; i < 32 ; i++){ \n",
    "            cout << \" Term nr: \" << i << \"Value= \" << terms[i];\n",
    "            cout << endl;\n",
    "          }\n",
    "          return 0;  \n",
    "        }\n"
   ]
  },
  {
   "cell_type": "markdown",
   "metadata": {},
   "source": [
    "## [From decimal to binary representation](https://github.com/CompPhysics/ComputationalPhysicsMSU/blob/master/doc/Programs/LecturePrograms/programs/IntroProgramming/Fortran/program2.f90)\n",
    "\n",
    "**Integer numbers, Fortran.**"
   ]
  },
  {
   "cell_type": "markdown",
   "metadata": {},
   "source": [
    "        PROGRAM binary_integer\n",
    "        IMPLICIT NONE\n",
    "          INTEGER  i, number, terms(0:31) ! storage of a0, a1, etc, up to 32 bits\n",
    "        \n",
    "          WRITE(*,*) 'Give a number to transform to binary notation'\n",
    "          READ(*,*) number\n",
    "        ! Initialise the terms a0, a1 etc\n",
    "          terms = 0\n",
    "        ! Fortran takes only integer loop variables\n",
    "          DO i=0, 31\n",
    "             terms(i) = MOD(number,2)\n",
    "             number = number/2\n",
    "          ENDDO\n",
    "        ! write out results\n",
    "          WRITE(*,*) 'Binary representation '\n",
    "          DO i=0, 31\n",
    "            WRITE(*,*)' Term nr and value', i, terms(i)\n",
    "          ENDDO\n",
    "        \n",
    "        END PROGRAM binary_integer\n"
   ]
  },
  {
   "cell_type": "markdown",
   "metadata": {},
   "source": [
    "## [Representing Integer Numbers](https://github.com/CompPhysics/ComputationalPhysicsMSU/blob/master/doc/Programs/LecturePrograms/programs/IntroProgramming/cpp/program3.cpp)\n",
    "\n",
    "**Possible Overflow for Integers.**"
   ]
  },
  {
   "cell_type": "markdown",
   "metadata": {},
   "source": [
    "        // A comment line begins like this in C++ programs\n",
    "        // Program to calculate 2**n\n",
    "        // Standard ANSI-C++ include files */\n",
    "        #include <iostream>\n",
    "        #include <cmath>\n",
    "        using namespace std\n",
    "        int main()\n",
    "        {\n",
    "           int  int1, int2, int3;\n",
    "        // print to screen\n",
    "           cout << \"Read in the exponential N for 2^N =\" << endl;\n",
    "        // read from screen\n",
    "           cin >> int2;\n",
    "           int1 = (int) pow(2., (double) int2);\n",
    "           cout << \" 2^N * 2^N = \" << int1*int1 << endl;\n",
    "           int3 = int1 - 1;\n",
    "           cout << \" 2^N*(2^N - 1) = \" << int1 * int3  << endl;\n",
    "           cout << \" 2^N- 1 = \" << int3  << endl;\n",
    "           return 0;\n",
    "        \n",
    "        // End: program main()\n"
   ]
  },
  {
   "cell_type": "markdown",
   "metadata": {},
   "source": [
    "## Loss of Precision\n",
    "\n",
    "**Machine Numbers.**\n",
    "\n",
    "In the decimal system we would write a number like $9.90625$\n",
    "in what is called the normalized scientific notation."
   ]
  },
  {
   "cell_type": "markdown",
   "metadata": {},
   "source": [
    "$$\n",
    "9.90625=0.990625\\times 10^{1},\n",
    "$$"
   ]
  },
  {
   "cell_type": "markdown",
   "metadata": {},
   "source": [
    "and a real non-zero number could be generalized as"
   ]
  },
  {
   "cell_type": "markdown",
   "metadata": {},
   "source": [
    "<!-- Equation labels as ordinary links -->\n",
    "<div id=\"_auto1\"></div>\n",
    "\n",
    "$$\n",
    "\\begin{equation}\n",
    "    x=\\pm r\\times 10^{{\\mbox{n}}},\n",
    "\\label{_auto1} \\tag{1}\n",
    "\\end{equation}\n",
    "$$"
   ]
  },
  {
   "cell_type": "markdown",
   "metadata": {},
   "source": [
    "with $r$ a number in the range $1/10 \\le r < 1$.\n",
    "In a similar way we can use represent a binary number in\n",
    "scientific notation as"
   ]
  },
  {
   "cell_type": "markdown",
   "metadata": {},
   "source": [
    "<!-- Equation labels as ordinary links -->\n",
    "<div id=\"_auto2\"></div>\n",
    "\n",
    "$$\n",
    "\\begin{equation}\n",
    "    x=\\pm q\\times 2^{{\\mbox{m}}},\n",
    "\\label{_auto2} \\tag{2}\n",
    "\\end{equation}\n",
    "$$"
   ]
  },
  {
   "cell_type": "markdown",
   "metadata": {},
   "source": [
    "with $q$ a number in the range $1/2 \\le q < 1$.\n",
    "This means that the mantissa of a binary number would be represented by\n",
    "the general formula"
   ]
  },
  {
   "cell_type": "markdown",
   "metadata": {},
   "source": [
    "<!-- Equation labels as ordinary links -->\n",
    "<div id=\"_auto3\"></div>\n",
    "\n",
    "$$\n",
    "\\begin{equation}\n",
    "(0.a_{-1}a_{-2}\\dots a_{-n})_2=a_{-1}\\times 2^{-1}\n",
    "+a_{-2}\\times 2^{-2}+\\dots+a_{-n}\\times 2^{-n}.\n",
    "\\label{_auto3} \\tag{3}\n",
    "\\end{equation}\n",
    "$$"
   ]
  },
  {
   "cell_type": "markdown",
   "metadata": {},
   "source": [
    "## Loss of Precision\n",
    "\n",
    "**Machine Numbers.**\n",
    "\n",
    "In a typical computer, floating-point numbers are represented\n",
    "in the way described above, but with certain restrictions\n",
    "on $q$ and $m$ imposed by the available word length.\n",
    "In the machine, our\n",
    "number $x$ is represented as"
   ]
  },
  {
   "cell_type": "markdown",
   "metadata": {},
   "source": [
    "<!-- Equation labels as ordinary links -->\n",
    "<div id=\"_auto4\"></div>\n",
    "\n",
    "$$\n",
    "\\begin{equation}\n",
    "    x=(-1)^s\\times {\\mbox{mantissa}}\\times 2^{{\\mbox{exponent}}},\n",
    "\\label{_auto4} \\tag{4}\n",
    "\\end{equation}\n",
    "$$"
   ]
  },
  {
   "cell_type": "markdown",
   "metadata": {},
   "source": [
    "where $s$ is the sign bit, and the exponent gives the available range.\n",
    "With a single-precision word, 32 bits, 8 bits would typically be reserved\n",
    "for the exponent,  1 bit for the sign and 23 for the mantissa.\n",
    "\n",
    "\n",
    "\n",
    "## Loss of Precision\n",
    "\n",
    "**Machine Numbers.**\n",
    "\n",
    "A modification of the scientific notation for binary numbers is to\n",
    "require that the leading binary digit 1 appears to the left of the binary point.\n",
    "In this case the representation of the mantissa $q$ would be\n",
    "$(1.f)_2$ and $ 1 \\le q < 2$. This form is rather useful when storing\n",
    "binary numbers in a computer word, since we can always assume that the leading\n",
    "bit 1 is there. One bit of space can then be saved meaning that a 23 bits\n",
    "mantissa has actually 24 bits. This means explicitely that a binary number with 23 bits\n",
    "for the mantissa reads"
   ]
  },
  {
   "cell_type": "markdown",
   "metadata": {},
   "source": [
    "<!-- Equation labels as ordinary links -->\n",
    "<div id=\"_auto5\"></div>\n",
    "\n",
    "$$\n",
    "\\begin{equation}\n",
    "(1.a_{-1}a_{-2}\\dots a_{-23})_2=1\\times 2^0+a_{-1}\\times 2^{-1}+\n",
    "+a_{-2}\\times 2^{-2}+\\dots+a_{-23}\\times 2^{-23}.\n",
    "\\label{_auto5} \\tag{5}\n",
    "\\end{equation}\n",
    "$$"
   ]
  },
  {
   "cell_type": "markdown",
   "metadata": {},
   "source": [
    "## Loss of Precision, example\n",
    "As an example, consider the 32 bits binary number"
   ]
  },
  {
   "cell_type": "markdown",
   "metadata": {},
   "source": [
    "$$\n",
    "(10111110111101000000000000000000)_2,\n",
    "$$"
   ]
  },
  {
   "cell_type": "markdown",
   "metadata": {},
   "source": [
    "where the first bit is reserved for the sign, 1 in this case yielding a\n",
    "negative sign. The exponent $m$ is given by the next 8 binary numbers\n",
    "$01111101$ resulting in 125 in the decimal system.\n",
    "\n",
    "\n",
    "\n",
    "## Loss of Precision\n",
    "\n",
    "**Machine Numbers.**\n",
    "\n",
    "However, since the\n",
    "exponent has eight bits, this means it has  $2^8-1=255$ possible numbers in the interval\n",
    "$-128 \\le m \\le 127$, our final\n",
    "exponent is $125-127=-2$ resulting in $2^{-2}$.\n",
    "Inserting the sign and the mantissa yields the final number in the decimal representation as"
   ]
  },
  {
   "cell_type": "markdown",
   "metadata": {},
   "source": [
    "$$\n",
    "-2^{-2}\\left(1\\times 2^0+1\\times 2^{-1}+\n",
    "1\\times 2^{-2}+1\\times 2^{-3}+0\\times 2^{-4}+1\\times 2^{-5}\\right)=\n",
    "$$"
   ]
  },
  {
   "cell_type": "markdown",
   "metadata": {},
   "source": [
    "$$\n",
    "(-0.4765625)_{10}.\n",
    "$$"
   ]
  },
  {
   "cell_type": "markdown",
   "metadata": {},
   "source": [
    "In this case we have an exact machine representation with 32 bits (actually, we need less than\n",
    "23 bits for the mantissa).\n",
    "\n",
    "\n",
    "\n",
    "## Loss of Precision, consequences\n",
    "If our number $x$ can be exactly represented in the machine, we call\n",
    "$x$ a machine number. Unfortunately, most numbers cannot  and are thereby\n",
    "only approximated in the machine. When such a number occurs as the result\n",
    "of reading some input data or of a computation, an inevitable error\n",
    "will arise in representing it as accurately as possible by\n",
    "a machine number.\n",
    "\n",
    "\n",
    "\n",
    "## Loss of Precision\n",
    "\n",
    "**Machine Numbers.**\n",
    "\n",
    "A floating number x, labelled $fl(x)$ will therefore always be represented as"
   ]
  },
  {
   "cell_type": "markdown",
   "metadata": {},
   "source": [
    "<!-- Equation labels as ordinary links -->\n",
    "<div id=\"_auto6\"></div>\n",
    "\n",
    "$$\n",
    "\\begin{equation}\n",
    "  fl(x) = x(1\\pm \\epsilon_x),\n",
    "\\label{_auto6} \\tag{6}\n",
    "\\end{equation}\n",
    "$$"
   ]
  },
  {
   "cell_type": "markdown",
   "metadata": {},
   "source": [
    "with $x$ the exact number and the error $|\\epsilon_x| \\le |\\epsilon_M|$, where\n",
    "$\\epsilon_M$ is the precision assigned. A number like $1/10$ has no exact binary representation\n",
    "with single or double precision. Since the mantissa"
   ]
  },
  {
   "cell_type": "markdown",
   "metadata": {},
   "source": [
    "$$\n",
    "\\left(1.a_{-1}a_{-2}\\dots a_{-n}\\right)_2\n",
    "$$"
   ]
  },
  {
   "cell_type": "markdown",
   "metadata": {},
   "source": [
    "is always truncated at some stage $n$ due to its limited number of bits, there is only a\n",
    "limited number of real binary numbers. The spacing between every real binary number is given by the\n",
    "chosen machine precision.\n",
    "For a 32 bit words this number is approximately\n",
    "$ \\epsilon_M \\sim 10^{-7}$ and for double precision (64 bits) we have\n",
    "$ \\epsilon_M \\sim 10^{-16}$, or in terms of a binary base\n",
    "as $2^{-23}$ and $2^{-52}$ for single and double precision, respectively.\n",
    "\n",
    "\n",
    "\n",
    "## Loss of Precision\n",
    "\n",
    "**Machine Numbers.**\n",
    "\n",
    "In the machine a number is represented as"
   ]
  },
  {
   "cell_type": "markdown",
   "metadata": {},
   "source": [
    "<!-- Equation labels as ordinary links -->\n",
    "<div id=\"_auto7\"></div>\n",
    "\n",
    "$$\n",
    "\\begin{equation}\n",
    "  fl(x)= x(1+\\epsilon)\n",
    "\\label{_auto7} \\tag{7}\n",
    "\\end{equation}\n",
    "$$"
   ]
  },
  {
   "cell_type": "markdown",
   "metadata": {},
   "source": [
    "where $|\\epsilon| \\leq \\epsilon_M$ and $\\epsilon$ is given by the\n",
    "specified precision, $10^{-7}$ for single and $10^{-16}$ for double\n",
    "precision, respectively.\n",
    "$\\epsilon_M$ is the given precision.\n",
    "In case of a subtraction $a=b-c$, we have"
   ]
  },
  {
   "cell_type": "markdown",
   "metadata": {},
   "source": [
    "<!-- Equation labels as ordinary links -->\n",
    "<div id=\"_auto8\"></div>\n",
    "\n",
    "$$\n",
    "\\begin{equation}\n",
    "   fl(a)=fl(b)-fl(c) = a(1+\\epsilon_a),\n",
    "\\label{_auto8} \\tag{8}\n",
    "\\end{equation}\n",
    "$$"
   ]
  },
  {
   "cell_type": "markdown",
   "metadata": {},
   "source": [
    "or"
   ]
  },
  {
   "cell_type": "markdown",
   "metadata": {},
   "source": [
    "<!-- Equation labels as ordinary links -->\n",
    "<div id=\"_auto9\"></div>\n",
    "\n",
    "$$\n",
    "\\begin{equation}\n",
    "   fl(a)=b(1+\\epsilon_b)-c(1+\\epsilon_c),\n",
    "\\label{_auto9} \\tag{9}\n",
    "\\end{equation}\n",
    "$$"
   ]
  },
  {
   "cell_type": "markdown",
   "metadata": {},
   "source": [
    "## Loss of Precision\n",
    "The above means that"
   ]
  },
  {
   "cell_type": "markdown",
   "metadata": {},
   "source": [
    "<!-- Equation labels as ordinary links -->\n",
    "<div id=\"_auto10\"></div>\n",
    "\n",
    "$$\n",
    "\\begin{equation}\n",
    "   fl(a)/a=1+\\epsilon_b\\frac{b}{a}- \\epsilon_c\\frac{c}{a},\n",
    "\\label{_auto10} \\tag{10}\n",
    "\\end{equation}\n",
    "$$"
   ]
  },
  {
   "cell_type": "markdown",
   "metadata": {},
   "source": [
    "and if $b\\approx c$ we see that there is a potential for an increased\n",
    "error in $fl(a)$.\n",
    "\n",
    "\n",
    "\n",
    "## Loss of Precision\n",
    "\n",
    "**Machine Numbers.**\n",
    "\n",
    "Define\n",
    "the absolute error as"
   ]
  },
  {
   "cell_type": "markdown",
   "metadata": {},
   "source": [
    "<!-- Equation labels as ordinary links -->\n",
    "<div id=\"_auto11\"></div>\n",
    "\n",
    "$$\n",
    "\\begin{equation}\n",
    "   |fl(a)-a|,\n",
    "\\label{_auto11} \\tag{11}\n",
    "\\end{equation}\n",
    "$$"
   ]
  },
  {
   "cell_type": "markdown",
   "metadata": {},
   "source": [
    "whereas the relative error is"
   ]
  },
  {
   "cell_type": "markdown",
   "metadata": {},
   "source": [
    "<!-- Equation labels as ordinary links -->\n",
    "<div id=\"_auto12\"></div>\n",
    "\n",
    "$$\n",
    "\\begin{equation}\n",
    "   \\frac{ |fl(a)-a|}{a} \\le \\epsilon_a.\n",
    "\\label{_auto12} \\tag{12}\n",
    "\\end{equation}\n",
    "$$"
   ]
  },
  {
   "cell_type": "markdown",
   "metadata": {},
   "source": [
    "## Loss of Precision\n",
    "The above subraction is thus"
   ]
  },
  {
   "cell_type": "markdown",
   "metadata": {},
   "source": [
    "<!-- Equation labels as ordinary links -->\n",
    "<div id=\"_auto13\"></div>\n",
    "\n",
    "$$\n",
    "\\begin{equation}\n",
    "   \\frac{ |fl(a)-a|}{a}=\\frac{ |fl(b)-fl(c)-(b-c)|}{a},\n",
    "\\label{_auto13} \\tag{13}\n",
    "\\end{equation}\n",
    "$$"
   ]
  },
  {
   "cell_type": "markdown",
   "metadata": {},
   "source": [
    "yielding"
   ]
  },
  {
   "cell_type": "markdown",
   "metadata": {},
   "source": [
    "<!-- Equation labels as ordinary links -->\n",
    "<div id=\"_auto14\"></div>\n",
    "\n",
    "$$\n",
    "\\begin{equation}\n",
    "   \\frac{ |fl(a)-a|}{a}=\\frac{ |b\\epsilon_b- c\\epsilon_c|}{a}.\n",
    "\\label{_auto14} \\tag{14}\n",
    "\\end{equation}\n",
    "$$"
   ]
  },
  {
   "cell_type": "markdown",
   "metadata": {},
   "source": [
    "The relative error\n",
    "is the quantity of interest in scientific work. Information about the\n",
    "absolute error is normally of little use in the absence of the magnitude\n",
    "of the quantity being measured.\n",
    "\n",
    "\n",
    "\n",
    "## Loss of numerical precision\n",
    "\n",
    "Suppose we wish to evaluate the function"
   ]
  },
  {
   "cell_type": "markdown",
   "metadata": {},
   "source": [
    "$$\n",
    "f(x)=\\frac{1-\\cos(x)}{\\sin(x)},\n",
    "$$"
   ]
  },
  {
   "cell_type": "markdown",
   "metadata": {},
   "source": [
    "for small values of $x$. Five leading digits. If we multiply the denominator and numerator\n",
    "with $1+\\cos(x)$ we obtain the equivalent expression"
   ]
  },
  {
   "cell_type": "markdown",
   "metadata": {},
   "source": [
    "$$\n",
    "f(x)=\\frac{\\sin(x)}{1+\\cos(x)}.\n",
    "$$"
   ]
  },
  {
   "cell_type": "markdown",
   "metadata": {},
   "source": [
    "If we now choose $x=0.007$ (in radians) our choice of precision results in"
   ]
  },
  {
   "cell_type": "markdown",
   "metadata": {},
   "source": [
    "$$\n",
    "\\sin(0.007)\\approx 0.69999\\times 10^{-2},\n",
    "$$"
   ]
  },
  {
   "cell_type": "markdown",
   "metadata": {},
   "source": [
    "and"
   ]
  },
  {
   "cell_type": "markdown",
   "metadata": {},
   "source": [
    "$$\n",
    "\\cos(0.007)\\approx 0.99998.\n",
    "$$"
   ]
  },
  {
   "cell_type": "markdown",
   "metadata": {},
   "source": [
    "## Loss of numerical precision\n",
    "\n",
    "The first expression for $f(x)$ results in"
   ]
  },
  {
   "cell_type": "markdown",
   "metadata": {},
   "source": [
    "$$\n",
    "f(x)=\\frac{1-0.99998}{0.69999\\times 10^{-2}}=\\frac{0.2\\times 10^{-4}}{0.69999\\times 10^{-2}}=0.28572\\times 10^{-2},\n",
    "$$"
   ]
  },
  {
   "cell_type": "markdown",
   "metadata": {},
   "source": [
    "while the second expression results in"
   ]
  },
  {
   "cell_type": "markdown",
   "metadata": {},
   "source": [
    "$$\n",
    "f(x)=\\frac{0.69999\\times 10^{-2}}{1+0.99998}=\n",
    "\\frac{0.69999\\times 10^{-2}}{1.99998}=0.35000\\times 10^{-2},\n",
    "$$"
   ]
  },
  {
   "cell_type": "markdown",
   "metadata": {},
   "source": [
    "which is also the exact result. In the first expression, due to our\n",
    "choice of precision, we have\n",
    "only one relevant digit in the numerator, after the\n",
    "subtraction. This leads to a loss of precision and a wrong result due to\n",
    "a cancellation of two nearly equal numbers.\n",
    "If we had chosen a precision of six leading digits, both expressions\n",
    "yield the same answer.\n",
    "\n",
    "## Loss of numerical precision\n",
    "\n",
    "If we were to evaluate $x\\sim \\pi$, then the second expression for $f(x)$\n",
    "can lead to potential losses of precision due to cancellations of nearly\n",
    "equal numbers.\n",
    "\n",
    "This simple example demonstrates  the loss of numerical precision due\n",
    "to roundoff errors, where the number of leading digits is lost\n",
    "in a subtraction of two near equal numbers.\n",
    "The lesson to be drawn is that we cannot blindly compute a function.\n",
    "We will always need to carefully analyze our algorithm in the search for\n",
    "potential pitfalls. There is no magic recipe however, the only guideline\n",
    "is an understanding of the fact that a machine cannot represent\n",
    "correctly *all* numbers.\n",
    "\n",
    "## Loss of precision can cause serious problems\n",
    "\n",
    "**Real Numbers.**\n",
    "\n",
    "\n",
    "  * **Overflow**: When the positive exponent exceeds the max value, e.g., 308 for `DOUBLE PRECISION` (64 bits). Under such circumstances the program will terminate and some compilers may give you the warning `OVERFLOW`.\n",
    "\n",
    "  * **Underflow**: When the negative exponent becomes smaller than the min value, e.g., -308 for `DOUBLE PRECISION`. Normally, the variable is then set to zero and the program continues. Other compilers (or compiler options) may warn you with the `UNDERFLOW` message and the program terminates.\n",
    "\n",
    "\n",
    "\n",
    "## Loss of precision, real numbers\n",
    "\n",
    "\n",
    "\n",
    "### Roundoff errors\n",
    "\n",
    "A floating point number like"
   ]
  },
  {
   "cell_type": "markdown",
   "metadata": {},
   "source": [
    "<!-- Equation labels as ordinary links -->\n",
    "<div id=\"_auto15\"></div>\n",
    "\n",
    "$$\n",
    "\\begin{equation}\n",
    "   x= 1.234567891112131468 = 0.1234567891112131468\\times 10^{1}\n",
    "\\label{_auto15} \\tag{15}\n",
    "\\end{equation}\n",
    "$$"
   ]
  },
  {
   "cell_type": "markdown",
   "metadata": {},
   "source": [
    "may be stored in the following way. The exponent is  small\n",
    "and is stored in full precision. However,\n",
    "the mantissa is not stored fully. In double precision (64 bits), digits\n",
    "beyond the\n",
    "15th are lost since the mantissa is normally stored in two words,\n",
    "one which is the most significant one representing\n",
    "123456 and the least significant one containing 789111213. The digits\n",
    "beyond 3 are lost. Clearly, if we are summing alternating series\n",
    "with large numbers, subtractions between two large numbers may lead\n",
    "to roundoff errors, since not all relevant digits are kept.\n",
    "This leads eventually to the next problem, namely\n",
    "\n",
    "## More on loss of precision\n",
    "\n",
    "**Real Numbers.**\n",
    "\n",
    "\n",
    "  * **Loss of precision**: When one has to e.g., multiply two large numbers where one suspects that the outcome may be beyond the bonds imposed by the variable declaration, one could represent the numbers by logarithms, or rewrite the equations to be solved in terms of dimensionless variables. When dealing with problems in e.g., particle physics or nuclear physics where distance is measured in fm ($10^{-15}$ m), it can be quite convenient to redefine the variables for distance in terms of a dimensionless variable of the order of unity. To give an example, suppose you work with single precision and wish to perform the addition $1+10^{-8}$. In this case, the information containing in $10^{-8}$ is simply lost in the addition. Typically, when performing the addition, the computer equates first the exponents of the two numbers to be added. For $10^{-8}$ this has however catastrophic consequences since in order to obtain an exponent equal to $10^0$, bits in the mantissa are shifted to the right. At the end, all bits in the mantissa are zeros.\n",
    "\n",
    "\n",
    "\n",
    "## A problematic case\n",
    "\n",
    "**Three ways of computing $e^{-x}$.**\n",
    "\n",
    "Brute force:"
   ]
  },
  {
   "cell_type": "markdown",
   "metadata": {},
   "source": [
    "$$\n",
    "\\exp{(-x)}=\\sum_{n=0}^{\\infty}(-1)^n\\frac{x^n}{n!}\n",
    "$$"
   ]
  },
  {
   "cell_type": "markdown",
   "metadata": {},
   "source": [
    "Recursion relation for"
   ]
  },
  {
   "cell_type": "markdown",
   "metadata": {},
   "source": [
    "$$\n",
    "\\exp{(-x)}=\\sum_{n=0}^{\\infty}s_n=\\sum_{n=0}^{\\infty}(-1)^n\\frac{x^n}{n!}\n",
    "$$"
   ]
  },
  {
   "cell_type": "markdown",
   "metadata": {},
   "source": [
    "$$\n",
    "s_n=-s_{n-1}\\frac{x}{n},\n",
    "$$"
   ]
  },
  {
   "cell_type": "markdown",
   "metadata": {},
   "source": [
    "$$\n",
    "\\exp{(x)}=\\sum_{n=0}^{\\infty}s_n\n",
    "$$"
   ]
  },
  {
   "cell_type": "markdown",
   "metadata": {},
   "source": [
    "$$\n",
    "\\exp{(-x)}=\\frac{1}{\\exp{(x)}}\n",
    "$$"
   ]
  },
  {
   "cell_type": "markdown",
   "metadata": {},
   "source": [
    "## [Program](https://github.com/CompPhysics/ComputationalPhysicsMSU/blob/master/doc/Programs/LecturePrograms/programs/IntroProgramming/cpp/program4.cpp) to compute $\\exp{(-x)}$\n",
    "\n",
    "**Brute Force.**"
   ]
  },
  {
   "cell_type": "markdown",
   "metadata": {},
   "source": [
    "        // Program to calculate function exp(-x)\n",
    "        // using straightforward summation with differing  precision\n",
    "        using namespace std\n",
    "        #include <iostream>\n",
    "        #include <cmath>\n",
    "        // type float:  32 bits precision\n",
    "        // type double: 64 bits precision\n",
    "        #define   TYPE          double\n",
    "        #define   PHASE(a)      (1 - 2 * (abs(a) % 2))\n",
    "        #define   TRUNCATION    1.0E-10\n",
    "        // function declaration\n",
    "        TYPE factorial(int);\n"
   ]
  },
  {
   "cell_type": "markdown",
   "metadata": {},
   "source": [
    "## Program to compute $\\exp{(-x)}$\n",
    "\n",
    "**Still Brute Force.**"
   ]
  },
  {
   "cell_type": "markdown",
   "metadata": {},
   "source": [
    "        int main()\n",
    "        {\n",
    "           int   n;\n",
    "           TYPE  x, term, sum;\n",
    "           for(x = 0.0; x < 100.0; x += 10.0)  {\n",
    "             sum  = 0.0;                //initialization\n",
    "             n    = 0;\n",
    "             term = 1;\n",
    "             while(fabs(term) > TRUNCATION)  {\n",
    "                 term =  PHASE(n) * (TYPE) pow((TYPE) x,(TYPE) n)\n",
    "                        / factorial(n);\n",
    "                 sum += term;\n",
    "                 n++;\n",
    "             }  // end of while() loop\n"
   ]
  },
  {
   "cell_type": "markdown",
   "metadata": {},
   "source": [
    "## Program to compute $\\exp{(-x)}$\n",
    "\n",
    "**Oh, it never ends!**"
   ]
  },
  {
   "cell_type": "markdown",
   "metadata": {},
   "source": [
    "              printf(\"\\nx = %4.1f   exp = %12.5E  series = %12.5E\n",
    "                      number of terms = %d\",\n",
    "                      x, exp(-x), sum, n);\n",
    "           } // end of for() loop\n",
    "        \n",
    "           printf(\"\\n\");           // a final line shift on output\n",
    "           return 0;\n",
    "        } // End: function main()\n",
    "        //     The function factorial()\n",
    "        //     calculates and returns n!\n",
    "        TYPE factorial(int n)\n",
    "        {\n",
    "           int  loop;\n",
    "           TYPE fac;\n",
    "           for(loop = 1, fac = 1.0; loop <= n; loop++)  {\n",
    "              fac *= loop;\n",
    "        \n",
    "           return fac;\n",
    "        } // End: function factorial()\n"
   ]
  },
  {
   "cell_type": "markdown",
   "metadata": {},
   "source": [
    "## Results $\\exp{(-x)}$\n",
    "\n",
    "**What is going on?**\n",
    "\n",
    "\n",
    "<table border=\"1\">\n",
    "<thead>\n",
    "<tr><th align=\"center\"> $x$ </th> <th align=\"center\">$\\exp{(-x)}$</th> <th align=\"center\">    Series   </th> <th align=\"center\">Number of terms in series</th> </tr>\n",
    "</thead>\n",
    "<tbody>\n",
    "<tr><td align=\"center\">   0.0      </td> <td align=\"center\">   0.100000E+01    </td> <td align=\"center\">   0.100000E+01     </td> <td align=\"center\">   1                            </td> </tr>\n",
    "<tr><td align=\"center\">   10.0     </td> <td align=\"center\">   0.453999E-04    </td> <td align=\"center\">   0.453999E-04     </td> <td align=\"center\">   44                           </td> </tr>\n",
    "<tr><td align=\"center\">   20.0     </td> <td align=\"center\">   0.206115E-08    </td> <td align=\"center\">   0.487460E-08     </td> <td align=\"center\">   72                           </td> </tr>\n",
    "<tr><td align=\"center\">   30.0     </td> <td align=\"center\">   0.935762E-13    </td> <td align=\"center\">   -0.342134E-04    </td> <td align=\"center\">   100                          </td> </tr>\n",
    "<tr><td align=\"center\">   40.0     </td> <td align=\"center\">   0.424835E-17    </td> <td align=\"center\">   -0.221033E+01    </td> <td align=\"center\">   127                          </td> </tr>\n",
    "<tr><td align=\"center\">   50.0     </td> <td align=\"center\">   0.192875E-21    </td> <td align=\"center\">   -0.833851E+05    </td> <td align=\"center\">   155                          </td> </tr>\n",
    "<tr><td align=\"center\">   60.0     </td> <td align=\"center\">   0.875651E-26    </td> <td align=\"center\">   -0.850381E+09    </td> <td align=\"center\">   171                          </td> </tr>\n",
    "<tr><td align=\"center\">   70.0     </td> <td align=\"center\">   0.397545E-30    </td> <td align=\"center\">   NaN              </td> <td align=\"center\">   171                          </td> </tr>\n",
    "<tr><td align=\"center\">   80.0     </td> <td align=\"center\">   0.180485E-34    </td> <td align=\"center\">   NaN              </td> <td align=\"center\">   171                          </td> </tr>\n",
    "<tr><td align=\"center\">   90.0     </td> <td align=\"center\">   0.819401E-39    </td> <td align=\"center\">   NaN              </td> <td align=\"center\">   171                          </td> </tr>\n",
    "<tr><td align=\"center\">   100.0    </td> <td align=\"center\">   0.372008E-43    </td> <td align=\"center\">   NaN              </td> <td align=\"center\">   171                          </td> </tr>\n",
    "</tbody>\n",
    "</table>\n",
    "\n",
    "\n",
    "\n",
    "\n",
    "## [Program](https://github.com/CompPhysics/ComputationalPhysicsMSU/blob/master/doc/Programs/LecturePrograms/programs/IntroProgramming/cpp/program5.cpp) to compute $\\exp{(-x)}$"
   ]
  },
  {
   "cell_type": "markdown",
   "metadata": {},
   "source": [
    "        // program to compute exp(-x) without exponentials\n",
    "        using namespace std\n",
    "        #include <iostream>\n",
    "        #include <cmath>\n",
    "        #define  TRUNCATION     1.0E-10\n",
    "        \n",
    "        int main()\n",
    "        {\n",
    "           int       loop, n;\n",
    "           double    x, term, sum;\n",
    "           for(loop = 0; loop <= 100; loop += 10)\n",
    "           {\n",
    "             x    = (double) loop;          // initialization\n",
    "             sum  = 1.0;\n",
    "             term = 1;\n",
    "             n    = 1;\n"
   ]
  },
  {
   "cell_type": "markdown",
   "metadata": {},
   "source": [
    "## Program to compute $\\exp{(-x)}$\n",
    "\n",
    "**Last statements.**"
   ]
  },
  {
   "cell_type": "markdown",
   "metadata": {},
   "source": [
    "             while(fabs(term) > TRUNCATION)\n",
    "               {\n",
    "        \t term *= -x/((double) n);\n",
    "        \t sum  += term;\n",
    "        \t n++;\n",
    "               } // end while loop\n",
    "             cout << \"x = \" << x   << \" exp = \" << exp(-x) <<\"series = \"\n",
    "                  << sum  << \" number of terms =\" << n << endl;\n",
    "           } // end of for() loop\n",
    "        \n",
    "           cout << endl;           // a final line shift on output\n",
    "        \n",
    "        }  /*    End: function main() */\n"
   ]
  },
  {
   "cell_type": "markdown",
   "metadata": {},
   "source": [
    "## Results $\\exp{(-x)}$\n",
    "\n",
    "**More Problems.**\n",
    "\n",
    "\n",
    "<table border=\"1\">\n",
    "<thead>\n",
    "<tr><th align=\"center\">   $x$    </th> <th align=\"center\"> $\\exp{(-x)}$ </th> <th align=\"center\">     Series    </th> <th align=\"center\">Number of terms in series</th> </tr>\n",
    "</thead>\n",
    "<tbody>\n",
    "<tr><td align=\"center\">   0.000000      </td> <td align=\"center\">   0.10000000E+01    </td> <td align=\"center\">   0.10000000E+01     </td> <td align=\"center\">   1                            </td> </tr>\n",
    "<tr><td align=\"center\">   10.000000     </td> <td align=\"center\">   0.45399900E-04    </td> <td align=\"center\">   0.45399900E-04     </td> <td align=\"center\">   44                           </td> </tr>\n",
    "<tr><td align=\"center\">   20.000000     </td> <td align=\"center\">   0.20611536E-08    </td> <td align=\"center\">   0.56385075E-08     </td> <td align=\"center\">   72                           </td> </tr>\n",
    "<tr><td align=\"center\">   30.000000     </td> <td align=\"center\">   0.93576230E-13    </td> <td align=\"center\">   -0.30668111E-04    </td> <td align=\"center\">   100                          </td> </tr>\n",
    "<tr><td align=\"center\">   40.000000     </td> <td align=\"center\">   0.42483543E-17    </td> <td align=\"center\">   -0.31657319E+01    </td> <td align=\"center\">   127                          </td> </tr>\n",
    "<tr><td align=\"center\">   50.000000     </td> <td align=\"center\">   0.19287498E-21    </td> <td align=\"center\">   0.11072933E+05     </td> <td align=\"center\">   155                          </td> </tr>\n",
    "<tr><td align=\"center\">   60.000000     </td> <td align=\"center\">   0.87565108E-26    </td> <td align=\"center\">   -0.33516811E+09    </td> <td align=\"center\">   182                          </td> </tr>\n",
    "<tr><td align=\"center\">   70.000000     </td> <td align=\"center\">   0.39754497E-30    </td> <td align=\"center\">   -0.32979605E+14    </td> <td align=\"center\">   209                          </td> </tr>\n",
    "<tr><td align=\"center\">   80.000000     </td> <td align=\"center\">   0.18048514E-34    </td> <td align=\"center\">   0.91805682E+17     </td> <td align=\"center\">   237                          </td> </tr>\n",
    "<tr><td align=\"center\">   90.000000     </td> <td align=\"center\">   0.81940126E-39    </td> <td align=\"center\">   -0.50516254E+22    </td> <td align=\"center\">   264                          </td> </tr>\n",
    "<tr><td align=\"center\">   100.000000    </td> <td align=\"center\">   0.37200760E-43    </td> <td align=\"center\">   -0.29137556E+26    </td> <td align=\"center\">   291                          </td> </tr>\n",
    "</tbody>\n",
    "</table>\n",
    "\n",
    "\n",
    "\n",
    "## Most used formula for derivatives\n",
    "\n",
    "**3 point formulae.**\n",
    "\n",
    "First derivative  ($f_0 = f(x_0)$, $f_{-h}=f(x_0-h)$ and $f_{+h}=f(x_0+h)$"
   ]
  },
  {
   "cell_type": "markdown",
   "metadata": {},
   "source": [
    "$$\n",
    "\\frac{f_h-f_{-h}}{2h}=f'_0+\\sum_{j=1}^{\\infty}\\frac{f_0^{(2j+1)}}{(2j+1)!}h^{2j}.\n",
    "$$"
   ]
  },
  {
   "cell_type": "markdown",
   "metadata": {},
   "source": [
    "Second derivative"
   ]
  },
  {
   "cell_type": "markdown",
   "metadata": {},
   "source": [
    "$$\n",
    "\\frac{ f_h -2f_0 +f_{-h}}{h^2}=f_0''+2\\sum_{j=1}^{\\infty}\\frac{f_0^{(2j+2)}}{(2j+2)!}h^{2j}.\n",
    "$$"
   ]
  },
  {
   "cell_type": "markdown",
   "metadata": {},
   "source": [
    "## Error Analysis"
   ]
  },
  {
   "cell_type": "markdown",
   "metadata": {},
   "source": [
    "$$\n",
    "\\epsilon=log_{10}\\left(\\left|\\frac{f''_{\\mbox{computed}}-f''_{\\mbox{exact}}}\n",
    "                 {f''_{\\mbox{exact}}}\\right|\\right),\n",
    "$$"
   ]
  },
  {
   "cell_type": "markdown",
   "metadata": {},
   "source": [
    "$$\n",
    "\\epsilon_{\\mbox{tot}}=\\epsilon_{\\mbox{approx}}+\\epsilon_{\\mbox{ro}}.\n",
    "$$"
   ]
  },
  {
   "cell_type": "markdown",
   "metadata": {},
   "source": [
    "For the computed second derivative  we have"
   ]
  },
  {
   "cell_type": "markdown",
   "metadata": {},
   "source": [
    "$$\n",
    "f_0''=\\frac{ f_h -2f_0 +f_{-h}}{h^2}-2\\sum_{j=1}^{\\infty}\\frac{f_0^{(2j+2)}}{(2j+2)!}h^{2j},\n",
    "$$"
   ]
  },
  {
   "cell_type": "markdown",
   "metadata": {},
   "source": [
    "and the truncation or approximation error goes like"
   ]
  },
  {
   "cell_type": "markdown",
   "metadata": {},
   "source": [
    "$$\n",
    "\\epsilon_{\\mbox{approx}}\\approx \\frac{f_0^{(4)}}{12}h^{2}.\n",
    "$$"
   ]
  },
  {
   "cell_type": "markdown",
   "metadata": {},
   "source": [
    "## Error Analysis\n",
    "\n",
    "If we were not to worry about loss of precision, we could in principle\n",
    "make $h$ as small as possible.\n",
    "However, due to the computed expression in the above program example"
   ]
  },
  {
   "cell_type": "markdown",
   "metadata": {},
   "source": [
    "$$\n",
    "f_0''=\\frac{ f_h -2f_0 +f_{-h}}{h^2}=\\frac{ (f_h -f_0) +(f_{-h}-f_0)}{h^2},\n",
    "$$"
   ]
  },
  {
   "cell_type": "markdown",
   "metadata": {},
   "source": [
    "we reach fairly quickly a limit for where loss of precision due to the subtraction\n",
    "of two nearly equal numbers becomes crucial.\n",
    "\n",
    "If $(f_{\\pm h} -f_0)$ are very close, we have\n",
    "$(f_{\\pm h} -f_0)\\approx \\epsilon_M$, where $|\\epsilon_M|\\le 10^{-7}$ for single and\n",
    "$|\\epsilon_M|\\le 10^{-15}$ for double precision, respectively.\n",
    "\n",
    "We have then"
   ]
  },
  {
   "cell_type": "markdown",
   "metadata": {},
   "source": [
    "$$\n",
    "\\left|f_0''\\right|=\n",
    " \\left|\\frac{ (f_h -f_0) +(f_{-h}-f_0)}{h^2}\\right|\\le \\frac{ 2 \\epsilon_M}{h^2}.\n",
    "$$"
   ]
  },
  {
   "cell_type": "markdown",
   "metadata": {},
   "source": [
    "## Error Analysis\n",
    "\n",
    "Our total error becomes"
   ]
  },
  {
   "cell_type": "markdown",
   "metadata": {},
   "source": [
    "<!-- Equation labels as ordinary links -->\n",
    "<div id=\"eq:experror\"></div>\n",
    "\n",
    "$$\n",
    "\\left|\\epsilon_{\\mbox{tot}}\\right|\\le  \\frac{2 \\epsilon_M}{h^2} +\n",
    "                          \\frac{f_0^{(4)}}{12}h^{2}.\n",
    "\\label{eq:experror} \\tag{16}\n",
    "$$"
   ]
  },
  {
   "cell_type": "markdown",
   "metadata": {},
   "source": [
    "It is then natural to ask which value of $h$ yields the smallest\n",
    "total error. Taking the derivative of $\\left|\\epsilon_{\\mbox{tot}}\\right|$\n",
    "with respect to $h$ results in"
   ]
  },
  {
   "cell_type": "markdown",
   "metadata": {},
   "source": [
    "$$\n",
    "h= \\left(\\frac{ 24\\epsilon_M}{f_0^{(4)}}\\right)^{1/4}.\n",
    "$$"
   ]
  },
  {
   "cell_type": "markdown",
   "metadata": {},
   "source": [
    "With double precision and $x=10$ we obtain"
   ]
  },
  {
   "cell_type": "markdown",
   "metadata": {},
   "source": [
    "$$\n",
    "h\\approx 10^{-4}.\n",
    "$$"
   ]
  },
  {
   "cell_type": "markdown",
   "metadata": {},
   "source": [
    "Beyond this value, it is essentially the loss of numerical precision\n",
    "which takes over.\n",
    "\n",
    "\n",
    "\n",
    "## Error Analysis\n",
    "\n",
    "Due to the subtractive cancellation in the expression\n",
    "for $f''$ there is a pronounced detoriation in accuracy as $h$ is made smaller\n",
    "and smaller.\n",
    "\n",
    "It is instructive in this analysis to rewrite the numerator of\n",
    "the computed derivative as"
   ]
  },
  {
   "cell_type": "markdown",
   "metadata": {},
   "source": [
    "$$\n",
    "(f_h -f_0) +(f_{-h}-f_0)=(e^{x+h}-e^{x}) + (e^{x-h}-e^{x}),\n",
    "$$"
   ]
  },
  {
   "cell_type": "markdown",
   "metadata": {},
   "source": [
    "as"
   ]
  },
  {
   "cell_type": "markdown",
   "metadata": {},
   "source": [
    "$$\n",
    "(f_h -f_0) +(f_{-h}-f_0)=e^x(e^{h}+e^{-h}-2),\n",
    "$$"
   ]
  },
  {
   "cell_type": "markdown",
   "metadata": {},
   "source": [
    "since it is the difference $(e^{h}+e^{-h}-2)$ which causes\n",
    "the loss of precision.\n",
    "\n",
    "\n",
    "\n",
    "## Error Analysis\n",
    "\n",
    "\n",
    "<table border=\"1\">\n",
    "<thead>\n",
    "<tr><th align=\"center\">$x$</th> <th align=\"center\"> $h=0.01$ </th> <th align=\"center\">$h=0.001$ </th> <th align=\"center\">$h=0.0001$</th> <th align=\"center\">$h=0.0000001$</th> <th align=\"center\">  Exact   </th> </tr>\n",
    "</thead>\n",
    "<tbody>\n",
    "<tr><td align=\"center\">   0.0    </td> <td align=\"center\">   1.000008      </td> <td align=\"center\">   1.000000      </td> <td align=\"center\">   1.000000      </td> <td align=\"center\">   1.010303         </td> <td align=\"center\">   1.000000      </td> </tr>\n",
    "<tr><td align=\"center\">   1.0    </td> <td align=\"center\">   2.718304      </td> <td align=\"center\">   2.718282      </td> <td align=\"center\">   2.718282      </td> <td align=\"center\">   2.753353         </td> <td align=\"center\">   2.718282      </td> </tr>\n",
    "<tr><td align=\"center\">   2.0    </td> <td align=\"center\">   7.389118      </td> <td align=\"center\">   7.389057      </td> <td align=\"center\">   7.389056      </td> <td align=\"center\">   7.283063         </td> <td align=\"center\">   7.389056      </td> </tr>\n",
    "<tr><td align=\"center\">   3.0    </td> <td align=\"center\">   20.085704     </td> <td align=\"center\">   20.085539     </td> <td align=\"center\">   20.085537     </td> <td align=\"center\">   20.250467        </td> <td align=\"center\">   20.085537     </td> </tr>\n",
    "<tr><td align=\"center\">   4.0    </td> <td align=\"center\">   54.598605     </td> <td align=\"center\">   54.598155     </td> <td align=\"center\">   54.598151     </td> <td align=\"center\">   54.711789        </td> <td align=\"center\">   54.598150     </td> </tr>\n",
    "<tr><td align=\"center\">   5.0    </td> <td align=\"center\">   148.414396    </td> <td align=\"center\">   148.413172    </td> <td align=\"center\">   148.413161    </td> <td align=\"center\">   150.635056       </td> <td align=\"center\">   148.413159    </td> </tr>\n",
    "</tbody>\n",
    "</table>\n",
    "\n",
    "\n",
    "\n",
    "## Error Analysis\n",
    "\n",
    "The results for $x=10$ are shown in the Table\n",
    "\n",
    "<table border=\"1\">\n",
    "<thead>\n",
    "<tr><th align=\"center\">   $h$    </th> <th align=\"center\">  $e^{h}+e^{-h}$  </th> <th align=\"center\">          $e^{h}+e^{-h}-2$         </th> </tr>\n",
    "</thead>\n",
    "<tbody>\n",
    "<tr><td align=\"center\">   $10^{-1}$     </td> <td align=\"center\">   2.0100083361116070    </td> <td align=\"center\">   $1.0008336111607230\\times 10^{-2}$     </td> </tr>\n",
    "<tr><td align=\"center\">   $10^{-2}$     </td> <td align=\"center\">   2.0001000008333358    </td> <td align=\"center\">   $1.0000083333605581\\times 10^{-4}$     </td> </tr>\n",
    "<tr><td align=\"center\">   $10^{-3}$     </td> <td align=\"center\">   2.0000010000000836    </td> <td align=\"center\">   $1.0000000834065048\\times 10^{-6}$     </td> </tr>\n",
    "<tr><td align=\"center\">   $10^{-5}$     </td> <td align=\"center\">   2.0000000099999999    </td> <td align=\"center\">   $1.0000000050247593\\times 10^{-8}$     </td> </tr>\n",
    "<tr><td align=\"center\">   $10^{-5}$     </td> <td align=\"center\">   2.0000000001000000    </td> <td align=\"center\">   $9.9999897251734637\\times 10^{-11}$    </td> </tr>\n",
    "<tr><td align=\"center\">   $10^{-6}$     </td> <td align=\"center\">   2.0000000000010001    </td> <td align=\"center\">   $9.9997787827987850\\times 10^{-13}$    </td> </tr>\n",
    "<tr><td align=\"center\">   $10^{-7}$     </td> <td align=\"center\">   2.0000000000000098    </td> <td align=\"center\">   $9.9920072216264089\\times 10^{-15}$    </td> </tr>\n",
    "<tr><td align=\"center\">   $10^{-8}$     </td> <td align=\"center\">   2.0000000000000000    </td> <td align=\"center\">   $0.0000000000000000\\times 10^{0}$      </td> </tr>\n",
    "<tr><td align=\"center\">   $10^{-9}$     </td> <td align=\"center\">   2.0000000000000000    </td> <td align=\"center\">   $1.1102230246251565\\times 10^{-16}$    </td> </tr>\n",
    "<tr><td align=\"center\">   $10^{-10}$    </td> <td align=\"center\">   2.0000000000000000    </td> <td align=\"center\">   $0.0000000000000000\\times 10^{0}$      </td> </tr>\n",
    "</tbody>\n",
    "</table>\n",
    "\n",
    "\n",
    "\n",
    "## Technical Matter in C/C++: Pointers\n",
    "\n",
    "A pointer specifies where a value resides in the computer's memory (like a house number specifies where a particular family resides on a street).\n",
    "\n",
    "A pointer points to an address not to a data container of any kind!\n",
    "\n",
    "Simple example declarations:"
   ]
  },
  {
   "cell_type": "markdown",
   "metadata": {},
   "source": [
    "          using namespace std; // note use of namespace\n",
    "          int main()\n",
    "         {\n",
    "           // what are the differences?\n",
    "           int var;\n",
    "           cin >> var;\n",
    "           int *p, q;\n",
    "           int *s, *t;\n",
    "           int * a new[var];    // dynamic memory allocation\n",
    "           delete [] a;\n",
    "        }\n"
   ]
  },
  {
   "cell_type": "markdown",
   "metadata": {},
   "source": [
    "## Technical Matter in C/C++: [Pointer example I](https://github.com/CompPhysics/ComputationalPhysicsMSU/blob/master/doc/Programs/LecturePrograms/programs/IntroProgramming/cpp/program7.cpp)"
   ]
  },
  {
   "cell_type": "markdown",
   "metadata": {},
   "source": [
    "        using namespace std; // note use of namespace\n",
    "        int main()\n",
    "        {\n",
    "          int var;\n",
    "          int *p;\n",
    "          p = &var;\n",
    "          var  = 421;\n",
    "          printf(\"Address of integer variable var : %p\\n\",&var);\n",
    "          printf(\"Its value: %d\\n\", var);\n",
    "          printf(\"Value of integer pointer p : %p\\n\",p);\n",
    "          printf(\"The value p points at :  %d\\n\",*p);\n",
    "          printf(\"Address of the pointer p : %p\\n\",&p);\n",
    "          return 0;\n",
    "        }\n"
   ]
  },
  {
   "cell_type": "markdown",
   "metadata": {},
   "source": [
    "## Dissection: Pointer example I\n",
    "\n",
    "**Discussion.**"
   ]
  },
  {
   "cell_type": "markdown",
   "metadata": {},
   "source": [
    "        int main()\n",
    "        {\n",
    "          int var;     // Define an integer variable var\n",
    "          int *p;      // Define a pointer to an integer\n",
    "          p = &var;    // Extract the address of var\n",
    "          var = 421;   // Change content of var\n",
    "          printf(\"Address of integer variable var : %p\\n\", &var);\n",
    "          printf(\"Its value: %d\\n\", var);  // 421\n",
    "          printf(\"Value of integer pointer p : %p\\n\", p);  // = &var\n",
    "          // The content of the variable pointed to by p is *p\n",
    "          printf(\"The value p points at :  %d\\n\", *p);\n",
    "          // Address where the pointer is stored in memory\n",
    "          printf(\"Address of the pointer p : %p\\n\", &p);\n",
    "          return 0;\n",
    "        }\n"
   ]
  },
  {
   "cell_type": "markdown",
   "metadata": {},
   "source": [
    "## [Pointer example II](https://github.com/CompPhysics/ComputationalPhysicsMSU/blob/master/doc/Programs/LecturePrograms/programs/IntroProgramming/cpp/program8.cpp)"
   ]
  },
  {
   "cell_type": "markdown",
   "metadata": {},
   "source": [
    "        int matr[2];\n",
    "        int *p;\n",
    "        p = &matr[0];\n",
    "        matr[0] = 321;\n",
    "        matr[1] = 322;\n",
    "        printf(\"\\nAddress of matrix element matr[1]: %p\",&matr[0]);\n",
    "        printf(\"\\nValue of the  matrix element  matr[1]; %d\",matr[0]);\n",
    "        printf(\"\\nAddress of matrix element matr[2]: %p\",&matr[1]);\n",
    "        printf(\"\\nValue of the matrix element  matr[2]: %d\\n\", matr[1]);\n",
    "        printf(\"\\nValue of the pointer p: %p\",p);\n",
    "        printf(\"\\nThe value p points to: %d\",*p);\n",
    "        printf(\"\\nThe value that (p+1) points to  %d\\n\",*(p+1));\n",
    "        printf(\"\\nAddress of pointer p : %p\\n\",&p);\n"
   ]
  },
  {
   "cell_type": "markdown",
   "metadata": {},
   "source": [
    "## Dissection: Pointer example II"
   ]
  },
  {
   "cell_type": "markdown",
   "metadata": {},
   "source": [
    "        int matr[2];    // Define integer array with two elements\n",
    "        int *p;         // Define pointer to integer\n",
    "        p = &matr[0];   // Point to the address of the first element in matr\n",
    "        matr[0] = 321;  // Change the first element\n",
    "        matr[1] = 322;  // Change the second element\n",
    "        printf(\"\\nAddress of matrix element matr[1]: %p\", &matr[0]);\n",
    "        printf(\"\\nValue of the  matrix element  matr[1]; %d\", matr[0]);\n",
    "        printf(\"\\nAddress of matrix element matr[2]: %p\", &matr[1]);\n",
    "        printf(\"\\nValue of the matrix element  matr[2]: %d\\n\", matr[1]);\n",
    "        printf(\"\\nValue of the pointer p: %p\", p);\n",
    "        printf(\"\\nThe value p points to: %d\", *p);\n",
    "        printf(\"\\nThe value that (p+1) points to  %d\\n\", *(p+1));\n",
    "        printf(\"\\nAddress of pointer p : %p\\n\", &p);\n"
   ]
  },
  {
   "cell_type": "markdown",
   "metadata": {},
   "source": [
    "## Output of Pointer example II"
   ]
  },
  {
   "cell_type": "markdown",
   "metadata": {},
   "source": [
    "        Address of the matrix element matr[1]: 0xbfffef70\n",
    "        Value of the  matrix element  matr[1]; 321\n",
    "        Address of the matrix element matr[2]: 0xbfffef74\n",
    "        Value of the matrix element  matr[2]: 322\n",
    "        Value of the pointer: 0xbfffef70\n",
    "        The value pointer points at: 321\n",
    "        The value that (pointer+1) points at:  322\n",
    "        Address of the pointer variable : 0xbfffef6c\n"
   ]
  },
  {
   "cell_type": "markdown",
   "metadata": {},
   "source": [
    "## File handling; C-way"
   ]
  },
  {
   "cell_type": "markdown",
   "metadata": {},
   "source": [
    "        using namespace std;\n",
    "        #include <iostream>\n",
    "        int main(int argc, char *argv[])\n",
    "        {\n",
    "          FILE *in_file, *out_file;\n",
    "          if( argc < 3)  {\n",
    "            printf(\"The programs has the following structure :\\n\");\n",
    "            printf(\"write in the name of the input and output files \\n\");\n",
    "            exit(0);\n",
    "          }\n",
    "          in_file = fopen( argv[1], \"r\");// returns pointer to the  input file\n",
    "          if( in_file == NULL )  { // NULL means that the file is missing\n",
    "            printf(\"Can't find the input file %s\\n\", argv[1]);\n",
    "            exit(0);\n"
   ]
  },
  {
   "cell_type": "markdown",
   "metadata": {},
   "source": [
    "## File handling; C way cont."
   ]
  },
  {
   "cell_type": "markdown",
   "metadata": {},
   "source": [
    "         out_file = fopen( argv[2], \"w\"); // returns a pointer to the output file\n",
    "         if( out_file == NULL )  {       // can't find the file\n",
    "            printf(\"Can't find the output file%s\\n\", argv[2]);\n",
    "            exit(0);\n",
    "          }\n",
    "          fclose(in_file);\n",
    "          fclose(out_file);\n",
    "          return 0;\n"
   ]
  },
  {
   "cell_type": "markdown",
   "metadata": {},
   "source": [
    "## File handling, C++-way"
   ]
  },
  {
   "cell_type": "markdown",
   "metadata": {},
   "source": [
    "        #include <fstream>\n",
    "        \n",
    "        // input and output file as global variable\n",
    "        ofstream ofile;\n",
    "        ifstream ifile;\n"
   ]
  },
  {
   "cell_type": "markdown",
   "metadata": {},
   "source": [
    "## File handling, C++-way"
   ]
  },
  {
   "cell_type": "markdown",
   "metadata": {},
   "source": [
    "        int main(int argc, char* argv[])\n",
    "        {\n",
    "          char *outfilename;\n",
    "          //Read in output file, abort if there are too\n",
    "          //few command-line arguments\n",
    "          if( argc <= 1 ){\n",
    "            cout << \"Bad Usage: \" << argv[0] <<\n",
    "              \" read also output file on same line\" << endl;\n",
    "            exit(1);\n",
    "          }\n",
    "          else{\n",
    "            outfilename=argv[1];\n",
    "          }\n",
    "          ofile.open(outfilename);\n",
    "          .....\n",
    "          ofile.close();  // close output file\n"
   ]
  },
  {
   "cell_type": "markdown",
   "metadata": {},
   "source": [
    "## File handling, C++-way"
   ]
  },
  {
   "cell_type": "markdown",
   "metadata": {},
   "source": [
    "        void output(double r_min , double r_max, int max_step,\n",
    "                    double *d)\n",
    "        {\n",
    "        int i;\n",
    "        ofile << \"RESULTS:\" << endl;\n",
    "        ofile << setiosflags(ios::showpoint | ios::uppercase);\n",
    "        ofile <<\"R_min = \" << setw(15) << setprecision(8) <<r_min <<endl;\n",
    "        ofile <<\"R_max = \" << setw(15) << setprecision(8) <<r_max <<endl;\n",
    "        ofile <<\"Number of steps = \" << setw(15) << max_step << endl;\n",
    "        ofile << \"Five lowest eigenvalues:\" << endl;\n",
    "        for(i = 0; i < 5; i++) {\n",
    "            ofile << setw(15) << setprecision(8) << d[i] << endl;\n",
    "        \n",
    "        }  // end of function output\n"
   ]
  },
  {
   "cell_type": "markdown",
   "metadata": {},
   "source": [
    "## File handling, C++-way"
   ]
  },
  {
   "cell_type": "markdown",
   "metadata": {},
   "source": [
    "        int main(int argc, char* argv[])\n",
    "        {\n",
    "          char *infilename;\n",
    "          // Read in input file, abort if there are too\n",
    "          // few command-line arguments\n",
    "          if( argc <= 1 ){\n",
    "            cout << \"Bad Usage: \" << argv[0] <<\n",
    "              \" read also input file on same line\" << endl;\n",
    "            exit(1);\n",
    "          }\n",
    "          else{\n",
    "            infilename=argv[1];\n",
    "          }\n",
    "          ifile.open(infilename);\n",
    "          ....\n",
    "          ifile.close();  // close input file\n"
   ]
  },
  {
   "cell_type": "markdown",
   "metadata": {},
   "source": [
    "## File handling, C++-way"
   ]
  },
  {
   "cell_type": "markdown",
   "metadata": {},
   "source": [
    "        const char* filename1 = \"myfile\";\n",
    "        ifstream ifile(filename1);\n",
    "        string filename2 = filename1 + \".out\"\n",
    "        ofstream ofile(filename2);  // new output file\n",
    "        ofstream ofile(filename2, ios_base::app);  // append\n",
    "        \n",
    "        //      Read something from the file:\n",
    "        \n",
    "        double a; int b; char c[200];\n",
    "        ifile >> a >> b >> c;  // skips white space in between\n",
    "        \n",
    "        //      Can test on success of reading:\n",
    "        \n",
    "        if (!(ifile >> a >> b >> c)) ok = 0;\n"
   ]
  },
  {
   "cell_type": "markdown",
   "metadata": {},
   "source": [
    "## Call by value or reference\n",
    "C++ allows the programmer to use solely call by reference (note that call by reference is implemented as pointers). To see the difference between C and C++, consider the following simple examples.\n",
    "In C we would write"
   ]
  },
  {
   "cell_type": "markdown",
   "metadata": {},
   "source": [
    "           int n; n =8;\n",
    "           func(&n); /* &n is a pointer to n */\n",
    "           ....\n",
    "           void func(int *i)\n",
    "           {\n",
    "             *i = 10; /* n is changed to 10 */\n",
    "             ....\n",
    "           }\n"
   ]
  },
  {
   "cell_type": "markdown",
   "metadata": {},
   "source": [
    "whereas in C++ we would write"
   ]
  },
  {
   "cell_type": "markdown",
   "metadata": {},
   "source": [
    "           int n; n =8;\n",
    "           func(n); // just transfer n itself\n",
    "           ....\n",
    "           void func(int& i)\n",
    "           {\n",
    "             i = 10; // n is changed to 10\n",
    "             ....\n",
    "           }\n"
   ]
  },
  {
   "cell_type": "markdown",
   "metadata": {},
   "source": [
    "## Call by value or reference\n",
    "The reason why we emphasize the difference between call by value and call\n",
    "by reference is that it allows the programmer to avoid pitfalls\n",
    "like unwanted changes of variables. However, many people feel that this\n",
    "reduces the readability of the code.\n",
    "\n",
    "\n",
    "## Call by value and reference, F90/95\n",
    "\n",
    "In Fortran we can use `INTENT(IN)`, `INTENT(OUT)`, `INTENT(INOUT)` to let the\n",
    "program know which values should or should not be changed."
   ]
  },
  {
   "cell_type": "markdown",
   "metadata": {},
   "source": [
    "        SUBROUTINE coulomb_integral(np,lp,n,l,coulomb)\n",
    "          USE effective_interaction_declar\n",
    "          USE energy_variables\n",
    "          USE wave_functions\n",
    "          IMPLICIT NONE\n",
    "          INTEGER, INTENT(IN)  :: n, l, np, lp\n",
    "          INTEGER :: i\n",
    "          REAL(KIND=8), INTENT(INOUT) :: coulomb\n",
    "          REAL(KIND=8) :: z_rel, oscl_r, sum_coulomb\n",
    "          ...\n"
   ]
  },
  {
   "cell_type": "markdown",
   "metadata": {},
   "source": [
    "This hinders unwanted changes and increases readability.\n",
    "\n",
    "\n",
    "## [Example codes in c++, dynamic memory allocation](https://github.com/CompPhysics/ComputationalPhysicsMSU/blob/master/doc/Programs/LecturePrograms/programs/Classes/cpp/program4.cpp)"
   ]
  },
  {
   "cell_type": "markdown",
   "metadata": {},
   "source": [
    "        #include <iostream>\n",
    "        #include <cmath>\n",
    "        using namespace std; // note use of namespace                                       \n",
    "        int main (int argc, char* argv[])\n",
    "        {\n",
    "          int i = atoi(argv[1]); \n",
    "          //  Dynamic memory allocation: need tp declare -a- as a pointer\n",
    "          //  You can use double *a = new double[i];  or \n",
    "          double *a;\n",
    "          a = new double[i];\n",
    "          // the first of element of a, a[0], and its address is the \n",
    "          // value of the pointer. \n",
    "          /* This is a longer comment\n",
    "             if we want a static memory allocation \n",
    "             this is the way to do it\n",
    "          */\n",
    "          cout << \" bytes for i=\" << sizeof(i) << endl;\n",
    "          for (int j = 0; j < i; j++) {\n",
    "            a[j] = j*exp(2.0);\n",
    "            cout << \"a=\" << a[j] << endl;\n",
    "          }\n",
    "          // freeing memory\n",
    "          delete [] a;\n",
    "          // to check for memory leaks, use the software called -valgrind-\n",
    "          return 0;           /* success execution of the program */\n",
    "        }\n",
    "        \n"
   ]
  },
  {
   "cell_type": "markdown",
   "metadata": {},
   "source": [
    "## [Example codes in c++, writing to file and dynamic allocation for arrays](https://github.com/CompPhysics/ComputationalPhysicsMSU/blob/master/doc/Programs/LecturePrograms/programs/Classes/cpp/program5.cpp)"
   ]
  },
  {
   "cell_type": "markdown",
   "metadata": {},
   "source": [
    "        #include <iostream>\n",
    "        #include <cmath>\n",
    "        #include <fstream>\n",
    "        #include <iomanip>\n",
    "        using namespace std; // note use of namespace                                       \n",
    "        \n",
    "        // output file as global variable\n",
    "        \n",
    "        ofstream ofile;  \n",
    "        \n",
    "        // Begin of main program   \n",
    "        \n",
    "        int main(int argc, char* argv[])\n",
    "        {\n",
    "          char *outfilename;\n",
    "          // Read in output file, abort if there are too few command-line arguments\n",
    "          if( argc <= 2 ){\n",
    "            cout << \"Bad Usage: \" << argv[0] << \n",
    "              \" read also output file and number of elements on same line\" << endl;\n",
    "            exit(1);\n",
    "          }\n",
    "          else{\n",
    "            outfilename=argv[1];\n",
    "          }\n",
    "        \n",
    "          //  opening a file for the program\n",
    "          ofile.open(outfilename); \n",
    "          int i = atoi(argv[2]); \n",
    "          //  int *a;\n",
    "          //a = new int[i];\n",
    "          double *a = new double[i]; \n",
    "          cout << \" bytes for i=\" << sizeof(i) << endl;\n",
    "          for (int j = 0; j < i; j++) {\n",
    "            a[j] = j*exp(2.0);\n",
    "            // ofile instead of cout\n",
    "            ofile << setw(15) << setprecision(8) << \"a=\" << a[j] << endl;\n",
    "          }\n",
    "          delete [] a; // free memory\n",
    "          ofile.close();  // close output file\n",
    "          return 0;\n",
    "        }\n",
    "        \n"
   ]
  },
  {
   "cell_type": "markdown",
   "metadata": {},
   "source": [
    "## [Example codes in c++, transfer of data using call by value and call by reference](https://github.com/CompPhysics/ComputationalPhysicsMSU/blob/master/doc/Programs/LecturePrograms/programs/Classes/cpp/program6.cpp)"
   ]
  },
  {
   "cell_type": "markdown",
   "metadata": {},
   "source": [
    "        #include <iostream>\n",
    "        using namespace std;\n",
    "        //  Declare functions before main\n",
    "        void func(int, int*);\n",
    "        int main(int argc, char *argv[]) \n",
    "        {\n",
    "          int a; \n",
    "          int *b;\n",
    "          a = 10;\n",
    "          b = new int[10];\n",
    "          for(int i = 0; i < 10; i++) {\n",
    "            b[i] = i;\n",
    "            cout <<  b[i] << endl;\n",
    "          }\n",
    "          // the variable a is transferred by call by value. This means\n",
    "          //  that the function func cannot change a in the calling function\n",
    "          func( a,b);\n",
    "          \n",
    "          delete [] b ; \n",
    "          return 0;\n",
    "        } // End: function main()\n",
    "        \n",
    "        void func( int x, int *y) \n",
    "        {\n",
    "          // a becomes locally x  and it can be changed locally\n",
    "          x+=7;\n",
    "          //  func gets the address of the first element of y (b)\n",
    "          // it changes y[0] to 10 and when returning control to main\n",
    "          // it changes also b[0]. Call by reference\n",
    "          *y += 10;  //  *y = *y+10;\n",
    "          //  explicit element \n",
    "          y[6] += 10;\n",
    "          //   in this function y[0]  and y[6] have been changed and when returning \n",
    "          // control to main  this means that b[0] and b[6] are changed.  \n",
    "          return;\n",
    "        } // End: function func()\n",
    "        \n"
   ]
  },
  {
   "cell_type": "markdown",
   "metadata": {},
   "source": [
    "## [Example codes in c++, operating on several arrays and printing time used](https://github.com/CompPhysics/ComputationalPhysicsMSU/blob/master/doc/Programs/LecturePrograms/programs/Classes/cpp/program7.cpp)"
   ]
  },
  {
   "cell_type": "markdown",
   "metadata": {},
   "source": [
    "        #include <cstdlib>\n",
    "        #include <iostream>\n",
    "        #include <cmath>\n",
    "        #include <iomanip> \n",
    "        #include \"time.h\" \n",
    "        \n",
    "        using namespace std; // note use of namespace                                       \n",
    "        int main (int argc, char* argv[])\n",
    "        {\n",
    "          int i = atoi(argv[1]); \n",
    "          double *a, *b, *c;\n",
    "          a = new double[i]; \n",
    "          b = new double[i]; \n",
    "          c = new double[i]; \n",
    "        \n",
    "          clock_t start, finish;\n",
    "          start = clock();\n",
    "          for (int j = 0; j < i; j++) {\n",
    "            a[j] = cos(j*1.0);\n",
    "            b[j] = sin(j+3.0);\n",
    "            c[j] = 0.0;\n",
    "          }\n",
    "          for (int j = 0; j < i; j++) {\n",
    "            c[j] = a[j]+b[j];\n",
    "          }\n",
    "          finish = clock();\n",
    "          double timeused = (double) (finish - start)/(CLOCKS_PER_SEC );\n",
    "          cout << setiosflags(ios::showpoint | ios::uppercase);\n",
    "          cout << setprecision(10) << setw(20) << \"Time used  for vector addition=\" << timeused  << endl;\n",
    "          delete [] a;\n",
    "          delete [] b;\n",
    "          delete [] c;\n",
    "          return 0;           /* success execution of the program */\n",
    "        }\n",
    "        \n"
   ]
  }
 ],
 "metadata": {},
 "nbformat": 4,
 "nbformat_minor": 0
}
