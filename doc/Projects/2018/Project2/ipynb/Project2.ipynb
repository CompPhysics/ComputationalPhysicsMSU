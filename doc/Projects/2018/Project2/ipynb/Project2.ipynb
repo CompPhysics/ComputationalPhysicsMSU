{
 "cells": [
  {
   "cell_type": "markdown",
   "metadata": {},
   "source": [
    "<!-- dom:TITLE: Project 2, deadline March 5 -->\n",
    "# Project 2, deadline March 5\n",
    "<!-- dom:AUTHOR: Computational Physics PHY480/905 at Department of Physics and Astronomy, Michigan State University -->\n",
    "<!-- Author: -->  \n",
    "**Computational Physics PHY480/905**, Department of Physics and Astronomy, Michigan State University\n",
    "\n",
    "Date: **Spring semester 2018**\n",
    "\n",
    "## Eigenvalue problems, from the equations of a buckling beam to Schroedinger's equation for two electrons in a three-dimensional harmonic oscillator well\n",
    "\n",
    "### Introduction\n",
    "\n",
    "The aim of this project is to develop your own code for solving eigenvalue problems. The matrix to diagonalize is the same as the one we encountered in project one, a so-called tridiagonal Toeplitz matrix. This matrix has analytical eigenpairs (eigenvalues and eigenvectors) and gives us an excellent testing ground for our algorithms. In this project we will develop an eigenvalue solver based on Jacobi's method. The project will also introduce you to units tests and we will compare our results against other eigenvalue solvers (from LAPACK and/or numpy). \n",
    "\n",
    "This project aims also at introducing to you the concept of [scaling of equations](http://www.springer.com/us/book/9783319327259). This means often either making various variables dimensionless or introducing units which are more convenient. \n",
    "\n",
    "We will start with the two-point boundary value problem of a buckling beam or a spring fastened at both ends. This is one of the problems which has analytical solutions. Thereafter, by simply adding a new variable along the diagonal elements, we can study quantum mechanical problems. In particular, we will study the harmonic oscillator problem in three dimensions, with one or two electrons. For the latter case we can study the role of the repulsive Coulomb interaction and extract interesting physics results. For selected frequencies, even this interacting two-electron problem exhibits analytical solutions, see [M. Taut, Phys. Rev. A 48, 3561 (1993)](http://prola.aps.org/abstract/PRA/v48/i5/p3561_1).\n",
    "\n",
    "Electrons confined in small areas in semiconductors, so-called quantum\n",
    "dots, form a hot research area in modern solid-state physics, with\n",
    "applications spanning from such diverse fields as quantum\n",
    "nano-medicine to the contruction of quantum gates. \n",
    "The article on quantum computing with quantum dots by [Loss and DiVincenzo](http://journals.aps.org/pra/abstract/10.1103/PhysRevA.57.120) is an excellent read.\n",
    "\n",
    "\n",
    "\n",
    "### The buckling beam problem\n",
    "\n",
    "We start with the following differential equation, namely"
   ]
  },
  {
   "cell_type": "markdown",
   "metadata": {},
   "source": [
    "$$\n",
    "\\gamma \\frac{d^2 u(x)}{dx^2} = -F u(x),\n",
    "$$"
   ]
  },
  {
   "cell_type": "markdown",
   "metadata": {},
   "source": [
    "where $u(x)$ is the vertical displacement of the beam in the $y$ direction. \n",
    "The beam has length $L$, $x\\in [0,L]$ and $F$ is a force applied at $(L,0)$ in the direction towards the origin. \n",
    "The parameter $\\gamma$ is a constant defined by properties like the rigidity of the beam while $F$. \n",
    "We apply again so-called Dirichlet boundary conditions and set $u(0)=u(L)=0$.\n",
    "\n",
    "In this specific case all parameters $\\gamma$, $F$ and $L$ are known. We define then a dimensional variable"
   ]
  },
  {
   "cell_type": "markdown",
   "metadata": {},
   "source": [
    "$$\n",
    "\\rho = \\frac{x}{L},\n",
    "$$"
   ]
  },
  {
   "cell_type": "markdown",
   "metadata": {},
   "source": [
    "meaning that we have $\\rho \\in [0,1]$.    By reordering the equation as"
   ]
  },
  {
   "cell_type": "markdown",
   "metadata": {},
   "source": [
    "$$\n",
    "\\frac{d^2 u(\\rho)}{d\\rho^2} = -\\frac{FL^2}{R} u(\\rho)=\\lambda u(\\rho),\n",
    "$$"
   ]
  },
  {
   "cell_type": "markdown",
   "metadata": {},
   "source": [
    "with $\\lambda= FL^2/R$ we have an equation that when discretized, becomes an eigenvalue problem.\n",
    "We use the same \n",
    "expression for the second derivative of a function $u$ as we did in project 1, namely"
   ]
  },
  {
   "cell_type": "markdown",
   "metadata": {},
   "source": [
    "<!-- Equation labels as ordinary links -->\n",
    "<div id=\"eq:diffoperation\"></div>\n",
    "\n",
    "$$\n",
    "\\begin{equation}\n",
    "    u''=\\frac{u(\\rho+h) -2u(\\rho) +u(\\rho-h)}{h^2} +O(h^2),\n",
    "\\label{eq:diffoperation} \\tag{1}\n",
    "\\end{equation}\n",
    "$$"
   ]
  },
  {
   "cell_type": "markdown",
   "metadata": {},
   "source": [
    "where $h$ is our step.\n",
    "Next we define minimum and maximum values for the variable $\\rho$,\n",
    "$\\rho_{\\mathrm{min}}=0$  and $\\rho_{\\mathrm{max}}=1$, respectively.\n",
    "With a given number of mesh points, $N$, we \n",
    "define the step length $h$ as, with $\\rho_{\\mathrm{min}}=\\rho_0$  and $\\rho_{\\mathrm{max}}=\\rho_N$,"
   ]
  },
  {
   "cell_type": "markdown",
   "metadata": {},
   "source": [
    "$$\n",
    "h=\\frac{\\rho_N-\\rho_0 }{N}.\n",
    "$$"
   ]
  },
  {
   "cell_type": "markdown",
   "metadata": {},
   "source": [
    "The value of $\\rho$ at a point $i$ is then"
   ]
  },
  {
   "cell_type": "markdown",
   "metadata": {},
   "source": [
    "$$\n",
    "\\rho_i= \\rho_0 + ih \\hspace{1cm} i=1,2,\\dots , N.\n",
    "$$"
   ]
  },
  {
   "cell_type": "markdown",
   "metadata": {},
   "source": [
    "We can rewrite the differential equation for a value $\\rho_i$ as"
   ]
  },
  {
   "cell_type": "markdown",
   "metadata": {},
   "source": [
    "$$\n",
    "-\\frac{u(\\rho_i+h) -2u(\\rho_i) +u(\\rho_i-h)}{h^2}  = \\lambda u(\\rho_i),\n",
    "$$"
   ]
  },
  {
   "cell_type": "markdown",
   "metadata": {},
   "source": [
    "or in  a more compact way as"
   ]
  },
  {
   "cell_type": "markdown",
   "metadata": {},
   "source": [
    "$$\n",
    "-\\frac{u_{i+1} -2u_i +u_{i-1} }{h^2}  = \\lambda u_i.\n",
    "$$"
   ]
  },
  {
   "cell_type": "markdown",
   "metadata": {},
   "source": [
    "Following our approach from project 1, we can rewrite this equation in a more a general form, but now \n",
    "as an eigenvalue problem, that is"
   ]
  },
  {
   "cell_type": "markdown",
   "metadata": {},
   "source": [
    "<!-- Equation labels as ordinary links -->\n",
    "<div id=\"eq:matrixse\"></div>\n",
    "\n",
    "$$\n",
    "\\begin{equation}\n",
    "    \\begin{bmatrix} \\frac{2}{h^2}& -\\frac{1}{h^2} & 0   & 0    & \\dots  &0     & 0 \\\\\n",
    "                                -\\frac{1}{h^2} & \\frac{2}{h^2} & -\\frac{1}{h^2} & 0    & \\dots  &0     &0 \\\\\n",
    "                                0   & -\\frac{1}{h^2} & \\frac{2}{h^2} & -\\frac{1}{h^2}  &0       &\\dots & 0\\\\\n",
    "                                \\dots  & \\dots & \\dots & \\dots  &\\dots      &\\dots & \\dots\\\\\n",
    "                                0   & \\dots & \\dots & \\dots  &-\\frac{1}{h^2}  &\\frac{2}{h^2} & -\\frac{1}{h^2}\\\\\n",
    "                                0   & \\dots & \\dots & \\dots  &\\dots       &-\\frac{1}{h^2} & \\frac{2}{h^2}\n",
    "             \\end{bmatrix} \\begin{bmatrix} u_1 \\\\ u_2 \\\\ u_3 \\\\ \\dots \\\\ u_{N-2} \\\\ u_{N-1}\\end{bmatrix} = \\lambda \\begin{bmatrix} u_1 \\\\ u_2 \\\\ u_3 \\\\ \\dots \\\\ u_{N-2} \\\\ u_{N-1}\\end{bmatrix} . \n",
    "\\label{eq:matrixse} \\tag{2} \n",
    "\\end{equation}\n",
    "$$"
   ]
  },
  {
   "cell_type": "markdown",
   "metadata": {},
   "source": [
    "As in project 1, we have not included the endpoints $u_0$ and $u_N$. \n",
    "\n",
    "If we label the diagonal elements as $d=2/h^2$ and the non-diagonal ones as $a=-1/h^2$, this eigenvalue problem has analytical eigenpairs, with eigenvalues given as"
   ]
  },
  {
   "cell_type": "markdown",
   "metadata": {},
   "source": [
    "$$\n",
    "\\lambda_j = d+2a\\cos{(\\frac{j\\pi}{N+1})} \\hspace{0.1cm} j=1,2,\\dots N-1.\n",
    "$$"
   ]
  },
  {
   "cell_type": "markdown",
   "metadata": {},
   "source": [
    "### Project 2 a): Mathematical intermezzo\n",
    "\n",
    "A unitary transformation preserves  the orthogonality of the obtained eigenvectors. To see this consider first a basis of vectors $\\mathbf{v}_i$,"
   ]
  },
  {
   "cell_type": "markdown",
   "metadata": {},
   "source": [
    "$$\n",
    "\\mathbf{v}_i = \\begin{bmatrix} v_{i1} \\\\ \\dots \\\\ \\dots \\\\v_{in} \\end{bmatrix}\n",
    "$$"
   ]
  },
  {
   "cell_type": "markdown",
   "metadata": {},
   "source": [
    "We assume that the basis is orthogonal, that is"
   ]
  },
  {
   "cell_type": "markdown",
   "metadata": {},
   "source": [
    "$$\n",
    "\\mathbf{v}_j^T\\mathbf{v}_i = \\delta_{ij}.\n",
    "$$"
   ]
  },
  {
   "cell_type": "markdown",
   "metadata": {},
   "source": [
    "Show that an orthogonal or unitary transformation"
   ]
  },
  {
   "cell_type": "markdown",
   "metadata": {},
   "source": [
    "$$\n",
    "\\mathbf{w}_i=\\mathbf{U}\\mathbf{v}_i,\n",
    "$$"
   ]
  },
  {
   "cell_type": "markdown",
   "metadata": {},
   "source": [
    "preserves the dot product and orthogonality. \n",
    "\n",
    "### Project 2 b): Setting up a code for the non-interacting case\n",
    "\n",
    "Your task now is to write a function which implements Jacobi's rotation algorithm (see Lecture notes chapter 7)  in order to solve Eq. ([eq:matrixse](#eq:matrixse)).  \n",
    "However, the first simple check is to set up the matrix to diagonalize for a given $N$ and use either armadillo's or numpy's functions for diagonalizing a matrix. You can then check that you obtain the analytical eigenvalues. \n",
    "\n",
    "For Jacobi's method,\n",
    "we define the quantities $\\tan\\theta = t= s/c$, with $s=\\sin\\theta$ and $c=\\cos\\theta$ and"
   ]
  },
  {
   "cell_type": "markdown",
   "metadata": {},
   "source": [
    "$$\n",
    "\\cot 2\\theta=\\tau = \\frac{a_{ll}-a_{kk}}{2a_{kl}}.\n",
    "$$"
   ]
  },
  {
   "cell_type": "markdown",
   "metadata": {},
   "source": [
    "We can then define the angle $\\theta$ so that the non-diagonal matrix elements of the transformed matrix \n",
    "$a_{kl}$ become non-zero and\n",
    "we obtain the quadratic equation (using $\\cot 2\\theta=1/2(\\cot \\theta-\\tan\\theta)$"
   ]
  },
  {
   "cell_type": "markdown",
   "metadata": {},
   "source": [
    "$$\n",
    "t^2+2\\tau t-1= 0,\n",
    "$$"
   ]
  },
  {
   "cell_type": "markdown",
   "metadata": {},
   "source": [
    "resulting in"
   ]
  },
  {
   "cell_type": "markdown",
   "metadata": {},
   "source": [
    "$$\n",
    "t = -\\tau \\pm \\sqrt{1+\\tau^2},\n",
    "$$"
   ]
  },
  {
   "cell_type": "markdown",
   "metadata": {},
   "source": [
    "and $c$ and $s$ are easily obtained via"
   ]
  },
  {
   "cell_type": "markdown",
   "metadata": {},
   "source": [
    "$$\n",
    "c = \\frac{1}{\\sqrt{1+t^2}},\n",
    "$$"
   ]
  },
  {
   "cell_type": "markdown",
   "metadata": {},
   "source": [
    "and $s=tc$.  \n",
    "\n",
    "\n",
    "How many similarity transformations are needed before you reach a \n",
    "result where all non-diagonal matrix elements are essentially zero?\n",
    "Try to estimate the number of transformations and extract a behavior as function\n",
    "of the dimensionality of the matrix. Compare your results with the analytical ones.\n",
    "\n",
    "You can check your results against the Armadillo function for solving \n",
    "eigenvalue problems. The armadillo function *eigsys* can be used to find eigenvalues and eigenvectors.\n",
    "A Python program which solves this part of the project is available under the [project writing slides](http://compphysics.github.io/ComputationalPhysics/doc/pub/projectwriting/html/projectwriting.html). \n",
    "\n",
    "\n",
    "\n",
    "Comment your results (here you could for example compute the time needed for \n",
    "both algorithms for a given dimensionality of the matrix).  \n",
    "\n",
    "\n",
    "### Project 2 c): Implementing tests in your code\n",
    "\n",
    "In this project (and later ones as well) we will implement so-called **unit** tests. Our unit tests are mainly meant to test mathematical properties of our algorithm. During the development phase of a program it is useful to devise tests that your program should pass. One of these is to make sure that for a given simple test matrix (say a $5\\times 5$ matrix) our algorithm for searching for the largest non-diagonal element always returns the correct answer. Furthermore, for a known simple matrix, irrespective of changes made, we should always get the same and correct eigenvalues. Another test is to make sure that the orthogonality shown in exercise (a) is preserved. Try to figure out other tests your code should pass, based either on the mathematical properties of the algorithms or more program specific tests. Implement at least two unit tests in this project. \n",
    "\n",
    "\n",
    "\n",
    "\n",
    "\n",
    "\n",
    "### Extending our machinery to quantum mechanics\n",
    "\n",
    "Here we will assume that these electrons move in a three-dimensional harmonic\n",
    "oscillator potential (they are confined by for example quadrupole fields)\n",
    "and repel  each other via the static Coulomb interaction.  \n",
    "We assume spherical symmetry.  \n",
    "\n",
    "We are first interested in the solution of the radial part of Schroedinger's equation for one electron. This equation reads"
   ]
  },
  {
   "cell_type": "markdown",
   "metadata": {},
   "source": [
    "$$\n",
    "-\\frac{\\hbar^2}{2 m} \\left ( \\frac{1}{r^2} \\frac{d}{dr} r^2\n",
    "  \\frac{d}{dr} - \\frac{l (l + 1)}{r^2} \\right )R(r) \n",
    "     + V(r) R(r) = E R(r).\n",
    "$$"
   ]
  },
  {
   "cell_type": "markdown",
   "metadata": {},
   "source": [
    "In our case $V(r)$ is the harmonic oscillator potential $(1/2)kr^2$ with\n",
    "$k=m\\omega^2$ and $E$ is\n",
    "the energy of the harmonic oscillator in three dimensions.\n",
    "The oscillator frequency is $\\omega$ and the energies are"
   ]
  },
  {
   "cell_type": "markdown",
   "metadata": {},
   "source": [
    "$$\n",
    "E_{nl}=  \\hbar \\omega \\left(2n+l+\\frac{3}{2}\\right),\n",
    "$$"
   ]
  },
  {
   "cell_type": "markdown",
   "metadata": {},
   "source": [
    "with $n=0,1,2,\\dots$ and $l=0,1,2,\\dots$.\n",
    "\n",
    "Since we have made a transformation to spherical coordinates it means that \n",
    "$r\\in [0,\\infty)$.  \n",
    "The quantum number\n",
    "$l$ is the orbital momentum of the electron.  \n",
    "<!--  -->\n",
    "Then we substitute $R(r) = (1/r) u(r)$ and obtain\n",
    "<!--  -->"
   ]
  },
  {
   "cell_type": "markdown",
   "metadata": {},
   "source": [
    "$$\n",
    "-\\frac{\\hbar^2}{2 m} \\frac{d^2}{dr^2} u(r) \n",
    "       + \\left ( V(r) + \\frac{l (l + 1)}{r^2}\\frac{\\hbar^2}{2 m}\n",
    "                                    \\right ) u(r)  = E u(r) .\n",
    "$$"
   ]
  },
  {
   "cell_type": "markdown",
   "metadata": {},
   "source": [
    "<!--  -->\n",
    "The boundary conditions are $u(0)=0$ and $u(\\infty)=0$.\n",
    "\n",
    "We introduce a dimensionless variable $\\rho = (1/\\alpha) r$\n",
    "where $\\alpha$ is a constant with dimension length and get\n",
    "<!--  -->"
   ]
  },
  {
   "cell_type": "markdown",
   "metadata": {},
   "source": [
    "$$\n",
    "-\\frac{\\hbar^2}{2 m \\alpha^2} \\frac{d^2}{d\\rho^2} u(\\rho) \n",
    "       + \\left ( V(\\rho) + \\frac{l (l + 1)}{\\rho^2}\n",
    "         \\frac{\\hbar^2}{2 m\\alpha^2} \\right ) u(\\rho)  = E u(\\rho) .\n",
    "$$"
   ]
  },
  {
   "cell_type": "markdown",
   "metadata": {},
   "source": [
    "<!--  -->\n",
    "We will set in this project $l=0$.\n",
    "Inserting $V(\\rho) = (1/2) k \\alpha^2\\rho^2$ we end up with"
   ]
  },
  {
   "cell_type": "markdown",
   "metadata": {},
   "source": [
    "$$\n",
    "-\\frac{\\hbar^2}{2 m \\alpha^2} \\frac{d^2}{d\\rho^2} u(\\rho) \n",
    "       + \\frac{k}{2} \\alpha^2\\rho^2u(\\rho)  = E u(\\rho) .\n",
    "$$"
   ]
  },
  {
   "cell_type": "markdown",
   "metadata": {},
   "source": [
    "We multiply thereafter with $2m\\alpha^2/\\hbar^2$ on both sides and obtain"
   ]
  },
  {
   "cell_type": "markdown",
   "metadata": {},
   "source": [
    "$$\n",
    "-\\frac{d^2}{d\\rho^2} u(\\rho) \n",
    "       + \\frac{mk}{\\hbar^2} \\alpha^4\\rho^2u(\\rho)  = \\frac{2m\\alpha^2}{\\hbar^2}E u(\\rho) .\n",
    "$$"
   ]
  },
  {
   "cell_type": "markdown",
   "metadata": {},
   "source": [
    "The constant $\\alpha$ can now be fixed\n",
    "so that"
   ]
  },
  {
   "cell_type": "markdown",
   "metadata": {},
   "source": [
    "$$\n",
    "\\frac{mk}{\\hbar^2} \\alpha^4 = 1,\n",
    "$$"
   ]
  },
  {
   "cell_type": "markdown",
   "metadata": {},
   "source": [
    "or"
   ]
  },
  {
   "cell_type": "markdown",
   "metadata": {},
   "source": [
    "$$\n",
    "\\alpha = \\left(\\frac{\\hbar^2}{mk}\\right)^{1/4}.\n",
    "$$"
   ]
  },
  {
   "cell_type": "markdown",
   "metadata": {},
   "source": [
    "Defining"
   ]
  },
  {
   "cell_type": "markdown",
   "metadata": {},
   "source": [
    "$$\n",
    "\\lambda = \\frac{2m\\alpha^2}{\\hbar^2}E,\n",
    "$$"
   ]
  },
  {
   "cell_type": "markdown",
   "metadata": {},
   "source": [
    "we can rewrite Schroedinger's equation as"
   ]
  },
  {
   "cell_type": "markdown",
   "metadata": {},
   "source": [
    "$$\n",
    "-\\frac{d^2}{d\\rho^2} u(\\rho) + \\rho^2u(\\rho)  = \\lambda u(\\rho) .\n",
    "$$"
   ]
  },
  {
   "cell_type": "markdown",
   "metadata": {},
   "source": [
    "This is the first equation to solve numerically. In three dimensions \n",
    "the eigenvalues for $l=0$ are \n",
    "$\\lambda_0=3,\\lambda_1=7,\\lambda_2=11,\\dots .$\n",
    "\n",
    "We define minimum and maximum values for the variable $\\rho$,\n",
    "$\\rho_{\\mathrm{min}}=0$  and $\\rho_{\\mathrm{max}}$, respectively.\n",
    "You need to check your results for the energies against different values\n",
    "$\\rho_{\\mathrm{max}}$, since we cannot set\n",
    "$\\rho_{\\mathrm{max}}=\\infty$. \n",
    "\n",
    "With a given number of mesh points, $N$, we \n",
    "define the step length $h$ as, with $\\rho_{\\mathrm{min}}=\\rho_0$  and $\\rho_{\\mathrm{max}}=\\rho_N$,"
   ]
  },
  {
   "cell_type": "markdown",
   "metadata": {},
   "source": [
    "$$\n",
    "h=\\frac{\\rho_N-\\rho_0 }{N}.\n",
    "$$"
   ]
  },
  {
   "cell_type": "markdown",
   "metadata": {},
   "source": [
    "The value of $\\rho$ at a point $i$ is then"
   ]
  },
  {
   "cell_type": "markdown",
   "metadata": {},
   "source": [
    "$$\n",
    "\\rho_i= \\rho_0 + ih \\hspace{1cm} i=1,2,\\dots , N.\n",
    "$$"
   ]
  },
  {
   "cell_type": "markdown",
   "metadata": {},
   "source": [
    "We can rewrite the Schroedinger equation for a value $\\rho_i$ as"
   ]
  },
  {
   "cell_type": "markdown",
   "metadata": {},
   "source": [
    "$$\n",
    "-\\frac{u(\\rho_i+h) -2u(\\rho_i) +u(\\rho_i-h)}{h^2}+\\rho_i^2u(\\rho_i)  = \\lambda u(\\rho_i),\n",
    "$$"
   ]
  },
  {
   "cell_type": "markdown",
   "metadata": {},
   "source": [
    "or in  a more compact way"
   ]
  },
  {
   "cell_type": "markdown",
   "metadata": {},
   "source": [
    "$$\n",
    "-\\frac{u_{i+1} -2u_i +u_{i-1}}{h^2}+\\rho_i^2u_i=-\\frac{u_{i+1} -2u_i +u_{i-1} }{h^2}+V_iu_i  = \\lambda u_i,\n",
    "$$"
   ]
  },
  {
   "cell_type": "markdown",
   "metadata": {},
   "source": [
    "where $V_i=\\rho_i^2$ is the harmonic oscillator potential.\n",
    "\n",
    "We define first the diagonal matrix element"
   ]
  },
  {
   "cell_type": "markdown",
   "metadata": {},
   "source": [
    "$$\n",
    "d_i=\\frac{2}{h^2}+V_i,\n",
    "$$"
   ]
  },
  {
   "cell_type": "markdown",
   "metadata": {},
   "source": [
    "and the non-diagonal matrix element"
   ]
  },
  {
   "cell_type": "markdown",
   "metadata": {},
   "source": [
    "$$\n",
    "e_i=-\\frac{1}{h^2}.\n",
    "$$"
   ]
  },
  {
   "cell_type": "markdown",
   "metadata": {},
   "source": [
    "In this case the non-diagonal matrix elements are given by a mere constant.\n",
    "*All non-diagonal matrix elements are equal*.\n",
    "With these definitions the Schroedinger equation takes the following form"
   ]
  },
  {
   "cell_type": "markdown",
   "metadata": {},
   "source": [
    "$$\n",
    "d_iu_i+e_{i-1}u_{i-1}+e_{i+1}u_{i+1}  = \\lambda u_i,\n",
    "$$"
   ]
  },
  {
   "cell_type": "markdown",
   "metadata": {},
   "source": [
    "where $u_i$ is unknown. We can write the \n",
    "latter equation as a matrix eigenvalue problem"
   ]
  },
  {
   "cell_type": "markdown",
   "metadata": {},
   "source": [
    "<!-- Equation labels as ordinary links -->\n",
    "<div id=\"eq:sematrix\"></div>\n",
    "\n",
    "$$\n",
    "\\begin{equation}\n",
    "    \\begin{bmatrix}d_0 & e_0 & 0   & 0    & \\dots  &0     & 0 \\\\\n",
    "                                e_1 & d_1 & e_1 & 0    & \\dots  &0     &0 \\\\\n",
    "                                0   & e_2 & d_2 & e_2  &0       &\\dots & 0\\\\\n",
    "                                \\dots  & \\dots & \\dots & \\dots  &\\dots      &\\dots & \\dots\\\\\n",
    "                                0   & \\dots & \\dots & \\dots  &\\dots  e_{N-1}     &d_{N-1} & e_{N-1}\\\\\n",
    "                                0   & \\dots & \\dots & \\dots  &\\dots       &e_{N} & d_{N}\n",
    "             \\end{bmatrix}  \\begin{bmatrix} u_{0} \\\\\n",
    "                                                              u_{1} \\\\\n",
    "                                                              \\dots\\\\ \\dots\\\\ \\dots\\\\\n",
    "                                                              u_{N}\n",
    "             \\end{bmatrix}=\\lambda \\begin{bmatrix} u_{0} \\\\\n",
    "                                                              u_{1} \\\\\n",
    "                                                              \\dots\\\\ \\dots\\\\ \\dots\\\\\n",
    "                                                              u_{N}\n",
    "             \\end{bmatrix}.  \n",
    "\\label{eq:sematrix} \\tag{3}\n",
    "\\end{equation}\n",
    "$$"
   ]
  },
  {
   "cell_type": "markdown",
   "metadata": {},
   "source": [
    "### Project 2 d): Quantum dots in three dimensions, one electron\n",
    "\n",
    "Add the harmonic oscillator potential to your tridiagonal Toeplitz matrix from 2a-2c and diagonalize the matrix.\n",
    "Study the results as functions of the number of integration points $N$ and your approximation to $\\rho_{mathrm{max}}$. \n",
    "The analytical results with our scaling for the one-electron energies are $\\lambda=3,7,11,15,\\dots$. How many integration points do you need in order to reproduce the analytical results with say four leading digits after the decimal point?\n",
    "\n",
    "You can reuse the code you wrote for part (b), \n",
    "but you need to add  the potential $\\rho^2$ to the diagonal elements. \n",
    "\n",
    "### Project 2 e): Quantum dots in three dimensions, two electrons\n",
    "\n",
    "We will now study two electrons in a harmonic oscillator well which\n",
    "also interact via a repulsive Coulomb interaction.\n",
    "Let us start with the single-electron equation written as"
   ]
  },
  {
   "cell_type": "markdown",
   "metadata": {},
   "source": [
    "$$\n",
    "-\\frac{\\hbar^2}{2 m} \\frac{d^2}{dr^2} u(r) \n",
    "       + \\frac{1}{2}k r^2u(r)  = E^{(1)} u(r),\n",
    "$$"
   ]
  },
  {
   "cell_type": "markdown",
   "metadata": {},
   "source": [
    "where $E^{(1)}$ stands for the energy with one electron only.\n",
    "For two electrons with no repulsive Coulomb interaction, we have the following \n",
    "Schroedinger equation"
   ]
  },
  {
   "cell_type": "markdown",
   "metadata": {},
   "source": [
    "$$\n",
    "\\left(  -\\frac{\\hbar^2}{2 m} \\frac{d^2}{dr_1^2} -\\frac{\\hbar^2}{2 m} \\frac{d^2}{dr_2^2}+ \\frac{1}{2}k r_1^2+ \\frac{1}{2}k r_2^2\\right)u(r_1,r_2)  = E^{(2)} u(r_1,r_2) .\n",
    "$$"
   ]
  },
  {
   "cell_type": "markdown",
   "metadata": {},
   "source": [
    "Note that we deal with a two-electron wave function $u(r_1,r_2)$ and \n",
    "two-electron energy $E^{(2)}$.\n",
    "\n",
    "With no interaction this can be written out as the product of two\n",
    "single-electron wave functions, that is we have a solution on closed form.\n",
    "\n",
    "We introduce the relative coordinate $\\mathbf{r} = \\mathbf{r}_1-\\mathbf{r}_2$\n",
    "and the center-of-mass coordinate $\\mathbf{R} = 1/2(\\mathbf{r}_1+\\mathbf{r}_2)$.\n",
    "With these new coordinates, the radial Schroedinger equation reads"
   ]
  },
  {
   "cell_type": "markdown",
   "metadata": {},
   "source": [
    "$$\n",
    "\\left(  -\\frac{\\hbar^2}{m} \\frac{d^2}{dr^2} -\\frac{\\hbar^2}{4 m} \\frac{d^2}{dR^2}+ \\frac{1}{4} k r^2+  kR^2\\right)u(r,R)  = E^{(2)} u(r,R).\n",
    "$$"
   ]
  },
  {
   "cell_type": "markdown",
   "metadata": {},
   "source": [
    "The equations for $r$ and $R$ can be separated via the ansatz for the \n",
    "wave function $u(r,R) = \\psi(r)\\phi(R)$ and the energy is given by the sum\n",
    "of the relative energy $E_r$ and the center-of-mass energy $E_R$, that\n",
    "is"
   ]
  },
  {
   "cell_type": "markdown",
   "metadata": {},
   "source": [
    "$$\n",
    "E^{(2)}=E_r+E_R.\n",
    "$$"
   ]
  },
  {
   "cell_type": "markdown",
   "metadata": {},
   "source": [
    "We add then the repulsive Coulomb interaction between two electrons,\n",
    "namely a term"
   ]
  },
  {
   "cell_type": "markdown",
   "metadata": {},
   "source": [
    "$$\n",
    "V(r_1,r_2) = \\frac{\\beta e^2}{|\\mathbf{r}_1-\\mathbf{r}_2|}=\\frac{\\beta e^2}{r},\n",
    "$$"
   ]
  },
  {
   "cell_type": "markdown",
   "metadata": {},
   "source": [
    "with $\\beta e^2=1.44$ eVnm.\n",
    "\n",
    "Adding this term, the $r$-dependent Schroedinger equation becomes"
   ]
  },
  {
   "cell_type": "markdown",
   "metadata": {},
   "source": [
    "$$\n",
    "\\left(  -\\frac{\\hbar^2}{m} \\frac{d^2}{dr^2}+ \\frac{1}{4}k r^2+\\frac{\\beta e^2}{r}\\right)\\psi(r)  = E_r \\psi(r).\n",
    "$$"
   ]
  },
  {
   "cell_type": "markdown",
   "metadata": {},
   "source": [
    "This equation is similar to the one we had previously in (b) and we introduce\n",
    "again a dimensionless variable $\\rho = r/\\alpha$. Repeating the same\n",
    "steps as above, we arrive at"
   ]
  },
  {
   "cell_type": "markdown",
   "metadata": {},
   "source": [
    "$$\n",
    "-\\frac{d^2}{d\\rho^2} \\psi(\\rho) \n",
    "       + \\frac{1}{4}\\frac{mk}{\\hbar^2} \\alpha^4\\rho^2\\psi(\\rho)+\\frac{m\\alpha \\beta e^2}{\\rho\\hbar^2}\\psi(\\rho)  = \n",
    "\\frac{m\\alpha^2}{\\hbar^2}E_r \\psi(\\rho) .\n",
    "$$"
   ]
  },
  {
   "cell_type": "markdown",
   "metadata": {},
   "source": [
    "We want to manipulate this equation further to make it as similar to that in (a)\n",
    "as possible. We define a new 'frequency'"
   ]
  },
  {
   "cell_type": "markdown",
   "metadata": {},
   "source": [
    "$$\n",
    "\\omega_r^2=\\frac{1}{4}\\frac{mk}{\\hbar^2} \\alpha^4,\n",
    "$$"
   ]
  },
  {
   "cell_type": "markdown",
   "metadata": {},
   "source": [
    "and fix the constant $\\alpha$ by requiring"
   ]
  },
  {
   "cell_type": "markdown",
   "metadata": {},
   "source": [
    "$$\n",
    "\\frac{m\\alpha \\beta e^2}{\\hbar^2}=1\n",
    "$$"
   ]
  },
  {
   "cell_type": "markdown",
   "metadata": {},
   "source": [
    "or"
   ]
  },
  {
   "cell_type": "markdown",
   "metadata": {},
   "source": [
    "$$\n",
    "\\alpha = \\frac{\\hbar^2}{m\\beta e^2}.\n",
    "$$"
   ]
  },
  {
   "cell_type": "markdown",
   "metadata": {},
   "source": [
    "Defining"
   ]
  },
  {
   "cell_type": "markdown",
   "metadata": {},
   "source": [
    "$$\n",
    "\\lambda = \\frac{m\\alpha^2}{\\hbar^2}E,\n",
    "$$"
   ]
  },
  {
   "cell_type": "markdown",
   "metadata": {},
   "source": [
    "we can rewrite Schroedinger's equation as"
   ]
  },
  {
   "cell_type": "markdown",
   "metadata": {},
   "source": [
    "$$\n",
    "-\\frac{d^2}{d\\rho^2} \\psi(\\rho) + \\omega_r^2\\rho^2\\psi(\\rho) +\\frac{1}{\\rho} = \\lambda \\psi(\\rho).\n",
    "$$"
   ]
  },
  {
   "cell_type": "markdown",
   "metadata": {},
   "source": [
    "We treat $\\omega_r$ as a parameter which reflects the strength of the oscillator potential.\n",
    "\n",
    "Here we will study the cases $\\omega_r = 0.01$, $\\omega_r = 0.5$, $\\omega_r =1$,\n",
    "and $\\omega_r = 5$   \n",
    "for the ground state only, that is the lowest-lying state.\n",
    "\n",
    "\n",
    "With no repulsive Coulomb interaction \n",
    "you should get a result which corresponds to \n",
    "the relative energy of a non-interacting system.   \n",
    "Make sure your results are \n",
    "stable as functions of $\\rho_{\\mathrm{max}}$ and the number of steps.\n",
    "\n",
    "We are only interested in the ground state with $l=0$. We omit the \n",
    "center-of-mass energy.\n",
    "\n",
    "You can reuse the code you wrote for part (b), \n",
    "but you need to add  the potential $\\omega_r^2\\rho^2+1/\\rho$ to the diagonal elements. \n",
    "\n",
    "Comment the results for the lowest state (ground state) as function of\n",
    "varying strengths of $\\omega_r$. \n",
    "\n",
    "\n",
    "For specific oscillator frequencies, the above equation has answers in an analytical form,\n",
    "see the article by [M. Taut, Phys. Rev. A 48, 3561 (1993)](http://prola.aps.org/abstract/PRA/v48/i5/p3561_1).\n",
    "\n",
    "If you have time (this last part is optional but gives you an added physical insight about the problem), you could plot the wave function \n",
    "for two electrons as functions of the relative coordinate $r$ and different\n",
    "values of $\\omega_r$.  With no Coulomb interaction you should have a result which corresponds to the non-interacting case. \n",
    "Plot either the function itself or the probability distribution (the function squared) with and without the repulsion between the two electrons.\n",
    "Varying $\\omega_r$, the shape of the wave function\n",
    "will change.  \n",
    "\n",
    "We are only interested in the wave function for the ground state with $l=0$ and\n",
    "omit again the  center-of-mass motion.\n",
    "\n",
    "The eigenvectors are normalized. \n",
    "Plot then the normalized wave functions for different  values of $\\omega_r$ and comment the results.\n",
    "\n",
    "\n",
    "### Project 2 g): Optional challenge (additional score of 30 points)\n",
    "\n",
    "This exercise is optional and is an algorithmic challenge. Your matrix is already tridiagonal. \n",
    "Can you devise a more efficient way to find the eigenvalues and eigenvectors instead of the brute force application of Jacobi's method? \n",
    "\n",
    "\n",
    "\n",
    "## Introduction to numerical projects\n",
    "\n",
    "Here follows a brief recipe and recommendation on how to write a report for each\n",
    "project.\n",
    "\n",
    "  * Give a short description of the nature of the problem and the eventual  numerical methods you have used.\n",
    "\n",
    "  * Describe the algorithm you have used and/or developed. Here you may find it convenient to use pseudocoding. In many cases you can describe the algorithm in the program itself.\n",
    "\n",
    "  * Include the source code of your program. Comment your program properly.\n",
    "\n",
    "  * If possible, try to find analytic solutions, or known limits in order to test your program when developing the code.\n",
    "\n",
    "  * Include your results either in figure form or in a table. Remember to        label your results. All tables and figures should have relevant captions        and labels on the axes.\n",
    "\n",
    "  * Try to evaluate the reliabilty and numerical stability/precision of your results. If possible, include a qualitative and/or quantitative discussion of the numerical stability, eventual loss of precision etc.\n",
    "\n",
    "  * Try to give an interpretation of you results in your answers to  the problems.\n",
    "\n",
    "  * Critique: if possible include your comments and reflections about the  exercise, whether you felt you learnt something, ideas for improvements and  other thoughts you've made when solving the exercise. We wish to keep this course at the interactive level and your comments can help us improve it.\n",
    "\n",
    "  * Try to establish a practice where you log your work at the  computerlab. You may find such a logbook very handy at later stages in your work, especially when you don't properly remember  what a previous test version  of your program did. Here you could also record  the time spent on solving the exercise, various algorithms you may have tested or other topics which you feel worthy of mentioning.\n",
    "\n",
    "## Format for electronic delivery of report and programs\n",
    "\n",
    "The preferred format for the report is a PDF file. You can also use DOC or postscript formats or as an ipython notebook file.  As programming language we prefer that you choose between C/C++, Fortran2008 or Python. The following prescription should be followed when preparing the report:\n",
    "\n",
    "  * Use your github repository to upload your report. Indicate where the report is by creating for example a **Report** folder. Please send us as soon as possible your github username.\n",
    "\n",
    "  * Place your programs in a folder called for example **Programs** or **src**, in order to indicate where your programs are. You can use a README file to tell us how your github folders are organized. \n",
    "\n",
    "  * In your git repository, please include a folder which contains selected results. These can be in the form of output from your code for a selected set of runs and input parameters.\n",
    "\n",
    "  * In this and all later projects, you should include tests (for example unit tests) of your code(s).\n",
    "\n",
    "  * Comments  from us on your projects, with score and detailed feedback will be emailed to you. \n",
    "\n",
    "Finally, \n",
    "we encourage you to work two and two together. Optimal working groups consist of \n",
    "2-3 students. You can then hand in a common report."
   ]
  }
 ],
 "metadata": {},
 "nbformat": 4,
 "nbformat_minor": 2
}
