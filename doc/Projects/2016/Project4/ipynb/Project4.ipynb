{
 "cells": [
  {
   "cell_type": "markdown",
   "metadata": {},
   "source": [
    "<!-- dom:TITLE: Project 4, deadline  November 14 -->\n",
    "# Project 4, deadline  November 14\n",
    "<!-- dom:AUTHOR: [Computational Physics I FYS3150/FYS4150](http://www.uio.no/studier/emner/matnat/fys/FYS3150/index-eng.html) at Department of Physics, University of Oslo, Norway -->\n",
    "<!-- Author: --> **[Computational Physics I FYS3150/FYS4150](http://www.uio.no/studier/emner/matnat/fys/FYS3150/index-eng.html)**, Department of Physics, University of Oslo, Norway\n",
    "\n",
    "Date: **Fall semester 2016**\n",
    "\n",
    "## Studies of phase transitions in magnetic systems\n",
    "\n",
    "### Introduction\n",
    "\n",
    "The aim of this project is to study a widely popular model to simulate phase transitions, the so-called Ising model in two dimensions. At a given critical temperature, this model exhbits a phase transition from a magnetic phase (a system with a finite magnetic moment) to a phase with zero magnetization. \n",
    "\n",
    "In its simplest form\n",
    "the energy of the Ising model is expressed as, without an externally applied magnetic field,"
   ]
  },
  {
   "cell_type": "markdown",
   "metadata": {},
   "source": [
    "$$\n",
    "E=-J\\sum_{< kl >}^{N}s_ks_l\n",
    "$$"
   ]
  },
  {
   "cell_type": "markdown",
   "metadata": {},
   "source": [
    "with\n",
    "$s_k=\\pm 1$. The quantity $N$ represents the total number of spins and $J$ is a coupling\n",
    "constant expressing the strength of the interaction between\n",
    "neighboring spins.  The symbol $<kl>$ indicates that we sum over\n",
    "nearest neighbors only. We will assume that we have a ferromagnetic\n",
    "ordering, viz $J> 0$.  We will use periodic boundary conditions and\n",
    "the Metropolis algorithm only. The material on the Ising model can be found in chapter 13 of the lecture notes. The Metropolis algorithm is discussed in chapter 12. \n",
    "\n",
    "\n",
    "**For this project you can collaborate with fellow students but you have to hand in an individual report.**\n",
    "This project (together with projects 3 and 5) counts 1/3 of the final mark.\n",
    "\n",
    "### Project 4a): A simple $2\\times 2$ lattice, analytical expressions\n",
    "\n",
    "Assume we have only two spins in each dimension, that is $L=2$.\n",
    "Find the analytical expression \n",
    "for the partition function and the corresponding\n",
    "expectations values for the energy $E$, the mean absolute value of the magnetic moment $\\vert M\\vert$ (we will refer to this as the mean magnetization), \n",
    "the specific heat $C_V$ and the susceptibility $\\chi$ \n",
    "as functions of  $T$ using periodic boundary conditions.\n",
    "\n",
    "### Project 4b): Writing a code for the Ising model\n",
    "\n",
    "Write now a code for the Ising model which computes the mean energy \n",
    "$E$, mean magnetization \n",
    "$\\vert M\\vert$, the specific heat $C_V$ and the susceptibility $\\chi$ \n",
    "as functions of  $T$ using periodic boundary conditions for \n",
    "$L=2$ in the $x$ and $y$ directions. \n",
    "Compare your results with the expressions from a)\n",
    "for  a  temperature $T=1.0$ (in units of $kT/J$). \n",
    "\n",
    "How many Monte Carlo cycles do you need in order to achieve a \n",
    "good agreeement?\n",
    "\n",
    "### Project 4c): When is the most likely state reached?\n",
    "\n",
    "We choose now a square lattice with $L=20$ spins in the $x$ and $y$ directions. \n",
    "\n",
    "In the previous exercise  we did not study carefully how many Monte Carlo cycles were needed in order to reach the most likely state. Here\n",
    "we want to perform a study of the time (here it corresponds to the number \n",
    "of Monte Carlo sweeps of the lattice) one needs before one reaches an equilibrium situation \n",
    "and can start computing various expectations values. Our \n",
    "first attempt is a rough and plain graphical\n",
    "one, where we plot various expectations values as functions of the number of Monte Carlo cycles.\n",
    "\n",
    "Choose first a temperature of $T=1.0$ (in units of $kT/J$) and study the \n",
    "mean energy and magnetisation (absolute value) as functions of the number of Monte Carlo cycles. Let the number of Monte Carlo cycles (sweeps per lattice)\n",
    "represent time.\n",
    "Use both an ordered (all spins pointing in one direction) and a random\n",
    "spin orientation as starting configuration. \n",
    "How many Monte Carlo cycles do you need before you reach an equilibrium situation?\n",
    "Repeat this analysis for $T=2.4$. \n",
    "Can you, based on these values estimate an equilibration time?\n",
    "Make also a plot of the total number of accepted configurations \n",
    "as function of the total number of Monte Carlo cycles. How does the number of\n",
    "accepted configurations behave as function of temperature $T$?\n",
    "\n",
    "### Project 4d): Analyzing the probability distribution\n",
    "\n",
    "Compute thereafter the probability\n",
    "$P(E)$ for the previous system with $L=20$ and the same temperatures, that is at $T=1.0$ and $T=2.4$.\n",
    "You compute this probability by simply counting the number of times a \n",
    "given energy appears in your computation. Start the computation after \n",
    "the steady state situation has been reached.\n",
    "Compare your results with the computed variance in energy \n",
    "$\\sigma^2_E$ and discuss the behavior you observe. \n",
    "\n",
    "### Studies of phase transitions\n",
    "\n",
    "Near $T_C$ we can characterize the behavior of many physical quantities\n",
    "by a power law behavior.\n",
    "As an example, for the Ising class of models, \n",
    "the mean magnetization is given by"
   ]
  },
  {
   "cell_type": "markdown",
   "metadata": {},
   "source": [
    "$$\n",
    "\\langle M(T) \\rangle \\sim \\left(T-T_C\\right)^{\\beta},\n",
    "$$"
   ]
  },
  {
   "cell_type": "markdown",
   "metadata": {},
   "source": [
    "where $\\beta=1/8$ is a so-called critical exponent. A similar relation\n",
    "applies to the heat capacity"
   ]
  },
  {
   "cell_type": "markdown",
   "metadata": {},
   "source": [
    "$$\n",
    "C_V(T) \\sim \\left|T_C-T\\right|^{\\alpha},\n",
    "$$"
   ]
  },
  {
   "cell_type": "markdown",
   "metadata": {},
   "source": [
    "and the susceptibility"
   ]
  },
  {
   "cell_type": "markdown",
   "metadata": {},
   "source": [
    "<!-- Equation labels as ordinary links -->\n",
    "<div id=\"_auto1\"></div>\n",
    "\n",
    "$$\n",
    "\\begin{equation}\n",
    "  \\chi(T) \\sim \\left|T_C-T\\right|^{\\gamma},\n",
    "\\label{_auto1} \\tag{1}\n",
    "\\end{equation}\n",
    "$$"
   ]
  },
  {
   "cell_type": "markdown",
   "metadata": {},
   "source": [
    "with $\\alpha = 0$ and $\\gamma = 7/4$.\n",
    "Another important quantity is the correlation length, which is expected\n",
    "to be of the order of the lattice spacing for $T>> T_C$. Because the spins\n",
    "become more and more correlated as $T$ approaches $T_C$, the correlation\n",
    "length increases as we get closer to the critical temperature. The divergent\n",
    "behavior of $\\xi$ near $T_C$ \n",
    "is"
   ]
  },
  {
   "cell_type": "markdown",
   "metadata": {},
   "source": [
    "<!-- Equation labels as ordinary links -->\n",
    "<div id=\"eq:xi\"></div>\n",
    "\n",
    "$$\n",
    "\\begin{equation}\n",
    "  \\xi(T) \\sim \\left|T_C-T\\right|^{-\\nu}.\n",
    "\\label{eq:xi} \\tag{2}\n",
    "\\end{equation}\n",
    "$$"
   ]
  },
  {
   "cell_type": "markdown",
   "metadata": {},
   "source": [
    "A second-order phase transition is characterized by a\n",
    "correlation length which spans the whole system.\n",
    "Since we are always limited to a finite lattice, $\\xi$ will\n",
    "be proportional with the size of the lattice. \n",
    "Through so-called finite size scaling relations\n",
    "it is possible to relate the behavior at finite lattices with the \n",
    "results for an infinitely large lattice.\n",
    "The critical temperature scales then as"
   ]
  },
  {
   "cell_type": "markdown",
   "metadata": {},
   "source": [
    "<!-- Equation labels as ordinary links -->\n",
    "<div id=\"eq:tc\"></div>\n",
    "\n",
    "$$\n",
    "\\begin{equation}\n",
    " T_C(L)-T_C(L=\\infty) = aL^{-1/\\nu},\n",
    "\\label{eq:tc} \\tag{3}\n",
    "\\end{equation}\n",
    "$$"
   ]
  },
  {
   "cell_type": "markdown",
   "metadata": {},
   "source": [
    "with  $a$ a constant and  $\\nu$ defined in Eq. ([eq:xi](#eq:xi)).\n",
    "We set $T=T_C$ and obtain a mean magnetisation"
   ]
  },
  {
   "cell_type": "markdown",
   "metadata": {},
   "source": [
    "<!-- Equation labels as ordinary links -->\n",
    "<div id=\"eq:scale1\"></div>\n",
    "\n",
    "$$\n",
    "\\begin{equation}\n",
    "  \\langle {\\cal M}(T) \\rangle \\sim \\left(T-T_C\\right)^{\\beta}\n",
    "  \\rightarrow L^{-\\beta/\\nu},\n",
    "\\label{eq:scale1} \\tag{4}\n",
    "\\end{equation}\n",
    "$$"
   ]
  },
  {
   "cell_type": "markdown",
   "metadata": {},
   "source": [
    "a heat capacity"
   ]
  },
  {
   "cell_type": "markdown",
   "metadata": {},
   "source": [
    "<!-- Equation labels as ordinary links -->\n",
    "<div id=\"eq:scale2\"></div>\n",
    "\n",
    "$$\n",
    "\\begin{equation}\n",
    "  C_V(T) \\sim \\left|T_C-T\\right|^{-\\gamma} \\rightarrow L^{\\alpha/\\nu},\n",
    "\\label{eq:scale2} \\tag{5}\n",
    "\\end{equation}\n",
    "$$"
   ]
  },
  {
   "cell_type": "markdown",
   "metadata": {},
   "source": [
    "and susceptibility"
   ]
  },
  {
   "cell_type": "markdown",
   "metadata": {},
   "source": [
    "<!-- Equation labels as ordinary links -->\n",
    "<div id=\"eq:scale3\"></div>\n",
    "\n",
    "$$\n",
    "\\begin{equation}\n",
    "  \\chi(T) \\sim \\left|T_C-T\\right|^{-\\alpha} \\rightarrow L^{\\gamma/\\nu}.\n",
    "\\label{eq:scale3} \\tag{6}\n",
    "\\end{equation}\n",
    "$$"
   ]
  },
  {
   "cell_type": "markdown",
   "metadata": {},
   "source": [
    "### Project 4e): Numerical studies of phase transitions\n",
    "\n",
    "We wish to study the behavior of the Ising model\n",
    "in two dimensions close to the critical temperature as a function of\n",
    "the lattice size $L\\times L$. Calculate the expectation values for\n",
    "$\\langle E\\rangle$ and $\\langle \\vert M\\vert \\rangle$, the specific heat\n",
    "$C_V$ and the susceptibility $\\chi$ as functions of $T$ for $L=40$,\n",
    "$L=60$, $L=100$ and $L=140$ for $T\\in [2.0,2.3]$ with a step in\n",
    "temperature $\\Delta T=0.05$ or smaller.  You may find it convenient narrow the domain for $T$. \n",
    "\n",
    "Plot $\\langle E\\rangle$,\n",
    "$\\langle \\vert M\\vert\\rangle$, $C_V$ and $\\chi$ as functions of $T$. Can\n",
    "you see an indication of a phase transition?  Use the absolute value\n",
    "$\\langle \\vert M\\vert\\rangle$ when you evaluate $\\chi$.  For these production runs you should\n",
    "parallelize the code using MPI (recommended). Alternatively OpenMP can be used. Use optimization flags when compiling. Perform a timing analysis of some selected runs in order to see that you get an optimal speedup when parallelizing your code. \n",
    "\n",
    "\n",
    "\n",
    "### Project 4f): Extracting the critical temperature\n",
    "\n",
    "Use Eq. ([eq:tc](#eq:tc)) and the exact result\n",
    "$\\nu=1$ in order to estimate $T_C$ in the thermodynamic limit \n",
    "$L\\rightarrow \\infty$\n",
    "using your simulations with $L=40$, $L=60$, $L=100$ and $L=140$\n",
    "The exact result for the critical temperature ([after Lars Onsager](http://journals.aps.org/pr/abstract/10.1103/PhysRev.65.117)) is\n",
    "$kT_C/J=2/ln(1+\\sqrt{2})\\approx 2.269$ with $\\nu=1$.\n",
    "\n",
    "## Background literature\n",
    "\n",
    "If you wish to read more about the Ising model and statistical physics here are three suggestions.\n",
    "\n",
    "  * [M. Plischke and B. Bergersen](http://www.worldscientific.com/worldscibooks/10.1142/5660), *Equilibrium Statistical Physics*, World Scientific, see chapters 5 and 6.\n",
    "\n",
    "  * [D. P. Landau and K. Binder](http://www.cambridge.org/no/academic/subjects/physics/computational-science-and-modelling/guide-monte-carlo-simulations-statistical-physics-4th-edition?format=HB), *A Guide to Monte Carlo Simulations in Statistical Physics*, Cambridge, see chapters 2,3 and 4.\n",
    "\n",
    "  * [M. E. J. Newman and T. Barkema](https://global.oup.com/academic/product/monte-carlo-methods-in-statistical-physics-9780198517979?cc=no&lang=en&), *Monte Carlo Methods in Statistical Physics*, Oxford, see chapters 3 and 4.\n",
    "\n",
    "## Introduction to numerical projects\n",
    "\n",
    "Here follows a brief recipe and recommendation on how to write a report for each\n",
    "project.\n",
    "\n",
    "  * Give a short description of the nature of the problem and the eventual  numerical methods you have used.\n",
    "\n",
    "  * Describe the algorithm you have used and/or developed. Here you may find it convenient to use pseudocoding. In many cases you can describe the algorithm in the program itself.\n",
    "\n",
    "  * Include the source code of your program. Comment your program properly.\n",
    "\n",
    "  * If possible, try to find analytic solutions, or known limits in order to test your program when developing the code.\n",
    "\n",
    "  * Include your results either in figure form or in a table. Remember to        label your results. All tables and figures should have relevant captions        and labels on the axes.\n",
    "\n",
    "  * Try to evaluate the reliabilty and numerical stability/precision of your results. If possible, include a qualitative and/or quantitative discussion of the numerical stability, eventual loss of precision etc.\n",
    "\n",
    "  * Try to give an interpretation of you results in your answers to  the problems.\n",
    "\n",
    "  * Critique: if possible include your comments and reflections about the  exercise, whether you felt you learnt something, ideas for improvements and  other thoughts you've made when solving the exercise. We wish to keep this course at the interactive level and your comments can help us improve it.\n",
    "\n",
    "  * Try to establish a practice where you log your work at the  computerlab. You may find such a logbook very handy at later stages in your work, especially when you don't properly remember  what a previous test version  of your program did. Here you could also record  the time spent on solving the exercise, various algorithms you may have tested or other topics which you feel worthy of mentioning.\n",
    "\n",
    "## Format for electronic delivery of report and programs\n",
    "\n",
    "The preferred format for the report is a PDF file. You can also use DOC or postscript formats or as an ipython notebook file.  As programming language we prefer that you choose between C/C++, Fortran2008 or Python. The following prescription should be followed when preparing the report:\n",
    "\n",
    "  * Use Devilry to hand in your projects, log in  at  <http://devilry.ifi.uio.no> with your normal UiO username and password and choose either 'fys3150' or 'fys4150'. There you can load up the files within the deadline.\n",
    "\n",
    "  * Upload **only** the report file!  For the source code file(s) you have developed please provide us with your link to your github domain.  The report file should include all of your discussions and a list of the codes you have developed.  Do not include library files which are available at the course homepage, unless you have made specific changes to them.\n",
    "\n",
    "  * In your git repository, please include a folder which contains selected results. These can be in the form of output from your code for a selected set of runs and input parametxers.\n",
    "\n",
    "  * In this and all later projects, you should include tests (for example unit tests) of your code(s).\n",
    "\n",
    "  * Comments  from us on your projects, approval or not, corrections to be made  etc can be found under your Devilry domain and are only visible to you and the teachers of the course.\n",
    "\n",
    "Finally, \n",
    "we encourage you to work two and two together. Optimal working groups consist of \n",
    "2-3 students. For this specific report you need to hand in an individual report.\n",
    "\n",
    "\n",
    "\n",
    "## How to install openmpi and/or OpenMP on your PC/laptop\n",
    "\n",
    "If you use your own laptop, for linux/ubuntu users, you need to install two packages (alternatively use the synaptic package manager)"
   ]
  },
  {
   "cell_type": "markdown",
   "metadata": {},
   "source": [
    "          sudo apt-get install libopenmpi-dev\n",
    "          sudo apt-get install openmpi-bin\n"
   ]
  },
  {
   "cell_type": "markdown",
   "metadata": {},
   "source": [
    "For OS X users, install brew (after having installed xcode and gcc, needed for the \n",
    "gfortran compiler of openmpi) and then run"
   ]
  },
  {
   "cell_type": "markdown",
   "metadata": {},
   "source": [
    "        brew install open-mpi\n"
   ]
  },
  {
   "cell_type": "markdown",
   "metadata": {},
   "source": [
    "When compiling from the command line, depending on your choice of programming language you need to compile and link as for example"
   ]
  },
  {
   "cell_type": "markdown",
   "metadata": {},
   "source": [
    "        mpic++ -O3 -o <executable> <programname.cpp>\n"
   ]
  },
  {
   "cell_type": "markdown",
   "metadata": {},
   "source": [
    "if you use c++ (alternatively mpicxx) and"
   ]
  },
  {
   "cell_type": "markdown",
   "metadata": {},
   "source": [
    "        mpif90 -O3 -o <executable> <programname.f90>\n"
   ]
  },
  {
   "cell_type": "markdown",
   "metadata": {},
   "source": [
    "if you use Fortran90.\n",
    "\n",
    "When running an executable, run as"
   ]
  },
  {
   "cell_type": "markdown",
   "metadata": {},
   "source": [
    "        mpirun -n 10 ./<executable>\n"
   ]
  },
  {
   "cell_type": "markdown",
   "metadata": {},
   "source": [
    "where -n indicates the number of processes, 10 here.\n",
    "\n",
    "With openmpi installed, when using Qt, add to your .pro file the instructions at [Svenn-Arne Dragly's site](http://dragly.org/2012/03/14/developing-mpi-applications-in-qt-creator/)\n",
    "\n",
    "You may need to tell Qt where opempi is stored.\n",
    "\n",
    "For the machines at the computer lab, openmpi is located  at /usr/lib64/openmpi/bin\n",
    "Add to your .bashrc file the following"
   ]
  },
  {
   "cell_type": "markdown",
   "metadata": {},
   "source": [
    "        export PATH=/usr/lib64/openmpi/bin:$PATH \n"
   ]
  },
  {
   "cell_type": "markdown",
   "metadata": {},
   "source": [
    "For Windows users we recommend to follow the instructions at the [Open MPI site](https://www.open-mpi.org/software/ompi/v1.6/ms-windows.php).\n",
    "\n",
    "If you use OpenMP, for linux users, compile and link with for example"
   ]
  },
  {
   "cell_type": "markdown",
   "metadata": {},
   "source": [
    "        c++ -O3 -fopenmp -o <executable>  <programname.cpp>\n"
   ]
  },
  {
   "cell_type": "markdown",
   "metadata": {},
   "source": [
    "For OS X users, you need to install clang-omp using brew, that is"
   ]
  },
  {
   "cell_type": "markdown",
   "metadata": {},
   "source": [
    "        brew install clang-omp\n"
   ]
  },
  {
   "cell_type": "markdown",
   "metadata": {},
   "source": [
    "and then compile and link with for example"
   ]
  },
  {
   "cell_type": "markdown",
   "metadata": {},
   "source": [
    "        clang-omp++ -O3 -fopenmp -o <executable>  <programname.cpp>\n"
   ]
  },
  {
   "cell_type": "markdown",
   "metadata": {},
   "source": [
    "If you program in Fortran and use **gfortran**, compile as for example"
   ]
  },
  {
   "cell_type": "markdown",
   "metadata": {},
   "source": [
    "        gfortran -O3 -fopenmp -o <executable>  <programname.f90>\n"
   ]
  },
  {
   "cell_type": "markdown",
   "metadata": {},
   "source": [
    "If you have access to Intel's **ifort** compiler, compile as"
   ]
  },
  {
   "cell_type": "markdown",
   "metadata": {},
   "source": [
    "        ifort -O3 -fopenmp -o <executable>  <programname.f90>\n"
   ]
  }
 ],
 "metadata": {},
 "nbformat": 4,
 "nbformat_minor": 1
}
