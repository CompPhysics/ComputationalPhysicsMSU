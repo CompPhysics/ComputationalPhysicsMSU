{
 "cells": [
  {
   "cell_type": "markdown",
   "metadata": {},
   "source": [
    "<!-- dom:TITLE: Project 4, deadline  April 30 -->\n",
    "# Project 4, deadline  April 30\n",
    "<!-- dom:AUTHOR: White dwarf star  project -->\n",
    "<!-- Author: --> **White dwarf star  project**\n",
    "\n",
    "Date: **Spring semester 2017**\n",
    "\n",
    "## Theoretical background and description of the physical system\n",
    "\n",
    "This project contains a long description of the physics of compact objects such as white dwarfs.\n",
    "It serves as a background for understanding the final differential equations you need to solve.\n",
    "\n",
    "White dwarfs are cold objects which consist mainly of heavy nuclei such as $^{56}$Fe, with 26 protons, 30 neutrons\n",
    "and  their respective electrons.  Charge equilibrium results in an equal quantity of electrons and protons.\n",
    "You can read more about white dwarfs, neutron stars and black holes at the website of the\n",
    "[Joint Institute for Nuclear Astrophysics](http://www.jinaweb.org) or [NASA's website](http://www.nasa.org).\n",
    "These stars are the endpoints of stars with masses of the size or smaller than our sun. \n",
    "They are the outcome of standard nuclear processes and end their lives as \n",
    "cold objects like white dwarfs when they have used up all their nuclear fuel.\n",
    "\n",
    "Where a star ends up at the end of its life depends on the mass, or amount of matter, it was born with. \n",
    "Stars that have a lot of mass may end their lives as black holes or neutron stars. Low and medium mass stars \n",
    "will become something called a white dwarf. A typical white dwarf is half as massive as the Sun, yet \n",
    "only slightly bigger than the Earth. This makes white dwarfs one of the densest forms of matter, surpassed only by neutron stars.\n",
    "\n",
    "Medium mass stars, like our Sun, live by burning the hydrogen that dwells within their cores, \n",
    "turning it into helium. This is what our Sun is doing now. The heat the Sun generates by its \n",
    "nuclear fusion of hydrogen into helium creates an outward pressure. In another 5 billion years, \n",
    "the Sun will have used up all the hydrogen in its core.\n",
    "\n",
    "This situation in a star is similar to a pressure cooker. Heating something \n",
    "in a sealed container causes a build up in pressure. The same thing happens in the Sun. \n",
    "Although the Sun may not strictly be a sealed container, gravity causes it to act like one, pulling the \n",
    "star inward, while the pressure created by the hot gas in the core pushes to get out. \n",
    "The balance between pressure and gravity is very delicate. \n",
    "\n",
    "Because a white dwarf is no longer able to create internal pressure, gravity unopposedly crushes \n",
    "it down until even the very electrons that make up a white dwarf's atoms are mashed together. \n",
    "In normal circumstances, identical electrons (those with the same \"spin\") are not allowed to occupy the same energy level. \n",
    "Since there are only two ways an electron can spin, only two electrons can occupy a single energy level. \n",
    "This is what's know in physics as the Pauli Exclusion Principle. And in a normal gas, this isn't a problem; \n",
    "there aren't enough electrons floating around to completely fill up all the energy levels. But in a white dwarf, \n",
    "all of its electrons are forced close together; soon all the energy levels in its atoms are filled up with electrons. \n",
    "If all the energy levels are filled, and it is impossible to put more than two electrons in each level, \n",
    "then our white dwarf has become degenerate. For gravity to compress the white dwarf anymore, \n",
    "it must force electrons where they cannot go. Once a star is degenerate, gravity cannot compress it any more \n",
    "because quantum mechanics tells us there is no more available space to be taken up. So our white dwarf survives, \n",
    "not by internal combustion, but by quantum mechanical principles that prevent its complete collapse.\n",
    "\n",
    "\n",
    "\n",
    "With a surface gravity of 100000 times that of the earth, the atmosphere of \n",
    "a white dwarf is very strange. The heavier atoms in its atmosphere sink and the lighter ones remain at the surface. \n",
    "Some white dwarfs have almost pure hydrogen or helium atmospheres, the lightest of elements. \n",
    "Also, the very strong gravity pulls the atmosphere close around it in a very thin layer, that, \n",
    "if were it on earth, would be lower than the tops of our skyscrapers!\n",
    "\n",
    "## Equilibrium equations\n",
    "\n",
    "We assume that the star is in thermal equilibrium. It exhibits also charge equilibrium, meaning the number of electrons has to balance the number of protons. The gravitational pull \n",
    "on every element of volume is balanced by the pressure set up by a degenerate gas of electrons\n",
    "at $T=0$, since the temperature of the star is well below the so-called Fermi temperature of the \n",
    "electrons. \n",
    "The electrons are assumed to be relativistic and since the protons and neutrons have much lower\n",
    "kinetic energy, we assume that the pressure which balances the gravitational force is mainly\n",
    "set up by the relativistic electrons. The kinetic energy of the electrons is also much larger\n",
    "than the electron-electron repulsion or the attraction from the nuclei. This means that we can treat \n",
    "the system as a gas of free degenerate electrons at $T=0$ moving in between a lattice of nuclei like  \n",
    "iron. This is our ansatz. \n",
    "Based on this we can derive the pressure which counterbalances the gravitational force given by\n",
    "(for every element of volume in a distance $r$ from the center of the star)"
   ]
  },
  {
   "cell_type": "markdown",
   "metadata": {},
   "source": [
    "$$\n",
    "F_{Grav}=-\\frac{Gm(r)}{r^{2}}\\rho(r),\n",
    "$$"
   ]
  },
  {
   "cell_type": "markdown",
   "metadata": {},
   "source": [
    "with $G$ being the  gravitational constant, $\\rho (r)$ the mass density  (mass per volume) of a volume\n",
    "element a distance $r$ from the center of the star,\n",
    "and  $m(r)$ is the integrated mass within a radius $r$. The latter reads"
   ]
  },
  {
   "cell_type": "markdown",
   "metadata": {},
   "source": [
    "$$\n",
    "m(r)=4\\pi\\int_{0}^{r}\\rho (r')r'^{2}dr'\n",
    "$$"
   ]
  },
  {
   "cell_type": "markdown",
   "metadata": {},
   "source": [
    "which yields a differential equation between the total mass and the mass density"
   ]
  },
  {
   "cell_type": "markdown",
   "metadata": {},
   "source": [
    "$$\n",
    "\\frac{dm}{dr}=4\\pi r^{2}\\rho (r).\n",
    "$$"
   ]
  },
  {
   "cell_type": "markdown",
   "metadata": {},
   "source": [
    "In equilibrium, the pressure $P$ balances the gravitational force"
   ]
  },
  {
   "cell_type": "markdown",
   "metadata": {},
   "source": [
    "$$\n",
    "\\frac{dP}{dr}=-\\frac{Gm(r)}{r^{2}}\\rho (r),\n",
    "$$"
   ]
  },
  {
   "cell_type": "markdown",
   "metadata": {},
   "source": [
    "and using $dP/d\\rho = (d\\rho/dr)(dP/d\\rho)$ we obtain"
   ]
  },
  {
   "cell_type": "markdown",
   "metadata": {},
   "source": [
    "$$\n",
    "\\frac{d\\rho}{dr}=-\\left(\\frac{dP}{d\\rho}\\right)^{-1}\\frac{Gm}{r^{2}}\\rho.\n",
    "$$"
   ]
  },
  {
   "cell_type": "markdown",
   "metadata": {},
   "source": [
    "Together with $\\frac{dm}{dr}=4\\pi r^{2}\\rho (r)$\n",
    "we have now two coupled first-order ordinary differential equations\n",
    "which determine the structure of the white dwarf given an equation of state\n",
    "$P(\\rho )$.\n",
    "The total radius is given by the condition \n",
    "$\\rho (R)=0$. \n",
    "Similarly, the mass for $r=0$\n",
    "is $m=0$.  \n",
    "The density at $r=0$ is given by the central density $\\rho_{c}$, a parameter you will have to play with \n",
    "as input parameter.\n",
    "\n",
    "By integrating the last equation, we find the density profile of the star.\n",
    "The radius $R$ is determined by the point where \n",
    "the density distribution\n",
    "is $\\rho =0$. \n",
    "The mass is then given by $M=m(R)$.\n",
    "Since both the total mass and the radius $R$ will depend on the central density\n",
    "$\\rho_{c}$, a variation of this parameter will allow us to study stars \n",
    "with different masses.\n",
    "However, before we can proceed, we need the pressure for a relativistic gas of electrons.\n",
    "\n",
    "## Equation of state for a white dwarf\n",
    "\n",
    "We will treat the electrons as a relativistic gas of fermions at $T=0$.\n",
    "From statistical physics we can then obtain the particle density as"
   ]
  },
  {
   "cell_type": "markdown",
   "metadata": {},
   "source": [
    "$$\n",
    "n=N/V=\\frac{1}{\\pi^{2}}\\int_{0}^{k_{F}}k^{2}dk=\\frac{k_{F}^{3}}{3\\pi^{2}},\n",
    "$$"
   ]
  },
  {
   "cell_type": "markdown",
   "metadata": {},
   "source": [
    "where $k_F$ is the Fermi momentum, here represented by the wave number $k_F$.\n",
    "The wave number is connected to the momentum via $k_F=p_F/\\hbar$.\n",
    "The energy density is given by"
   ]
  },
  {
   "cell_type": "markdown",
   "metadata": {},
   "source": [
    "$$\n",
    "\\varepsilon=E/V=\\frac{1}{\\pi^{2}}\\int_{0}^{k_{F}}k^{2}dk\n",
    "\\sqrt{(\\hbar ck)^{2}+m_{e}^{2}c^{4}}.\n",
    "$$"
   ]
  },
  {
   "cell_type": "markdown",
   "metadata": {},
   "source": [
    "This expression is of the form $\\int y^2\\sqrt{y^2+a^2}$. Performing the integration we obtain"
   ]
  },
  {
   "cell_type": "markdown",
   "metadata": {},
   "source": [
    "$$\n",
    "E/V=n_0m_ec^2x^3\\epsilon (x),\n",
    "$$"
   ]
  },
  {
   "cell_type": "markdown",
   "metadata": {},
   "source": [
    "where we have defined"
   ]
  },
  {
   "cell_type": "markdown",
   "metadata": {},
   "source": [
    "$$\n",
    "\\epsilon (x) =\n",
    "\\frac{3}{8x^3}\\left( x(1+2x^2)\\sqrt{1+x^2}-ln(x+\\sqrt{1+x^2})\\right),\n",
    "$$"
   ]
  },
  {
   "cell_type": "markdown",
   "metadata": {},
   "source": [
    "with the variable $x$ defined as"
   ]
  },
  {
   "cell_type": "markdown",
   "metadata": {},
   "source": [
    "$$\n",
    "x=\\frac{\\hbar k_F}{m_ec}.\n",
    "$$"
   ]
  },
  {
   "cell_type": "markdown",
   "metadata": {},
   "source": [
    "We can rewrite $x$ in terms of the particle density as well"
   ]
  },
  {
   "cell_type": "markdown",
   "metadata": {},
   "source": [
    "$$\n",
    "n=N/V=\\frac{k_{F}^{3}}{3\\pi^{2}},\n",
    "$$"
   ]
  },
  {
   "cell_type": "markdown",
   "metadata": {},
   "source": [
    "so that"
   ]
  },
  {
   "cell_type": "markdown",
   "metadata": {},
   "source": [
    "$$\n",
    "\\frac{\\hbar k_F}{m_ec}=\\left(\\frac{n\\hbar 3\\pi^2}{m_e^3c^3}\\right)^{1/3},\n",
    "$$"
   ]
  },
  {
   "cell_type": "markdown",
   "metadata": {},
   "source": [
    "where we define\n",
    "$n_{0}=\\frac{(mc)^{3}_{e}}{3\\pi^2(\\hbar)^{3}}$ with $m_{e}$ the electron mass.\n",
    "Using the constant $n_0$ results finally in"
   ]
  },
  {
   "cell_type": "markdown",
   "metadata": {},
   "source": [
    "$$\n",
    "x=\\frac{\\hbar k_F}{m_ec}=\\left(\\frac{n}{n_{0}}\\right)^{1/3}.\n",
    "$$"
   ]
  },
  {
   "cell_type": "markdown",
   "metadata": {},
   "source": [
    "Since the mass of the protons and neutrons are larger by a factor $10^3$ than the mass\n",
    "of the electrons $m_e$, \n",
    "we can approximate the total mass of the star by the mass density of the nucleons (protons and neutrons).\n",
    "This mass density is given by"
   ]
  },
  {
   "cell_type": "markdown",
   "metadata": {},
   "source": [
    "$$\n",
    "\\rho = M_p n_p,\n",
    "$$"
   ]
  },
  {
   "cell_type": "markdown",
   "metadata": {},
   "source": [
    "with $M_{p}$ being the  mass of the proton and $n_p$ the particle density of the nucleons.\n",
    "The mass of the proton and the neutron are almost equal and we have set them equal here.\n",
    "The particle density  $n_p$ can be related to the electron density $n$, which is the quantity\n",
    "we can calculate. The relation is simple,"
   ]
  },
  {
   "cell_type": "markdown",
   "metadata": {},
   "source": [
    "$$\n",
    "n_p = n/Y_e ,\n",
    "$$"
   ]
  },
  {
   "cell_type": "markdown",
   "metadata": {},
   "source": [
    "where $Y_{e}$ is the number of electrons per nucleon.  For $^{56}$Fe we get $Y_{e}=\\frac{26}{56}=0.464$, since we \n",
    "need to have as many electrons as protons in order to obtain a total charge of zero. Inserting numerical values\n",
    "for the electron mass we get"
   ]
  },
  {
   "cell_type": "markdown",
   "metadata": {},
   "source": [
    "$$\n",
    "n_{0}=5.89\\times 10^{29} \\mathrm{cm}^{-3}.\n",
    "$$"
   ]
  },
  {
   "cell_type": "markdown",
   "metadata": {},
   "source": [
    "The mass density is now"
   ]
  },
  {
   "cell_type": "markdown",
   "metadata": {},
   "source": [
    "$$\n",
    "\\rho = M_p n/Y_e,\n",
    "$$"
   ]
  },
  {
   "cell_type": "markdown",
   "metadata": {},
   "source": [
    "and with"
   ]
  },
  {
   "cell_type": "markdown",
   "metadata": {},
   "source": [
    "$$\n",
    "x=\\left(\\frac{n}{n_{0}}\\right)^{1/3}=\\left(\\frac{\\rho}{\\rho_{0}}\\right)^{1/3},\n",
    "$$"
   ]
  },
  {
   "cell_type": "markdown",
   "metadata": {},
   "source": [
    "and inserting the numerical value for the proton mass we obtain"
   ]
  },
  {
   "cell_type": "markdown",
   "metadata": {},
   "source": [
    "$$\n",
    "\\rho_{0}=\\frac{M_{p}n_{0}}{Y_{e}}=9.79\\times 10^{5}Y_{e}^{-1} \\mathrm{g}\\hspace{1mm}\n",
    "\\mathrm{cm}^{-3}.\n",
    "$$"
   ]
  },
  {
   "cell_type": "markdown",
   "metadata": {},
   "source": [
    "Using the parameter $Y_{e}$ we can then study stars with different compositions.\n",
    "The only input parameters to your code are then $\\rho_c$ and $Y_e$.\n",
    "\n",
    "Now we want the equation for the pressure, based on the energy density.\n",
    "Using the thermodynamical relation"
   ]
  },
  {
   "cell_type": "markdown",
   "metadata": {},
   "source": [
    "$$\n",
    "P=-\\frac{\\partial E}{\\partial V}=-\\frac{\\partial E}{\\partial x}\n",
    "\\frac{\\partial x}{\\partial V},\n",
    "$$"
   ]
  },
  {
   "cell_type": "markdown",
   "metadata": {},
   "source": [
    "we can find the pressure as a function of the mass density $\\rho$.\n",
    "Thereafter we can find $\\frac{dP}{d\\rho}$, which allows us to \n",
    "determine the mass and the radius of the star. \n",
    "\n",
    "The term"
   ]
  },
  {
   "cell_type": "markdown",
   "metadata": {},
   "source": [
    "$$\n",
    "\\frac{\\partial x}{\\partial V},\n",
    "$$"
   ]
  },
  {
   "cell_type": "markdown",
   "metadata": {},
   "source": [
    "can be found using the fact that  $x\\propto n^{1/3} \\propto V^{-3}$. This results in"
   ]
  },
  {
   "cell_type": "markdown",
   "metadata": {},
   "source": [
    "$$\n",
    "\\frac{\\partial x}{\\partial V}= -\\frac{x}{3V}.\n",
    "$$"
   ]
  },
  {
   "cell_type": "markdown",
   "metadata": {},
   "source": [
    "Taking the derivative with respect to $x$ we obtain"
   ]
  },
  {
   "cell_type": "markdown",
   "metadata": {},
   "source": [
    "$$\n",
    "P=\\frac{1}{3}n_0m_ec^2 x^4\\frac{d\\epsilon}{dx}.\n",
    "$$"
   ]
  },
  {
   "cell_type": "markdown",
   "metadata": {},
   "source": [
    "We want the derivative of  $P$ in terms of the mass density $\\rho$. Using\n",
    "$x=\\left(\\frac{\\rho}{\\rho_{0}}\\right)^{1/3}$, we obtain"
   ]
  },
  {
   "cell_type": "markdown",
   "metadata": {},
   "source": [
    "$$\n",
    "\\frac{dP}{d\\rho}=\\frac{dP}{dx}\\frac{dx}{d\\rho}.\n",
    "$$"
   ]
  },
  {
   "cell_type": "markdown",
   "metadata": {},
   "source": [
    "With"
   ]
  },
  {
   "cell_type": "markdown",
   "metadata": {},
   "source": [
    "$$\n",
    "\\frac{dP}{dx}=\\frac{1}{3}n_0m_e\n",
    "\\left(\\frac{dx^4\\frac{d\\epsilon}{dx}}{dx}\\right),\n",
    "$$"
   ]
  },
  {
   "cell_type": "markdown",
   "metadata": {},
   "source": [
    "and"
   ]
  },
  {
   "cell_type": "markdown",
   "metadata": {},
   "source": [
    "$$\n",
    "\\frac{dx}{d\\rho}=\\frac{1\\rho_0^{2/3}}{3\\rho_0\\rho^{2/3}}\n",
    "=\\frac{1}{3\\rho_0 x^2},\n",
    "$$"
   ]
  },
  {
   "cell_type": "markdown",
   "metadata": {},
   "source": [
    "we find"
   ]
  },
  {
   "cell_type": "markdown",
   "metadata": {},
   "source": [
    "$$\n",
    "\\frac{dP}{d\\rho}=Y_{e}\\frac{m_{e}c^2}{M_{p}}\\gamma (x),\n",
    "$$"
   ]
  },
  {
   "cell_type": "markdown",
   "metadata": {},
   "source": [
    "where we defined"
   ]
  },
  {
   "cell_type": "markdown",
   "metadata": {},
   "source": [
    "$$\n",
    "\\gamma (x)=\\frac{x^{2}}{3\\sqrt{1+x^{2}}}.\n",
    "$$"
   ]
  },
  {
   "cell_type": "markdown",
   "metadata": {},
   "source": [
    "This is the equation for the derivative of the pressure to be used to find"
   ]
  },
  {
   "cell_type": "markdown",
   "metadata": {},
   "source": [
    "$$\n",
    "\\frac{d\\rho}{dr}=-\\left(\\frac{dP}{d\\rho}\\right)^{-1}\\frac{Gm}{r^{2}}\\rho.\n",
    "$$"
   ]
  },
  {
   "cell_type": "markdown",
   "metadata": {},
   "source": [
    "Note that $x$ and $\\gamma(x)$ are dimensionless quantities.\n",
    "\n",
    "## Dimensionless form of the differential equations\n",
    "\n",
    "In the numerical treatment of the two differential equations we need\n",
    "to rescale our equations in terms of dimensionless quantities, since several of the\n",
    "involved constants are either extremely large or very small.\n",
    "Furthermore, the total mass is of the order of the mass of the sun, approximately\n",
    "$2\\times 10^{30}$kg while the mass of the electron is $9\\times 10^{-31}$ kg.\n",
    "\n",
    "We introduce therefore a dimensionless radius $\\overline{r}=r/R_{0}$, a dimensionless density\n",
    "$\\overline{\\rho}=\\rho /\\rho_{0}$ (recall that $x^{3}=\\rho /\\rho_{0}$)\n",
    "and a dimensionless mass $\\overline{m}=m/M_{0}$.\n",
    "\n",
    "We determine below the constants  $M_{0}$ and $R_{0}$ by requiring that the equations\n",
    "for $\\frac{dm}{dr}$ and $\\frac{d\\rho}{dr}$ have to be dimensionless.  \n",
    "We get then"
   ]
  },
  {
   "cell_type": "markdown",
   "metadata": {},
   "source": [
    "$$\n",
    "\\frac{dM_0\\overline{m}}{dR_0\\overline{r}}=\n",
    "4\\pi R_0^2\\overline{r}^{2}\\rho_0\\overline{\\rho},\n",
    "$$"
   ]
  },
  {
   "cell_type": "markdown",
   "metadata": {},
   "source": [
    "resulting in"
   ]
  },
  {
   "cell_type": "markdown",
   "metadata": {},
   "source": [
    "$$\n",
    "\\frac{d\\overline{m}}{d\\overline{r}}=\n",
    "4\\pi R_0^3\\overline{r}^{2}\\rho_0\\overline{\\rho}/M_0.\n",
    "$$"
   ]
  },
  {
   "cell_type": "markdown",
   "metadata": {},
   "source": [
    "If we want this equation to be dimensionless, we must require"
   ]
  },
  {
   "cell_type": "markdown",
   "metadata": {},
   "source": [
    "$$\n",
    "4\\pi R_{0}^{3}\\rho_{0}/M_0=1.\n",
    "$$"
   ]
  },
  {
   "cell_type": "markdown",
   "metadata": {},
   "source": [
    "Correspondingly, we have"
   ]
  },
  {
   "cell_type": "markdown",
   "metadata": {},
   "source": [
    "$$\n",
    "\\frac{d\\rho_0\\overline{\\rho}}{dR_0\\overline{r}}=\n",
    "-\\left(\\frac{GM_0M_p}{Y_em_ec^2 }\\right)\\frac{\\overline{m}}\n",
    "{\\gamma R_0^2\\overline{r}^{2}}\n",
    "\\rho_0\\overline{\\rho},\n",
    "$$"
   ]
  },
  {
   "cell_type": "markdown",
   "metadata": {},
   "source": [
    "with $R_0$"
   ]
  },
  {
   "cell_type": "markdown",
   "metadata": {},
   "source": [
    "$$\n",
    "R_{0}=\\left(\\frac{Y_{e}m_{e}c^2}{4\\pi\\rho_{0} GM_{p}}\\right)^{1/2}\n",
    "=7.72\\times 10^{8} Y_{e} \\mathrm{cm}.\n",
    "$$"
   ]
  },
  {
   "cell_type": "markdown",
   "metadata": {},
   "source": [
    "in order to yield a dimensionless equation. This results in"
   ]
  },
  {
   "cell_type": "markdown",
   "metadata": {},
   "source": [
    "$$\n",
    "M_{0}=4\\pi R_{0}^{3}\\rho_{0}=5.67 \\times 10^{33}Y_{e}^{2} \\mathrm{g}.\n",
    "$$"
   ]
  },
  {
   "cell_type": "markdown",
   "metadata": {},
   "source": [
    "The radius of the sun is $R_{\\odot}=6.95\\times 10^{10}$ cm \n",
    "and the mass of the sun is \n",
    "$M_{\\odot}=1.99\\times 10^{33}$ g.\n",
    "\n",
    "Our final differential equations \n",
    "$\\overline{\\rho}$ and\n",
    "$\\overline{m}$ read"
   ]
  },
  {
   "cell_type": "markdown",
   "metadata": {},
   "source": [
    "$$\n",
    "\\frac{d\\overline{\\rho}}{d\\overline{r}}=-\\frac{\\overline{m}}{\\gamma}\\frac{\\overline{\\rho}}\n",
    "{\\overline{r}^{2}},\n",
    "\\hspace{5mm}\\frac{d\\overline{m}}{d\\overline{r}}=\n",
    "\\overline{r}^{2}\\overline{\\rho}.\n",
    "$$"
   ]
  },
  {
   "cell_type": "markdown",
   "metadata": {},
   "source": [
    "These are the equations you need to code.\n",
    "\n",
    "\n",
    "### Project 4a): Getting started\n",
    "\n",
    "Verify the steps in the above derivations. Write a program which solves the two coupled\n",
    "differential equations"
   ]
  },
  {
   "cell_type": "markdown",
   "metadata": {},
   "source": [
    "$$\n",
    "\\frac{d\\overline{\\rho}}{d\\overline{r}}=-\\frac{\\overline{m}}{\\gamma}\\frac{\\overline{\\rho}}\n",
    "{\\overline{r}^{2}},\n",
    "$$"
   ]
  },
  {
   "cell_type": "markdown",
   "metadata": {},
   "source": [
    "and"
   ]
  },
  {
   "cell_type": "markdown",
   "metadata": {},
   "source": [
    "$$\n",
    "\\frac{d\\overline{m}}{d\\overline{r}}=\n",
    "\\overline{r}^{2}\\overline{\\rho},\n",
    "$$"
   ]
  },
  {
   "cell_type": "markdown",
   "metadata": {},
   "source": [
    "using the fourth order Runge-Kutta method by integrating outward from $\\overline{r}=0$.\n",
    "Choose $Y_e=1$ and calculate the mass and radius of the star by varying the central density $\\overline{\\rho}_c$\n",
    "ranging from $10^{-1}$ to $10^6$. \n",
    "Check the stability of your solutions by varying the radial step $h$. \n",
    "Discuss your results.\n",
    "\n",
    "### Project 4b): Density profiles and energies\n",
    "\n",
    "Compute also the density profiles for the above input parameters and calculate the total kinetic energy and rest energy\n",
    "of the electrons given by"
   ]
  },
  {
   "cell_type": "markdown",
   "metadata": {},
   "source": [
    "$$\n",
    "U=\\int_0^R4\\pi \\left( \\frac{E}{V}\\right )r^2dr,\n",
    "$$"
   ]
  },
  {
   "cell_type": "markdown",
   "metadata": {},
   "source": [
    "where we have defined"
   ]
  },
  {
   "cell_type": "markdown",
   "metadata": {},
   "source": [
    "$$\n",
    "E/V=n_0m_ec^2x^3\\epsilon (x),\n",
    "$$"
   ]
  },
  {
   "cell_type": "markdown",
   "metadata": {},
   "source": [
    "with"
   ]
  },
  {
   "cell_type": "markdown",
   "metadata": {},
   "source": [
    "$$\n",
    "\\epsilon (x) =\n",
    "\\frac{3}{8x^3}\\left( x(1+2x^2)\\sqrt{1+x^2}-ln(x+\\sqrt{1+x^2})\\right),\n",
    "$$"
   ]
  },
  {
   "cell_type": "markdown",
   "metadata": {},
   "source": [
    "and the variable $x$ defined as"
   ]
  },
  {
   "cell_type": "markdown",
   "metadata": {},
   "source": [
    "$$\n",
    "x=\\frac{\\hbar k_F}{m_ec}.\n",
    "$$"
   ]
  },
  {
   "cell_type": "markdown",
   "metadata": {},
   "source": [
    "Compute also the gravitational energy"
   ]
  },
  {
   "cell_type": "markdown",
   "metadata": {},
   "source": [
    "$$\n",
    "W=-\\int_0^R\\frac{Gm(r)\\rho(r)}{r}4\\pi r^2dr.\n",
    "$$"
   ]
  },
  {
   "cell_type": "markdown",
   "metadata": {},
   "source": [
    "You need to make these equations dimensionless. \n",
    "\n",
    "Try to discuss your results and trends through simple\n",
    "physical reasoning.\n",
    "\n",
    "### Project 4c): Comparing with data\n",
    "\n",
    "  * [c)]\n",
    "\n",
    "Scale the mass-radius relation you found in a) to the cases corresponding to $^{56}$Fe and\n",
    "$^{12}$C. Three white dwarf stars, Sirius B, 40 Eri B and Stein 2051, have masses and radii\n",
    "in units of solar values determined from observations to be\n",
    "$(1.053\\pm0.028 M_{\\odot},0.0074\\pm 0.0006 R_{\\odot})$, $(0.48\\pm0.02 M_{\\odot},0.0124\\pm 0.0005 R_{\\odot})$,\n",
    "and $(0.72\\pm0.08 M_{\\odot},0.0115\\pm 0.0012 R_{\\odot})$, respectively.\n",
    "Verify that these values are consistent with the model you have developed. Can you say something about the\n",
    "compositions of these stars?\n",
    "\n",
    "\n",
    "\n",
    "## Introduction to numerical projects\n",
    "\n",
    "Here follows a brief recipe and recommendation on how to write a report for each\n",
    "project.\n",
    "\n",
    "  * Give a short description of the nature of the problem and the eventual  numerical methods you have used.\n",
    "\n",
    "  * Describe the algorithm you have used and/or developed. Here you may find it convenient to use pseudocoding. In many cases you can describe the algorithm in the program itself.\n",
    "\n",
    "  * Include the source code of your program. Comment your program properly.\n",
    "\n",
    "  * If possible, try to find analytic solutions, or known limits in order to test your program when developing the code.\n",
    "\n",
    "  * Include your results either in figure form or in a table. Remember to        label your results. All tables and figures should have relevant captions        and labels on the axes.\n",
    "\n",
    "  * Try to evaluate the reliabilty and numerical stability/precision of your results. If possible, include a qualitative and/or quantitative discussion of the numerical stability, eventual loss of precision etc.\n",
    "\n",
    "  * Try to give an interpretation of you results in your answers to  the problems.\n",
    "\n",
    "  * Critique: if possible include your comments and reflections about the  exercise, whether you felt you learnt something, ideas for improvements and  other thoughts you've made when solving the exercise. We wish to keep this course at the interactive level and your comments can help us improve it.\n",
    "\n",
    "  * Try to establish a practice where you log your work at the  computerlab. You may find such a logbook very handy at later stages in your work, especially when you don't properly remember  what a previous test version  of your program did. Here you could also record  the time spent on solving the exercise, various algorithms you may have tested or other topics which you feel worthy of mentioning.\n",
    "\n",
    "## Format for electronic delivery of report and programs\n",
    "\n",
    "The preferred format for the report is a PDF file. You can also use DOC or postscript formats or as an ipython notebook file.  As programming language we prefer that you choose between C/C++, Fortran2008 or Python. The following prescription should be followed when preparing the report:\n",
    "\n",
    "  * Use your github repository to upload your report. Indicate where the report is by creating for example a **Report** folder. Please send us as soon as possible your github username.\n",
    "\n",
    "  * Place your programs in a folder called for example **Programs** or **src**, in order to indicate where your programs are. You can use a README file to tell us how your github folders are organized. \n",
    "\n",
    "  * In your git repository, please include a folder which contains selected results. These can be in the form of output from your code for a selected set of runs and input parameters.\n",
    "\n",
    "  * In this and all later projects, you should include tests (for example unit tests) of your code(s).\n",
    "\n",
    "  * Comments  from us on your projects, with score and detailed feedback will be emailed to you. \n",
    "\n",
    "Finally, \n",
    "we encourage you to work two and two together. Optimal working groups consist of \n",
    "2-3 students. You can then hand in a common report."
   ]
  }
 ],
 "metadata": {},
 "nbformat": 4,
 "nbformat_minor": 0
}
